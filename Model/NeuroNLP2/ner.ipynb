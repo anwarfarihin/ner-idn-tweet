{
 "metadata": {
  "language_info": {
   "codemirror_mode": {
    "name": "ipython",
    "version": 3
   },
   "file_extension": ".py",
   "mimetype": "text/x-python",
   "name": "python",
   "nbconvert_exporter": "python",
   "pygments_lexer": "ipython3",
   "version": 3
  },
  "orig_nbformat": 4
 },
 "nbformat": 4,
 "nbformat_minor": 2,
 "cells": [
  {
   "cell_type": "code",
   "execution_count": null,
   "metadata": {},
   "outputs": [],
   "source": [
    "\"\"\"\n",
    "Implementation of Bi-directional LSTM-CNNs-CRF model for NER.\n",
    "\"\"\"\n",
    "\n",
    "import os\n",
    "import sys\n",
    "import gc\n",
    "import json\n",
    "\n",
    "current_path = os.path.dirname(os.path.realpath(__file__))\n",
    "root_path = os.path.dirname(os.path.dirname(os.path.realpath(__file__)))\n",
    "sys.path.append(root_path)\n",
    "\n",
    "import time\n",
    "import argparse\n",
    "\n",
    "import numpy as np\n",
    "import torch\n",
    "from torch.optim.adamw import AdamW\n",
    "from torch.optim import SGD\n",
    "from torch.nn.utils import clip_grad_norm_\n",
    "from neuronlp2.io import get_logger, conll03_data, CoNLL03Writer, iterate_data\n",
    "from neuronlp2.models import BiRecurrentConv, BiVarRecurrentConv, BiRecurrentConvCRF, BiVarRecurrentConvCRF\n",
    "from neuronlp2.optim import ExponentialScheduler\n",
    "from neuronlp2 import utils\n"
   ]
  },
  {
   "cell_type": "code",
   "execution_count": null,
   "metadata": {},
   "outputs": [],
   "source": [
    "def evaluate(output_file, scorefile):\n",
    "    script = os.path.join(current_path, 'eval/conll03eval.v2')\n",
    "    os.system(\"perl %s < %s > %s\" % (script, output_file, scorefile))\n",
    "    with open(scorefile, 'r') as fin:\n",
    "        fin.readline()\n",
    "        line = fin.readline()\n",
    "        fields = line.split(\";\")\n",
    "        acc = float(fields[0].split(\":\")[1].strip()[:-1])\n",
    "        precision = float(fields[1].split(\":\")[1].strip()[:-1])\n",
    "        recall = float(fields[2].split(\":\")[1].strip()[:-1])\n",
    "        f1 = float(fields[3].split(\":\")[1].strip())\n",
    "    return acc, precision, recall, f1"
   ]
  },
  {
   "cell_type": "code",
   "execution_count": null,
   "metadata": {},
   "outputs": [],
   "source": [
    "def get_optimizer(parameters, optim, learning_rate, lr_decay, amsgrad, weight_decay, warmup_steps):\n",
    "    if optim == 'sgd':\n",
    "        optimizer = SGD(parameters, lr=learning_rate, momentum=0.9, weight_decay=weight_decay, nesterov=True)\n",
    "    else:\n",
    "        optimizer = AdamW(parameters, lr=learning_rate, betas=(0.9, 0.999), eps=1e-8, amsgrad=amsgrad, weight_decay=weight_decay)\n",
    "    init_lr = 1e-7\n",
    "    scheduler = ExponentialScheduler(optimizer, lr_decay, warmup_steps, init_lr)\n",
    "    return optimizer, scheduler"
   ]
  },
  {
   "cell_type": "code",
   "execution_count": null,
   "metadata": {},
   "outputs": [],
   "source": [
    "def eval(data, network, writer, outfile, scorefile, device):\n",
    "    network.eval()\n",
    "    writer.start(outfile)\n",
    "    for data in iterate_data(data, 256):\n",
    "        words = data['WORD'].to(device)\n",
    "        chars = data['CHAR'].to(device)\n",
    "        labels = data['NER'].numpy()\n",
    "        masks = data['MASK'].to(device)\n",
    "        postags = data['POS'].numpy()\n",
    "        chunks = data['CHUNK'].numpy()\n",
    "        lengths = data['LENGTH'].numpy()\n",
    "        preds = network.decode(words, chars, mask=masks, leading_symbolic=conll03_data.NUM_SYMBOLIC_TAGS)\n",
    "        writer.write(words.cpu().numpy(), postags, chunks, preds.cpu().numpy(), labels, lengths)\n",
    "    writer.close()\n",
    "    acc, precision, recall, f1 = evaluate(outfile, scorefile)\n",
    "    return acc, precision, recall, f1"
   ]
  }
 ]
}