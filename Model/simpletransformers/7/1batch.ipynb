{
 "cells": [
  {
   "cell_type": "code",
   "execution_count": 3,
   "metadata": {},
   "outputs": [],
   "source": [
    "import sklearn\n",
    "import numpy as np\n",
    "import pandas as pd\n",
    "\n",
    "import torch\n",
    "cuda_available = torch.cuda.is_available()\n",
    "\n",
    "from simpletransformers.ner import NERModel, NERArgs\n",
    "\n",
    "from nervaluate import Evaluator"
   ]
  },
  {
   "cell_type": "code",
   "execution_count": 4,
   "metadata": {},
   "outputs": [],
   "source": [
    "model_name='bert-base-multilingual-cased'"
   ]
  },
  {
   "cell_type": "code",
   "execution_count": 5,
   "metadata": {},
   "outputs": [],
   "source": [
    "train_df =pd.read_csv(\"..\\..\\..\\Dataset\\\\simpletransformers\\\\train.csv\")\n",
    "eval_df =pd.read_csv(\"..\\..\\..\\Dataset\\\\simpletransformers\\\\val.csv\")\n",
    "test_df =pd.read_csv(\"..\\..\\..\\Dataset\\\\simpletransformers\\\\test.csv\")"
   ]
  },
  {
   "cell_type": "code",
   "execution_count": 6,
   "metadata": {},
   "outputs": [],
   "source": [
    "label_list = [\n",
    "    \"O\", \n",
    "    \"B-PER\", \"I-PER\",\n",
    "    \"B-ORG\", \"I-ORG\",\n",
    "    \"B-LOC\", \"I-LOC\",\n",
    "    \"B-PROD\", \"I-PROD\",\n",
    "    \"B-WA\", \"I-WA\",\n",
    "    \"B-EV\", \"I-EV\",\n",
    "]"
   ]
  },
  {
   "cell_type": "code",
   "execution_count": 7,
   "metadata": {
    "tags": []
   },
   "outputs": [],
   "source": [
    "# Create a NERModel\n",
    "model_args=NERArgs()\n",
    "# model_args.train_batch_size=64\n",
    "# model_args.overwrite_output_dir=True\n",
    "model_args = {\n",
    "    \"output_dir\": \"outputs/\",\n",
    "    \"cache_dir\": \"cache_dir/\",\n",
    "\n",
    "    \"fp16\": True,\n",
    "    \"fp16_opt_level\": \"O1\",\n",
    "    \"max_seq_length\": 512,\n",
    "    \"train_batch_size\": 8,\n",
    "    \"gradient_accumulation_steps\": 1,\n",
    "    \"eval_batch_size\": 8,\n",
    "    # \"num_train_epochs\": 1,\n",
    "    \"num_train_epochs\": 5,\n",
    "    \"weight_decay\": 0,\n",
    "    # \"learning_rate\": 4e-5,\n",
    "    \"learning_rate\": 0.00008452,\n",
    "\n",
    "    \"adam_epsilon\": 1e-8,\n",
    "    \"warmup_ratio\": 0.06,\n",
    "    \"warmup_steps\": 0,\n",
    "    \"max_grad_norm\": 1.0,\n",
    "\n",
    "    \"logging_steps\": 50,\n",
    "    \"save_steps\": 2000,\n",
    "\n",
    "    \"overwrite_output_dir\": True,\n",
    "    \"reprocess_input_data\": False,\n",
    "    \"evaluate_during_training\": True,\n",
    "\n",
    "    \"do_lower_case\": False, #True if using uncased models\n",
    "}\n"
   ]
  },
  {
   "cell_type": "code",
   "execution_count": 6,
   "metadata": {},
   "outputs": [],
   "source": [
    "# model = NERModel('bert', \n",
    "#                 'outputs/checkpoint-2000',\n",
    "#                 args=model_args,\n",
    "#                 labels=label_list,\n",
    "#                 use_cuda=cuda_available,\n",
    "#                 )"
   ]
  },
  {
   "cell_type": "code",
   "execution_count": 8,
   "metadata": {},
   "outputs": [
    {
     "name": "stderr",
     "output_type": "stream",
     "text": [
      "Some weights of the model checkpoint at bert-base-multilingual-cased were not used when initializing BertForTokenClassification: ['cls.predictions.transform.LayerNorm.bias', 'cls.predictions.transform.dense.bias', 'cls.seq_relationship.bias', 'cls.predictions.bias', 'cls.predictions.decoder.weight', 'cls.seq_relationship.weight', 'cls.predictions.transform.dense.weight', 'cls.predictions.transform.LayerNorm.weight']\n",
      "- This IS expected if you are initializing BertForTokenClassification from the checkpoint of a model trained on another task or with another architecture (e.g. initializing a BertForSequenceClassification model from a BertForPreTraining model).\n",
      "- This IS NOT expected if you are initializing BertForTokenClassification from the checkpoint of a model that you expect to be exactly identical (initializing a BertForSequenceClassification model from a BertForSequenceClassification model).\n",
      "Some weights of BertForTokenClassification were not initialized from the model checkpoint at bert-base-multilingual-cased and are newly initialized: ['classifier.bias', 'classifier.weight']\n",
      "You should probably TRAIN this model on a down-stream task to be able to use it for predictions and inference.\n",
      "2021-12-13 02:38:23 simpletransformers.ner.ner_model INFO:  Converting to features started.\n",
      "100%|██████████| 10/10 [00:06<00:00,  1.43it/s]\n",
      "Epoch 1 of 5:   0%|          | 0/5 [00:00<?, ?it/s]d:\\ner-idn-tweet\\env\\lib\\site-packages\\torch\\optim\\lr_scheduler.py:129: UserWarning: Detected call of `lr_scheduler.step()` before `optimizer.step()`. In PyTorch 1.1.0 and later, you should call them in the opposite order: `optimizer.step()` before `lr_scheduler.step()`.  Failure to do this will result in PyTorch skipping the first value of the learning rate schedule. See more details at https://pytorch.org/docs/stable/optim.html#how-to-adjust-learning-rate\n",
      "  warnings.warn(\"Detected call of `lr_scheduler.step()` before `optimizer.step()`. \"\n",
      "Epochs 0/5. Running Loss:    0.1224: 100%|██████████| 594/594 [02:32<00:00,  3.89it/s]\n",
      "2021-12-13 02:41:09 simpletransformers.ner.ner_model INFO:  Converting to features started.\n",
      "100%|██████████| 3/3 [00:03<00:00,  1.29s/it]\n",
      "Running Evaluation: 100%|██████████| 149/149 [00:06<00:00, 23.43it/s]\n",
      "Epochs 1/5. Running Loss:    0.0406: 100%|██████████| 594/594 [02:26<00:00,  4.05it/s]\n",
      "2021-12-13 02:43:58 simpletransformers.ner.ner_model INFO:  Features loaded from cache at cache_dir/cached_dev_bert_128_13_1188\n",
      "Running Evaluation: 100%|██████████| 149/149 [00:06<00:00, 23.71it/s]\n",
      "Epochs 2/5. Running Loss:    0.0608: 100%|██████████| 594/594 [02:27<00:00,  4.04it/s]\n",
      "2021-12-13 02:46:43 simpletransformers.ner.ner_model INFO:  Features loaded from cache at cache_dir/cached_dev_bert_128_13_1188\n",
      "Running Evaluation: 100%|██████████| 149/149 [00:06<00:00, 23.56it/s]\n",
      "Epoch 4 of 5:  60%|██████    | 3/5 [08:18<05:28, 164.32s/it]2021-12-13 02:47:50 simpletransformers.ner.ner_model INFO:  Features loaded from cache at cache_dir/cached_dev_bert_128_13_1188\n",
      "\n",
      "\u001b[A\n",
      "\u001b[A\n",
      "\u001b[A\n",
      "\u001b[A\n",
      "\u001b[A\n",
      "\u001b[A\n",
      "\u001b[A\n",
      "\u001b[A\n",
      "\u001b[A\n",
      "\u001b[A\n",
      "\u001b[A\n",
      "\u001b[A\n",
      "\u001b[A\n",
      "\u001b[A\n",
      "\u001b[A\n",
      "\u001b[A\n",
      "\u001b[A\n",
      "\u001b[A\n",
      "\u001b[A\n",
      "\u001b[A\n",
      "\u001b[A\n",
      "\u001b[A\n",
      "\u001b[A\n",
      "\u001b[A\n",
      "\u001b[A\n",
      "\u001b[A\n",
      "\u001b[A\n",
      "\u001b[A\n",
      "\u001b[A\n",
      "\u001b[A\n",
      "\u001b[A\n",
      "\u001b[A\n",
      "\u001b[A\n",
      "\u001b[A\n",
      "\u001b[A\n",
      "\u001b[A\n",
      "\u001b[A\n",
      "\u001b[A\n",
      "\u001b[A\n",
      "\u001b[A\n",
      "\u001b[A\n",
      "\u001b[A\n",
      "\u001b[A\n",
      "\u001b[A\n",
      "\u001b[A\n",
      "\u001b[A\n",
      "\u001b[A\n",
      "\u001b[A\n",
      "\u001b[A\n",
      "\u001b[A\n",
      "\u001b[A\n",
      "Running Evaluation: 100%|██████████| 149/149 [00:06<00:00, 21.67it/s]\n",
      "Epochs 3/5. Running Loss:    0.0272: 100%|██████████| 594/594 [02:47<00:00,  3.55it/s]\n",
      "2021-12-13 02:49:42 simpletransformers.ner.ner_model INFO:  Features loaded from cache at cache_dir/cached_dev_bert_128_13_1188\n",
      "Running Evaluation: 100%|██████████| 149/149 [00:06<00:00, 23.32it/s]\n",
      "Epochs 4/5. Running Loss:    0.0651: 100%|██████████| 594/594 [02:28<00:00,  4.01it/s]\n",
      "2021-12-13 02:52:23 simpletransformers.ner.ner_model INFO:  Features loaded from cache at cache_dir/cached_dev_bert_128_13_1188\n",
      "Running Evaluation: 100%|██████████| 149/149 [00:06<00:00, 21.99it/s]\n",
      "Epoch 5 of 5: 100%|██████████| 5/5 [13:58<00:00, 167.77s/it]\n",
      "2021-12-13 02:52:32 simpletransformers.ner.ner_model INFO:  Training of bert model complete. Saved to outputs/.\n"
     ]
    },
    {
     "data": {
      "text/plain": [
       "(2970,\n",
       " defaultdict(list,\n",
       "             {'global_step': [594, 1188, 1782, 2000, 2376, 2970],\n",
       "              'train_loss': [0.12244381755590439,\n",
       "               0.040643926709890366,\n",
       "               0.0607752688229084,\n",
       "               0.09947275370359421,\n",
       "               0.02721583843231201,\n",
       "               0.06510569900274277],\n",
       "              'eval_loss': [0.2246865946674507,\n",
       "               0.20709883887945807,\n",
       "               0.21533899931174597,\n",
       "               0.23937824150178608,\n",
       "               0.23549677828489335,\n",
       "               0.24733661077666602],\n",
       "              'precision': [0.7406593406593407,\n",
       "               0.7509043927648579,\n",
       "               0.7494939271255061,\n",
       "               0.7552515876893015,\n",
       "               0.7767676767676768,\n",
       "               0.7575169738118331],\n",
       "              'recall': [0.6061151079136691,\n",
       "               0.6533273381294964,\n",
       "               0.6659172661870504,\n",
       "               0.6951438848920863,\n",
       "               0.6915467625899281,\n",
       "               0.7023381294964028],\n",
       "              'f1_score': [0.6666666666666667,\n",
       "               0.6987256552055784,\n",
       "               0.7052380952380953,\n",
       "               0.723952236010302,\n",
       "               0.7316841103710752,\n",
       "               0.7288847410172655]}))"
      ]
     },
     "execution_count": 8,
     "metadata": {},
     "output_type": "execute_result"
    }
   ],
   "source": [
    "model = NERModel('bert',\n",
    "                model_name,\n",
    "                args=model_args,\n",
    "                labels=label_list,\n",
    "                use_cuda=cuda_available,\n",
    "                )\n",
    "\n",
    "model.train_model(train_df,  eval_data=eval_df)"
   ]
  },
  {
   "cell_type": "code",
   "execution_count": 9,
   "metadata": {},
   "outputs": [
    {
     "name": "stderr",
     "output_type": "stream",
     "text": [
      "2021-12-13 02:55:23 simpletransformers.ner.ner_model INFO:  Converting to features started.\n",
      "100%|██████████| 3/3 [00:04<00:00,  1.60s/it]\n",
      "Running Evaluation: 100%|██████████| 186/186 [00:07<00:00, 26.26it/s]\n",
      "2021-12-13 02:55:36 simpletransformers.ner.ner_model INFO: {'eval_loss': 0.1064013707650555, 'precision': 0.8846860080793243, 'recall': 0.8622047244094488, 'f1_score': 0.8733007069059271}\n"
     ]
    }
   ],
   "source": [
    "result, model_outputs, y_pred = model.eval_model(test_df)"
   ]
  },
  {
   "cell_type": "code",
   "execution_count": 10,
   "metadata": {},
   "outputs": [
    {
     "data": {
      "text/plain": [
       "{'eval_loss': 0.1064013707650555,\n",
       " 'precision': 0.8846860080793243,\n",
       " 'recall': 0.8622047244094488,\n",
       " 'f1_score': 0.8733007069059271}"
      ]
     },
     "execution_count": 10,
     "metadata": {},
     "output_type": "execute_result"
    }
   ],
   "source": [
    "result"
   ]
  },
  {
   "cell_type": "code",
   "execution_count": 11,
   "metadata": {},
   "outputs": [],
   "source": [
    "df_x_test=test_df.groupby('sentence_id')['words'].apply(list)\n",
    "x_test=list(df_x_test)\n",
    "\n",
    "df_y_test=test_df.groupby('sentence_id')['labels'].apply(list)\n",
    "y_test=list(df_y_test)"
   ]
  },
  {
   "cell_type": "code",
   "execution_count": 12,
   "metadata": {},
   "outputs": [
    {
     "name": "stderr",
     "output_type": "stream",
     "text": [
      "2021-12-13 02:55:36 simpletransformers.ner.ner_model INFO:  Converting to features started.\n",
      "100%|██████████| 1/1 [00:02<00:00,  2.94s/it]\n",
      "Running Prediction: 100%|██████████| 1/1 [00:00<00:00, 27.02it/s]\n"
     ]
    }
   ],
   "source": [
    "predictions, raw_outputs = model.predict(\n",
    "    # [\"@PolsekAlian PolriBerikan inovasi-inovasi Polri yang memudahkan masyarakat, kegiatan pemolisian masyarakat dan seluruh tindakan Kepolisian dalam menghadapi gangguan Kamtibmas, dan lain-lain - Jenderal Polisi Drs. Listyo Sigit Prabowo, https://t.co/f8GZ6VPqPD. - Kapolri #PolriTVRadioPresisi\"],\n",
    "    [\"@ShopeeID Bismillah yok menang ���� SHOPEE @ShopeeID #44ShopeeMamamoo #ShopeexMAMAMOO #AdaMamamoodiShopee\"], \n",
    "    [\"@OPPOIndonesia ✍Butuh memori besar 128GB di OPPO A54 buat simpan file-file tugas kuliah dan testimoni online shop -ku ��Semoga oppo A54 bisa menunjang penghasilan keluargaku �� @OPPOIndonesia @nisa_rkt @Bebheey @kus_ica @Erna19_ @Saftriyuni #OPPOA54 https://t.co/bMYIiRb4QF �� 2.921\"]\n",
    "        )"
   ]
  },
  {
   "cell_type": "code",
   "execution_count": 13,
   "metadata": {},
   "outputs": [
    {
     "data": {
      "text/plain": [
       "[[{'@ShopeeID': 'O'},\n",
       "  {'Bismillah': 'O'},\n",
       "  {'yok': 'O'},\n",
       "  {'menang': 'O'},\n",
       "  {'����': 'O'},\n",
       "  {'SHOPEE': 'B-PROD'},\n",
       "  {'@ShopeeID': 'O'},\n",
       "  {'#44ShopeeMamamoo': 'O'},\n",
       "  {'#ShopeexMAMAMOO': 'O'},\n",
       "  {'#AdaMamamoodiShopee': 'O'}]]"
      ]
     },
     "execution_count": 13,
     "metadata": {},
     "output_type": "execute_result"
    }
   ],
   "source": [
    "predictions"
   ]
  },
  {
   "cell_type": "code",
   "execution_count": 16,
   "metadata": {},
   "outputs": [],
   "source": [
    "evaluator = Evaluator(y_test, y_pred, tags=['LOC', 'PER', 'ORG', 'PROD', 'WA', 'EV'], loader=\"list\")"
   ]
  },
  {
   "cell_type": "code",
   "execution_count": 17,
   "metadata": {},
   "outputs": [],
   "source": [
    "results, results_per_tag = evaluator.evaluate()"
   ]
  },
  {
   "cell_type": "code",
   "execution_count": 20,
   "metadata": {},
   "outputs": [
    {
     "data": {
      "text/plain": [
       "{'correct': 2479,\n",
       " 'incorrect': 0,\n",
       " 'partial': 82,\n",
       " 'missed': 296,\n",
       " 'spurious': 162,\n",
       " 'possible': 2857,\n",
       " 'actual': 2723,\n",
       " 'precision': 0.9254498714652957,\n",
       " 'recall': 0.8820441022051102,\n",
       " 'f1': 0.9032258064516129}"
      ]
     },
     "execution_count": 20,
     "metadata": {},
     "output_type": "execute_result"
    }
   ],
   "source": [
    "results['partial']"
   ]
  },
  {
   "cell_type": "code",
   "execution_count": 19,
   "metadata": {},
   "outputs": [
    {
     "data": {
      "text/plain": [
       "{'correct': 2479,\n",
       " 'incorrect': 82,\n",
       " 'partial': 0,\n",
       " 'missed': 296,\n",
       " 'spurious': 162,\n",
       " 'possible': 2857,\n",
       " 'actual': 2723,\n",
       " 'precision': 0.9103929489533603,\n",
       " 'recall': 0.8676933846692335,\n",
       " 'f1': 0.8885304659498208}"
      ]
     },
     "execution_count": 19,
     "metadata": {},
     "output_type": "execute_result"
    }
   ],
   "source": [
    "results['exact']"
   ]
  },
  {
   "cell_type": "code",
   "execution_count": null,
   "metadata": {},
   "outputs": [],
   "source": [
    "import re\n",
    "\n",
    "temp_l_l=list()\n",
    "for i in range(len(y_test)):\n",
    "    temp_l=list()\n",
    "    print(x_test[i])\n",
    "    print(len(x_test[i]))\n",
    "    print(\"y_test       \",len(y_test[i]),y_test[i])\n",
    "    print(\"y_pred       \",len(y_pred[i]),y_pred[i])\n",
    "    for j in range(len(y_pred[i])):\n",
    "        temp_l.append((x_test[i][j],y_test[i][j],y_pred[i][j]))\n",
    "    temp_l_l.append(temp_l)\n",
    "    print()"
   ]
  },
  {
   "cell_type": "code",
   "execution_count": null,
   "metadata": {},
   "outputs": [],
   "source": [
    "with open(\"./results_pred.txt\", \"w\") as f:\n",
    "    str_results = repr(y_pred)\n",
    "    f.write(str_results)"
   ]
  },
  {
   "cell_type": "code",
   "execution_count": null,
   "metadata": {},
   "outputs": [],
   "source": [
    "with open(\"./results_test_pred.txt\", \"w\",encoding=\"utf-8\") as f:\n",
    "    str_results = repr(temp_l_l)\n",
    "    f.write(str_results)"
   ]
  },
  {
   "cell_type": "code",
   "execution_count": 15,
   "metadata": {},
   "outputs": [],
   "source": [
    "with open(\"./results_1_batch.txt\", \"w\") as f:\n",
    "    str_results = repr(results)\n",
    "    f.write(str_results)"
   ]
  },
  {
   "cell_type": "code",
   "execution_count": 16,
   "metadata": {},
   "outputs": [],
   "source": [
    "with open(\"./results_per_tag_1_batch.txt\", \"w\") as f:\n",
    "    str_results_per_tag = repr(results_per_tag)\n",
    "    f.write(str_results_per_tag)"
   ]
  }
 ],
 "metadata": {
  "interpreter": {
   "hash": "95f69f4171822e9a0d4258a52ad5b962ce921882fa0fb93c07eb68a8992e9dab"
  },
  "kernelspec": {
   "display_name": "Python 3.7.9 64-bit ('env': venv)",
   "name": "python3"
  },
  "language_info": {
   "codemirror_mode": {
    "name": "ipython",
    "version": 3
   },
   "file_extension": ".py",
   "mimetype": "text/x-python",
   "name": "python",
   "nbconvert_exporter": "python",
   "pygments_lexer": "ipython3",
   "version": "3.7.9"
  },
  "orig_nbformat": 4
 },
 "nbformat": 4,
 "nbformat_minor": 2
}
