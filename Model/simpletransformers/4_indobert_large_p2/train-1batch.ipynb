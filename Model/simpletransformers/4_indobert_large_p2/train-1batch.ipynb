{
 "cells": [
  {
   "cell_type": "code",
   "execution_count": 1,
   "metadata": {},
   "outputs": [],
   "source": [
    "import sklearn\n",
    "import numpy as np\n",
    "import pandas as pd\n",
    "\n",
    "import torch\n",
    "cuda_available = torch.cuda.is_available()\n",
    "\n",
    "from simpletransformers.ner import NERModel, NERArgs\n",
    "\n",
    "# from ner_eval import collect_named_entities\n",
    "# from ner_eval import compute_metrics\n",
    "# from ner_eval import compute_precision_recall_wrapper\n",
    "\n",
    "# from sklearn_crfsuite import metric\n",
    "from nervaluate import Evaluator"
   ]
  },
  {
   "cell_type": "code",
   "execution_count": 2,
   "metadata": {},
   "outputs": [],
   "source": [
    "model_name='indobenchmark/indobert-large-p2'"
   ]
  },
  {
   "cell_type": "code",
   "execution_count": 3,
   "metadata": {},
   "outputs": [],
   "source": [
    "train_df =pd.read_csv(\"..\\..\\..\\Dataset\\\\simpletransformers\\\\train.csv\")\n",
    "eval_df =pd.read_csv(\"..\\..\\..\\Dataset\\\\simpletransformers\\\\val.csv\")\n",
    "test_df =pd.read_csv(\"..\\..\\..\\Dataset\\\\simpletransformers\\\\test.csv\")"
   ]
  },
  {
   "cell_type": "code",
   "execution_count": 4,
   "metadata": {},
   "outputs": [],
   "source": [
    "label_list = [\n",
    "    \"O\", \n",
    "    \"B-PER\", \"I-PER\",\n",
    "    \"B-ORG\", \"I-ORG\",\n",
    "    \"B-LOC\", \"I-LOC\",\n",
    "    \"B-PROD\", \"I-PROD\",\n",
    "    \"B-WA\", \"I-WA\",\n",
    "    \"B-EV\", \"I-EV\",\n",
    "]"
   ]
  },
  {
   "cell_type": "code",
   "execution_count": 5,
   "metadata": {
    "tags": []
   },
   "outputs": [],
   "source": [
    "# Create a NERModel\n",
    "model_args=NERArgs()\n",
    "# model_args.train_batch_size=64\n",
    "# model_args.overwrite_output_dir=True\n",
    "model_args = {\n",
    "    \"output_dir\": \"outputs/\",\n",
    "    \"cache_dir\": \"cache_dir/\",\n",
    "\n",
    "    \"fp16\": True,\n",
    "    \"fp16_opt_level\": \"O1\",\n",
    "    \"max_seq_length\": 128,\n",
    "    \"train_batch_size\": 8,\n",
    "    \"gradient_accumulation_steps\": 1,\n",
    "    \"eval_batch_size\": 8,\n",
    "    # \"num_train_epochs\": 1,\n",
    "    \"num_train_epochs\": 5,\n",
    "    \"weight_decay\": 0,\n",
    "    \"learning_rate\": 4e-5,\n",
    "\n",
    "    \"adam_epsilon\": 1e-8,\n",
    "    \"warmup_ratio\": 0.06,\n",
    "    \"warmup_steps\": 0,\n",
    "    \"max_grad_norm\": 1.0,\n",
    "\n",
    "    \"logging_steps\": 50,\n",
    "    \"save_steps\": 2000,\n",
    "\n",
    "    \"overwrite_output_dir\": True,\n",
    "    \"reprocess_input_data\": False,\n",
    "    \"evaluate_during_training\": True,\n",
    "\n",
    "    \"do_lower_case\": False, #True if using uncased models\n",
    "}\n"
   ]
  },
  {
   "cell_type": "code",
   "execution_count": 6,
   "metadata": {},
   "outputs": [],
   "source": [
    "# model = NERModel('bert', \n",
    "#                 'outputs/checkpoint-594-epoch-1',\n",
    "#                 args=model_args,\n",
    "#                 labels=label_list,\n",
    "#                 use_cuda=cuda_available,\n",
    "#                 )\n",
    "# # result, model_outputs, wrong_preds = model.eval_model(eval_df)\n",
    "# # result"
   ]
  },
  {
   "cell_type": "code",
   "execution_count": 7,
   "metadata": {},
   "outputs": [
    {
     "name": "stderr",
     "output_type": "stream",
     "text": [
      "Some weights of BertForTokenClassification were not initialized from the model checkpoint at indobenchmark/indobert-large-p2 and are newly initialized: ['classifier.bias', 'classifier.weight']\n",
      "You should probably TRAIN this model on a down-stream task to be able to use it for predictions and inference.\n"
     ]
    }
   ],
   "source": [
    "model = NERModel('bert',\n",
    "                model_name,\n",
    "                args=model_args,\n",
    "                labels=label_list,\n",
    "                use_cuda=cuda_available,\n",
    "                )"
   ]
  },
  {
   "cell_type": "code",
   "execution_count": 8,
   "metadata": {
    "tags": [
     "outputPrepend"
    ]
   },
   "outputs": [
    {
     "name": "stderr",
     "output_type": "stream",
     "text": [
      "2022-01-08 19:53:21 simpletransformers.ner.ner_model INFO:  Converting to features started.\n",
      "100%|██████████| 10/10 [00:06<00:00,  1.46it/s]\n",
      "Epoch 1 of 5:   0%|          | 0/5 [00:00<?, ?it/s]d:\\ner-idn-tweet\\env\\lib\\site-packages\\torch\\optim\\lr_scheduler.py:129: UserWarning: Detected call of `lr_scheduler.step()` before `optimizer.step()`. In PyTorch 1.1.0 and later, you should call them in the opposite order: `optimizer.step()` before `lr_scheduler.step()`.  Failure to do this will result in PyTorch skipping the first value of the learning rate schedule. See more details at https://pytorch.org/docs/stable/optim.html#how-to-adjust-learning-rate\n",
      "  warnings.warn(\"Detected call of `lr_scheduler.step()` before `optimizer.step()`. \"\n",
      "Epochs 0/5. Running Loss:    0.1776: 100%|██████████| 594/594 [02:15<00:00,  4.39it/s]\n",
      "2022-01-08 19:55:52 simpletransformers.ner.ner_model INFO:  Converting to features started.\n",
      "100%|██████████| 3/3 [00:03<00:00,  1.27s/it]\n",
      "Running Evaluation: 100%|██████████| 149/149 [00:05<00:00, 25.80it/s]\n",
      "Epochs 1/5. Running Loss:    0.1470: 100%|██████████| 594/594 [02:14<00:00,  4.42it/s]\n",
      "2022-01-08 19:58:29 simpletransformers.ner.ner_model INFO:  Features loaded from cache at cache_dir/cached_dev_bert_128_13_1188\n",
      "Running Evaluation: 100%|██████████| 149/149 [00:06<00:00, 24.75it/s]\n",
      "Epochs 2/5. Running Loss:    0.3805: 100%|██████████| 594/594 [02:14<00:00,  4.43it/s]\n",
      "2022-01-08 20:01:08 simpletransformers.ner.ner_model INFO:  Features loaded from cache at cache_dir/cached_dev_bert_128_13_1188\n",
      "Running Evaluation: 100%|██████████| 149/149 [00:06<00:00, 24.49it/s]\n",
      "Epoch 4 of 5:  60%|██████    | 3/5 [07:54<05:15, 157.65s/it]2022-01-08 20:02:22 simpletransformers.ner.ner_model INFO:  Features loaded from cache at cache_dir/cached_dev_bert_128_13_1188\n",
      "\n",
      "\u001b[A\n",
      "\u001b[A\n",
      "\u001b[A\n",
      "\u001b[A\n",
      "\u001b[A\n",
      "\u001b[A\n",
      "\u001b[A\n",
      "\u001b[A\n",
      "\u001b[A\n",
      "\u001b[A\n",
      "\u001b[A\n",
      "\u001b[A\n",
      "\u001b[A\n",
      "\u001b[A\n",
      "\u001b[A\n",
      "\u001b[A\n",
      "\u001b[A\n",
      "\u001b[A\n",
      "\u001b[A\n",
      "\u001b[A\n",
      "\u001b[A\n",
      "\u001b[A\n",
      "\u001b[A\n",
      "\u001b[A\n",
      "\u001b[A\n",
      "\u001b[A\n",
      "\u001b[A\n",
      "\u001b[A\n",
      "\u001b[A\n",
      "\u001b[A\n",
      "\u001b[A\n",
      "\u001b[A\n",
      "\u001b[A\n",
      "\u001b[A\n",
      "\u001b[A\n",
      "\u001b[A\n",
      "\u001b[A\n",
      "\u001b[A\n",
      "\u001b[A\n",
      "\u001b[A\n",
      "\u001b[A\n",
      "\u001b[A\n",
      "\u001b[A\n",
      "\u001b[A\n",
      "\u001b[A\n",
      "\u001b[A\n",
      "\u001b[A\n",
      "\u001b[A\n",
      "\u001b[A\n",
      "\u001b[A\n",
      "\u001b[A\n",
      "Running Evaluation: 100%|██████████| 149/149 [00:06<00:00, 24.72it/s]\n",
      "Epochs 3/5. Running Loss:    0.4051: 100%|██████████| 594/594 [02:34<00:00,  3.85it/s]\n",
      "2022-01-08 20:04:04 simpletransformers.ner.ner_model INFO:  Features loaded from cache at cache_dir/cached_dev_bert_128_13_1188\n",
      "Running Evaluation: 100%|██████████| 149/149 [00:06<00:00, 22.93it/s]\n",
      "Epochs 4/5. Running Loss:    0.0918: 100%|██████████| 594/594 [02:09<00:00,  4.57it/s]\n",
      "2022-01-08 20:06:28 simpletransformers.ner.ner_model INFO:  Features loaded from cache at cache_dir/cached_dev_bert_128_13_1188\n",
      "Running Evaluation: 100%|██████████| 149/149 [00:06<00:00, 24.30it/s]\n",
      "Epoch 5 of 5: 100%|██████████| 5/5 [13:06<00:00, 157.23s/it]\n",
      "2022-01-08 20:06:36 simpletransformers.ner.ner_model INFO:  Training of bert model complete. Saved to outputs/.\n"
     ]
    },
    {
     "data": {
      "text/plain": [
       "(2970,\n",
       " defaultdict(list,\n",
       "             {'global_step': [594, 1188, 1782, 2000, 2376, 2970],\n",
       "              'train_loss': [0.17759281396865845,\n",
       "               0.14698264002799988,\n",
       "               0.38053658604621887,\n",
       "               0.02297363430261612,\n",
       "               0.40511631965637207,\n",
       "               0.09181725978851318],\n",
       "              'eval_loss': [0.3265607606294571,\n",
       "               0.3147966987984693,\n",
       "               0.31187543330476586,\n",
       "               0.3425527414769534,\n",
       "               0.32893880039153484,\n",
       "               0.37168971284123875],\n",
       "              'precision': [0.5563282336578581,\n",
       "               0.5692307692307692,\n",
       "               0.5750692520775623,\n",
       "               0.5765104460756635,\n",
       "               0.5648578811369509,\n",
       "               0.5553869499241275],\n",
       "              'recall': [0.3535130357931949,\n",
       "               0.3923994697304463,\n",
       "               0.45868316394167036,\n",
       "               0.45117101193106496,\n",
       "               0.4829871851524525,\n",
       "               0.48519664162615994],\n",
       "              'f1_score': [0.43231559038097817,\n",
       "               0.46455663091812716,\n",
       "               0.5103244837758113,\n",
       "               0.5061973227565691,\n",
       "               0.5207241543592186,\n",
       "               0.5179245283018868]}))"
      ]
     },
     "execution_count": 8,
     "metadata": {},
     "output_type": "execute_result"
    }
   ],
   "source": [
    "model.train_model(train_df,  eval_data=eval_df)"
   ]
  },
  {
   "cell_type": "code",
   "execution_count": 9,
   "metadata": {},
   "outputs": [
    {
     "name": "stderr",
     "output_type": "stream",
     "text": [
      "2022-01-08 20:06:41 simpletransformers.ner.ner_model INFO:  Converting to features started.\n",
      "100%|██████████| 3/3 [00:05<00:00,  1.73s/it]\n",
      "Running Evaluation: 100%|██████████| 186/186 [00:07<00:00, 24.13it/s]\n",
      "2022-01-08 20:06:55 simpletransformers.ner.ner_model INFO: {'eval_loss': 0.19676476739652415, 'precision': 0.7538759689922481, 'recall': 0.6860670194003528, 'f1_score': 0.7183748845798706}\n"
     ]
    }
   ],
   "source": [
    "result, model_outputs, y_pred = model.eval_model(test_df)"
   ]
  },
  {
   "cell_type": "code",
   "execution_count": 10,
   "metadata": {},
   "outputs": [
    {
     "data": {
      "text/plain": [
       "{'eval_loss': 0.19676476739652415,\n",
       " 'precision': 0.7538759689922481,\n",
       " 'recall': 0.6860670194003528,\n",
       " 'f1_score': 0.7183748845798706}"
      ]
     },
     "execution_count": 10,
     "metadata": {},
     "output_type": "execute_result"
    }
   ],
   "source": [
    "result"
   ]
  },
  {
   "cell_type": "code",
   "execution_count": 11,
   "metadata": {},
   "outputs": [],
   "source": [
    "df_x_test=test_df.groupby('sentence_id')['words'].apply(list)\n",
    "x_test=list(df_x_test)\n",
    "\n",
    "df_y_test=test_df.groupby('sentence_id')['labels'].apply(list)\n",
    "y_test=list(df_y_test)"
   ]
  },
  {
   "cell_type": "code",
   "execution_count": 12,
   "metadata": {},
   "outputs": [
    {
     "name": "stderr",
     "output_type": "stream",
     "text": [
      "2022-01-08 20:06:55 simpletransformers.ner.ner_model INFO:  Converting to features started.\n",
      "100%|██████████| 1/1 [00:02<00:00,  2.78s/it]\n",
      "Running Prediction: 100%|██████████| 1/1 [00:00<00:00, 21.66it/s]\n"
     ]
    }
   ],
   "source": [
    "predictions, raw_outputs = model.predict(\n",
    "    # [\"@PolsekAlian PolriBerikan inovasi-inovasi Polri yang memudahkan masyarakat, kegiatan pemolisian masyarakat dan seluruh tindakan Kepolisian dalam menghadapi gangguan Kamtibmas, dan lain-lain - Jenderal Polisi Drs. Listyo Sigit Prabowo, https://t.co/f8GZ6VPqPD. - Kapolri #PolriTVRadioPresisi\"],\n",
    "    [\"@ShopeeID Bismillah yok menang ���� SHOPEE @ShopeeID #44ShopeeMamamoo #ShopeexMAMAMOO #AdaMamamoodiShopee\"], \n",
    "    [\"@OPPOIndonesia ✍Butuh memori besar 128GB di OPPO A54 buat simpan file-file tugas kuliah dan testimoni online shop -ku ��Semoga oppo A54 bisa menunjang penghasilan keluargaku �� @OPPOIndonesia @nisa_rkt @Bebheey @kus_ica @Erna19_ @Saftriyuni #OPPOA54 https://t.co/bMYIiRb4QF �� 2.921\"]\n",
    "        )"
   ]
  },
  {
   "cell_type": "code",
   "execution_count": 13,
   "metadata": {},
   "outputs": [
    {
     "data": {
      "text/plain": [
       "[[{'@ShopeeID': 'O'},\n",
       "  {'Bismillah': 'O'},\n",
       "  {'yok': 'O'},\n",
       "  {'menang': 'O'},\n",
       "  {'����': 'O'},\n",
       "  {'SHOPEE': 'B-PROD'},\n",
       "  {'@ShopeeID': 'O'},\n",
       "  {'#44ShopeeMamamoo': 'O'},\n",
       "  {'#ShopeexMAMAMOO': 'O'},\n",
       "  {'#AdaMamamoodiShopee': 'O'}]]"
      ]
     },
     "execution_count": 13,
     "metadata": {},
     "output_type": "execute_result"
    }
   ],
   "source": [
    "predictions"
   ]
  },
  {
   "cell_type": "code",
   "execution_count": null,
   "metadata": {},
   "outputs": [
    {
     "ename": "ValueError",
     "evalue": "You appear to be using a legacy multi-label data representation. Sequence of sequences are no longer supported; use a binary array or sparse matrix instead - the MultiLabelBinarizer transformer can convert to this format.",
     "output_type": "error",
     "traceback": [
      "\u001b[1;31m---------------------------------------------------------------------------\u001b[0m",
      "\u001b[1;31mValueError\u001b[0m                                Traceback (most recent call last)",
      "\u001b[1;32m~\\AppData\\Local\\Temp/ipykernel_17304/997650567.py\u001b[0m in \u001b[0;36m<module>\u001b[1;34m\u001b[0m\n\u001b[0;32m      1\u001b[0m \u001b[1;31m#Now we create the model again using the best estimators\u001b[0m\u001b[1;33m\u001b[0m\u001b[1;33m\u001b[0m\u001b[1;33m\u001b[0m\u001b[0m\n\u001b[0;32m      2\u001b[0m \u001b[1;33m\u001b[0m\u001b[0m\n\u001b[1;32m----> 3\u001b[1;33m print(sklearn.metrics.classification_report(\n\u001b[0m\u001b[0;32m      4\u001b[0m     \u001b[0my_test\u001b[0m\u001b[1;33m,\u001b[0m \u001b[0my_pred\u001b[0m\u001b[1;33m,\u001b[0m \u001b[0mlabels\u001b[0m\u001b[1;33m=\u001b[0m\u001b[0mlabel_list\u001b[0m\u001b[1;33m,\u001b[0m \u001b[0mdigits\u001b[0m\u001b[1;33m=\u001b[0m\u001b[1;36m3\u001b[0m\u001b[1;33m\u001b[0m\u001b[1;33m\u001b[0m\u001b[0m\n\u001b[0;32m      5\u001b[0m     ))\n",
      "\u001b[1;32md:\\ner-idn-tweet\\env\\lib\\site-packages\\sklearn\\metrics\\_classification.py\u001b[0m in \u001b[0;36mclassification_report\u001b[1;34m(y_true, y_pred, labels, target_names, sample_weight, digits, output_dict, zero_division)\u001b[0m\n\u001b[0;32m   2074\u001b[0m     \"\"\"\n\u001b[0;32m   2075\u001b[0m \u001b[1;33m\u001b[0m\u001b[0m\n\u001b[1;32m-> 2076\u001b[1;33m     \u001b[0my_type\u001b[0m\u001b[1;33m,\u001b[0m \u001b[0my_true\u001b[0m\u001b[1;33m,\u001b[0m \u001b[0my_pred\u001b[0m \u001b[1;33m=\u001b[0m \u001b[0m_check_targets\u001b[0m\u001b[1;33m(\u001b[0m\u001b[0my_true\u001b[0m\u001b[1;33m,\u001b[0m \u001b[0my_pred\u001b[0m\u001b[1;33m)\u001b[0m\u001b[1;33m\u001b[0m\u001b[1;33m\u001b[0m\u001b[0m\n\u001b[0m\u001b[0;32m   2077\u001b[0m \u001b[1;33m\u001b[0m\u001b[0m\n\u001b[0;32m   2078\u001b[0m     \u001b[1;32mif\u001b[0m \u001b[0mlabels\u001b[0m \u001b[1;32mis\u001b[0m \u001b[1;32mNone\u001b[0m\u001b[1;33m:\u001b[0m\u001b[1;33m\u001b[0m\u001b[1;33m\u001b[0m\u001b[0m\n",
      "\u001b[1;32md:\\ner-idn-tweet\\env\\lib\\site-packages\\sklearn\\metrics\\_classification.py\u001b[0m in \u001b[0;36m_check_targets\u001b[1;34m(y_true, y_pred)\u001b[0m\n\u001b[0;32m     83\u001b[0m     \"\"\"\n\u001b[0;32m     84\u001b[0m     \u001b[0mcheck_consistent_length\u001b[0m\u001b[1;33m(\u001b[0m\u001b[0my_true\u001b[0m\u001b[1;33m,\u001b[0m \u001b[0my_pred\u001b[0m\u001b[1;33m)\u001b[0m\u001b[1;33m\u001b[0m\u001b[1;33m\u001b[0m\u001b[0m\n\u001b[1;32m---> 85\u001b[1;33m     \u001b[0mtype_true\u001b[0m \u001b[1;33m=\u001b[0m \u001b[0mtype_of_target\u001b[0m\u001b[1;33m(\u001b[0m\u001b[0my_true\u001b[0m\u001b[1;33m)\u001b[0m\u001b[1;33m\u001b[0m\u001b[1;33m\u001b[0m\u001b[0m\n\u001b[0m\u001b[0;32m     86\u001b[0m     \u001b[0mtype_pred\u001b[0m \u001b[1;33m=\u001b[0m \u001b[0mtype_of_target\u001b[0m\u001b[1;33m(\u001b[0m\u001b[0my_pred\u001b[0m\u001b[1;33m)\u001b[0m\u001b[1;33m\u001b[0m\u001b[1;33m\u001b[0m\u001b[0m\n\u001b[0;32m     87\u001b[0m \u001b[1;33m\u001b[0m\u001b[0m\n",
      "\u001b[1;32md:\\ner-idn-tweet\\env\\lib\\site-packages\\sklearn\\utils\\multiclass.py\u001b[0m in \u001b[0;36mtype_of_target\u001b[1;34m(y)\u001b[0m\n\u001b[0;32m    298\u001b[0m             \u001b[1;32mand\u001b[0m \u001b[1;32mnot\u001b[0m \u001b[0misinstance\u001b[0m\u001b[1;33m(\u001b[0m\u001b[0my\u001b[0m\u001b[1;33m[\u001b[0m\u001b[1;36m0\u001b[0m\u001b[1;33m]\u001b[0m\u001b[1;33m,\u001b[0m \u001b[0mstr\u001b[0m\u001b[1;33m)\u001b[0m\u001b[1;33m\u001b[0m\u001b[1;33m\u001b[0m\u001b[0m\n\u001b[0;32m    299\u001b[0m         ):\n\u001b[1;32m--> 300\u001b[1;33m             raise ValueError(\n\u001b[0m\u001b[0;32m    301\u001b[0m                 \u001b[1;34m\"You appear to be using a legacy multi-label data\"\u001b[0m\u001b[1;33m\u001b[0m\u001b[1;33m\u001b[0m\u001b[0m\n\u001b[0;32m    302\u001b[0m                 \u001b[1;34m\" representation. Sequence of sequences are no\"\u001b[0m\u001b[1;33m\u001b[0m\u001b[1;33m\u001b[0m\u001b[0m\n",
      "\u001b[1;31mValueError\u001b[0m: You appear to be using a legacy multi-label data representation. Sequence of sequences are no longer supported; use a binary array or sparse matrix instead - the MultiLabelBinarizer transformer can convert to this format."
     ]
    }
   ],
   "source": [
    "#Now we create the model again using the best estimators\n",
    "\n",
    "print(sklearn.metrics.classification_report(\n",
    "    y_test, y_pred, labels=label_list, digits=3\n",
    "    ))"
   ]
  },
  {
   "cell_type": "code",
   "execution_count": 14,
   "metadata": {},
   "outputs": [],
   "source": [
    "evaluator = Evaluator(y_test, y_pred, tags=['LOC', 'PER', 'ORG', 'PROD', 'WA', 'EV'], loader=\"list\")"
   ]
  },
  {
   "cell_type": "code",
   "execution_count": 15,
   "metadata": {},
   "outputs": [],
   "source": [
    "results, results_per_tag = evaluator.evaluate()"
   ]
  },
  {
   "cell_type": "code",
   "execution_count": 16,
   "metadata": {},
   "outputs": [
    {
     "data": {
      "text/plain": [
       "{'correct': 2037,\n",
       " 'incorrect': 0,\n",
       " 'partial': 221,\n",
       " 'missed': 599,\n",
       " 'spurious': 322,\n",
       " 'possible': 2857,\n",
       " 'actual': 2580,\n",
       " 'precision': 0.8323643410852714,\n",
       " 'recall': 0.7516625831291565,\n",
       " 'f1': 0.7899576972595183}"
      ]
     },
     "execution_count": 16,
     "metadata": {},
     "output_type": "execute_result"
    }
   ],
   "source": [
    "results['partial']"
   ]
  },
  {
   "cell_type": "code",
   "execution_count": 17,
   "metadata": {},
   "outputs": [
    {
     "data": {
      "text/plain": [
       "{'correct': 2037,\n",
       " 'incorrect': 221,\n",
       " 'partial': 0,\n",
       " 'missed': 599,\n",
       " 'spurious': 322,\n",
       " 'possible': 2857,\n",
       " 'actual': 2580,\n",
       " 'precision': 0.7895348837209303,\n",
       " 'recall': 0.7129856492824641,\n",
       " 'f1': 0.7493102814051866}"
      ]
     },
     "execution_count": 17,
     "metadata": {},
     "output_type": "execute_result"
    }
   ],
   "source": [
    "results['exact']"
   ]
  },
  {
   "cell_type": "code",
   "execution_count": 21,
   "metadata": {},
   "outputs": [],
   "source": [
    "with open(\"./results_1_batch.txt\", \"w\") as f:\n",
    "    str_results = repr(results)\n",
    "    f.write(str_results)"
   ]
  },
  {
   "cell_type": "code",
   "execution_count": 22,
   "metadata": {},
   "outputs": [],
   "source": [
    "with open(\"./results_per_tag_1_batch.txt\", \"w\") as f:\n",
    "    str_results_per_tag = repr(results_per_tag)\n",
    "    f.write(str_results_per_tag)"
   ]
  },
  {
   "cell_type": "code",
   "execution_count": 23,
   "metadata": {},
   "outputs": [
    {
     "name": "stdout",
     "output_type": "stream",
     "text": [
      "['@Yanua02', '@BatuKepla', '@Karsono12732862', '@Andreas50772732', '@AndreMa32495641', '@victorpangkey', '@andriskhas', '@AbyManyuu', '@lizaariani5', '@Nana_Rosaa', '_', '@dwi2dh25', '@BaswirOb', '@Bang__Mus', '@745L023N6', '@Rijani54531379', '@Dewi52502425', '@Celes_being1074', '@Yatimpi97149270', '@begoeloh', '@FEMYLIA_K', '@FKARIN3', '@PRINCESLAMPIR', '@aewin86', '@Elina_Vay', '@amandagempita', '@CynthiaEllenna', '@dchyntiabella', '@Permata_Dewi06', '@Dewianggra91', '@Dewi37492961', '@Putri_Sulita', '@tasya_aa77', '@bunga_lao', '@Rismaliez85', '@SonyaAmriani', '@gituLok', '@hennyindah1404', '@WiwidNurwidaya1', '@OniMeniq74', '@maita_omerta', '@Ek4_Puspita', '@Mahrus30127858', '@Zoer_Riya', '@Reny_soepomo', '@BersamaSahabat4', '@jokowi', '@KPK_RI', '@PerekonomianRI', '@airlangga_hrt', '@KemenkeuRI', 'Infrastruktur', 'adalah', 'fondasi', 'bagi', 'rumah', 'indah', 'Indonesia', 'yg', 'aka', 'dibangun', 'di', 'era', 'pasca', 'Jokowi', 'Jokowi', 'yg', 'bangun', 'fondasi', 'rumahnya', ',', 'lalu', 'Presiden', 'Selanjutnya', '(', 'mungkin', 'Prabowo', ')', 'yg', 'akan', 'membangun', 'bangunan', 'atas', 'rumahnya', 'Terima', 'kasih', 'Jkw', ',', 'mari', 'kita', 'dukung', 'Jkw', 'membangun', 'fondasi', 'rumah', 'Ind']\n",
      "96\n",
      "y_test        96 ['O', 'O', 'O', 'O', 'O', 'O', 'O', 'O', 'O', 'O', 'O', 'O', 'O', 'O', 'O', 'O', 'O', 'O', 'O', 'O', 'O', 'O', 'O', 'O', 'O', 'O', 'O', 'O', 'O', 'O', 'O', 'O', 'O', 'O', 'O', 'O', 'O', 'O', 'O', 'O', 'O', 'O', 'O', 'O', 'O', 'O', 'O', 'O', 'O', 'O', 'O', 'O', 'O', 'O', 'O', 'O', 'O', 'B-LOC', 'O', 'O', 'O', 'O', 'O', 'O', 'B-PER', 'B-PER', 'O', 'O', 'O', 'O', 'O', 'O', 'O', 'O', 'O', 'O', 'B-PER', 'O', 'O', 'O', 'O', 'O', 'O', 'O', 'O', 'O', 'B-PER', 'O', 'O', 'O', 'O', 'B-PER', 'O', 'O', 'O', 'B-LOC']\n",
      "y_pred before 38 ['O', 'O', 'O', 'O', 'O', 'O', 'O', 'O', 'O', 'O', 'O', 'O', 'O', 'O', 'O', 'O', 'O', 'O', 'O', 'O', 'O', 'O', 'O', 'O', 'O', 'O', 'O', 'O', 'O', 'O', 'O', 'O', 'O', 'O', 'O', 'O', 'O', 'O']\n",
      "y_pred after  38 ['O', 'O', 'O', 'O', 'O', 'O', 'O', 'O', 'O', 'O', 'O', 'O', 'O', 'O', 'O', 'O', 'O', 'O', 'O', 'O', 'O', 'O', 'O', 'O', 'O', 'O', 'O', 'O', 'O', 'O', 'O', 'O', 'O', 'O', 'O', 'O', 'O', 'O']\n",
      "\n",
      "['@buknnadinamizah', 'halo', 'kak—', '!', 'aku', 'jual', 'NETFLIX', ',', 'trusted', ',', 'proses', 'cepet', ',', 'legal', 'yaa', '.', 'kalo', 'cocok', 'sama', 'harga', ',', 'bisa', 'ketuk', 'dm', 'ku', 'ya', 'kakk��', 'https://t.co/5P8JPqdYsM', 'payment', ':', 'dana', ',', 'spay', ',', 'gopay', ',', 'ovo', ',', 'qris', ',', 'pulsa', ',', 'bank', '.', 'https://t.co/fP2fsE6XIA', '\"', '@buknnadinamizah', 'halo', 'kak—', '!', 'aku', 'jual', 'NETFLIX', ',', 'trusted', ',', 'proses', 'cepet', ',', 'legal', 'yaa', '.', 'kalo', 'cocok', 'sama', 'harga', ',', 'bisa', 'ketuk', 'dm', 'ku', 'ya', 'kakk��', 'https://t.co/5P8JPqdYsM', 'payment', ':', 'dana', ',', 'spay', ',', 'gopay', ',', 'ovo', ',', 'qris', ',', 'pulsa', ',', 'bank', '.', 'https://t.co/fP2fsE6XIA', '\"']\n",
      "92\n",
      "y_test        92 ['B-PER', 'O', 'O', 'O', 'O', 'O', 'B-PROD', 'O', 'O', 'O', 'O', 'O', 'O', 'O', 'O', 'O', 'O', 'O', 'O', 'O', 'O', 'O', 'O', 'O', 'O', 'O', 'O', 'O', 'O', 'O', 'B-PROD', 'O', 'B-PROD', 'O', 'B-PROD', 'O', 'B-PROD', 'O', 'B-PROD', 'O', 'O', 'O', 'O', 'O', 'O', 'O', 'O', 'O', 'O', 'O', 'O', 'O', 'B-PROD', 'O', 'O', 'O', 'O', 'O', 'O', 'O', 'O', 'O', 'O', 'O', 'O', 'O', 'O', 'O', 'O', 'O', 'O', 'O', 'O', 'O', 'O', 'O', 'B-PROD', 'O', 'B-PROD', 'O', 'B-PROD', 'O', 'B-PROD', 'O', 'B-PROD', 'O', 'O', 'O', 'O', 'O', 'O', 'O']\n",
      "y_pred before 79 ['B-PER', 'O', 'O', 'O', 'O', 'O', 'B-PROD', 'O', 'O', 'O', 'O', 'O', 'O', 'O', 'O', 'O', 'O', 'O', 'O', 'O', 'O', 'O', 'O', 'O', 'O', 'O', 'O', 'O', 'O', 'O', 'B-PROD', 'O', 'B-PROD', 'O', 'B-PROD', 'O', 'B-PROD', 'O', 'B-PROD', 'O', 'O', 'O', 'O', 'O', 'O', 'O', 'O', 'O', 'O', 'O', 'O', 'O', 'B-PROD', 'O', 'O', 'O', 'O', 'O', 'O', 'O', 'O', 'O', 'O', 'O', 'O', 'O', 'O', 'O', 'O', 'O', 'O', 'O', 'O', 'O', 'O', 'O', 'B-PROD', 'O', 'B-PROD']\n",
      "y_pred after  79 ['B-PER', 'O', 'O', 'O', 'O', 'O', 'B-PROD', 'O', 'O', 'O', 'O', 'O', 'O', 'O', 'O', 'O', 'O', 'O', 'O', 'O', 'O', 'O', 'O', 'O', 'O', 'O', 'O', 'O', 'O', 'O', 'B-PROD', 'O', 'B-PROD', 'O', 'B-PROD', 'O', 'B-PROD', 'O', 'B-PROD', 'O', 'O', 'O', 'O', 'O', 'O', 'O', 'O', 'O', 'O', 'O', 'O', 'O', 'B-PROD', 'O', 'O', 'O', 'O', 'O', 'O', 'O', 'O', 'O', 'O', 'O', 'O', 'O', 'O', 'O', 'O', 'O', 'O', 'O', 'O', 'O', 'O', 'O', 'B-PROD', 'O', 'B-PROD']\n",
      "\n",
      "['RT', '@sbmptnfess', ':', 'PTN', '!', 'Guys', 'besok', 'giliran', 'aku', 'utbk', '��', 'sebenernya', 'aku', 'belum', 'terlalu', 'ngusain', 'tka', ',', 'karena', 'sekarang', 'posisinya', 'aku', 'kerja', 'karena', 'ortu', 'ga', 'dapet', 'penghasilan', 'selama', 'pandem1', ',', 'jadi', 'belajarku', 'ga', 'terlalu', 'maksimal', '.', 'Boleh', 'minta', 'doanyaa', '?', 'Semoga', 'aku', 'dikasih', 'hasil', 'yang', 'terbaik', ',', 'aku', '(', 'cont', 'https://t.co/lHt1jvN78J', '\"', 'RT', '@sbmptnfess', ':', 'PTN', '!', 'Guys', 'besok', 'giliran', 'aku', 'utbk', '��', 'sebenernya', 'aku', 'belum', 'terlalu', 'ngusain', 'tka', ',', 'karena', 'sekarang', 'posisinya', 'aku', 'kerja', 'karena', 'ortu', 'ga', 'dapet', 'penghasilan', 'selama', 'pandem1', ',', 'jadi', 'belajarku', 'ga', 'terlalu', 'maksimal', '.', 'Boleh', 'minta', 'doanyaa', '?', 'Semoga', 'aku', 'dikasih', 'hasil', 'yang', 'terbaik', ',', 'aku', '(', 'cont', 'https://t.co/lHt1jvN78J', '\"']\n",
      "106\n",
      "y_test        106 ['O', 'O', 'O', 'O', 'O', 'O', 'O', 'O', 'O', 'O', 'O', 'O', 'O', 'O', 'O', 'O', 'O', 'O', 'O', 'O', 'O', 'O', 'O', 'O', 'O', 'O', 'O', 'O', 'O', 'O', 'O', 'O', 'O', 'O', 'O', 'O', 'O', 'O', 'O', 'O', 'O', 'O', 'O', 'O', 'O', 'O', 'O', 'O', 'O', 'O', 'O', 'O', 'O', 'O', 'O', 'O', 'O', 'O', 'O', 'O', 'O', 'O', 'O', 'O', 'O', 'O', 'O', 'O', 'O', 'O', 'O', 'O', 'O', 'O', 'O', 'O', 'O', 'O', 'O', 'O', 'O', 'O', 'O', 'O', 'O', 'O', 'O', 'O', 'O', 'O', 'O', 'O', 'O', 'O', 'O', 'O', 'O', 'O', 'O', 'O', 'O', 'O', 'O', 'O', 'O', 'O']\n",
      "y_pred before 98 ['O', 'O', 'O', 'O', 'O', 'O', 'O', 'O', 'O', 'O', 'O', 'O', 'O', 'O', 'O', 'O', 'O', 'O', 'O', 'O', 'O', 'O', 'O', 'O', 'O', 'O', 'O', 'O', 'O', 'O', 'O', 'O', 'O', 'O', 'O', 'O', 'O', 'O', 'O', 'O', 'O', 'O', 'O', 'O', 'O', 'O', 'O', 'O', 'O', 'O', 'O', 'O', 'O', 'O', 'O', 'O', 'O', 'O', 'O', 'O', 'O', 'O', 'O', 'O', 'O', 'O', 'O', 'O', 'O', 'O', 'O', 'O', 'O', 'O', 'O', 'O', 'O', 'O', 'O', 'O', 'O', 'O', 'O', 'O', 'O', 'O', 'O', 'O', 'O', 'O', 'O', 'O', 'O', 'O', 'O', 'O', 'O', 'O']\n",
      "<re.Match object; span=(0, 2), match='��'>\n",
      "<re.Match object; span=(0, 2), match='��'>\n",
      "y_pred after  100 ['O', 'O', 'O', 'O', 'O', 'O', 'O', 'O', 'O', 'O', 'O', 'O', 'O', 'O', 'O', 'O', 'O', 'O', 'O', 'O', 'O', 'O', 'O', 'O', 'O', 'O', 'O', 'O', 'O', 'O', 'O', 'O', 'O', 'O', 'O', 'O', 'O', 'O', 'O', 'O', 'O', 'O', 'O', 'O', 'O', 'O', 'O', 'O', 'O', 'O', 'O', 'O', 'O', 'O', 'O', 'O', 'O', 'O', 'O', 'O', 'O', 'O', 'O', 'O', 'O', 'O', 'O', 'O', 'O', 'O', 'O', 'O', 'O', 'O', 'O', 'O', 'O', 'O', 'O', 'O', 'O', 'O', 'O', 'O', 'O', 'O', 'O', 'O', 'O', 'O', 'O', 'O', 'O', 'O', 'O', 'O', 'O', 'O', 'O', 'O']\n",
      "\n",
      "['@youdngjae', 'haii', 'aktivasi', 'ke', '@flxshlghts', 'yuk������', 'SPOTIFY', '��famplan', '1', 'bulan', '12k', '2', 'bulan', '17k', '3', 'bulan', '20k', '4', 'bulan', '23k', 'ppj+2k', '✅', 'fullgaransi', '✅', 'fast', 'proses', 'dm', '@flxshlghts', 'to', 'order!♡', 'https://t.co/cvJmnv0hH5', '\"', '@youdngjae', 'haii', 'aktivasi', 'ke', '@flxshlghts', 'yuk������', 'SPOTIFY', '��famplan', '1', 'bulan', '12k', '2', 'bulan', '17k', '3', 'bulan', '20k', '4', 'bulan', '23k', 'ppj+2k', '✅', 'fullgaransi', '✅', 'fast', 'proses', 'dm', '@flxshlghts', 'to', 'order!♡', 'https://t.co/cvJmnv0hH5', '\"']\n",
      "64\n",
      "y_test        64 ['O', 'O', 'O', 'O', 'B-PER', 'O', 'B-PROD', 'O', 'O', 'O', 'O', 'O', 'O', 'O', 'O', 'O', 'O', 'O', 'O', 'O', 'O', 'O', 'O', 'O', 'O', 'O', 'O', 'B-PER', 'O', 'O', 'O', 'O', 'O', 'O', 'O', 'O', 'O', 'O', 'B-PROD', 'O', 'O', 'O', 'O', 'O', 'O', 'O', 'O', 'O', 'O', 'O', 'O', 'O', 'O', 'O', 'O', 'O', 'O', 'O', 'O', 'O', 'O', 'O', 'O', 'O']\n",
      "y_pred before 62 ['O', 'O', 'O', 'O', 'B-PER', 'O', 'B-PROD', 'I-PROD', 'O', 'O', 'O', 'O', 'O', 'O', 'O', 'O', 'O', 'O', 'O', 'O', 'O', 'O', 'O', 'O', 'O', 'O', 'O', 'B-PER', 'O', 'O', 'O', 'O', 'O', 'O', 'O', 'O', 'O', 'O', 'B-PROD', 'O', 'O', 'O', 'O', 'O', 'O', 'O', 'O', 'O', 'O', 'O', 'O', 'O', 'O', 'O', 'O', 'O', 'O', 'O', 'O', 'O', 'O', 'O']\n",
      "y_pred after  62 ['O', 'O', 'O', 'O', 'B-PER', 'O', 'B-PROD', 'I-PROD', 'O', 'O', 'O', 'O', 'O', 'O', 'O', 'O', 'O', 'O', 'O', 'O', 'O', 'O', 'O', 'O', 'O', 'O', 'O', 'B-PER', 'O', 'O', 'O', 'O', 'O', 'O', 'O', 'O', 'O', 'O', 'B-PROD', 'O', 'O', 'O', 'O', 'O', 'O', 'O', 'O', 'O', 'O', 'O', 'O', 'O', 'O', 'O', 'O', 'O', 'O', 'O', 'O', 'O', 'O', 'O']\n",
      "\n",
      "['Kebersamaan', 'Panglima', 'TNI', 'Marsekal', 'Hadi', 'Tjahjanto', ',', 'S.I.P', ',', 'bersama', 'Kapolri', 'Jenderal', 'Polisi', 'Drs', '.', 'Listyo', 'Sigit', 'Prabowo', ',', 'https://t.co/4DihjLGINW', ',', 'Menteri', 'Pertahanan', 'Prabowo', 'Subianto', 'dan', 'pimpinan', 'TNI', 'lainnya', 'di', 'Hanggar', '2', 'Bandara', 'Juanda', 'Surabaya', ',', 'Kamis', '(29/4).', 'https://t.co/M16I53XcOO', '\"', 'Kebersamaan', 'Panglima', 'TNI', 'Marsekal', 'Hadi', 'Tjahjanto', ',', 'S.I.P', ',', 'bersama', 'Kapolri', 'Jenderal', 'Polisi', 'Drs', '.', 'Listyo', 'Sigit', 'Prabowo', ',', 'https://t.co/4DihjLGINW', ',', 'Menteri', 'Pertahanan', 'Prabowo', 'Subianto', 'dan', 'pimpinan', 'TNI', 'lainnya', 'di', 'Hanggar', '2', 'Bandara', 'Juanda', 'Surabaya', ',', 'Kamis', '(29/4).', 'https://t.co/M16I53XcOO', '\"']\n",
      "80\n",
      "y_test        80 ['O', 'O', 'O', 'O', 'B-PER', 'I-PER', 'O', 'O', 'O', 'O', 'O', 'O', 'O', 'O', 'O', 'B-PER', 'I-PER', 'I-PER', 'O', 'O', 'O', 'O', 'O', 'B-PER', 'I-PER', 'O', 'O', 'O', 'O', 'O', 'B-LOC', 'I-LOC', 'I-LOC', 'I-LOC', 'B-LOC', 'O', 'O', 'O', 'O', 'O', 'O', 'O', 'O', 'O', 'B-PER', 'I-PER', 'O', 'O', 'O', 'O', 'O', 'O', 'O', 'O', 'O', 'B-PER', 'I-PER', 'I-PER', 'O', 'O', 'O', 'O', 'O', 'B-PER', 'I-PER', 'O', 'O', 'B-ORG', 'O', 'O', 'B-LOC', 'I-LOC', 'I-LOC', 'I-LOC', 'I-LOC', 'O', 'O', 'O', 'O', 'O']\n",
      "y_pred before 79 ['O', 'O', 'O', 'O', 'B-PER', 'I-PER', 'O', 'O', 'O', 'O', 'O', 'O', 'O', 'O', 'O', 'B-PER', 'I-PER', 'I-PER', 'O', 'O', 'O', 'O', 'O', 'B-PER', 'I-PER', 'O', 'O', 'B-ORG', 'O', 'O', 'B-LOC', 'I-LOC', 'I-LOC', 'I-LOC', 'I-LOC', 'O', 'O', 'O', 'O', 'O', 'O', 'O', 'O', 'B-PER', 'I-PER', 'I-PER', 'O', 'O', 'O', 'O', 'O', 'O', 'O', 'O', 'O', 'B-PER', 'I-PER', 'I-PER', 'O', 'O', 'O', 'O', 'O', 'B-PER', 'I-PER', 'O', 'O', 'O', 'O', 'O', 'B-LOC', 'I-LOC', 'I-LOC', 'I-LOC', 'I-LOC', 'O', 'O', 'O', 'O']\n",
      "y_pred after  79 ['O', 'O', 'O', 'O', 'B-PER', 'I-PER', 'O', 'O', 'O', 'O', 'O', 'O', 'O', 'O', 'O', 'B-PER', 'I-PER', 'I-PER', 'O', 'O', 'O', 'O', 'O', 'B-PER', 'I-PER', 'O', 'O', 'B-ORG', 'O', 'O', 'B-LOC', 'I-LOC', 'I-LOC', 'I-LOC', 'I-LOC', 'O', 'O', 'O', 'O', 'O', 'O', 'O', 'O', 'B-PER', 'I-PER', 'I-PER', 'O', 'O', 'O', 'O', 'O', 'O', 'O', 'O', 'O', 'B-PER', 'I-PER', 'I-PER', 'O', 'O', 'O', 'O', 'O', 'B-PER', 'I-PER', 'O', 'O', 'O', 'O', 'O', 'B-LOC', 'I-LOC', 'I-LOC', 'I-LOC', 'I-LOC', 'O', 'O', 'O', 'O']\n",
      "\n",
      "['@baejinyeog', '@tubirfess', '��OPEN', 'JOKI', 'TUGAS', 'YAA��', '▶Makalah', ',', 'PPT', ',', 'soal', ',', 'essay', ',', 'rangkuman', ',', 'resume', ',', 'dll', '▶Desain', ':', 'CV', ',', 'Poster', ',', 'Banner', ',', 'dll', '▶Akuntansi', ',', 'ekonomi', ',', 'pajak', ',', 'hukum', ',', 'statistik', ',', 'komunikasi', ',', 'manajemen', ',', 'pertanian', ',', 'sosiologi', ',', 'psikologi', ',', 'dll', 'Detail', '&', 'amp', 'testi', 'di', 'link', 'dibawah', '��', 'https://t.co/hbiXCtkXrW', '\"', '@baejinyeog', '@tubirfess', '��OPEN', 'JOKI', 'TUGAS', 'YAA��', '▶Makalah', ',', 'PPT', ',', 'soal', ',', 'essay', ',', 'rangkuman', ',', 'resume', ',', 'dll', '▶Desain', ':', 'CV', ',', 'Poster', ',', 'Banner', ',', 'dll', '▶Akuntansi', ',', 'ekonomi', ',', 'pajak', ',', 'hukum', ',', 'statistik', ',', 'komunikasi', ',', 'manajemen', ',', 'pertanian', ',', 'sosiologi', ',', 'psikologi', ',', 'dll', 'Detail', '&', 'amp', 'testi', 'di', 'link', 'dibawah', '��', 'https://t.co/hbiXCtkXrW', '\"']\n",
      "118\n",
      "y_test        118 ['O', 'O', 'O', 'O', 'O', 'O', 'O', 'O', 'O', 'O', 'O', 'O', 'O', 'O', 'O', 'O', 'O', 'O', 'O', 'O', 'O', 'O', 'O', 'O', 'O', 'O', 'O', 'O', 'O', 'O', 'O', 'O', 'O', 'O', 'O', 'O', 'O', 'O', 'O', 'O', 'O', 'O', 'O', 'O', 'O', 'O', 'O', 'O', 'O', 'O', 'O', 'O', 'O', 'O', 'O', 'O', 'O', 'O', 'O', 'O', 'O', 'O', 'O', 'O', 'O', 'O', 'O', 'O', 'O', 'O', 'O', 'O', 'O', 'O', 'O', 'O', 'O', 'O', 'O', 'O', 'O', 'O', 'O', 'O', 'O', 'O', 'O', 'O', 'O', 'O', 'O', 'O', 'O', 'O', 'O', 'O', 'O', 'O', 'O', 'O', 'O', 'O', 'O', 'O', 'O', 'O', 'O', 'O', 'O', 'O', 'O', 'O', 'O', 'O', 'O', 'O', 'O', 'O']\n",
      "y_pred before 101 ['O', 'O', 'O', 'O', 'O', 'O', 'O', 'O', 'O', 'O', 'O', 'O', 'O', 'O', 'O', 'O', 'O', 'O', 'O', 'O', 'O', 'O', 'O', 'O', 'O', 'O', 'O', 'O', 'O', 'O', 'O', 'O', 'O', 'O', 'O', 'O', 'O', 'O', 'O', 'O', 'O', 'O', 'O', 'O', 'O', 'O', 'O', 'O', 'O', 'O', 'O', 'O', 'O', 'O', 'O', 'O', 'O', 'O', 'O', 'O', 'O', 'O', 'O', 'O', 'O', 'O', 'O', 'O', 'O', 'O', 'O', 'O', 'O', 'O', 'O', 'O', 'O', 'O', 'O', 'O', 'O', 'O', 'O', 'O', 'O', 'O', 'O', 'O', 'O', 'O', 'O', 'O', 'O', 'O', 'O', 'O', 'O', 'O', 'O', 'O', 'O']\n",
      "<re.Match object; span=(0, 2), match='��'>\n",
      "<re.Match object; span=(0, 2), match='��'>\n",
      "y_pred after  103 ['O', 'O', 'O', 'O', 'O', 'O', 'O', 'O', 'O', 'O', 'O', 'O', 'O', 'O', 'O', 'O', 'O', 'O', 'O', 'O', 'O', 'O', 'O', 'O', 'O', 'O', 'O', 'O', 'O', 'O', 'O', 'O', 'O', 'O', 'O', 'O', 'O', 'O', 'O', 'O', 'O', 'O', 'O', 'O', 'O', 'O', 'O', 'O', 'O', 'O', 'O', 'O', 'O', 'O', 'O', 'O', 'O', 'O', 'O', 'O', 'O', 'O', 'O', 'O', 'O', 'O', 'O', 'O', 'O', 'O', 'O', 'O', 'O', 'O', 'O', 'O', 'O', 'O', 'O', 'O', 'O', 'O', 'O', 'O', 'O', 'O', 'O', 'O', 'O', 'O', 'O', 'O', 'O', 'O', 'O', 'O', 'O', 'O', 'O', 'O', 'O', 'O', 'O']\n",
      "\n",
      "['@lariesmanis', 'hai', 'aku', 'jual', 'loh', ',', 'testi', 'ada', 'di', 'pinned��', '��APLIKASI', 'PREMIUM��', '��', 'Netflix', '��', 'Spotify', '��', 'Viu', '��', 'Iflix', '��', 'Disney', '+', 'Hotstar', '��', 'Youtube', '��', 'WeTv', 'dll', '.', '1.', 'LEGAL', '2.', 'ANTI', 'HOLD', '3.', 'FULL', 'BERGARANSI', '��PAYMENT', ':', 'DANA', ',', 'GOPAY', ',', 'SHOPEEPAY', ',', 'OVO', ',', 'QRIS', '✉️', 'HUB', ':', 'WA', 'DI', 'BIO', '&', 'amp', 'DM', 'https://t.co/J1I6gjgcNx', '\"', '@lariesmanis', 'hai', 'aku', 'jual', 'loh', ',', 'testi', 'ada', 'di', 'pinned��', '��APLIKASI', 'PREMIUM��', '��', 'Netflix', '��', 'Spotify', '��', 'Viu', '��', 'Iflix', '��', 'Disney', '+', 'Hotstar', '��', 'Youtube', '��', 'WeTv', 'dll', '.', '1.', 'LEGAL', '2.', 'ANTI', 'HOLD', '3.', 'FULL', 'BERGARANSI', '��PAYMENT', ':', 'DANA', ',', 'GOPAY', ',', 'SHOPEEPAY', ',', 'OVO', ',', 'QRIS', '✉️', 'HUB', ':', 'WA', 'DI', 'BIO', '&', 'amp', 'DM', 'https://t.co/J1I6gjgcNx', '\"']\n",
      "120\n",
      "y_test        120 ['O', 'O', 'O', 'O', 'O', 'O', 'O', 'O', 'O', 'O', 'O', 'O', 'O', 'B-PROD', 'O', 'B-PROD', 'O', 'B-PROD', 'O', 'B-PROD', 'O', 'B-PROD', 'O', 'I-PROD', 'O', 'B-PROD', 'O', 'B-PROD', 'O', 'O', 'O', 'O', 'O', 'O', 'O', 'O', 'O', 'O', 'O', 'O', 'B-PROD', 'O', 'B-PROD', 'O', 'B-PROD', 'O', 'B-PROD', 'O', 'B-PROD', 'O', 'O', 'O', 'B-PROD', 'O', 'O', 'O', 'O', 'O', 'O', 'O', 'O', 'O', 'O', 'O', 'O', 'O', 'O', 'O', 'O', 'O', 'O', 'O', 'O', 'B-PROD', 'O', 'B-PROD', 'O', 'B-PROD', 'O', 'B-PROD', 'O', 'B-PROD', 'O', 'I-PROD', 'O', 'B-PROD', 'O', 'B-PROD', 'O', 'O', 'O', 'O', 'O', 'O', 'O', 'O', 'O', 'O', 'O', 'O', 'B-PROD', 'O', 'B-PROD', 'O', 'B-PROD', 'O', 'B-PROD', 'O', 'B-PROD', 'O', 'O', 'O', 'B-PROD', 'O', 'O', 'O', 'O', 'O', 'O', 'O']\n",
      "y_pred before 112 ['O', 'O', 'O', 'O', 'O', 'O', 'O', 'O', 'O', 'O', 'O', 'O', 'O', 'O', 'O', 'O', 'O', 'O', 'O', 'O', 'O', 'O', 'O', 'O', 'O', 'O', 'O', 'O', 'O', 'O', 'O', 'O', 'O', 'O', 'O', 'O', 'O', 'O', 'O', 'O', 'B-PROD', 'O', 'O', 'O', 'O', 'O', 'O', 'B-PROD', 'O', 'B-PROD', 'O', 'B-PROD', 'O', 'B-PROD', 'O', 'O', 'O', 'O', 'O', 'O', 'O', 'O', 'O', 'O', 'B-PROD', 'O', 'O', 'O', 'O', 'O', 'O', 'O', 'O', 'O', 'O', 'O', 'O', 'O', 'O', 'O', 'O', 'O', 'O', 'O', 'O', 'O', 'O', 'O', 'O', 'O', 'O', 'O', 'O', 'O', 'O', 'O', 'O', 'O', 'O', 'O', 'O', 'O', 'O', 'O', 'O', 'O', 'O', 'O', 'O', 'O', 'O', 'O']\n",
      "<re.Match object; span=(0, 2), match='��'>\n",
      "<re.Match object; span=(0, 2), match='��'>\n",
      "<re.Match object; span=(0, 2), match='��'>\n",
      "<re.Match object; span=(0, 2), match='��'>\n",
      "<re.Match object; span=(0, 2), match='��'>\n",
      "<re.Match object; span=(0, 2), match='��'>\n",
      "<re.Match object; span=(0, 2), match='��'>\n",
      "<re.Match object; span=(0, 2), match='��'>\n",
      "<re.Match object; span=(0, 2), match='��'>\n",
      "<re.Match object; span=(0, 2), match='��'>\n",
      "<re.Match object; span=(0, 2), match='��'>\n",
      "<re.Match object; span=(0, 2), match='��'>\n",
      "<re.Match object; span=(0, 2), match='��'>\n",
      "<re.Match object; span=(0, 2), match='��'>\n",
      "y_pred after  126 ['O', 'O', 'O', 'O', 'O', 'O', 'O', 'O', 'O', 'O', 'O', 'O', 'O', 'O', 'O', 'O', 'O', 'O', 'O', 'O', 'O', 'O', 'O', 'O', 'O', 'O', 'O', 'O', 'O', 'O', 'O', 'O', 'O', 'O', 'O', 'O', 'O', 'O', 'O', 'O', 'O', 'O', 'O', 'O', 'O', 'O', 'O', 'B-PROD', 'O', 'O', 'O', 'O', 'O', 'O', 'B-PROD', 'O', 'B-PROD', 'O', 'B-PROD', 'O', 'B-PROD', 'O', 'O', 'O', 'O', 'O', 'O', 'O', 'O', 'O', 'O', 'B-PROD', 'O', 'O', 'O', 'O', 'O', 'O', 'O', 'O', 'O', 'O', 'O', 'O', 'O', 'O', 'O', 'O', 'O', 'O', 'O', 'O', 'O', 'O', 'O', 'O', 'O', 'O', 'O', 'O', 'O', 'O', 'O', 'O', 'O', 'O', 'O', 'O', 'O', 'O', 'O', 'O', 'O', 'O', 'O', 'O', 'O', 'O', 'O', 'O', 'O', 'O', 'O', 'O', 'O', 'O']\n",
      "\n",
      "['@ameliandanii', '1.', 'kedinginan', 'naek', 'motor', 'dr', 'klaten', '-', 'jogja', '.', 'Jaketnya', 'dilepas', 'buat', 'doublein', 'jaketku', '2.', 'Cuma', 'sakit', 'flu', ',', 'dr', 'rumahnya', 'yg', 'jauh', 'kerumahku', 'bawa', 'makanan', '3.', 'Janjian', 'sm', 'temen', 'buat', 'ambil', 'brang', 'di', 'rumah', 'temen', ',', 'pdhl', 'sendiri', 'bisa', 'tp', 'maksa', 'buat', 'anterin', 'karena', 'rumah', 'temen', 'jauh', 'bgt', 'simple', 'but��', '\"', '@ameliandanii', '1.', 'kedinginan', 'naek', 'motor', 'dr', 'klaten', '-', 'jogja', '.', 'Jaketnya', 'dilepas', 'buat', 'doublein', 'jaketku', '2.', 'Cuma', 'sakit', 'flu', ',', 'dr', 'rumahnya', 'yg', 'jauh', 'kerumahku', 'bawa', 'makanan', '3.', 'Janjian', 'sm', 'temen', 'buat', 'ambil', 'brang', 'di', 'rumah', 'temen', ',', 'pdhl', 'sendiri', 'bisa', 'tp', 'maksa', 'buat', 'anterin', 'karena', 'rumah', 'temen', 'jauh', 'bgt', 'simple', 'but��', '\"']\n",
      "106\n",
      "y_test        106 ['O', 'O', 'O', 'O', 'O', 'O', 'B-LOC', 'O', 'B-LOC', 'O', 'O', 'O', 'O', 'O', 'O', 'O', 'O', 'O', 'O', 'O', 'O', 'O', 'O', 'O', 'O', 'O', 'O', 'O', 'O', 'O', 'O', 'O', 'O', 'O', 'O', 'O', 'O', 'O', 'O', 'O', 'O', 'O', 'O', 'O', 'O', 'O', 'O', 'O', 'O', 'O', 'O', 'O', 'O', 'O', 'O', 'O', 'O', 'O', 'O', 'B-LOC', 'O', 'B-LOC', 'O', 'O', 'O', 'O', 'O', 'O', 'O', 'O', 'O', 'O', 'O', 'O', 'O', 'O', 'O', 'O', 'O', 'O', 'O', 'O', 'O', 'O', 'O', 'O', 'O', 'O', 'O', 'O', 'O', 'O', 'O', 'O', 'O', 'O', 'O', 'O', 'O', 'O', 'O', 'O', 'O', 'O', 'O', 'O']\n",
      "y_pred before 98 ['O', 'O', 'O', 'O', 'O', 'O', 'B-LOC', 'O', 'B-LOC', 'O', 'O', 'O', 'O', 'O', 'O', 'O', 'O', 'O', 'O', 'O', 'O', 'O', 'O', 'O', 'O', 'O', 'O', 'O', 'O', 'O', 'O', 'O', 'O', 'O', 'O', 'O', 'O', 'O', 'O', 'O', 'O', 'O', 'O', 'O', 'O', 'O', 'O', 'O', 'O', 'O', 'O', 'O', 'O', 'O', 'O', 'O', 'O', 'O', 'O', 'B-LOC', 'O', 'B-LOC', 'O', 'O', 'O', 'O', 'O', 'O', 'O', 'O', 'O', 'O', 'O', 'O', 'O', 'O', 'O', 'O', 'O', 'O', 'O', 'O', 'O', 'O', 'O', 'O', 'O', 'O', 'O', 'O', 'O', 'O', 'O', 'O', 'O', 'O', 'O', 'O']\n",
      "y_pred after  98 ['O', 'O', 'O', 'O', 'O', 'O', 'B-LOC', 'O', 'B-LOC', 'O', 'O', 'O', 'O', 'O', 'O', 'O', 'O', 'O', 'O', 'O', 'O', 'O', 'O', 'O', 'O', 'O', 'O', 'O', 'O', 'O', 'O', 'O', 'O', 'O', 'O', 'O', 'O', 'O', 'O', 'O', 'O', 'O', 'O', 'O', 'O', 'O', 'O', 'O', 'O', 'O', 'O', 'O', 'O', 'O', 'O', 'O', 'O', 'O', 'O', 'B-LOC', 'O', 'B-LOC', 'O', 'O', 'O', 'O', 'O', 'O', 'O', 'O', 'O', 'O', 'O', 'O', 'O', 'O', 'O', 'O', 'O', 'O', 'O', 'O', 'O', 'O', 'O', 'O', 'O', 'O', 'O', 'O', 'O', 'O', 'O', 'O', 'O', 'O', 'O', 'O']\n",
      "\n",
      "['@usaisudahhh', 'kiwii', 'izin', 'nitip', 'ya', 'kak', '������', 'kiwii', 'jual', 'apps', 'premium', 'murah', '��', 'viu', '13k', '/', '3bulan', '��', 'spotify', '10k', '/', 'bulan', '��', 'youtube', '10k', '/', 'bulan', '��', 'iflix', '10k', '/', 'bulan', '��', 'wetv', '10k', '/', 'bulan', 't', '.', 'netflix', ',', 'disney', ',', 'canva', '1OO', '%', 'trusted', ',', 'legal', 'dan', 'bergaransi', '^^', '��dm', 'for', 'order', 'https://t.co/JhYKfkpOux', '\"', '@usaisudahhh', 'kiwii', 'izin', 'nitip', 'ya', 'kak', '������', 'kiwii', 'jual', 'apps', 'premium', 'murah', '��', 'viu', '13k', '/', '3bulan', '��', 'spotify', '10k', '/', 'bulan', '��', 'youtube', '10k', '/', 'bulan', '��', 'iflix', '10k', '/', 'bulan', '��', 'wetv', '10k', '/', 'bulan', 't', '.', 'netflix', ',', 'disney', ',', 'canva', '1OO', '%', 'trusted', ',', 'legal', 'dan', 'bergaransi', '^^', '��dm', 'for', 'order', 'https://t.co/JhYKfkpOux', '\"']\n",
      "114\n",
      "y_test        114 ['B-PER', 'B-PER', 'O', 'O', 'O', 'O', 'O', 'B-PER', 'O', 'O', 'O', 'O', 'O', 'B-PROD', 'O', 'O', 'O', 'O', 'B-PROD', 'O', 'O', 'O', 'O', 'B-PROD', 'O', 'O', 'O', 'O', 'B-PROD', 'O', 'O', 'O', 'O', 'B-PROD', 'O', 'O', 'O', 'O', 'O', 'B-PROD', 'O', 'B-PROD', 'O', 'B-PROD', 'O', 'O', 'O', 'O', 'O', 'O', 'O', 'O', 'O', 'O', 'O', 'O', 'O', 'O', 'B-PER', 'O', 'O', 'O', 'O', 'O', 'B-PER', 'O', 'O', 'O', 'O', 'O', 'B-PROD', 'O', 'O', 'O', 'O', 'B-PROD', 'O', 'O', 'O', 'O', 'B-PROD', 'O', 'O', 'O', 'O', 'B-PROD', 'O', 'O', 'O', 'O', 'B-PROD', 'O', 'O', 'O', 'O', 'O', 'B-PROD', 'O', 'B-PROD', 'O', 'B-PROD', 'O', 'O', 'O', 'O', 'O', 'O', 'O', 'O', 'O', 'O', 'O', 'O', 'O']\n",
      "y_pred before 91 ['O', 'B-PER', 'O', 'O', 'O', 'O', 'O', 'O', 'B-PER', 'O', 'O', 'O', 'O', 'O', 'O', 'B-PROD', 'O', 'O', 'O', 'O', 'O', 'B-PROD', 'O', 'O', 'O', 'O', 'O', 'O', 'B-PROD', 'O', 'O', 'O', 'O', 'O', 'B-PROD', 'O', 'O', 'O', 'O', 'B-PROD', 'O', 'O', 'O', 'O', 'O', 'B-PROD', 'O', 'B-PROD', 'O', 'B-PROD', 'O', 'O', 'O', 'O', 'O', 'O', 'O', 'O', 'O', 'O', 'O', 'O', 'O', 'O', 'O', 'B-PER', 'O', 'O', 'O', 'O', 'O', 'O', 'B-PER', 'O', 'O', 'O', 'O', 'O', 'O', 'O', 'B-PROD', 'O', 'O', 'O', 'O', 'O', 'B-PROD', 'O', 'O', 'O', 'O']\n",
      "<re.Match object; span=(0, 6), match='������'>\n",
      "<re.Match object; span=(0, 2), match='��'>\n",
      "<re.Match object; span=(0, 2), match='��'>\n",
      "<re.Match object; span=(0, 2), match='��'>\n",
      "<re.Match object; span=(0, 2), match='��'>\n",
      "<re.Match object; span=(0, 2), match='��'>\n",
      "<re.Match object; span=(0, 6), match='������'>\n",
      "<re.Match object; span=(0, 2), match='��'>\n",
      "<re.Match object; span=(0, 2), match='��'>\n",
      "<re.Match object; span=(0, 2), match='��'>\n",
      "<re.Match object; span=(0, 2), match='��'>\n",
      "<re.Match object; span=(0, 2), match='��'>\n",
      "y_pred after  103 ['O', 'B-PER', 'O', 'O', 'O', 'O', 'O', 'O', 'O', 'B-PER', 'O', 'O', 'O', 'O', 'O', 'O', 'O', 'O', 'B-PROD', 'O', 'O', 'O', 'O', 'O', 'O', 'B-PROD', 'O', 'O', 'O', 'O', 'O', 'O', 'O', 'O', 'B-PROD', 'O', 'O', 'O', 'O', 'O', 'B-PROD', 'O', 'O', 'O', 'O', 'B-PROD', 'O', 'O', 'O', 'O', 'O', 'B-PROD', 'O', 'B-PROD', 'O', 'B-PROD', 'O', 'O', 'O', 'O', 'O', 'O', 'O', 'O', 'O', 'O', 'O', 'O', 'O', 'O', 'O', 'O', 'O', 'B-PER', 'O', 'O', 'O', 'O', 'O', 'O', 'O', 'O', 'B-PER', 'O', 'O', 'O', 'O', 'O', 'O', 'O', 'O', 'O', 'B-PROD', 'O', 'O', 'O', 'O', 'O', 'B-PROD', 'O', 'O', 'O', 'O']\n",
      "\n"
     ]
    }
   ],
   "source": [
    "import re\n",
    "for i in range(len(y_test)):\n",
    "    if len(y_test[i]) != len(y_pred[i]):\n",
    "        print(x_test[i])\n",
    "        print(len(x_test[i]))\n",
    "        print(\"y_test       \",len(y_test[i]),y_test[i])\n",
    "        print(\"y_pred before\",len(y_pred[i]),y_pred[i])\n",
    "        for j in range(len(x_test[i])):\n",
    "            # if '�' in x_test[i][j]: \n",
    "            qmark=re.match(r'^�+$',x_test[i][j])\n",
    "            if qmark:\n",
    "                print(qmark)\n",
    "                y_pred[i].insert(j,'O')\n",
    "        print(\"y_pred after \",len(y_pred[i]), y_pred[i])\n",
    "        print()"
   ]
  },
  {
   "cell_type": "code",
   "execution_count": null,
   "metadata": {},
   "outputs": [],
   "source": []
  }
 ],
 "metadata": {
  "interpreter": {
   "hash": "95f69f4171822e9a0d4258a52ad5b962ce921882fa0fb93c07eb68a8992e9dab"
  },
  "kernelspec": {
   "display_name": "Python 3.7.9 64-bit ('env': venv)",
   "name": "python3"
  },
  "language_info": {
   "codemirror_mode": {
    "name": "ipython",
    "version": 3
   },
   "file_extension": ".py",
   "mimetype": "text/x-python",
   "name": "python",
   "nbconvert_exporter": "python",
   "pygments_lexer": "ipython3",
   "version": "3.8.0"
  },
  "orig_nbformat": 4
 },
 "nbformat": 4,
 "nbformat_minor": 2
}
