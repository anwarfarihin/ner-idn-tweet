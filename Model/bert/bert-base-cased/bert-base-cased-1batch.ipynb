{
 "metadata": {
  "language_info": {
   "codemirror_mode": {
    "name": "ipython",
    "version": 3
   },
   "file_extension": ".py",
   "mimetype": "text/x-python",
   "name": "python",
   "nbconvert_exporter": "python",
   "pygments_lexer": "ipython3",
   "version": "3.7.9"
  },
  "orig_nbformat": 4,
  "kernelspec": {
   "name": "python3",
   "display_name": "Python 3.7.9 64-bit ('env': venv)"
  },
  "interpreter": {
   "hash": "95f69f4171822e9a0d4258a52ad5b962ce921882fa0fb93c07eb68a8992e9dab"
  }
 },
 "nbformat": 4,
 "nbformat_minor": 2,
 "cells": [
  {
   "cell_type": "code",
   "execution_count": 3,
   "metadata": {},
   "outputs": [
    {
     "output_type": "stream",
     "name": "stderr",
     "text": [
      "d:\\Drive\\KULEEAH\\Semester 8\\TA Farihin\\env\\lib\\site-packages\\torchaudio\\backend\\utils.py:67: UserWarning: No audio backend is available.\n  warnings.warn('No audio backend is available.')\n"
     ]
    }
   ],
   "source": [
    "import sklearn\n",
    "import pandas as pd\n",
    "\n",
    "import logging\n",
    "\n",
    "import torch\n",
    "cuda_available = torch.cuda.is_available()\n",
    "\n",
    "from simpletransformers.ner import NERModel, NERArgs"
   ]
  },
  {
   "cell_type": "code",
   "execution_count": 4,
   "metadata": {},
   "outputs": [],
   "source": [
    "train_df=pd.read_csv(\"..\\..\\..\\Dataset\\\\bert\\\\train.csv\")\n",
    "eval_df=pd.read_csv(\"..\\..\\..\\Dataset\\\\bert\\\\val.csv\")\n"
   ]
  },
  {
   "cell_type": "code",
   "execution_count": 5,
   "metadata": {},
   "outputs": [
    {
     "output_type": "execute_result",
     "data": {
      "text/plain": [
       "                sentence_id     words labels\n",
       "0       1382601382042103808     Hidup      O\n",
       "1       1382601382042103808   sesedih      O\n",
       "2       1382601382042103808       dan      O\n",
       "3       1382601382042103808   secaper      O\n",
       "4       1382601382042103808       apa      O\n",
       "...                     ...       ...    ...\n",
       "108840  1383795163412058114  Gubernur      O\n",
       "108841  1383795163412058114  Khofifah  B-PER\n",
       "108842  1383795163412058114     fokus      O\n",
       "108843  1383795163412058114     untuk      O\n",
       "108844  1383795163412058114  pulihkan      O\n",
       "\n",
       "[108845 rows x 3 columns]"
      ],
      "text/html": "<div>\n<style scoped>\n    .dataframe tbody tr th:only-of-type {\n        vertical-align: middle;\n    }\n\n    .dataframe tbody tr th {\n        vertical-align: top;\n    }\n\n    .dataframe thead th {\n        text-align: right;\n    }\n</style>\n<table border=\"1\" class=\"dataframe\">\n  <thead>\n    <tr style=\"text-align: right;\">\n      <th></th>\n      <th>sentence_id</th>\n      <th>words</th>\n      <th>labels</th>\n    </tr>\n  </thead>\n  <tbody>\n    <tr>\n      <th>0</th>\n      <td>1382601382042103808</td>\n      <td>Hidup</td>\n      <td>O</td>\n    </tr>\n    <tr>\n      <th>1</th>\n      <td>1382601382042103808</td>\n      <td>sesedih</td>\n      <td>O</td>\n    </tr>\n    <tr>\n      <th>2</th>\n      <td>1382601382042103808</td>\n      <td>dan</td>\n      <td>O</td>\n    </tr>\n    <tr>\n      <th>3</th>\n      <td>1382601382042103808</td>\n      <td>secaper</td>\n      <td>O</td>\n    </tr>\n    <tr>\n      <th>4</th>\n      <td>1382601382042103808</td>\n      <td>apa</td>\n      <td>O</td>\n    </tr>\n    <tr>\n      <th>...</th>\n      <td>...</td>\n      <td>...</td>\n      <td>...</td>\n    </tr>\n    <tr>\n      <th>108840</th>\n      <td>1383795163412058114</td>\n      <td>Gubernur</td>\n      <td>O</td>\n    </tr>\n    <tr>\n      <th>108841</th>\n      <td>1383795163412058114</td>\n      <td>Khofifah</td>\n      <td>B-PER</td>\n    </tr>\n    <tr>\n      <th>108842</th>\n      <td>1383795163412058114</td>\n      <td>fokus</td>\n      <td>O</td>\n    </tr>\n    <tr>\n      <th>108843</th>\n      <td>1383795163412058114</td>\n      <td>untuk</td>\n      <td>O</td>\n    </tr>\n    <tr>\n      <th>108844</th>\n      <td>1383795163412058114</td>\n      <td>pulihkan</td>\n      <td>O</td>\n    </tr>\n  </tbody>\n</table>\n<p>108845 rows × 3 columns</p>\n</div>"
     },
     "metadata": {},
     "execution_count": 5
    }
   ],
   "source": [
    "train_df=train_df\n",
    "train_df"
   ]
  },
  {
   "cell_type": "code",
   "execution_count": 6,
   "metadata": {},
   "outputs": [
    {
     "output_type": "execute_result",
     "data": {
      "text/plain": [
       "               sentence_id          words labels\n",
       "0      1385573262067847169         Nadiem  B-PER\n",
       "1      1385573262067847169        Makarim  I-PER\n",
       "2      1385573262067847169             dg      O\n",
       "3      1385573262067847169       Presiden      O\n",
       "4      1385573262067847169           ke-5      O\n",
       "...                    ...            ...    ...\n",
       "27206  1382913410749190149            aku      O\n",
       "27207  1383795163412058114        ekonomi      O\n",
       "27208  1383795163412058114              ,      O\n",
       "27209  1383795163412058114  infrastruktur      O\n",
       "27210  1383795163412058114              ,      O\n",
       "\n",
       "[27211 rows x 3 columns]"
      ],
      "text/html": "<div>\n<style scoped>\n    .dataframe tbody tr th:only-of-type {\n        vertical-align: middle;\n    }\n\n    .dataframe tbody tr th {\n        vertical-align: top;\n    }\n\n    .dataframe thead th {\n        text-align: right;\n    }\n</style>\n<table border=\"1\" class=\"dataframe\">\n  <thead>\n    <tr style=\"text-align: right;\">\n      <th></th>\n      <th>sentence_id</th>\n      <th>words</th>\n      <th>labels</th>\n    </tr>\n  </thead>\n  <tbody>\n    <tr>\n      <th>0</th>\n      <td>1385573262067847169</td>\n      <td>Nadiem</td>\n      <td>B-PER</td>\n    </tr>\n    <tr>\n      <th>1</th>\n      <td>1385573262067847169</td>\n      <td>Makarim</td>\n      <td>I-PER</td>\n    </tr>\n    <tr>\n      <th>2</th>\n      <td>1385573262067847169</td>\n      <td>dg</td>\n      <td>O</td>\n    </tr>\n    <tr>\n      <th>3</th>\n      <td>1385573262067847169</td>\n      <td>Presiden</td>\n      <td>O</td>\n    </tr>\n    <tr>\n      <th>4</th>\n      <td>1385573262067847169</td>\n      <td>ke-5</td>\n      <td>O</td>\n    </tr>\n    <tr>\n      <th>...</th>\n      <td>...</td>\n      <td>...</td>\n      <td>...</td>\n    </tr>\n    <tr>\n      <th>27206</th>\n      <td>1382913410749190149</td>\n      <td>aku</td>\n      <td>O</td>\n    </tr>\n    <tr>\n      <th>27207</th>\n      <td>1383795163412058114</td>\n      <td>ekonomi</td>\n      <td>O</td>\n    </tr>\n    <tr>\n      <th>27208</th>\n      <td>1383795163412058114</td>\n      <td>,</td>\n      <td>O</td>\n    </tr>\n    <tr>\n      <th>27209</th>\n      <td>1383795163412058114</td>\n      <td>infrastruktur</td>\n      <td>O</td>\n    </tr>\n    <tr>\n      <th>27210</th>\n      <td>1383795163412058114</td>\n      <td>,</td>\n      <td>O</td>\n    </tr>\n  </tbody>\n</table>\n<p>27211 rows × 3 columns</p>\n</div>"
     },
     "metadata": {},
     "execution_count": 6
    }
   ],
   "source": [
    "eval_df"
   ]
  },
  {
   "cell_type": "code",
   "execution_count": 7,
   "metadata": {},
   "outputs": [],
   "source": [
    "label_list = [\n",
    "    \"O\", \n",
    "    \"B-PER\", \"I-PER\",\n",
    "    \"B-ORG\", \"I-ORG\",\n",
    "    \"B-LOC\", \"I-LOC\",\n",
    "    \"B-PROD\", \"I-PROD\",\n",
    "    \"B-WA\", \"I-WA\",\n",
    "    \"B-EV\", \"I-EV\",\n",
    "]"
   ]
  },
  {
   "cell_type": "code",
   "execution_count": 8,
   "metadata": {
    "tags": []
   },
   "outputs": [],
   "source": [
    "# Create a NERModel\n",
    "model_args=NERArgs()\n",
    "# model_args.train_batch_size=64\n",
    "# model_args.overwrite_output_dir=True\n",
    "model_args = {\n",
    "    \"output_dir\": \"outputs/\",\n",
    "    \"cache_dir\": \"cache_dir/\",\n",
    "\n",
    "    \"fp16\": True,\n",
    "    \"fp16_opt_level\": \"O1\",\n",
    "    \"max_seq_length\": 128,\n",
    "    \"train_batch_size\": 8,\n",
    "    \"gradient_accumulation_steps\": 1,\n",
    "    \"eval_batch_size\": 8,\n",
    "    \"num_train_epochs\": 1,\n",
    "    # \"num_train_epochs\": 5,\n",
    "    \"weight_decay\": 0,\n",
    "    \"learning_rate\": 4e-5,\n",
    "    # \"learning_rate\": 0.00006828,\n",
    "\n",
    "    \"adam_epsilon\": 1e-8,\n",
    "    \"warmup_ratio\": 0.06,\n",
    "    \"warmup_steps\": 0,\n",
    "    \"max_grad_norm\": 1.0,\n",
    "\n",
    "    \"logging_steps\": 50,\n",
    "    \"save_steps\": 2000,\n",
    "\n",
    "    \"overwrite_output_dir\": True,\n",
    "    \"reprocess_input_data\": False,\n",
    "    \"evaluate_during_training\": True,\n",
    "}\n"
   ]
  },
  {
   "cell_type": "code",
   "execution_count": 9,
   "metadata": {},
   "outputs": [],
   "source": [
    "model = NERModel('bert', \n",
    "                'outputs',\n",
    "                args=model_args,\n",
    "                labels=label_list,\n",
    "                use_cuda=cuda_available,\n",
    "                )\n",
    "# result, model_outputs, wrong_preds = model.eval_model(eval_df)\n",
    "# result"
   ]
  },
  {
   "cell_type": "code",
   "execution_count": 10,
   "metadata": {},
   "outputs": [
    {
     "output_type": "stream",
     "name": "stderr",
     "text": [
      "Downloading: 100%|██████████| 570/570 [00:00<00:00, 287kB/s]\n",
      "Downloading: 100%|██████████| 436M/436M [01:05<00:00, 6.67MB/s]\n",
      "Some weights of the model checkpoint at bert-base-cased were not used when initializing BertForTokenClassification: ['cls.predictions.bias', 'cls.predictions.transform.dense.bias', 'cls.predictions.transform.dense.weight', 'cls.seq_relationship.bias', 'cls.predictions.decoder.weight', 'cls.predictions.transform.LayerNorm.bias', 'cls.predictions.transform.LayerNorm.weight', 'cls.seq_relationship.weight']\n",
      "- This IS expected if you are initializing BertForTokenClassification from the checkpoint of a model trained on another task or with another architecture (e.g. initializing a BertForSequenceClassification model from a BertForPreTraining model).\n",
      "- This IS NOT expected if you are initializing BertForTokenClassification from the checkpoint of a model that you expect to be exactly identical (initializing a BertForSequenceClassification model from a BertForSequenceClassification model).\n",
      "Some weights of BertForTokenClassification were not initialized from the model checkpoint at bert-base-cased and are newly initialized: ['classifier.bias', 'classifier.weight']\n",
      "You should probably TRAIN this model on a down-stream task to be able to use it for predictions and inference.\n",
      "Downloading: 100%|██████████| 213k/213k [00:00<00:00, 418kB/s]\n",
      "Downloading: 100%|██████████| 29.0/29.0 [00:00<00:00, 29.0kB/s]\n",
      "Downloading: 100%|██████████| 436k/436k [00:00<00:00, 791kB/s]\n"
     ]
    }
   ],
   "source": [
    "model = NERModel('bert', \n",
    "                'bert-base-cased',\n",
    "                args=model_args,\n",
    "                labels=label_list,\n",
    "                use_cuda=cuda_available,\n",
    "                )"
   ]
  },
  {
   "cell_type": "code",
   "execution_count": 11,
   "metadata": {
    "tags": [
     "outputPrepend"
    ]
   },
   "outputs": [
    {
     "output_type": "stream",
     "name": "stderr",
     "text": [
      "5%|███████▍  | 201/269 [00:29<00:10,  6.79it/s]\u001b[A\n",
      "Running Evaluation:  75%|███████▌  | 202/269 [00:29<00:09,  6.77it/s]\u001b[A\n",
      "Running Evaluation:  75%|███████▌  | 203/269 [00:30<00:09,  6.75it/s]\u001b[A\n",
      "Running Evaluation:  76%|███████▌  | 204/269 [00:30<00:09,  6.77it/s]\u001b[A\n",
      "Running Evaluation:  76%|███████▌  | 205/269 [00:30<00:09,  6.73it/s]\u001b[A\n",
      "Running Evaluation:  77%|███████▋  | 206/269 [00:30<00:09,  6.72it/s]\u001b[A\n",
      "Running Evaluation:  77%|███████▋  | 207/269 [00:30<00:09,  6.72it/s]\u001b[A\n",
      "Running Evaluation:  77%|███████▋  | 208/269 [00:30<00:09,  6.74it/s]\u001b[A\n",
      "Running Evaluation:  78%|███████▊  | 209/269 [00:31<00:08,  6.72it/s]\u001b[A\n",
      "Running Evaluation:  78%|███████▊  | 210/269 [00:31<00:08,  6.59it/s]\u001b[A\n",
      "Running Evaluation:  78%|███████▊  | 211/269 [00:31<00:08,  6.52it/s]\u001b[A\n",
      "Running Evaluation:  79%|███████▉  | 212/269 [00:31<00:08,  6.51it/s]\u001b[A\n",
      "Running Evaluation:  79%|███████▉  | 213/269 [00:31<00:08,  6.57it/s]\u001b[A\n",
      "Running Evaluation:  80%|███████▉  | 214/269 [00:31<00:08,  6.62it/s]\u001b[A\n",
      "Running Evaluation:  80%|███████▉  | 215/269 [00:31<00:08,  6.64it/s]\u001b[A\n",
      "Running Evaluation:  80%|████████  | 216/269 [00:32<00:08,  6.51it/s]\u001b[A\n",
      "Running Evaluation:  81%|████████  | 217/269 [00:32<00:07,  6.62it/s]\u001b[A\n",
      "Running Evaluation:  81%|████████  | 218/269 [00:32<00:07,  6.69it/s]\u001b[A\n",
      "Running Evaluation:  81%|████████▏ | 219/269 [00:32<00:07,  6.75it/s]\u001b[A\n",
      "Running Evaluation:  82%|████████▏ | 220/269 [00:32<00:07,  6.79it/s]\u001b[A\n",
      "Running Evaluation:  82%|████████▏ | 221/269 [00:32<00:07,  6.80it/s]\u001b[A\n",
      "Running Evaluation:  83%|████████▎ | 222/269 [00:32<00:06,  6.82it/s]\u001b[A\n",
      "Running Evaluation:  83%|████████▎ | 223/269 [00:33<00:06,  6.80it/s]\u001b[A\n",
      "Running Evaluation:  83%|████████▎ | 224/269 [00:33<00:06,  6.85it/s]\u001b[A\n",
      "Running Evaluation:  84%|████████▎ | 225/269 [00:33<00:06,  6.82it/s]\u001b[A\n",
      "Running Evaluation:  84%|████████▍ | 226/269 [00:33<00:06,  6.84it/s]\u001b[A\n",
      "Running Evaluation:  84%|████████▍ | 227/269 [00:33<00:06,  6.83it/s]\u001b[A\n",
      "Running Evaluation:  85%|████████▍ | 228/269 [00:33<00:06,  6.78it/s]\u001b[A\n",
      "Running Evaluation:  85%|████████▌ | 229/269 [00:33<00:05,  6.82it/s]\u001b[A\n",
      "Running Evaluation:  86%|████████▌ | 230/269 [00:34<00:05,  6.80it/s]\u001b[A\n",
      "Running Evaluation:  86%|████████▌ | 231/269 [00:34<00:05,  6.83it/s]\u001b[A\n",
      "Running Evaluation:  86%|████████▌ | 232/269 [00:34<00:05,  6.83it/s]\u001b[A\n",
      "Running Evaluation:  87%|████████▋ | 233/269 [00:34<00:05,  6.81it/s]\u001b[A\n",
      "Running Evaluation:  87%|████████▋ | 234/269 [00:34<00:05,  6.81it/s]\u001b[A\n",
      "Running Evaluation:  87%|████████▋ | 235/269 [00:34<00:04,  6.82it/s]\u001b[A\n",
      "Running Evaluation:  88%|████████▊ | 236/269 [00:35<00:04,  6.80it/s]\u001b[A\n",
      "Running Evaluation:  88%|████████▊ | 237/269 [00:35<00:04,  6.75it/s]\u001b[A\n",
      "Running Evaluation:  88%|████████▊ | 238/269 [00:35<00:04,  6.73it/s]\u001b[A\n",
      "Running Evaluation:  89%|████████▉ | 239/269 [00:35<00:04,  6.75it/s]\u001b[A\n",
      "Running Evaluation:  89%|████████▉ | 240/269 [00:35<00:04,  6.77it/s]\u001b[A\n",
      "Running Evaluation:  90%|████████▉ | 241/269 [00:35<00:04,  6.79it/s]\u001b[A\n",
      "Running Evaluation:  90%|████████▉ | 242/269 [00:35<00:03,  6.83it/s]\u001b[A\n",
      "Running Evaluation:  90%|█████████ | 243/269 [00:36<00:03,  6.84it/s]\u001b[A\n",
      "Running Evaluation:  91%|█████████ | 244/269 [00:36<00:03,  6.86it/s]\u001b[A\n",
      "Running Evaluation:  91%|█████████ | 245/269 [00:36<00:03,  6.76it/s]\u001b[A\n",
      "Running Evaluation:  91%|█████████▏| 246/269 [00:36<00:03,  6.67it/s]\u001b[A\n",
      "Running Evaluation:  92%|█████████▏| 247/269 [00:36<00:03,  6.56it/s]\u001b[A\n",
      "Running Evaluation:  92%|█████████▏| 248/269 [00:36<00:03,  6.47it/s]\u001b[A\n",
      "Running Evaluation:  93%|█████████▎| 249/269 [00:36<00:03,  6.48it/s]\u001b[A\n",
      "Running Evaluation:  93%|█████████▎| 250/269 [00:37<00:02,  6.51it/s]\u001b[A\n",
      "Running Evaluation:  93%|█████████▎| 251/269 [00:37<00:02,  6.55it/s]\u001b[A\n",
      "Running Evaluation:  94%|█████████▎| 252/269 [00:37<00:02,  6.49it/s]\u001b[A\n",
      "Running Evaluation:  94%|█████████▍| 253/269 [00:37<00:02,  6.50it/s]\u001b[A\n",
      "Running Evaluation:  94%|█████████▍| 254/269 [00:37<00:02,  6.55it/s]\u001b[A\n",
      "Running Evaluation:  95%|█████████▍| 255/269 [00:37<00:02,  6.56it/s]\u001b[A\n",
      "Running Evaluation:  95%|█████████▌| 256/269 [00:38<00:01,  6.56it/s]\u001b[A\n",
      "Running Evaluation:  96%|█████████▌| 257/269 [00:38<00:01,  6.60it/s]\u001b[A\n",
      "Running Evaluation:  96%|█████████▌| 258/269 [00:38<00:01,  6.66it/s]\u001b[A\n",
      "Running Evaluation:  96%|█████████▋| 259/269 [00:38<00:01,  6.68it/s]\u001b[A\n",
      "Running Evaluation:  97%|█████████▋| 260/269 [00:38<00:01,  6.69it/s]\u001b[A\n",
      "Running Evaluation:  97%|█████████▋| 261/269 [00:38<00:01,  6.70it/s]\u001b[A\n",
      "Running Evaluation:  97%|█████████▋| 262/269 [00:38<00:01,  6.70it/s]\u001b[A\n",
      "Running Evaluation:  98%|█████████▊| 263/269 [00:39<00:00,  6.72it/s]\u001b[A\n",
      "Running Evaluation:  98%|█████████▊| 264/269 [00:39<00:00,  6.69it/s]\u001b[A\n",
      "Running Evaluation:  99%|█████████▊| 265/269 [00:39<00:00,  6.71it/s]\u001b[A\n",
      "Running Evaluation:  99%|█████████▉| 266/269 [00:39<00:00,  6.65it/s]\u001b[A\n",
      "Running Evaluation:  99%|█████████▉| 267/269 [00:39<00:00,  6.61it/s]\u001b[A\n",
      "Running Evaluation: 100%|██████████| 269/269 [00:39<00:00,  6.74it/s]\n",
      "Epoch 1 of 1: 100%|██████████| 1/1 [07:19<00:00, 439.68s/it]\n"
     ]
    },
    {
     "output_type": "execute_result",
     "data": {
      "text/plain": [
       "(722,\n",
       " {'global_step': [722],\n",
       "  'precision': [0.6818858560794044],\n",
       "  'recall': [0.5736951983298538],\n",
       "  'f1_score': [0.6231292517006802],\n",
       "  'train_loss': [0.21060845255851746],\n",
       "  'eval_loss': [0.258757291057019]})"
      ]
     },
     "metadata": {},
     "execution_count": 11
    }
   ],
   "source": [
    "model.train_model(train_df,  eval_data=eval_df)"
   ]
  },
  {
   "cell_type": "code",
   "execution_count": 12,
   "metadata": {},
   "outputs": [
    {
     "output_type": "stream",
     "name": "stderr",
     "text": [
      "Running Evaluation: 100%|██████████| 269/269 [00:39<00:00,  6.85it/s]\n"
     ]
    }
   ],
   "source": [
    "result, model_outputs, wrong_preds = model.eval_model(eval_df)"
   ]
  },
  {
   "cell_type": "code",
   "execution_count": 12,
   "metadata": {},
   "outputs": [
    {
     "output_type": "execute_result",
     "data": {
      "text/plain": [
       "{'eval_loss': 0.401481420783236,\n",
       " 'precision': 0.46971153846153846,\n",
       " 'recall': 0.40725302209253855,\n",
       " 'f1_score': 0.4362580933244028}"
      ]
     },
     "metadata": {},
     "execution_count": 12
    }
   ],
   "source": [
    "result"
   ]
  },
  {
   "cell_type": "code",
   "execution_count": 12,
   "metadata": {},
   "outputs": [
    {
     "output_type": "stream",
     "name": "stderr",
     "text": [
      "100%|██████████| 1/1 [00:05<00:00,  5.66s/it]\n",
      "Running Prediction: 100%|██████████| 1/1 [00:00<00:00,  3.12it/s]\n"
     ]
    }
   ],
   "source": [
    "predictions, raw_outputs = model.predict(\n",
    "    # [\"@PolsekAlian PolriBerikan inovasi-inovasi Polri yang memudahkan masyarakat, kegiatan pemolisian masyarakat dan seluruh tindakan Kepolisian dalam menghadapi gangguan Kamtibmas, dan lain-lain - Jenderal Polisi Drs. Listyo Sigit Prabowo, https://t.co/f8GZ6VPqPD. - Kapolri #PolriTVRadioPresisi\"],\n",
    "    [\"Safari Ramadhan di Malang, Gubernur Khofifah ingatkan pentingnya Rembuk Nyekrup birokrat\"], \n",
    "    [\"@OPPOIndonesia ✍Butuh memori besar 128GB di OPPO A54 buat simpan file-file tugas kuliah dan testimoni online shop -ku ��Semoga oppo A54 bisa menunjang penghasilan keluargaku �� @OPPOIndonesia @nisa_rkt @Bebheey @kus_ica @Erna19_ @Saftriyuni #OPPOA54 https://t.co/bMYIiRb4QF �� 2.921\"]\n",
    "        )"
   ]
  },
  {
   "cell_type": "code",
   "execution_count": 11,
   "metadata": {},
   "outputs": [
    {
     "output_type": "error",
     "ename": "NameError",
     "evalue": "name 'predictions' is not defined",
     "traceback": [
      "\u001b[1;31m---------------------------------------------------------------------------\u001b[0m",
      "\u001b[1;31mNameError\u001b[0m                                 Traceback (most recent call last)",
      "\u001b[1;32m<ipython-input-11-fd2951b82103>\u001b[0m in \u001b[0;36m<module>\u001b[1;34m\u001b[0m\n\u001b[1;32m----> 1\u001b[1;33m \u001b[0mpredictions\u001b[0m\u001b[1;33m\u001b[0m\u001b[1;33m\u001b[0m\u001b[0m\n\u001b[0m",
      "\u001b[1;31mNameError\u001b[0m: name 'predictions' is not defined"
     ]
    }
   ],
   "source": [
    "predictions"
   ]
  },
  {
   "cell_type": "code",
   "execution_count": null,
   "metadata": {},
   "outputs": [],
   "source": []
  }
 ]
}