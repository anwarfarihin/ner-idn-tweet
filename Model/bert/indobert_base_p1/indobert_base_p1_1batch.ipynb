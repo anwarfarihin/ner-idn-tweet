{
 "metadata": {
  "language_info": {
   "codemirror_mode": {
    "name": "ipython",
    "version": 3
   },
   "file_extension": ".py",
   "mimetype": "text/x-python",
   "name": "python",
   "nbconvert_exporter": "python",
   "pygments_lexer": "ipython3",
   "version": "3.7.9"
  },
  "orig_nbformat": 4,
  "kernelspec": {
   "name": "python3",
   "display_name": "Python 3.7.9 64-bit ('env': venv)"
  },
  "interpreter": {
   "hash": "95f69f4171822e9a0d4258a52ad5b962ce921882fa0fb93c07eb68a8992e9dab"
  }
 },
 "nbformat": 4,
 "nbformat_minor": 2,
 "cells": [
  {
   "cell_type": "code",
   "execution_count": 2,
   "metadata": {},
   "outputs": [
    {
     "output_type": "stream",
     "name": "stderr",
     "text": [
      "d:\\Drive\\KULEEAH\\Semester 8\\TA Farihin\\env\\lib\\site-packages\\torchaudio\\backend\\utils.py:67: UserWarning: No audio backend is available.\n  warnings.warn('No audio backend is available.')\n"
     ]
    }
   ],
   "source": [
    "import sklearn\n",
    "import pandas as pd\n",
    "\n",
    "import logging\n",
    "\n",
    "import torch\n",
    "cuda_available = torch.cuda.is_available()\n",
    "\n",
    "from simpletransformers.ner import NERModel, NERArgs"
   ]
  },
  {
   "cell_type": "code",
   "execution_count": 5,
   "metadata": {},
   "outputs": [],
   "source": [
    "train_df=pd.read_csv(\"D:\\Drive\\KULEEAH\\Semester 8\\TA Farihin\\Dataset\\\\bert\\\\train.csv\")\n",
    "eval_df=pd.read_csv(\"D:\\Drive\\KULEEAH\\Semester 8\\TA Farihin\\Dataset\\\\bert\\\\val.csv\")"
   ]
  },
  {
   "cell_type": "code",
   "execution_count": 6,
   "metadata": {},
   "outputs": [],
   "source": [
    "model_name='indobenchmark/indobert-base-p1'"
   ]
  },
  {
   "cell_type": "code",
   "execution_count": 7,
   "metadata": {},
   "outputs": [
    {
     "output_type": "execute_result",
     "data": {
      "text/plain": [
       "               sentence_id    words labels\n",
       "0      1382601382042103808    Hidup      O\n",
       "1      1382601382042103808  sesedih      O\n",
       "2      1382601382042103808      dan      O\n",
       "3      1382601382042103808  secaper      O\n",
       "4      1382601382042103808      apa      O\n",
       "...                    ...      ...    ...\n",
       "50005  1383190790147436548      gak      O\n",
       "50006  1383190790147436548      ada      O\n",
       "50007  1383190790147436548    kelas      O\n",
       "50008  1383190790147436548        .      O\n",
       "50009  1383190790147436548   aamiin      O\n",
       "\n",
       "[50010 rows x 3 columns]"
      ],
      "text/html": "<div>\n<style scoped>\n    .dataframe tbody tr th:only-of-type {\n        vertical-align: middle;\n    }\n\n    .dataframe tbody tr th {\n        vertical-align: top;\n    }\n\n    .dataframe thead th {\n        text-align: right;\n    }\n</style>\n<table border=\"1\" class=\"dataframe\">\n  <thead>\n    <tr style=\"text-align: right;\">\n      <th></th>\n      <th>sentence_id</th>\n      <th>words</th>\n      <th>labels</th>\n    </tr>\n  </thead>\n  <tbody>\n    <tr>\n      <th>0</th>\n      <td>1382601382042103808</td>\n      <td>Hidup</td>\n      <td>O</td>\n    </tr>\n    <tr>\n      <th>1</th>\n      <td>1382601382042103808</td>\n      <td>sesedih</td>\n      <td>O</td>\n    </tr>\n    <tr>\n      <th>2</th>\n      <td>1382601382042103808</td>\n      <td>dan</td>\n      <td>O</td>\n    </tr>\n    <tr>\n      <th>3</th>\n      <td>1382601382042103808</td>\n      <td>secaper</td>\n      <td>O</td>\n    </tr>\n    <tr>\n      <th>4</th>\n      <td>1382601382042103808</td>\n      <td>apa</td>\n      <td>O</td>\n    </tr>\n    <tr>\n      <th>...</th>\n      <td>...</td>\n      <td>...</td>\n      <td>...</td>\n    </tr>\n    <tr>\n      <th>50005</th>\n      <td>1383190790147436548</td>\n      <td>gak</td>\n      <td>O</td>\n    </tr>\n    <tr>\n      <th>50006</th>\n      <td>1383190790147436548</td>\n      <td>ada</td>\n      <td>O</td>\n    </tr>\n    <tr>\n      <th>50007</th>\n      <td>1383190790147436548</td>\n      <td>kelas</td>\n      <td>O</td>\n    </tr>\n    <tr>\n      <th>50008</th>\n      <td>1383190790147436548</td>\n      <td>.</td>\n      <td>O</td>\n    </tr>\n    <tr>\n      <th>50009</th>\n      <td>1383190790147436548</td>\n      <td>aamiin</td>\n      <td>O</td>\n    </tr>\n  </tbody>\n</table>\n<p>50010 rows × 3 columns</p>\n</div>"
     },
     "metadata": {},
     "execution_count": 7
    }
   ],
   "source": [
    "train_df=train_df[:50010]\n",
    "train_df"
   ]
  },
  {
   "cell_type": "code",
   "execution_count": 8,
   "metadata": {},
   "outputs": [
    {
     "output_type": "execute_result",
     "data": {
      "text/plain": [
       "               sentence_id          words labels\n",
       "0      1385573262067847169         Nadiem  B-PER\n",
       "1      1385573262067847169        Makarim  I-PER\n",
       "2      1385573262067847169             dg      O\n",
       "3      1385573262067847169       Presiden      O\n",
       "4      1385573262067847169           ke-5      O\n",
       "...                    ...            ...    ...\n",
       "27206  1382913410749190149            aku      O\n",
       "27207  1383795163412058114        ekonomi      O\n",
       "27208  1383795163412058114              ,      O\n",
       "27209  1383795163412058114  infrastruktur      O\n",
       "27210  1383795163412058114              ,      O\n",
       "\n",
       "[27211 rows x 3 columns]"
      ],
      "text/html": "<div>\n<style scoped>\n    .dataframe tbody tr th:only-of-type {\n        vertical-align: middle;\n    }\n\n    .dataframe tbody tr th {\n        vertical-align: top;\n    }\n\n    .dataframe thead th {\n        text-align: right;\n    }\n</style>\n<table border=\"1\" class=\"dataframe\">\n  <thead>\n    <tr style=\"text-align: right;\">\n      <th></th>\n      <th>sentence_id</th>\n      <th>words</th>\n      <th>labels</th>\n    </tr>\n  </thead>\n  <tbody>\n    <tr>\n      <th>0</th>\n      <td>1385573262067847169</td>\n      <td>Nadiem</td>\n      <td>B-PER</td>\n    </tr>\n    <tr>\n      <th>1</th>\n      <td>1385573262067847169</td>\n      <td>Makarim</td>\n      <td>I-PER</td>\n    </tr>\n    <tr>\n      <th>2</th>\n      <td>1385573262067847169</td>\n      <td>dg</td>\n      <td>O</td>\n    </tr>\n    <tr>\n      <th>3</th>\n      <td>1385573262067847169</td>\n      <td>Presiden</td>\n      <td>O</td>\n    </tr>\n    <tr>\n      <th>4</th>\n      <td>1385573262067847169</td>\n      <td>ke-5</td>\n      <td>O</td>\n    </tr>\n    <tr>\n      <th>...</th>\n      <td>...</td>\n      <td>...</td>\n      <td>...</td>\n    </tr>\n    <tr>\n      <th>27206</th>\n      <td>1382913410749190149</td>\n      <td>aku</td>\n      <td>O</td>\n    </tr>\n    <tr>\n      <th>27207</th>\n      <td>1383795163412058114</td>\n      <td>ekonomi</td>\n      <td>O</td>\n    </tr>\n    <tr>\n      <th>27208</th>\n      <td>1383795163412058114</td>\n      <td>,</td>\n      <td>O</td>\n    </tr>\n    <tr>\n      <th>27209</th>\n      <td>1383795163412058114</td>\n      <td>infrastruktur</td>\n      <td>O</td>\n    </tr>\n    <tr>\n      <th>27210</th>\n      <td>1383795163412058114</td>\n      <td>,</td>\n      <td>O</td>\n    </tr>\n  </tbody>\n</table>\n<p>27211 rows × 3 columns</p>\n</div>"
     },
     "metadata": {},
     "execution_count": 8
    }
   ],
   "source": [
    "eval_df"
   ]
  },
  {
   "cell_type": "code",
   "execution_count": 9,
   "metadata": {},
   "outputs": [],
   "source": [
    "label_list = [\n",
    "    \"O\", \n",
    "    \"B-PER\", \"I-PER\",\n",
    "    \"B-ORG\", \"I-ORG\",\n",
    "    \"B-LOC\", \"I-LOC\",\n",
    "    \"B-PROD\", \"I-PROD\",\n",
    "    \"B-WA\", \"I-WA\",\n",
    "    \"B-EV\", \"I-EV\",\n",
    "]"
   ]
  },
  {
   "cell_type": "code",
   "execution_count": 10,
   "metadata": {
    "tags": []
   },
   "outputs": [],
   "source": [
    "# Create a NERModel\n",
    "model_args=NERArgs()\n",
    "# model_args.train_batch_size=64\n",
    "# model_args.overwrite_output_dir=True\n",
    "model_args = {\n",
    "    \"output_dir\": \"outputs/\",\n",
    "    \"cache_dir\": \"cache_dir/\",\n",
    "\n",
    "    \"fp16\": True,\n",
    "    \"fp16_opt_level\": \"O1\",\n",
    "    \"max_seq_length\": 128,\n",
    "    \"train_batch_size\": 8,\n",
    "    \"gradient_accumulation_steps\": 1,\n",
    "    \"eval_batch_size\": 8,\n",
    "    # \"num_train_epochs\": 1,\n",
    "    \"num_train_epochs\": 5,\n",
    "    \"weight_decay\": 0,\n",
    "    # \"learning_rate\": 4e-5,\n",
    "    \"learning_rate\": 0.00006828,\n",
    "\n",
    "    \"adam_epsilon\": 1e-8,\n",
    "    \"warmup_ratio\": 0.06,\n",
    "    \"warmup_steps\": 0,\n",
    "    \"max_grad_norm\": 1.0,\n",
    "\n",
    "    \"logging_steps\": 50,\n",
    "    \"save_steps\": 2000,\n",
    "\n",
    "    \"overwrite_output_dir\": True,\n",
    "    \"reprocess_input_data\": False,\n",
    "    \"evaluate_during_training\": True,\n",
    "}\n"
   ]
  },
  {
   "cell_type": "code",
   "execution_count": 11,
   "metadata": {},
   "outputs": [],
   "source": [
    "# model = NERModel('bert', \n",
    "#                 'outputs',\n",
    "#                 args=model_args,\n",
    "#                 labels=label_list,\n",
    "#                 use_cuda=cuda_available,\n",
    "#                 )\n",
    "# result, model_outputs, wrong_preds = model.eval_model(eval_df)\n",
    "# result"
   ]
  },
  {
   "cell_type": "code",
   "execution_count": 12,
   "metadata": {},
   "outputs": [
    {
     "output_type": "stream",
     "name": "stderr",
     "text": [
      "Downloading: 100%|██████████| 1.53k/1.53k [00:00<00:00, 1.53MB/s]\n",
      "Downloading: 100%|██████████| 498M/498M [01:11<00:00, 7.00MB/s]\n",
      "Some weights of BertForTokenClassification were not initialized from the model checkpoint at indobenchmark/indobert-base-p1 and are newly initialized: ['classifier.weight', 'classifier.bias']\n",
      "You should probably TRAIN this model on a down-stream task to be able to use it for predictions and inference.\n",
      "Downloading: 100%|██████████| 229k/229k [00:00<00:00, 511kB/s]\n",
      "Downloading: 100%|██████████| 112/112 [00:00<00:00, 112kB/s]\n",
      "Downloading: 100%|██████████| 2.00/2.00 [00:00<00:00, 1.00kB/s]\n"
     ]
    }
   ],
   "source": [
    "model = NERModel('bert', \n",
    "                model_name,\n",
    "                args=model_args,\n",
    "                labels=label_list,\n",
    "                use_cuda=cuda_available,\n",
    "                )"
   ]
  },
  {
   "cell_type": "code",
   "execution_count": 13,
   "metadata": {
    "tags": [
     "outputPrepend"
    ]
   },
   "outputs": [
    {
     "output_type": "stream",
     "name": "stderr",
     "text": [
      "5%|███████▍  | 201/269 [00:28<00:09,  6.97it/s]\u001b[A\n",
      "Running Evaluation:  75%|███████▌  | 202/269 [00:28<00:09,  6.99it/s]\u001b[A\n",
      "Running Evaluation:  75%|███████▌  | 203/269 [00:28<00:09,  6.92it/s]\u001b[A\n",
      "Running Evaluation:  76%|███████▌  | 204/269 [00:28<00:09,  6.95it/s]\u001b[A\n",
      "Running Evaluation:  76%|███████▌  | 205/269 [00:29<00:09,  6.98it/s]\u001b[A\n",
      "Running Evaluation:  77%|███████▋  | 206/269 [00:29<00:09,  7.00it/s]\u001b[A\n",
      "Running Evaluation:  77%|███████▋  | 207/269 [00:29<00:08,  6.99it/s]\u001b[A\n",
      "Running Evaluation:  77%|███████▋  | 208/269 [00:29<00:08,  6.99it/s]\u001b[A\n",
      "Running Evaluation:  78%|███████▊  | 209/269 [00:29<00:08,  6.99it/s]\u001b[A\n",
      "Running Evaluation:  78%|███████▊  | 210/269 [00:29<00:08,  6.97it/s]\u001b[A\n",
      "Running Evaluation:  78%|███████▊  | 211/269 [00:29<00:08,  7.01it/s]\u001b[A\n",
      "Running Evaluation:  79%|███████▉  | 212/269 [00:30<00:08,  7.00it/s]\u001b[A\n",
      "Running Evaluation:  79%|███████▉  | 213/269 [00:30<00:08,  7.00it/s]\u001b[A\n",
      "Running Evaluation:  80%|███████▉  | 214/269 [00:30<00:07,  6.97it/s]\u001b[A\n",
      "Running Evaluation:  80%|███████▉  | 215/269 [00:30<00:07,  6.99it/s]\u001b[A\n",
      "Running Evaluation:  80%|████████  | 216/269 [00:30<00:07,  6.97it/s]\u001b[A\n",
      "Running Evaluation:  81%|████████  | 217/269 [00:30<00:07,  7.00it/s]\u001b[A\n",
      "Running Evaluation:  81%|████████  | 218/269 [00:30<00:07,  7.01it/s]\u001b[A\n",
      "Running Evaluation:  81%|████████▏ | 219/269 [00:31<00:07,  6.98it/s]\u001b[A\n",
      "Running Evaluation:  82%|████████▏ | 220/269 [00:31<00:07,  7.00it/s]\u001b[A\n",
      "Running Evaluation:  82%|████████▏ | 221/269 [00:31<00:06,  6.99it/s]\u001b[A\n",
      "Running Evaluation:  83%|████████▎ | 222/269 [00:31<00:06,  6.99it/s]\u001b[A\n",
      "Running Evaluation:  83%|████████▎ | 223/269 [00:31<00:06,  6.99it/s]\u001b[A\n",
      "Running Evaluation:  83%|████████▎ | 224/269 [00:31<00:06,  7.00it/s]\u001b[A\n",
      "Running Evaluation:  84%|████████▎ | 225/269 [00:31<00:06,  6.99it/s]\u001b[A\n",
      "Running Evaluation:  84%|████████▍ | 226/269 [00:32<00:06,  6.98it/s]\u001b[A\n",
      "Running Evaluation:  84%|████████▍ | 227/269 [00:32<00:06,  6.96it/s]\u001b[A\n",
      "Running Evaluation:  85%|████████▍ | 228/269 [00:32<00:05,  6.99it/s]\u001b[A\n",
      "Running Evaluation:  85%|████████▌ | 229/269 [00:32<00:05,  6.99it/s]\u001b[A\n",
      "Running Evaluation:  86%|████████▌ | 230/269 [00:32<00:05,  6.97it/s]\u001b[A\n",
      "Running Evaluation:  86%|████████▌ | 231/269 [00:32<00:05,  6.99it/s]\u001b[A\n",
      "Running Evaluation:  86%|████████▌ | 232/269 [00:33<00:05,  7.00it/s]\u001b[A\n",
      "Running Evaluation:  87%|████████▋ | 233/269 [00:33<00:05,  7.00it/s]\u001b[A\n",
      "Running Evaluation:  87%|████████▋ | 234/269 [00:33<00:05,  6.99it/s]\u001b[A\n",
      "Running Evaluation:  87%|████████▋ | 235/269 [00:33<00:04,  6.99it/s]\u001b[A\n",
      "Running Evaluation:  88%|████████▊ | 236/269 [00:33<00:04,  6.96it/s]\u001b[A\n",
      "Running Evaluation:  88%|████████▊ | 237/269 [00:33<00:04,  6.98it/s]\u001b[A\n",
      "Running Evaluation:  88%|████████▊ | 238/269 [00:33<00:04,  7.00it/s]\u001b[A\n",
      "Running Evaluation:  89%|████████▉ | 239/269 [00:34<00:04,  6.99it/s]\u001b[A\n",
      "Running Evaluation:  89%|████████▉ | 240/269 [00:34<00:04,  7.02it/s]\u001b[A\n",
      "Running Evaluation:  90%|████████▉ | 241/269 [00:34<00:04,  6.98it/s]\u001b[A\n",
      "Running Evaluation:  90%|████████▉ | 242/269 [00:34<00:03,  6.98it/s]\u001b[A\n",
      "Running Evaluation:  90%|█████████ | 243/269 [00:34<00:03,  6.97it/s]\u001b[A\n",
      "Running Evaluation:  91%|█████████ | 244/269 [00:34<00:03,  6.97it/s]\u001b[A\n",
      "Running Evaluation:  91%|█████████ | 245/269 [00:34<00:03,  6.98it/s]\u001b[A\n",
      "Running Evaluation:  91%|█████████▏| 246/269 [00:35<00:03,  6.97it/s]\u001b[A\n",
      "Running Evaluation:  92%|█████████▏| 247/269 [00:35<00:03,  6.93it/s]\u001b[A\n",
      "Running Evaluation:  92%|█████████▏| 248/269 [00:35<00:03,  6.94it/s]\u001b[A\n",
      "Running Evaluation:  93%|█████████▎| 249/269 [00:35<00:02,  6.90it/s]\u001b[A\n",
      "Running Evaluation:  93%|█████████▎| 250/269 [00:35<00:02,  6.88it/s]\u001b[A\n",
      "Running Evaluation:  93%|█████████▎| 251/269 [00:35<00:02,  6.91it/s]\u001b[A\n",
      "Running Evaluation:  94%|█████████▎| 252/269 [00:35<00:02,  6.87it/s]\u001b[A\n",
      "Running Evaluation:  94%|█████████▍| 253/269 [00:36<00:02,  6.85it/s]\u001b[A\n",
      "Running Evaluation:  94%|█████████▍| 254/269 [00:36<00:02,  6.85it/s]\u001b[A\n",
      "Running Evaluation:  95%|█████████▍| 255/269 [00:36<00:02,  6.83it/s]\u001b[A\n",
      "Running Evaluation:  95%|█████████▌| 256/269 [00:36<00:01,  6.84it/s]\u001b[A\n",
      "Running Evaluation:  96%|█████████▌| 257/269 [00:36<00:01,  6.88it/s]\u001b[A\n",
      "Running Evaluation:  96%|█████████▌| 258/269 [00:36<00:01,  6.86it/s]\u001b[A\n",
      "Running Evaluation:  96%|█████████▋| 259/269 [00:36<00:01,  6.90it/s]\u001b[A\n",
      "Running Evaluation:  97%|█████████▋| 260/269 [00:37<00:01,  6.94it/s]\u001b[A\n",
      "Running Evaluation:  97%|█████████▋| 261/269 [00:37<00:01,  6.97it/s]\u001b[A\n",
      "Running Evaluation:  97%|█████████▋| 262/269 [00:37<00:01,  6.96it/s]\u001b[A\n",
      "Running Evaluation:  98%|█████████▊| 263/269 [00:37<00:00,  6.95it/s]\u001b[A\n",
      "Running Evaluation:  98%|█████████▊| 264/269 [00:37<00:00,  6.96it/s]\u001b[A\n",
      "Running Evaluation:  99%|█████████▊| 265/269 [00:37<00:00,  6.98it/s]\u001b[A\n",
      "Running Evaluation:  99%|█████████▉| 266/269 [00:37<00:00,  7.00it/s]\u001b[A\n",
      "Running Evaluation:  99%|█████████▉| 267/269 [00:38<00:00,  6.98it/s]\u001b[A\n",
      "Running Evaluation: 100%|██████████| 269/269 [00:38<00:00,  7.03it/s]\n",
      "Epoch 5 of 5: 100%|██████████| 5/5 [19:47<00:00, 237.50s/it]\n"
     ]
    },
    {
     "output_type": "execute_result",
     "data": {
      "text/plain": [
       "(1655,\n",
       " {'global_step': [331, 662, 993, 1324, 1655],\n",
       "  'precision': [0.40406199893105293,\n",
       "   0.5975885455915599,\n",
       "   0.49725877192982454,\n",
       "   0.5049614112458655,\n",
       "   0.4662062160828811],\n",
       "  'recall': [0.31513130471029593,\n",
       "   0.33055439766569406,\n",
       "   0.37807419758232597,\n",
       "   0.381825760733639,\n",
       "   0.39391413088787],\n",
       "  'f1_score': [0.3540983606557377,\n",
       "   0.4256575415995706,\n",
       "   0.42955245086431443,\n",
       "   0.4348445288393069,\n",
       "   0.42702214188883875],\n",
       "  'train_loss': [0.23670782148838043,\n",
       "   0.3062273859977722,\n",
       "   0.3274454176425934,\n",
       "   0.1139688491821289,\n",
       "   0.09195061028003693],\n",
       "  'eval_loss': [0.39475337107108427,\n",
       "   0.3689894939783171,\n",
       "   0.3917813096126216,\n",
       "   0.42396253319699523,\n",
       "   0.47773986960480813]})"
      ]
     },
     "metadata": {},
     "execution_count": 13
    }
   ],
   "source": [
    "model.train_model(train_df,  eval_data=eval_df)"
   ]
  },
  {
   "cell_type": "code",
   "execution_count": 14,
   "metadata": {},
   "outputs": [
    {
     "output_type": "stream",
     "name": "stderr",
     "text": [
      "Running Evaluation: 100%|██████████| 269/269 [00:37<00:00,  7.10it/s]\n"
     ]
    }
   ],
   "source": [
    "result, model_outputs, wrong_preds = model.eval_model(eval_df)"
   ]
  },
  {
   "cell_type": "code",
   "execution_count": 15,
   "metadata": {},
   "outputs": [
    {
     "output_type": "execute_result",
     "data": {
      "text/plain": [
       "{'eval_loss': 0.47773986960480813,\n",
       " 'precision': 0.4662062160828811,\n",
       " 'recall': 0.39391413088787,\n",
       " 'f1_score': 0.42702214188883875}"
      ]
     },
     "metadata": {},
     "execution_count": 15
    }
   ],
   "source": [
    "result"
   ]
  },
  {
   "cell_type": "code",
   "execution_count": 16,
   "metadata": {},
   "outputs": [
    {
     "output_type": "stream",
     "name": "stderr",
     "text": [
      "Running Evaluation: 100%|██████████| 269/269 [00:37<00:00,  7.10it/s]\n"
     ]
    },
    {
     "output_type": "error",
     "ename": "ValueError",
     "evalue": "You appear to be using a legacy multi-label data representation. Sequence of sequences are no longer supported; use a binary array or sparse matrix instead - the MultiLabelBinarizer transformer can convert to this format.",
     "traceback": [
      "\u001b[1;31m---------------------------------------------------------------------------\u001b[0m",
      "\u001b[1;31mValueError\u001b[0m                                Traceback (most recent call last)",
      "\u001b[1;32m~\\AppData\\Local\\Temp/ipykernel_20448/266181833.py\u001b[0m in \u001b[0;36m<module>\u001b[1;34m\u001b[0m\n\u001b[0;32m      7\u001b[0m     \u001b[1;32mreturn\u001b[0m \u001b[0mf1_score\u001b[0m\u001b[1;33m(\u001b[0m\u001b[0mlabels\u001b[0m\u001b[1;33m,\u001b[0m \u001b[0mpreds\u001b[0m\u001b[1;33m,\u001b[0m \u001b[0maverage\u001b[0m\u001b[1;33m=\u001b[0m\u001b[1;34m'micro'\u001b[0m\u001b[1;33m)\u001b[0m\u001b[1;33m\u001b[0m\u001b[1;33m\u001b[0m\u001b[0m\n\u001b[0;32m      8\u001b[0m \u001b[1;33m\u001b[0m\u001b[0m\n\u001b[1;32m----> 9\u001b[1;33m \u001b[0mresult\u001b[0m\u001b[1;33m,\u001b[0m \u001b[0mmodel_outputs\u001b[0m\u001b[1;33m,\u001b[0m \u001b[0mwrong_predictions\u001b[0m \u001b[1;33m=\u001b[0m \u001b[0mmodel\u001b[0m\u001b[1;33m.\u001b[0m\u001b[0meval_model\u001b[0m\u001b[1;33m(\u001b[0m\u001b[0meval_df\u001b[0m\u001b[1;33m,\u001b[0m \u001b[0mf1\u001b[0m\u001b[1;33m=\u001b[0m\u001b[0mf1_multiclass\u001b[0m\u001b[1;33m,\u001b[0m \u001b[0macc\u001b[0m\u001b[1;33m=\u001b[0m\u001b[0maccuracy_score\u001b[0m\u001b[1;33m)\u001b[0m\u001b[1;33m\u001b[0m\u001b[1;33m\u001b[0m\u001b[0m\n\u001b[0m",
      "\u001b[1;32md:\\Drive\\KULEEAH\\Semester 8\\TA Farihin\\env\\lib\\site-packages\\simpletransformers\\ner\\ner_model.py\u001b[0m in \u001b[0;36meval_model\u001b[1;34m(self, eval_data, output_dir, verbose, silent, wandb_log, **kwargs)\u001b[0m\n\u001b[0;32m   1111\u001b[0m             \u001b[0msilent\u001b[0m\u001b[1;33m=\u001b[0m\u001b[0msilent\u001b[0m\u001b[1;33m,\u001b[0m\u001b[1;33m\u001b[0m\u001b[1;33m\u001b[0m\u001b[0m\n\u001b[0;32m   1112\u001b[0m             \u001b[0mwandb_log\u001b[0m\u001b[1;33m=\u001b[0m\u001b[0mwandb_log\u001b[0m\u001b[1;33m,\u001b[0m\u001b[1;33m\u001b[0m\u001b[1;33m\u001b[0m\u001b[0m\n\u001b[1;32m-> 1113\u001b[1;33m             \u001b[1;33m**\u001b[0m\u001b[0mkwargs\u001b[0m\u001b[1;33m,\u001b[0m\u001b[1;33m\u001b[0m\u001b[1;33m\u001b[0m\u001b[0m\n\u001b[0m\u001b[0;32m   1114\u001b[0m         )\n\u001b[0;32m   1115\u001b[0m         \u001b[0mself\u001b[0m\u001b[1;33m.\u001b[0m\u001b[0mresults\u001b[0m\u001b[1;33m.\u001b[0m\u001b[0mupdate\u001b[0m\u001b[1;33m(\u001b[0m\u001b[0mresult\u001b[0m\u001b[1;33m)\u001b[0m\u001b[1;33m\u001b[0m\u001b[1;33m\u001b[0m\u001b[0m\n",
      "\u001b[1;32md:\\Drive\\KULEEAH\\Semester 8\\TA Farihin\\env\\lib\\site-packages\\simpletransformers\\ner\\ner_model.py\u001b[0m in \u001b[0;36mevaluate\u001b[1;34m(self, eval_dataset, output_dir, verbose, silent, wandb_log, **kwargs)\u001b[0m\n\u001b[0;32m   1230\u001b[0m         \u001b[0mextra_metrics\u001b[0m \u001b[1;33m=\u001b[0m \u001b[1;33m{\u001b[0m\u001b[1;33m}\u001b[0m\u001b[1;33m\u001b[0m\u001b[1;33m\u001b[0m\u001b[0m\n\u001b[0;32m   1231\u001b[0m         \u001b[1;32mfor\u001b[0m \u001b[0mmetric\u001b[0m\u001b[1;33m,\u001b[0m \u001b[0mfunc\u001b[0m \u001b[1;32min\u001b[0m \u001b[0mkwargs\u001b[0m\u001b[1;33m.\u001b[0m\u001b[0mitems\u001b[0m\u001b[1;33m(\u001b[0m\u001b[1;33m)\u001b[0m\u001b[1;33m:\u001b[0m\u001b[1;33m\u001b[0m\u001b[1;33m\u001b[0m\u001b[0m\n\u001b[1;32m-> 1232\u001b[1;33m             \u001b[0mextra_metrics\u001b[0m\u001b[1;33m[\u001b[0m\u001b[0mmetric\u001b[0m\u001b[1;33m]\u001b[0m \u001b[1;33m=\u001b[0m \u001b[0mfunc\u001b[0m\u001b[1;33m(\u001b[0m\u001b[0mout_label_list\u001b[0m\u001b[1;33m,\u001b[0m \u001b[0mpreds_list\u001b[0m\u001b[1;33m)\u001b[0m\u001b[1;33m\u001b[0m\u001b[1;33m\u001b[0m\u001b[0m\n\u001b[0m\u001b[0;32m   1233\u001b[0m \u001b[1;33m\u001b[0m\u001b[0m\n\u001b[0;32m   1234\u001b[0m         result = {\n",
      "\u001b[1;32m~\\AppData\\Local\\Temp/ipykernel_20448/266181833.py\u001b[0m in \u001b[0;36mf1_multiclass\u001b[1;34m(labels, preds)\u001b[0m\n\u001b[0;32m      5\u001b[0m \u001b[1;33m\u001b[0m\u001b[0m\n\u001b[0;32m      6\u001b[0m \u001b[1;32mdef\u001b[0m \u001b[0mf1_multiclass\u001b[0m\u001b[1;33m(\u001b[0m\u001b[0mlabels\u001b[0m\u001b[1;33m,\u001b[0m \u001b[0mpreds\u001b[0m\u001b[1;33m)\u001b[0m\u001b[1;33m:\u001b[0m\u001b[1;33m\u001b[0m\u001b[1;33m\u001b[0m\u001b[0m\n\u001b[1;32m----> 7\u001b[1;33m     \u001b[1;32mreturn\u001b[0m \u001b[0mf1_score\u001b[0m\u001b[1;33m(\u001b[0m\u001b[0mlabels\u001b[0m\u001b[1;33m,\u001b[0m \u001b[0mpreds\u001b[0m\u001b[1;33m,\u001b[0m \u001b[0maverage\u001b[0m\u001b[1;33m=\u001b[0m\u001b[1;34m'micro'\u001b[0m\u001b[1;33m)\u001b[0m\u001b[1;33m\u001b[0m\u001b[1;33m\u001b[0m\u001b[0m\n\u001b[0m\u001b[0;32m      8\u001b[0m \u001b[1;33m\u001b[0m\u001b[0m\n\u001b[0;32m      9\u001b[0m \u001b[0mresult\u001b[0m\u001b[1;33m,\u001b[0m \u001b[0mmodel_outputs\u001b[0m\u001b[1;33m,\u001b[0m \u001b[0mwrong_predictions\u001b[0m \u001b[1;33m=\u001b[0m \u001b[0mmodel\u001b[0m\u001b[1;33m.\u001b[0m\u001b[0meval_model\u001b[0m\u001b[1;33m(\u001b[0m\u001b[0meval_df\u001b[0m\u001b[1;33m,\u001b[0m \u001b[0mf1\u001b[0m\u001b[1;33m=\u001b[0m\u001b[0mf1_multiclass\u001b[0m\u001b[1;33m,\u001b[0m \u001b[0macc\u001b[0m\u001b[1;33m=\u001b[0m\u001b[0maccuracy_score\u001b[0m\u001b[1;33m)\u001b[0m\u001b[1;33m\u001b[0m\u001b[1;33m\u001b[0m\u001b[0m\n",
      "\u001b[1;32md:\\Drive\\KULEEAH\\Semester 8\\TA Farihin\\env\\lib\\site-packages\\sklearn\\utils\\validation.py\u001b[0m in \u001b[0;36minner_f\u001b[1;34m(*args, **kwargs)\u001b[0m\n\u001b[0;32m     61\u001b[0m             \u001b[0mextra_args\u001b[0m \u001b[1;33m=\u001b[0m \u001b[0mlen\u001b[0m\u001b[1;33m(\u001b[0m\u001b[0margs\u001b[0m\u001b[1;33m)\u001b[0m \u001b[1;33m-\u001b[0m \u001b[0mlen\u001b[0m\u001b[1;33m(\u001b[0m\u001b[0mall_args\u001b[0m\u001b[1;33m)\u001b[0m\u001b[1;33m\u001b[0m\u001b[1;33m\u001b[0m\u001b[0m\n\u001b[0;32m     62\u001b[0m             \u001b[1;32mif\u001b[0m \u001b[0mextra_args\u001b[0m \u001b[1;33m<=\u001b[0m \u001b[1;36m0\u001b[0m\u001b[1;33m:\u001b[0m\u001b[1;33m\u001b[0m\u001b[1;33m\u001b[0m\u001b[0m\n\u001b[1;32m---> 63\u001b[1;33m                 \u001b[1;32mreturn\u001b[0m \u001b[0mf\u001b[0m\u001b[1;33m(\u001b[0m\u001b[1;33m*\u001b[0m\u001b[0margs\u001b[0m\u001b[1;33m,\u001b[0m \u001b[1;33m**\u001b[0m\u001b[0mkwargs\u001b[0m\u001b[1;33m)\u001b[0m\u001b[1;33m\u001b[0m\u001b[1;33m\u001b[0m\u001b[0m\n\u001b[0m\u001b[0;32m     64\u001b[0m \u001b[1;33m\u001b[0m\u001b[0m\n\u001b[0;32m     65\u001b[0m             \u001b[1;31m# extra_args > 0\u001b[0m\u001b[1;33m\u001b[0m\u001b[1;33m\u001b[0m\u001b[1;33m\u001b[0m\u001b[0m\n",
      "\u001b[1;32md:\\Drive\\KULEEAH\\Semester 8\\TA Farihin\\env\\lib\\site-packages\\sklearn\\metrics\\_classification.py\u001b[0m in \u001b[0;36mf1_score\u001b[1;34m(y_true, y_pred, labels, pos_label, average, sample_weight, zero_division)\u001b[0m\n\u001b[0;32m   1072\u001b[0m                        \u001b[0mpos_label\u001b[0m\u001b[1;33m=\u001b[0m\u001b[0mpos_label\u001b[0m\u001b[1;33m,\u001b[0m \u001b[0maverage\u001b[0m\u001b[1;33m=\u001b[0m\u001b[0maverage\u001b[0m\u001b[1;33m,\u001b[0m\u001b[1;33m\u001b[0m\u001b[1;33m\u001b[0m\u001b[0m\n\u001b[0;32m   1073\u001b[0m                        \u001b[0msample_weight\u001b[0m\u001b[1;33m=\u001b[0m\u001b[0msample_weight\u001b[0m\u001b[1;33m,\u001b[0m\u001b[1;33m\u001b[0m\u001b[1;33m\u001b[0m\u001b[0m\n\u001b[1;32m-> 1074\u001b[1;33m                        zero_division=zero_division)\n\u001b[0m\u001b[0;32m   1075\u001b[0m \u001b[1;33m\u001b[0m\u001b[0m\n\u001b[0;32m   1076\u001b[0m \u001b[1;33m\u001b[0m\u001b[0m\n",
      "\u001b[1;32md:\\Drive\\KULEEAH\\Semester 8\\TA Farihin\\env\\lib\\site-packages\\sklearn\\utils\\validation.py\u001b[0m in \u001b[0;36minner_f\u001b[1;34m(*args, **kwargs)\u001b[0m\n\u001b[0;32m     61\u001b[0m             \u001b[0mextra_args\u001b[0m \u001b[1;33m=\u001b[0m \u001b[0mlen\u001b[0m\u001b[1;33m(\u001b[0m\u001b[0margs\u001b[0m\u001b[1;33m)\u001b[0m \u001b[1;33m-\u001b[0m \u001b[0mlen\u001b[0m\u001b[1;33m(\u001b[0m\u001b[0mall_args\u001b[0m\u001b[1;33m)\u001b[0m\u001b[1;33m\u001b[0m\u001b[1;33m\u001b[0m\u001b[0m\n\u001b[0;32m     62\u001b[0m             \u001b[1;32mif\u001b[0m \u001b[0mextra_args\u001b[0m \u001b[1;33m<=\u001b[0m \u001b[1;36m0\u001b[0m\u001b[1;33m:\u001b[0m\u001b[1;33m\u001b[0m\u001b[1;33m\u001b[0m\u001b[0m\n\u001b[1;32m---> 63\u001b[1;33m                 \u001b[1;32mreturn\u001b[0m \u001b[0mf\u001b[0m\u001b[1;33m(\u001b[0m\u001b[1;33m*\u001b[0m\u001b[0margs\u001b[0m\u001b[1;33m,\u001b[0m \u001b[1;33m**\u001b[0m\u001b[0mkwargs\u001b[0m\u001b[1;33m)\u001b[0m\u001b[1;33m\u001b[0m\u001b[1;33m\u001b[0m\u001b[0m\n\u001b[0m\u001b[0;32m     64\u001b[0m \u001b[1;33m\u001b[0m\u001b[0m\n\u001b[0;32m     65\u001b[0m             \u001b[1;31m# extra_args > 0\u001b[0m\u001b[1;33m\u001b[0m\u001b[1;33m\u001b[0m\u001b[1;33m\u001b[0m\u001b[0m\n",
      "\u001b[1;32md:\\Drive\\KULEEAH\\Semester 8\\TA Farihin\\env\\lib\\site-packages\\sklearn\\metrics\\_classification.py\u001b[0m in \u001b[0;36mfbeta_score\u001b[1;34m(y_true, y_pred, beta, labels, pos_label, average, sample_weight, zero_division)\u001b[0m\n\u001b[0;32m   1200\u001b[0m                                                  \u001b[0mwarn_for\u001b[0m\u001b[1;33m=\u001b[0m\u001b[1;33m(\u001b[0m\u001b[1;34m'f-score'\u001b[0m\u001b[1;33m,\u001b[0m\u001b[1;33m)\u001b[0m\u001b[1;33m,\u001b[0m\u001b[1;33m\u001b[0m\u001b[1;33m\u001b[0m\u001b[0m\n\u001b[0;32m   1201\u001b[0m                                                  \u001b[0msample_weight\u001b[0m\u001b[1;33m=\u001b[0m\u001b[0msample_weight\u001b[0m\u001b[1;33m,\u001b[0m\u001b[1;33m\u001b[0m\u001b[1;33m\u001b[0m\u001b[0m\n\u001b[1;32m-> 1202\u001b[1;33m                                                  zero_division=zero_division)\n\u001b[0m\u001b[0;32m   1203\u001b[0m     \u001b[1;32mreturn\u001b[0m \u001b[0mf\u001b[0m\u001b[1;33m\u001b[0m\u001b[1;33m\u001b[0m\u001b[0m\n\u001b[0;32m   1204\u001b[0m \u001b[1;33m\u001b[0m\u001b[0m\n",
      "\u001b[1;32md:\\Drive\\KULEEAH\\Semester 8\\TA Farihin\\env\\lib\\site-packages\\sklearn\\utils\\validation.py\u001b[0m in \u001b[0;36minner_f\u001b[1;34m(*args, **kwargs)\u001b[0m\n\u001b[0;32m     61\u001b[0m             \u001b[0mextra_args\u001b[0m \u001b[1;33m=\u001b[0m \u001b[0mlen\u001b[0m\u001b[1;33m(\u001b[0m\u001b[0margs\u001b[0m\u001b[1;33m)\u001b[0m \u001b[1;33m-\u001b[0m \u001b[0mlen\u001b[0m\u001b[1;33m(\u001b[0m\u001b[0mall_args\u001b[0m\u001b[1;33m)\u001b[0m\u001b[1;33m\u001b[0m\u001b[1;33m\u001b[0m\u001b[0m\n\u001b[0;32m     62\u001b[0m             \u001b[1;32mif\u001b[0m \u001b[0mextra_args\u001b[0m \u001b[1;33m<=\u001b[0m \u001b[1;36m0\u001b[0m\u001b[1;33m:\u001b[0m\u001b[1;33m\u001b[0m\u001b[1;33m\u001b[0m\u001b[0m\n\u001b[1;32m---> 63\u001b[1;33m                 \u001b[1;32mreturn\u001b[0m \u001b[0mf\u001b[0m\u001b[1;33m(\u001b[0m\u001b[1;33m*\u001b[0m\u001b[0margs\u001b[0m\u001b[1;33m,\u001b[0m \u001b[1;33m**\u001b[0m\u001b[0mkwargs\u001b[0m\u001b[1;33m)\u001b[0m\u001b[1;33m\u001b[0m\u001b[1;33m\u001b[0m\u001b[0m\n\u001b[0m\u001b[0;32m     64\u001b[0m \u001b[1;33m\u001b[0m\u001b[0m\n\u001b[0;32m     65\u001b[0m             \u001b[1;31m# extra_args > 0\u001b[0m\u001b[1;33m\u001b[0m\u001b[1;33m\u001b[0m\u001b[1;33m\u001b[0m\u001b[0m\n",
      "\u001b[1;32md:\\Drive\\KULEEAH\\Semester 8\\TA Farihin\\env\\lib\\site-packages\\sklearn\\metrics\\_classification.py\u001b[0m in \u001b[0;36mprecision_recall_fscore_support\u001b[1;34m(y_true, y_pred, beta, labels, pos_label, average, warn_for, sample_weight, zero_division)\u001b[0m\n\u001b[0;32m   1463\u001b[0m         \u001b[1;32mraise\u001b[0m \u001b[0mValueError\u001b[0m\u001b[1;33m(\u001b[0m\u001b[1;34m\"beta should be >=0 in the F-beta score\"\u001b[0m\u001b[1;33m)\u001b[0m\u001b[1;33m\u001b[0m\u001b[1;33m\u001b[0m\u001b[0m\n\u001b[0;32m   1464\u001b[0m     labels = _check_set_wise_labels(y_true, y_pred, average, labels,\n\u001b[1;32m-> 1465\u001b[1;33m                                     pos_label)\n\u001b[0m\u001b[0;32m   1466\u001b[0m \u001b[1;33m\u001b[0m\u001b[0m\n\u001b[0;32m   1467\u001b[0m     \u001b[1;31m# Calculate tp_sum, pred_sum, true_sum ###\u001b[0m\u001b[1;33m\u001b[0m\u001b[1;33m\u001b[0m\u001b[1;33m\u001b[0m\u001b[0m\n",
      "\u001b[1;32md:\\Drive\\KULEEAH\\Semester 8\\TA Farihin\\env\\lib\\site-packages\\sklearn\\metrics\\_classification.py\u001b[0m in \u001b[0;36m_check_set_wise_labels\u001b[1;34m(y_true, y_pred, average, labels, pos_label)\u001b[0m\n\u001b[0;32m   1275\u001b[0m                          str(average_options))\n\u001b[0;32m   1276\u001b[0m \u001b[1;33m\u001b[0m\u001b[0m\n\u001b[1;32m-> 1277\u001b[1;33m     \u001b[0my_type\u001b[0m\u001b[1;33m,\u001b[0m \u001b[0my_true\u001b[0m\u001b[1;33m,\u001b[0m \u001b[0my_pred\u001b[0m \u001b[1;33m=\u001b[0m \u001b[0m_check_targets\u001b[0m\u001b[1;33m(\u001b[0m\u001b[0my_true\u001b[0m\u001b[1;33m,\u001b[0m \u001b[0my_pred\u001b[0m\u001b[1;33m)\u001b[0m\u001b[1;33m\u001b[0m\u001b[1;33m\u001b[0m\u001b[0m\n\u001b[0m\u001b[0;32m   1278\u001b[0m     \u001b[1;31m# Convert to Python primitive type to avoid NumPy type / Python str\u001b[0m\u001b[1;33m\u001b[0m\u001b[1;33m\u001b[0m\u001b[1;33m\u001b[0m\u001b[0m\n\u001b[0;32m   1279\u001b[0m     \u001b[1;31m# comparison. See https://github.com/numpy/numpy/issues/6784\u001b[0m\u001b[1;33m\u001b[0m\u001b[1;33m\u001b[0m\u001b[1;33m\u001b[0m\u001b[0m\n",
      "\u001b[1;32md:\\Drive\\KULEEAH\\Semester 8\\TA Farihin\\env\\lib\\site-packages\\sklearn\\metrics\\_classification.py\u001b[0m in \u001b[0;36m_check_targets\u001b[1;34m(y_true, y_pred)\u001b[0m\n\u001b[0;32m     82\u001b[0m     \"\"\"\n\u001b[0;32m     83\u001b[0m     \u001b[0mcheck_consistent_length\u001b[0m\u001b[1;33m(\u001b[0m\u001b[0my_true\u001b[0m\u001b[1;33m,\u001b[0m \u001b[0my_pred\u001b[0m\u001b[1;33m)\u001b[0m\u001b[1;33m\u001b[0m\u001b[1;33m\u001b[0m\u001b[0m\n\u001b[1;32m---> 84\u001b[1;33m     \u001b[0mtype_true\u001b[0m \u001b[1;33m=\u001b[0m \u001b[0mtype_of_target\u001b[0m\u001b[1;33m(\u001b[0m\u001b[0my_true\u001b[0m\u001b[1;33m)\u001b[0m\u001b[1;33m\u001b[0m\u001b[1;33m\u001b[0m\u001b[0m\n\u001b[0m\u001b[0;32m     85\u001b[0m     \u001b[0mtype_pred\u001b[0m \u001b[1;33m=\u001b[0m \u001b[0mtype_of_target\u001b[0m\u001b[1;33m(\u001b[0m\u001b[0my_pred\u001b[0m\u001b[1;33m)\u001b[0m\u001b[1;33m\u001b[0m\u001b[1;33m\u001b[0m\u001b[0m\n\u001b[0;32m     86\u001b[0m \u001b[1;33m\u001b[0m\u001b[0m\n",
      "\u001b[1;32md:\\Drive\\KULEEAH\\Semester 8\\TA Farihin\\env\\lib\\site-packages\\sklearn\\utils\\multiclass.py\u001b[0m in \u001b[0;36mtype_of_target\u001b[1;34m(y)\u001b[0m\n\u001b[0;32m    277\u001b[0m         if (not hasattr(y[0], '__array__') and isinstance(y[0], Sequence)\n\u001b[0;32m    278\u001b[0m                 and not isinstance(y[0], str)):\n\u001b[1;32m--> 279\u001b[1;33m             raise ValueError('You appear to be using a legacy multi-label data'\n\u001b[0m\u001b[0;32m    280\u001b[0m                              \u001b[1;34m' representation. Sequence of sequences are no'\u001b[0m\u001b[1;33m\u001b[0m\u001b[1;33m\u001b[0m\u001b[0m\n\u001b[0;32m    281\u001b[0m                              \u001b[1;34m' longer supported; use a binary array or sparse'\u001b[0m\u001b[1;33m\u001b[0m\u001b[1;33m\u001b[0m\u001b[0m\n",
      "\u001b[1;31mValueError\u001b[0m: You appear to be using a legacy multi-label data representation. Sequence of sequences are no longer supported; use a binary array or sparse matrix instead - the MultiLabelBinarizer transformer can convert to this format."
     ]
    }
   ],
   "source": [
    "# model.eval_model(eval_df, acc=sklearn.metrics.accuracy_score)\n",
    "\n",
    "from sklearn.metrics import f1_score, accuracy_score\n",
    "\n",
    "\n",
    "def f1_multiclass(labels, preds):\n",
    "    return f1_score(labels, preds, average='micro')\n",
    "    \n",
    "result, model_outputs, wrong_predictions = model.eval_model(eval_df, f1=f1_multiclass, acc=accuracy_score)"
   ]
  },
  {
   "cell_type": "code",
   "execution_count": 19,
   "metadata": {},
   "outputs": [
    {
     "output_type": "stream",
     "name": "stderr",
     "text": [
      "100%|██████████| 1/1 [00:03<00:00,  3.32s/it]\n",
      "Running Prediction: 100%|██████████| 1/1 [00:00<00:00, 18.77it/s]\n"
     ]
    }
   ],
   "source": [
    "predictions, raw_outputs = model.predict(\n",
    "    [\"@PolsekAlian PolriBerikan inovasi-inovasi Polri yang memudahkan masyarakat, kegiatan pemolisian masyarakat dan seluruh tindakan Kepolisian dalam menghadapi gangguan Kamtibmas, dan lain-lain - Jenderal Polisi Drs. Listyo Sigit Prabowo, https://t.co/f8GZ6VPqPD. - Kapolri #PolriTVRadioPresisi\"]\n",
    "        )"
   ]
  },
  {
   "cell_type": "code",
   "execution_count": 20,
   "metadata": {},
   "outputs": [
    {
     "output_type": "execute_result",
     "data": {
      "text/plain": [
       "[[{'@PolsekAlian': 'O'},\n",
       "  {'PolriBerikan': 'B-ORG'},\n",
       "  {'inovasi-inovasi': 'O'},\n",
       "  {'Polri': 'B-ORG'},\n",
       "  {'yang': 'O'},\n",
       "  {'memudahkan': 'O'},\n",
       "  {'masyarakat,': 'O'},\n",
       "  {'kegiatan': 'O'},\n",
       "  {'pemolisian': 'O'},\n",
       "  {'masyarakat': 'O'},\n",
       "  {'dan': 'O'},\n",
       "  {'seluruh': 'O'},\n",
       "  {'tindakan': 'O'},\n",
       "  {'Kepolisian': 'O'},\n",
       "  {'dalam': 'O'},\n",
       "  {'menghadapi': 'O'},\n",
       "  {'gangguan': 'O'},\n",
       "  {'Kamtibmas,': 'O'},\n",
       "  {'dan': 'O'},\n",
       "  {'lain-lain': 'O'},\n",
       "  {'-': 'O'},\n",
       "  {'Jenderal': 'O'},\n",
       "  {'Polisi': 'O'},\n",
       "  {'Drs.': 'O'},\n",
       "  {'Listyo': 'B-PER'},\n",
       "  {'Sigit': 'I-PER'},\n",
       "  {'Prabowo,': 'I-PER'},\n",
       "  {'https://t.co/f8GZ6VPqPD.': 'O'},\n",
       "  {'-': 'O'},\n",
       "  {'Kapolri': 'O'},\n",
       "  {'#PolriTVRadioPresisi': 'O'}]]"
      ]
     },
     "metadata": {},
     "execution_count": 20
    }
   ],
   "source": [
    "predictions"
   ]
  },
  {
   "cell_type": "code",
   "execution_count": null,
   "metadata": {},
   "outputs": [],
   "source": []
  }
 ]
}