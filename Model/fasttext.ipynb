{
 "metadata": {
  "language_info": {
   "codemirror_mode": {
    "name": "ipython",
    "version": 3
   },
   "file_extension": ".py",
   "mimetype": "text/x-python",
   "name": "python",
   "nbconvert_exporter": "python",
   "pygments_lexer": "ipython3",
   "version": "3.7.9"
  },
  "orig_nbformat": 4,
  "kernelspec": {
   "name": "env",
   "display_name": "Python 3.7.9  ('env': venv)"
  },
  "interpreter": {
   "hash": "2461f3de9216b0230f3f642cc62d97996878fc3ea0be2eafec764018df867278"
  }
 },
 "nbformat": 4,
 "nbformat_minor": 2,
 "cells": [
  {
   "cell_type": "code",
   "execution_count": 1,
   "metadata": {},
   "outputs": [],
   "source": [
    "import fasttext"
   ]
  },
  {
   "cell_type": "code",
   "execution_count": 2,
   "metadata": {},
   "outputs": [],
   "source": [
    "path = \"C:\\\\Users\\\\farih\\\\Downloads\\\\\"\n",
    "indoNLUmodel = path + \"fasttext.4B.id.300.epoch5.uncased.bin\"\n",
    "meisamodel = path + \"Fastext_model_tweet.bin\""
   ]
  },
  {
   "cell_type": "code",
   "execution_count": 3,
   "metadata": {},
   "outputs": [
    {
     "output_type": "stream",
     "name": "stderr",
     "text": [
      "Warning : `load_model` does not return WordVectorModel or SupervisedModel any more, but a `FastText` object which is very similar.\n"
     ]
    },
    {
     "output_type": "execute_result",
     "data": {
      "text/plain": [
       "300"
      ]
     },
     "metadata": {},
     "execution_count": 3
    }
   ],
   "source": [
    "#https://fasttext.cc/docs/en/unsupervised-tutorial.html\r\n",
    "model1 = fasttext.load_model(indoNLUmodel)\r\n",
    "model1.get_dimension()"
   ]
  },
  {
   "cell_type": "code",
   "execution_count": 38,
   "metadata": {
    "tags": []
   },
   "outputs": [
    {
     "output_type": "stream",
     "name": "stdout",
     "text": [
      "4278175\n"
     ]
    }
   ],
   "source": [
    "print(len(model1.words))"
   ]
  },
  {
   "cell_type": "code",
   "execution_count": 36,
   "metadata": {},
   "outputs": [
    {
     "output_type": "execute_result",
     "data": {
      "text/plain": [
       "[(0.9408655166625977, '@jokowi,'),\n",
       " (0.9068647623062134, '@jokowi..'),\n",
       " (0.8983845710754395, '@jokowi_do2'),\n",
       " (0.8957485556602478, '@jokowi_do2,'),\n",
       " (0.8901834487915039, '\"@jokowi'),\n",
       " (0.8899068832397461, '@jokowi_do2.'),\n",
       " (0.876669704914093, '@jokowi:'),\n",
       " (0.8685699701309204, '@jokowi.'),\n",
       " (0.8210324645042419, '@joko'),\n",
       " (0.8060596585273743, '*jokowi')]"
      ]
     },
     "metadata": {},
     "execution_count": 36
    }
   ],
   "source": [
    "model1.get_nearest_neighbors('@jokowi')"
   ]
  },
  {
   "cell_type": "code",
   "execution_count": 6,
   "metadata": {},
   "outputs": [
    {
     "output_type": "execute_result",
     "data": {
      "text/plain": [
       "(300,)"
      ]
     },
     "metadata": {},
     "execution_count": 6
    }
   ],
   "source": [
    "model1.get_word_vector(\"skrg\").shape"
   ]
  },
  {
   "cell_type": "code",
   "execution_count": 12,
   "metadata": {},
   "outputs": [
    {
     "output_type": "stream",
     "name": "stderr",
     "text": [
      "ipykernel_launcher:2: DeprecationWarning: Call to deprecated `load_fasttext_format` (use load_facebook_vectors (to use pretrained embeddings) or load_facebook_model (to continue training with the loaded full model, more RAM) instead).\n"
     ]
    },
    {
     "output_type": "execute_result",
     "data": {
      "text/plain": [
       "100"
      ]
     },
     "metadata": {},
     "execution_count": 12
    }
   ],
   "source": [
    "from gensim.models import FastText\r\n",
    "model2 = FastText.load_fasttext_format(meisamodel)\r\n",
    "model2.vector_size"
   ]
  },
  {
   "cell_type": "code",
   "execution_count": 39,
   "metadata": {},
   "outputs": [
    {
     "output_type": "execute_result",
     "data": {
      "text/plain": [
       "69465"
      ]
     },
     "metadata": {},
     "execution_count": 39
    }
   ],
   "source": [
    "len(model2.wv)"
   ]
  },
  {
   "cell_type": "code",
   "execution_count": 37,
   "metadata": {},
   "outputs": [
    {
     "output_type": "execute_result",
     "data": {
      "text/plain": [
       "[('akujokowi', 0.9603955745697021),\n",
       " ('akusukajokowi', 0.9155358672142029),\n",
       " ('pakdejokowi', 0.9092893004417419),\n",
       " ('presidenjokowi', 0.9071440100669861),\n",
       " ('doakamiuntukjokowi', 0.902245044708252),\n",
       " ('jokowi', 0.8853732943534851),\n",
       " ('akucintajokowi', 0.8757666349411011),\n",
       " ('2019pilihjokowi', 0.8623639941215515),\n",
       " ('2019tetapjokowi', 0.8510534763336182),\n",
       " ('jokowijk', 0.8374325037002563)]"
      ]
     },
     "metadata": {},
     "execution_count": 37
    }
   ],
   "source": [
    "meisamodel.wv.most_similar(positive=['@jokowi'], topn=10)"
   ]
  },
  {
   "cell_type": "code",
   "execution_count": null,
   "metadata": {},
   "outputs": [],
   "source": []
  }
 ]
}