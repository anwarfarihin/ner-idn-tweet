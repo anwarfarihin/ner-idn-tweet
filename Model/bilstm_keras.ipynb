{
 "metadata": {
  "language_info": {
   "codemirror_mode": {
    "name": "ipython",
    "version": 3
   },
   "file_extension": ".py",
   "mimetype": "text/x-python",
   "name": "python",
   "nbconvert_exporter": "python",
   "pygments_lexer": "ipython3",
   "version": "3.7.9"
  },
  "orig_nbformat": 4,
  "kernelspec": {
   "name": "python3",
   "display_name": "Python 3.7.9 64-bit"
  },
  "interpreter": {
   "hash": "2461f3de9216b0230f3f642cc62d97996878fc3ea0be2eafec764018df867278"
  }
 },
 "nbformat": 4,
 "nbformat_minor": 2,
 "cells": [
  {
   "cell_type": "code",
   "execution_count": 1,
   "metadata": {},
   "outputs": [],
   "source": [
    "# https://towardsdatascience.com/named-entity-recognition-ner-using-keras-bidirectional-lstm-28cd3f301f54"
   ]
  },
  {
   "cell_type": "code",
   "execution_count": 68,
   "metadata": {},
   "outputs": [],
   "source": [
    "import numpy as np\n",
    "import pandas as pd\n",
    "from collections import Counter\n"
   ]
  },
  {
   "cell_type": "code",
   "execution_count": 69,
   "metadata": {},
   "outputs": [
    {
     "output_type": "execute_result",
     "data": {
      "text/plain": [
       "            Sentence #     Word Tag\n",
       "0  1382601382042103808    Hidup   O\n",
       "1  1382601382042103808  sesedih   O\n",
       "2  1382601382042103808      dan   O\n",
       "3  1382601382042103808  secaper   O\n",
       "4  1382601382042103808      apa   O"
      ],
      "text/html": "<div>\n<style scoped>\n    .dataframe tbody tr th:only-of-type {\n        vertical-align: middle;\n    }\n\n    .dataframe tbody tr th {\n        vertical-align: top;\n    }\n\n    .dataframe thead th {\n        text-align: right;\n    }\n</style>\n<table border=\"1\" class=\"dataframe\">\n  <thead>\n    <tr style=\"text-align: right;\">\n      <th></th>\n      <th>Sentence #</th>\n      <th>Word</th>\n      <th>Tag</th>\n    </tr>\n  </thead>\n  <tbody>\n    <tr>\n      <th>0</th>\n      <td>1382601382042103808</td>\n      <td>Hidup</td>\n      <td>O</td>\n    </tr>\n    <tr>\n      <th>1</th>\n      <td>1382601382042103808</td>\n      <td>sesedih</td>\n      <td>O</td>\n    </tr>\n    <tr>\n      <th>2</th>\n      <td>1382601382042103808</td>\n      <td>dan</td>\n      <td>O</td>\n    </tr>\n    <tr>\n      <th>3</th>\n      <td>1382601382042103808</td>\n      <td>secaper</td>\n      <td>O</td>\n    </tr>\n    <tr>\n      <th>4</th>\n      <td>1382601382042103808</td>\n      <td>apa</td>\n      <td>O</td>\n    </tr>\n  </tbody>\n</table>\n</div>"
     },
     "metadata": {},
     "execution_count": 69
    }
   ],
   "source": [
    "data = pd.read_csv(\"../Dataset/bert/trainval.csv\")\n",
    "data.rename(columns={\"sentence_id\":\"Sentence #\", \"words\":\"Word\",\"labels\":\"Tag\"},inplace=True)\n",
    "data.head()"
   ]
  },
  {
   "cell_type": "code",
   "execution_count": null,
   "metadata": {},
   "outputs": [],
   "source": [
    "data = pd.read_csv(\"../Dataset/bert/trainval.csv\")\n",
    "data.head()\n",
    "\n"
   ]
  },
  {
   "cell_type": "code",
   "execution_count": 70,
   "metadata": {},
   "outputs": [],
   "source": [
    "from itertools import chain\n",
    "def get_dict_map(data, token_or_tag):\n",
    "    tok2idx = {}\n",
    "    idx2tok = {}\n",
    "    \n",
    "    if token_or_tag == 'token':\n",
    "        vocab = list(set(data['Word'].to_list()))\n",
    "    else:\n",
    "        vocab = list(set(data['Tag'].to_list()))\n",
    "    \n",
    "    idx2tok = {idx:tok for  idx, tok in enumerate(vocab)}\n",
    "    tok2idx = {tok:idx for  idx, tok in enumerate(vocab)}\n",
    "    return tok2idx, idx2tok\n",
    "\n",
    "\n",
    "token2idx, idx2token = get_dict_map(data, 'token')\n",
    "tag2idx, idx2tag = get_dict_map(data, 'tag')"
   ]
  },
  {
   "cell_type": "code",
   "execution_count": 71,
   "metadata": {},
   "outputs": [
    {
     "output_type": "execute_result",
     "data": {
      "text/plain": [
       "            Sentence #     Word Tag  Word_idx  Tag_idx\n",
       "0  1382601382042103808    Hidup   O     19390       11\n",
       "1  1382601382042103808  sesedih   O      8977       11\n",
       "2  1382601382042103808      dan   O     26426       11\n",
       "3  1382601382042103808  secaper   O      4147       11\n",
       "4  1382601382042103808      apa   O     16209       11"
      ],
      "text/html": "<div>\n<style scoped>\n    .dataframe tbody tr th:only-of-type {\n        vertical-align: middle;\n    }\n\n    .dataframe tbody tr th {\n        vertical-align: top;\n    }\n\n    .dataframe thead th {\n        text-align: right;\n    }\n</style>\n<table border=\"1\" class=\"dataframe\">\n  <thead>\n    <tr style=\"text-align: right;\">\n      <th></th>\n      <th>Sentence #</th>\n      <th>Word</th>\n      <th>Tag</th>\n      <th>Word_idx</th>\n      <th>Tag_idx</th>\n    </tr>\n  </thead>\n  <tbody>\n    <tr>\n      <th>0</th>\n      <td>1382601382042103808</td>\n      <td>Hidup</td>\n      <td>O</td>\n      <td>19390</td>\n      <td>11</td>\n    </tr>\n    <tr>\n      <th>1</th>\n      <td>1382601382042103808</td>\n      <td>sesedih</td>\n      <td>O</td>\n      <td>8977</td>\n      <td>11</td>\n    </tr>\n    <tr>\n      <th>2</th>\n      <td>1382601382042103808</td>\n      <td>dan</td>\n      <td>O</td>\n      <td>26426</td>\n      <td>11</td>\n    </tr>\n    <tr>\n      <th>3</th>\n      <td>1382601382042103808</td>\n      <td>secaper</td>\n      <td>O</td>\n      <td>4147</td>\n      <td>11</td>\n    </tr>\n    <tr>\n      <th>4</th>\n      <td>1382601382042103808</td>\n      <td>apa</td>\n      <td>O</td>\n      <td>16209</td>\n      <td>11</td>\n    </tr>\n  </tbody>\n</table>\n</div>"
     },
     "metadata": {},
     "execution_count": 71
    }
   ],
   "source": [
    "data['Word_idx'] = data['Word'].map(token2idx)\n",
    "data['Tag_idx'] = data['Tag'].map(tag2idx)\n",
    "data.head()"
   ]
  },
  {
   "cell_type": "code",
   "execution_count": 72,
   "metadata": {},
   "outputs": [
    {
     "output_type": "stream",
     "name": "stderr",
     "text": [
      "C:\\Users\\farih\\AppData\\Roaming\\Python\\Python37\\site-packages\\ipykernel_launcher.py:6: FutureWarning: Indexing with multiple keys (implicitly converted to a tuple of keys) will be deprecated, use a list instead.\n  \n"
     ]
    },
    {
     "output_type": "execute_result",
     "data": {
      "text/plain": [
       "            Sentence #                                               Word  \\\n",
       "0  1380681275594305537  [@ridwankamil, @KickAndyShow, @Metro_TV, Upaya...   \n",
       "1  1380685355897085952  [@ShopeeID, Bismillah, yok, menang, ����, SHOP...   \n",
       "2  1380686115007393792  [udah, 2, mingguan, tinggal, bareng, teteh, ,,...   \n",
       "3  1380688640611786754  [@ShopeeID, Potong, buah, semangka, pakai, ala...   \n",
       "4  1380688670282289153  [RT, @kukluxcats, :, Selevel, gubernur, Jatim,...   \n",
       "\n",
       "                                                 Tag  \\\n",
       "0  [O, O, O, O, O, O, O, O, O, O, O, O, O, O, B-P...   \n",
       "1                [O, O, O, O, O, B-PROD, O, O, O, O]   \n",
       "2  [O, O, O, O, O, O, O, O, O, O, O, O, O, B-LOC,...   \n",
       "3  [O, O, O, O, O, O, O, O, O, O, O, O, O, B-ORG,...   \n",
       "4  [O, O, O, O, B-PER, I-PER, O, O, O, O, O, O, O...   \n",
       "\n",
       "                                            Word_idx  \\\n",
       "0  [8764, 1510, 2757, 7242, 20728, 2221, 9544, 14...   \n",
       "1  [3400, 26574, 2023, 26668, 27226, 9218, 3400, ...   \n",
       "2  [11744, 5170, 24871, 17882, 11859, 28607, 1932...   \n",
       "3  [3400, 28642, 17480, 27824, 19729, 14422, 2665...   \n",
       "4  [3126, 5039, 10579, 17351, 20935, 3070, 14484,...   \n",
       "\n",
       "                                             Tag_idx  \n",
       "0  [11, 11, 11, 11, 11, 11, 11, 11, 11, 11, 11, 1...  \n",
       "1            [11, 11, 11, 11, 11, 4, 11, 11, 11, 11]  \n",
       "2  [11, 11, 11, 11, 11, 11, 11, 11, 11, 11, 11, 1...  \n",
       "3  [11, 11, 11, 11, 11, 11, 11, 11, 11, 11, 11, 1...  \n",
       "4  [11, 11, 11, 11, 10, 0, 11, 11, 11, 11, 11, 11...  "
      ],
      "text/html": "<div>\n<style scoped>\n    .dataframe tbody tr th:only-of-type {\n        vertical-align: middle;\n    }\n\n    .dataframe tbody tr th {\n        vertical-align: top;\n    }\n\n    .dataframe thead th {\n        text-align: right;\n    }\n</style>\n<table border=\"1\" class=\"dataframe\">\n  <thead>\n    <tr style=\"text-align: right;\">\n      <th></th>\n      <th>Sentence #</th>\n      <th>Word</th>\n      <th>Tag</th>\n      <th>Word_idx</th>\n      <th>Tag_idx</th>\n    </tr>\n  </thead>\n  <tbody>\n    <tr>\n      <th>0</th>\n      <td>1380681275594305537</td>\n      <td>[@ridwankamil, @KickAndyShow, @Metro_TV, Upaya...</td>\n      <td>[O, O, O, O, O, O, O, O, O, O, O, O, O, O, B-P...</td>\n      <td>[8764, 1510, 2757, 7242, 20728, 2221, 9544, 14...</td>\n      <td>[11, 11, 11, 11, 11, 11, 11, 11, 11, 11, 11, 1...</td>\n    </tr>\n    <tr>\n      <th>1</th>\n      <td>1380685355897085952</td>\n      <td>[@ShopeeID, Bismillah, yok, menang, ����, SHOP...</td>\n      <td>[O, O, O, O, O, B-PROD, O, O, O, O]</td>\n      <td>[3400, 26574, 2023, 26668, 27226, 9218, 3400, ...</td>\n      <td>[11, 11, 11, 11, 11, 4, 11, 11, 11, 11]</td>\n    </tr>\n    <tr>\n      <th>2</th>\n      <td>1380686115007393792</td>\n      <td>[udah, 2, mingguan, tinggal, bareng, teteh, ,,...</td>\n      <td>[O, O, O, O, O, O, O, O, O, O, O, O, O, B-LOC,...</td>\n      <td>[11744, 5170, 24871, 17882, 11859, 28607, 1932...</td>\n      <td>[11, 11, 11, 11, 11, 11, 11, 11, 11, 11, 11, 1...</td>\n    </tr>\n    <tr>\n      <th>3</th>\n      <td>1380688640611786754</td>\n      <td>[@ShopeeID, Potong, buah, semangka, pakai, ala...</td>\n      <td>[O, O, O, O, O, O, O, O, O, O, O, O, O, B-ORG,...</td>\n      <td>[3400, 28642, 17480, 27824, 19729, 14422, 2665...</td>\n      <td>[11, 11, 11, 11, 11, 11, 11, 11, 11, 11, 11, 1...</td>\n    </tr>\n    <tr>\n      <th>4</th>\n      <td>1380688670282289153</td>\n      <td>[RT, @kukluxcats, :, Selevel, gubernur, Jatim,...</td>\n      <td>[O, O, O, O, B-PER, I-PER, O, O, O, O, O, O, O...</td>\n      <td>[3126, 5039, 10579, 17351, 20935, 3070, 14484,...</td>\n      <td>[11, 11, 11, 11, 10, 0, 11, 11, 11, 11, 11, 11...</td>\n    </tr>\n  </tbody>\n</table>\n</div>"
     },
     "metadata": {},
     "execution_count": 72
    }
   ],
   "source": [
    "# Fill na\n",
    "data_fillna = data.fillna(method='ffill', axis=0)\n",
    "# Groupby and collect columns\n",
    "data_group = data_fillna.groupby(\n",
    "['Sentence #'],as_index=False\n",
    ")['Word', 'Tag', 'Word_idx', 'Tag_idx'].agg(lambda x: list(x))\n",
    "# Visualise data\n",
    "data_group.head()"
   ]
  },
  {
   "cell_type": "code",
   "execution_count": 73,
   "metadata": {},
   "outputs": [],
   "source": [
    "from sklearn.model_selection import train_test_split\n",
    "from keras.preprocessing.sequence import pad_sequences\n",
    "from tensorflow.keras.utils import to_categorical"
   ]
  },
  {
   "cell_type": "code",
   "execution_count": 74,
   "metadata": {},
   "outputs": [
    {
     "output_type": "stream",
     "name": "stdout",
     "text": [
      "train_tokens length: 4009 \ntrain_tokens length: 4009 \ntest_tokens length: 594 \ntest_tags: 594 \nval_tokens: 1337 \nval_tags: 1337\n"
     ]
    }
   ],
   "source": [
    "def get_pad_train_test_val(data_group, data):\n",
    "\n",
    "    #get max token and tag length\n",
    "    n_token = len(list(set(data['Word'].to_list())))\n",
    "    n_tag = len(list(set(data['Tag'].to_list())))\n",
    "\n",
    "    #Pad tokens (X var)    \n",
    "    tokens = data_group['Word_idx'].tolist()\n",
    "    maxlen = max([len(s) for s in tokens])\n",
    "    pad_tokens = pad_sequences(tokens, maxlen=maxlen, dtype='int32', padding='post', value= n_token - 1)\n",
    "\n",
    "    #Pad Tags (y var) and convert it into one hot encoding\n",
    "    tags = data_group['Tag_idx'].tolist()\n",
    "    pad_tags = pad_sequences(tags, maxlen=maxlen, dtype='int32', padding='post', value= tag2idx[\"O\"])\n",
    "    n_tags = len(tag2idx)\n",
    "    pad_tags = [to_categorical(i, num_classes=n_tags) for i in pad_tags]\n",
    "    \n",
    "    #Split train, test and validation set\n",
    "    tokens_, test_tokens, tags_, test_tags = train_test_split(pad_tokens, pad_tags, test_size=0.1, train_size=0.9, random_state=2020)\n",
    "    train_tokens, val_tokens, train_tags, val_tags = train_test_split(tokens_,tags_,test_size = 0.25,train_size =0.75, random_state=2020)\n",
    "\n",
    "    print(\n",
    "        'train_tokens length:', len(train_tokens),\n",
    "        '\\ntrain_tokens length:', len(train_tokens),\n",
    "        '\\ntest_tokens length:', len(test_tokens),\n",
    "        '\\ntest_tags:', len(test_tags),\n",
    "        '\\nval_tokens:', len(val_tokens),\n",
    "        '\\nval_tags:', len(val_tags),\n",
    "    )\n",
    "    \n",
    "    return train_tokens, val_tokens, test_tokens, train_tags, val_tags, test_tags\n",
    "\n",
    "train_tokens, val_tokens, test_tokens, train_tags, val_tags, test_tags = get_pad_train_test_val(data_group, data)"
   ]
  },
  {
   "cell_type": "code",
   "execution_count": 75,
   "metadata": {},
   "outputs": [
    {
     "output_type": "execute_result",
     "data": {
      "text/plain": [
       "array([[ 8865, 25863, 11574, ..., 30204, 30204, 30204],\n",
       "       [ 5450, 29088, 10885, ..., 30204, 30204, 30204],\n",
       "       [13685, 18057,  1681, ..., 30204, 30204, 30204],\n",
       "       ...,\n",
       "       [26609, 20871, 29804, ..., 30204, 30204, 30204],\n",
       "       [23294, 15055, 22047, ..., 30204, 30204, 30204],\n",
       "       [20522, 13284, 26426, ..., 30204, 30204, 30204]])"
      ]
     },
     "metadata": {},
     "execution_count": 75
    }
   ],
   "source": [
    "test_tokens"
   ]
  },
  {
   "cell_type": "code",
   "execution_count": 76,
   "metadata": {},
   "outputs": [],
   "source": [
    "import numpy as np\n",
    "import tensorflow\n",
    "from tensorflow.keras import Sequential, Model, Input\n",
    "from tensorflow.keras.layers import LSTM, Embedding, Dense, TimeDistributed, Dropout, Bidirectional\n",
    "from tensorflow.keras.utils import plot_model"
   ]
  },
  {
   "cell_type": "code",
   "execution_count": 77,
   "metadata": {},
   "outputs": [],
   "source": [
    "from numpy.random import seed\n",
    "seed(1)\n",
    "tensorflow.random.set_seed(2)"
   ]
  },
  {
   "cell_type": "code",
   "execution_count": 78,
   "metadata": {},
   "outputs": [
    {
     "output_type": "stream",
     "name": "stdout",
     "text": [
      "input_dim:  30206 \noutput_dim:  64 \ninput_length:  136 \nn_tags:  13\n"
     ]
    }
   ],
   "source": [
    "input_dim = len(list(set(data['Word'].to_list())))+1\n",
    "output_dim = 64\n",
    "input_length = max([len(s) for s in data_group['Word_idx'].tolist()])\n",
    "n_tags = len(tag2idx)\n",
    "print('input_dim: ', input_dim, '\\noutput_dim: ', output_dim, '\\ninput_length: ', input_length, '\\nn_tags: ', n_tags)"
   ]
  },
  {
   "cell_type": "code",
   "execution_count": 79,
   "metadata": {},
   "outputs": [],
   "source": [
    "def get_bilstm_lstm_model():\n",
    "    model = Sequential()\n",
    "\n",
    "    # Add Embedding layer\n",
    "    model.add(Embedding(input_dim=input_dim, output_dim=output_dim, input_length=input_length))\n",
    "\n",
    "    # Add bidirectional LSTM\n",
    "    model.add(Bidirectional(LSTM(units=output_dim, return_sequences=True, dropout=0.2, recurrent_dropout=0.2), merge_mode = 'concat'))\n",
    "\n",
    "    # Add LSTM\n",
    "    model.add(LSTM(units=output_dim, return_sequences=True, dropout=0.5, recurrent_dropout=0.5))\n",
    "\n",
    "    # Add timeDistributed Layer\n",
    "    model.add(TimeDistributed(Dense(n_tags, activation=\"relu\")))\n",
    "\n",
    "    #Optimiser \n",
    "    # adam = k.optimizers.Adam(lr=0.0005, beta_1=0.9, beta_2=0.999)\n",
    "\n",
    "    # Compile model\n",
    "    model.compile(loss='categorical_crossentropy', optimizer='adam', metrics=['accuracy'])\n",
    "    model.summary()\n",
    "    \n",
    "    return model"
   ]
  },
  {
   "cell_type": "code",
   "execution_count": 80,
   "metadata": {},
   "outputs": [],
   "source": [
    "\n",
    "def train_model(X, y, model):\n",
    "    loss = list()\n",
    "    for i in range(5):\n",
    "        # fit model for one epoch on this sequence\n",
    "        hist = model.fit(X, y, batch_size=1000, verbose=1, epochs=1, validation_split=0.2)\n",
    "        loss.append(hist.history['loss'][0])\n",
    "    return loss"
   ]
  },
  {
   "cell_type": "code",
   "execution_count": 81,
   "metadata": {},
   "outputs": [
    {
     "output_type": "stream",
     "name": "stdout",
     "text": [
      "WARNING:tensorflow:Layer lstm_8 will not use cuDNN kernels since it doesn't meet the criteria. It will use a generic GPU kernel as fallback when running on GPU.\n",
      "WARNING:tensorflow:Layer lstm_8 will not use cuDNN kernels since it doesn't meet the criteria. It will use a generic GPU kernel as fallback when running on GPU.\n",
      "WARNING:tensorflow:Layer lstm_8 will not use cuDNN kernels since it doesn't meet the criteria. It will use a generic GPU kernel as fallback when running on GPU.\n",
      "WARNING:tensorflow:Layer lstm_9 will not use cuDNN kernels since it doesn't meet the criteria. It will use a generic GPU kernel as fallback when running on GPU.\n",
      "Model: \"sequential_4\"\n",
      "_________________________________________________________________\n",
      "Layer (type)                 Output Shape              Param #   \n",
      "=================================================================\n",
      "embedding_4 (Embedding)      (None, 136, 64)           1933184   \n",
      "_________________________________________________________________\n",
      "bidirectional_4 (Bidirection (None, 136, 128)          66048     \n",
      "_________________________________________________________________\n",
      "lstm_9 (LSTM)                (None, 136, 64)           49408     \n",
      "_________________________________________________________________\n",
      "time_distributed_4 (TimeDist (None, 136, 13)           845       \n",
      "=================================================================\n",
      "Total params: 2,049,485\n",
      "Trainable params: 2,049,485\n",
      "Non-trainable params: 0\n",
      "_________________________________________________________________\n",
      "('You must install pydot (`pip install pydot`) and install graphviz (see instructions at https://graphviz.gitlab.io/download/) ', 'for plot_model/model_to_dot to work.')\n"
     ]
    }
   ],
   "source": [
    "results = pd.DataFrame()\n",
    "model_bilstm_lstm = get_bilstm_lstm_model()\n",
    "plot_model(model_bilstm_lstm)\n",
    "results['with_add_lstm'] = train_model(train_tokens, np.array(train_tags), model_bilstm_lstm)"
   ]
  },
  {
   "cell_type": "code",
   "execution_count": 51,
   "metadata": {},
   "outputs": [
    {
     "output_type": "execute_result",
     "data": {
      "text/plain": [
       "   with_add_lstm\n",
       "0            NaN\n",
       "1            NaN\n",
       "2            NaN\n",
       "3            NaN\n",
       "4            NaN"
      ],
      "text/html": "<div>\n<style scoped>\n    .dataframe tbody tr th:only-of-type {\n        vertical-align: middle;\n    }\n\n    .dataframe tbody tr th {\n        vertical-align: top;\n    }\n\n    .dataframe thead th {\n        text-align: right;\n    }\n</style>\n<table border=\"1\" class=\"dataframe\">\n  <thead>\n    <tr style=\"text-align: right;\">\n      <th></th>\n      <th>with_add_lstm</th>\n    </tr>\n  </thead>\n  <tbody>\n    <tr>\n      <th>0</th>\n      <td>NaN</td>\n    </tr>\n    <tr>\n      <th>1</th>\n      <td>NaN</td>\n    </tr>\n    <tr>\n      <th>2</th>\n      <td>NaN</td>\n    </tr>\n    <tr>\n      <th>3</th>\n      <td>NaN</td>\n    </tr>\n    <tr>\n      <th>4</th>\n      <td>NaN</td>\n    </tr>\n  </tbody>\n</table>\n</div>"
     },
     "metadata": {},
     "execution_count": 51
    }
   ],
   "source": [
    "results"
   ]
  },
  {
   "cell_type": "code",
   "execution_count": null,
   "metadata": {},
   "outputs": [],
   "source": []
  }
 ]
}