{
 "metadata": {
  "language_info": {
   "codemirror_mode": {
    "name": "ipython",
    "version": 3
   },
   "file_extension": ".py",
   "mimetype": "text/x-python",
   "name": "python",
   "nbconvert_exporter": "python",
   "pygments_lexer": "ipython3",
   "version": "3.7.9"
  },
  "orig_nbformat": 4,
  "kernelspec": {
   "name": "python3",
   "display_name": "Python 3.7.9 64-bit ('env': venv)"
  },
  "interpreter": {
   "hash": "95f69f4171822e9a0d4258a52ad5b962ce921882fa0fb93c07eb68a8992e9dab"
  }
 },
 "nbformat": 4,
 "nbformat_minor": 2,
 "cells": [
  {
   "cell_type": "code",
   "execution_count": 1,
   "metadata": {},
   "outputs": [],
   "source": [
    "import pandas as pd\n",
    "import numpy as np\n",
    "\n",
    "#Data Visualisation\n",
    "import matplotlib.pyplot as plt\n",
    "import seaborn as sns\n",
    "sns.set(color_codes=True)\n",
    "sns.set(font_scale=1)\n",
    "%matplotlib inline\n",
    "%config InlineBackend.figure_format = 'svg'\n",
    "\n",
    "#Modeling\n",
    "import fasttext\n",
    "from sklearn.model_selection import cross_val_predict, cross_val_score, RandomizedSearchCV,StratifiedKFold, KFold, train_test_split\n",
    "from sklearn.feature_extraction import DictVectorizer\n",
    "\n",
    "from sklearn.preprocessing import MultiLabelBinarizer\n",
    "from sklearn.ensemble import RandomForestClassifier\n",
    "from sklearn_crfsuite import CRF, scorers, metrics\n",
    "from sklearn_crfsuite.metrics import flat_classification_report\n",
    "from sklearn.metrics import classification_report, make_scorer\n",
    "import scipy.stats\n",
    "import eli5"
   ]
  },
  {
   "cell_type": "code",
   "execution_count": 33,
   "metadata": {},
   "outputs": [
    {
     "output_type": "execute_result",
     "data": {
      "text/plain": [
       "            token ner             tweet_id  index\n",
       "0           Hidup   O  1382601382042103808      0\n",
       "1         sesedih   O  1382601382042103808      1\n",
       "2             dan   O  1382601382042103808      2\n",
       "3         secaper   O  1382601382042103808      3\n",
       "4             apa   O  1382601382042103808      4\n",
       "...           ...  ..                  ...    ...\n",
       "50008    kualitas   O  1387559264395223042     16\n",
       "50009         SDM   O  1387559264395223042     17\n",
       "50010       serta   O  1387559264395223042     18\n",
       "50011   penurunan   O  1387559264395223042     19\n",
       "50012  kemiskinan   O  1387559264395223042     20\n",
       "\n",
       "[50013 rows x 4 columns]"
      ],
      "text/html": "<div>\n<style scoped>\n    .dataframe tbody tr th:only-of-type {\n        vertical-align: middle;\n    }\n\n    .dataframe tbody tr th {\n        vertical-align: top;\n    }\n\n    .dataframe thead th {\n        text-align: right;\n    }\n</style>\n<table border=\"1\" class=\"dataframe\">\n  <thead>\n    <tr style=\"text-align: right;\">\n      <th></th>\n      <th>token</th>\n      <th>ner</th>\n      <th>tweet_id</th>\n      <th>index</th>\n    </tr>\n  </thead>\n  <tbody>\n    <tr>\n      <th>0</th>\n      <td>Hidup</td>\n      <td>O</td>\n      <td>1382601382042103808</td>\n      <td>0</td>\n    </tr>\n    <tr>\n      <th>1</th>\n      <td>sesedih</td>\n      <td>O</td>\n      <td>1382601382042103808</td>\n      <td>1</td>\n    </tr>\n    <tr>\n      <th>2</th>\n      <td>dan</td>\n      <td>O</td>\n      <td>1382601382042103808</td>\n      <td>2</td>\n    </tr>\n    <tr>\n      <th>3</th>\n      <td>secaper</td>\n      <td>O</td>\n      <td>1382601382042103808</td>\n      <td>3</td>\n    </tr>\n    <tr>\n      <th>4</th>\n      <td>apa</td>\n      <td>O</td>\n      <td>1382601382042103808</td>\n      <td>4</td>\n    </tr>\n    <tr>\n      <th>...</th>\n      <td>...</td>\n      <td>...</td>\n      <td>...</td>\n      <td>...</td>\n    </tr>\n    <tr>\n      <th>50008</th>\n      <td>kualitas</td>\n      <td>O</td>\n      <td>1387559264395223042</td>\n      <td>16</td>\n    </tr>\n    <tr>\n      <th>50009</th>\n      <td>SDM</td>\n      <td>O</td>\n      <td>1387559264395223042</td>\n      <td>17</td>\n    </tr>\n    <tr>\n      <th>50010</th>\n      <td>serta</td>\n      <td>O</td>\n      <td>1387559264395223042</td>\n      <td>18</td>\n    </tr>\n    <tr>\n      <th>50011</th>\n      <td>penurunan</td>\n      <td>O</td>\n      <td>1387559264395223042</td>\n      <td>19</td>\n    </tr>\n    <tr>\n      <th>50012</th>\n      <td>kemiskinan</td>\n      <td>O</td>\n      <td>1387559264395223042</td>\n      <td>20</td>\n    </tr>\n  </tbody>\n</table>\n<p>50013 rows × 4 columns</p>\n</div>"
     },
     "metadata": {},
     "execution_count": 33
    }
   ],
   "source": [
    "data = pd.read_csv(\"../Dataset/annotated_ner_data_new.csv\")\n",
    "data=data[:50013]\n",
    "data"
   ]
  },
  {
   "cell_type": "code",
   "execution_count": 34,
   "metadata": {},
   "outputs": [],
   "source": [
    "#data.groupby('ner').size().reset_index(name='count tag')"
   ]
  },
  {
   "cell_type": "code",
   "execution_count": 35,
   "metadata": {},
   "outputs": [],
   "source": [
    "#data.groupby('tweet_id').size().reset_index(name='token')"
   ]
  },
  {
   "cell_type": "code",
   "execution_count": 41,
   "metadata": {},
   "outputs": [],
   "source": [
    "X = np.array(data.drop('ner', axis=1))\n",
    "y = np.array(data.ner.values)"
   ]
  },
  {
   "cell_type": "code",
   "execution_count": 49,
   "metadata": {},
   "outputs": [
    {
     "output_type": "stream",
     "name": "stdout",
     "text": [
      "[    0     1     3 ... 50010 50011 50012] [    2    10    11 ... 49997 49999 50009]\n40010 10003\nCounter({'O': 34662, 'B-PER': 1363, 'B-PROD': 844, 'I-PER': 720, 'B-LOC': 565, 'B-ORG': 491, 'I-ORG': 255, 'I-PROD': 255, 'B-EV': 253, 'I-EV': 250, 'I-LOC': 243, 'I-WA': 64, 'B-WA': 45})\n[    0     1     2 ... 50009 50011 50012] [    3     8    19 ... 49992 50007 50010]\n40010 10003\nCounter({'O': 34594, 'B-PER': 1382, 'B-PROD': 860, 'I-PER': 728, 'B-LOC': 594, 'B-ORG': 506, 'I-ORG': 273, 'B-EV': 248, 'I-EV': 244, 'I-LOC': 240, 'I-PROD': 232, 'I-WA': 60, 'B-WA': 49})\n[    1     2     3 ... 50010 50011 50012] [    0    13    26 ... 49986 49990 50008]\n40010 10003\nCounter({'O': 34612, 'B-PER': 1388, 'B-PROD': 827, 'I-PER': 754, 'B-LOC': 576, 'B-ORG': 506, 'I-EV': 264, 'B-EV': 251, 'I-ORG': 251, 'I-PROD': 241, 'I-LOC': 229, 'I-WA': 66, 'B-WA': 45})\n[    0     2     3 ... 50010 50011 50012] [    1     4     5 ... 50003 50005 50006]\n40011 10002\nCounter({'O': 34589, 'B-PER': 1394, 'B-PROD': 854, 'I-PER': 728, 'B-LOC': 595, 'B-ORG': 512, 'I-PROD': 256, 'B-EV': 248, 'I-EV': 246, 'I-ORG': 245, 'I-LOC': 241, 'I-WA': 55, 'B-WA': 48})\n[    0     1     2 ... 50008 50009 50010] [    9    14    15 ... 50004 50011 50012]\n40011 10002\nCounter({'O': 34643, 'B-PER': 1405, 'B-PROD': 831, 'I-PER': 714, 'B-LOC': 562, 'B-ORG': 509, 'I-ORG': 268, 'I-EV': 248, 'B-EV': 248, 'I-PROD': 244, 'I-LOC': 235, 'I-WA': 63, 'B-WA': 41})\n"
     ]
    }
   ],
   "source": [
    "from collections import Counter\n",
    "kf= KFold(n_splits=5, random_state=1, shuffle=True)\n",
    "for train_index, test_index in kf.split(X):\n",
    "    print(train_index, test_index)\n",
    "    X_train, X_test = X[train_index], X[test_index]\n",
    "    y_train, y_test = y[train_index], y[test_index]\n",
    "    print(len(X_train), len(X_test))\n",
    "    print(Counter(y_train))"
   ]
  },
  {
   "cell_type": "code",
   "execution_count": 46,
   "metadata": {},
   "outputs": [
    {
     "output_type": "execute_result",
     "data": {
      "text/plain": [
       "((33508, 3), (33508,))"
      ]
     },
     "metadata": {},
     "execution_count": 46
    }
   ],
   "source": [
    "X_train, X_test, y_train, y_test = train_test_split(X, y, test_size = 0.33, random_state=0)\n",
    "X_train.shape, y_train.shape"
   ]
  },
  {
   "cell_type": "code",
   "execution_count": 3,
   "metadata": {},
   "outputs": [
    {
     "output_type": "stream",
     "name": "stdout",
     "text": [
      "<class 'pandas.core.frame.DataFrame'>\nRangeIndex: 170070 entries, 0 to 170069\nData columns (total 4 columns):\n #   Column    Non-Null Count   Dtype \n---  ------    --------------   ----- \n 0   token     170070 non-null  object\n 1   ner       170070 non-null  object\n 2   tweet_id  170070 non-null  int64 \n 3   index     170070 non-null  int64 \ndtypes: int64(2), object(2)\nmemory usage: 5.2+ MB\n"
     ]
    }
   ],
   "source": [
    "data.info()"
   ]
  },
  {
   "cell_type": "code",
   "execution_count": 4,
   "metadata": {},
   "outputs": [
    {
     "output_type": "execute_result",
     "data": {
      "text/plain": [
       "31             Nadiem\n",
       "37           Megawati\n",
       "89        @daya_hadid\n",
       "129             Anies\n",
       "134              Ahok\n",
       "             ...     \n",
       "169995         Ridwan\n",
       "170013       Megawati\n",
       "170041          Sahar\n",
       "170047         renjun\n",
       "170059         renjun\n",
       "Name: token, Length: 5564, dtype: object"
      ]
     },
     "metadata": {},
     "execution_count": 4
    }
   ],
   "source": [
    "data.loc[data['ner'] == 'B-PER', 'token']"
   ]
  },
  {
   "cell_type": "code",
   "execution_count": 5,
   "metadata": {},
   "outputs": [
    {
     "output_type": "stream",
     "name": "stderr",
     "text": [
      "d:\\Drive\\KULEEAH\\Semester 8\\TA Farihin\\env\\lib\\site-packages\\seaborn\\_decorators.py:43: FutureWarning: Pass the following variable as a keyword arg: x. From version 0.12, the only valid positional argument will be `data`, and passing other arguments without an explicit keyword will result in an error or misinterpretation.\n  FutureWarning\n"
     ]
    },
    {
     "output_type": "display_data",
     "data": {
      "text/plain": "<Figure size 720x288 with 1 Axes>",
      "image/svg+xml": "<?xml version=\"1.0\" encoding=\"utf-8\" standalone=\"no\"?>\r\n<!DOCTYPE svg PUBLIC \"-//W3C//DTD SVG 1.1//EN\"\r\n  \"http://www.w3.org/Graphics/SVG/1.1/DTD/svg11.dtd\">\r\n<svg height=\"281.555781pt\" version=\"1.1\" viewBox=\"0 0 713.6175 281.555781\" width=\"713.6175pt\" xmlns=\"http://www.w3.org/2000/svg\" xmlns:xlink=\"http://www.w3.org/1999/xlink\">\r\n <metadata>\r\n  <rdf:RDF xmlns:cc=\"http://creativecommons.org/ns#\" xmlns:dc=\"http://purl.org/dc/elements/1.1/\" xmlns:rdf=\"http://www.w3.org/1999/02/22-rdf-syntax-ns#\">\r\n   <cc:Work>\r\n    <dc:type rdf:resource=\"http://purl.org/dc/dcmitype/StillImage\"/>\r\n    <dc:date>2021-06-21T00:14:30.129249</dc:date>\r\n    <dc:format>image/svg+xml</dc:format>\r\n    <dc:creator>\r\n     <cc:Agent>\r\n      <dc:title>Matplotlib v3.4.2, https://matplotlib.org/</dc:title>\r\n     </cc:Agent>\r\n    </dc:creator>\r\n   </cc:Work>\r\n  </rdf:RDF>\r\n </metadata>\r\n <defs>\r\n  <style type=\"text/css\">*{stroke-linecap:butt;stroke-linejoin:round;}</style>\r\n </defs>\r\n <g id=\"figure_1\">\r\n  <g id=\"patch_1\">\r\n   <path d=\"M 0 281.555781 \r\nL 713.6175 281.555781 \r\nL 713.6175 0 \r\nL 0 0 \r\nz\r\n\" style=\"fill:none;\"/>\r\n  </g>\r\n  <g id=\"axes_1\">\r\n   <g id=\"patch_2\">\r\n    <path d=\"M 56.1425 207.1 \r\nL 706.4175 207.1 \r\nL 706.4175 7.2 \r\nL 56.1425 7.2 \r\nz\r\n\" style=\"fill:#eaeaf2;\"/>\r\n   </g>\r\n   <g id=\"matplotlib.axis_1\">\r\n    <g id=\"xtick_1\">\r\n     <g id=\"text_1\">\r\n      <!-- B-PROD -->\r\n      <g style=\"fill:#262626;\" transform=\"translate(86.080964 259.381406)rotate(-90)scale(0.11 -0.11)\">\r\n       <defs>\r\n        <path d=\"M 469 0 \r\nL 469 4581 \r\nL 2188 4581 \r\nQ 2713 4581 3030 4442 \r\nQ 3347 4303 3526 4014 \r\nQ 3706 3725 3706 3409 \r\nQ 3706 3116 3547 2856 \r\nQ 3388 2597 3066 2438 \r\nQ 3481 2316 3704 2022 \r\nQ 3928 1728 3928 1328 \r\nQ 3928 1006 3792 729 \r\nQ 3656 453 3456 303 \r\nQ 3256 153 2954 76 \r\nQ 2653 0 2216 0 \r\nL 469 0 \r\nz\r\nM 1075 2656 \r\nL 2066 2656 \r\nQ 2469 2656 2644 2709 \r\nQ 2875 2778 2992 2937 \r\nQ 3109 3097 3109 3338 \r\nQ 3109 3566 3000 3739 \r\nQ 2891 3913 2687 3977 \r\nQ 2484 4041 1991 4041 \r\nL 1075 4041 \r\nL 1075 2656 \r\nz\r\nM 1075 541 \r\nL 2216 541 \r\nQ 2509 541 2628 563 \r\nQ 2838 600 2978 687 \r\nQ 3119 775 3209 942 \r\nQ 3300 1109 3300 1328 \r\nQ 3300 1584 3169 1773 \r\nQ 3038 1963 2805 2039 \r\nQ 2572 2116 2134 2116 \r\nL 1075 2116 \r\nL 1075 541 \r\nz\r\n\" id=\"ArialMT-42\" transform=\"scale(0.015625)\"/>\r\n        <path d=\"M 203 1375 \r\nL 203 1941 \r\nL 1931 1941 \r\nL 1931 1375 \r\nL 203 1375 \r\nz\r\n\" id=\"ArialMT-2d\" transform=\"scale(0.015625)\"/>\r\n        <path d=\"M 494 0 \r\nL 494 4581 \r\nL 2222 4581 \r\nQ 2678 4581 2919 4538 \r\nQ 3256 4481 3484 4323 \r\nQ 3713 4166 3852 3881 \r\nQ 3991 3597 3991 3256 \r\nQ 3991 2672 3619 2267 \r\nQ 3247 1863 2275 1863 \r\nL 1100 1863 \r\nL 1100 0 \r\nL 494 0 \r\nz\r\nM 1100 2403 \r\nL 2284 2403 \r\nQ 2872 2403 3119 2622 \r\nQ 3366 2841 3366 3238 \r\nQ 3366 3525 3220 3729 \r\nQ 3075 3934 2838 4000 \r\nQ 2684 4041 2272 4041 \r\nL 1100 4041 \r\nL 1100 2403 \r\nz\r\n\" id=\"ArialMT-50\" transform=\"scale(0.015625)\"/>\r\n        <path d=\"M 503 0 \r\nL 503 4581 \r\nL 2534 4581 \r\nQ 3147 4581 3465 4457 \r\nQ 3784 4334 3975 4021 \r\nQ 4166 3709 4166 3331 \r\nQ 4166 2844 3850 2509 \r\nQ 3534 2175 2875 2084 \r\nQ 3116 1969 3241 1856 \r\nQ 3506 1613 3744 1247 \r\nL 4541 0 \r\nL 3778 0 \r\nL 3172 953 \r\nQ 2906 1366 2734 1584 \r\nQ 2563 1803 2427 1890 \r\nQ 2291 1978 2150 2013 \r\nQ 2047 2034 1813 2034 \r\nL 1109 2034 \r\nL 1109 0 \r\nL 503 0 \r\nz\r\nM 1109 2559 \r\nL 2413 2559 \r\nQ 2828 2559 3062 2645 \r\nQ 3297 2731 3419 2920 \r\nQ 3541 3109 3541 3331 \r\nQ 3541 3656 3305 3865 \r\nQ 3069 4075 2559 4075 \r\nL 1109 4075 \r\nL 1109 2559 \r\nz\r\n\" id=\"ArialMT-52\" transform=\"scale(0.015625)\"/>\r\n        <path d=\"M 309 2231 \r\nQ 309 3372 921 4017 \r\nQ 1534 4663 2503 4663 \r\nQ 3138 4663 3647 4359 \r\nQ 4156 4056 4423 3514 \r\nQ 4691 2972 4691 2284 \r\nQ 4691 1588 4409 1038 \r\nQ 4128 488 3612 205 \r\nQ 3097 -78 2500 -78 \r\nQ 1853 -78 1343 234 \r\nQ 834 547 571 1087 \r\nQ 309 1628 309 2231 \r\nz\r\nM 934 2222 \r\nQ 934 1394 1379 917 \r\nQ 1825 441 2497 441 \r\nQ 3181 441 3623 922 \r\nQ 4066 1403 4066 2288 \r\nQ 4066 2847 3877 3264 \r\nQ 3688 3681 3323 3911 \r\nQ 2959 4141 2506 4141 \r\nQ 1863 4141 1398 3698 \r\nQ 934 3256 934 2222 \r\nz\r\n\" id=\"ArialMT-4f\" transform=\"scale(0.015625)\"/>\r\n        <path d=\"M 494 0 \r\nL 494 4581 \r\nL 2072 4581 \r\nQ 2606 4581 2888 4516 \r\nQ 3281 4425 3559 4188 \r\nQ 3922 3881 4101 3404 \r\nQ 4281 2928 4281 2316 \r\nQ 4281 1794 4159 1391 \r\nQ 4038 988 3847 723 \r\nQ 3656 459 3429 307 \r\nQ 3203 156 2883 78 \r\nQ 2563 0 2147 0 \r\nL 494 0 \r\nz\r\nM 1100 541 \r\nL 2078 541 \r\nQ 2531 541 2789 625 \r\nQ 3047 709 3200 863 \r\nQ 3416 1078 3536 1442 \r\nQ 3656 1806 3656 2325 \r\nQ 3656 3044 3420 3430 \r\nQ 3184 3816 2847 3947 \r\nQ 2603 4041 2063 4041 \r\nL 1100 4041 \r\nL 1100 541 \r\nz\r\n\" id=\"ArialMT-44\" transform=\"scale(0.015625)\"/>\r\n       </defs>\r\n       <use xlink:href=\"#ArialMT-42\"/>\r\n       <use x=\"66.699219\" xlink:href=\"#ArialMT-2d\"/>\r\n       <use x=\"100\" xlink:href=\"#ArialMT-50\"/>\r\n       <use x=\"166.699219\" xlink:href=\"#ArialMT-52\"/>\r\n       <use x=\"238.916016\" xlink:href=\"#ArialMT-4f\"/>\r\n       <use x=\"316.699219\" xlink:href=\"#ArialMT-44\"/>\r\n      </g>\r\n     </g>\r\n    </g>\r\n    <g id=\"xtick_2\">\r\n     <g id=\"text_2\">\r\n      <!-- B-PER -->\r\n      <g style=\"fill:#262626;\" transform=\"translate(140.270547 250.21875)rotate(-90)scale(0.11 -0.11)\">\r\n       <defs>\r\n        <path d=\"M 506 0 \r\nL 506 4581 \r\nL 3819 4581 \r\nL 3819 4041 \r\nL 1113 4041 \r\nL 1113 2638 \r\nL 3647 2638 \r\nL 3647 2100 \r\nL 1113 2100 \r\nL 1113 541 \r\nL 3925 541 \r\nL 3925 0 \r\nL 506 0 \r\nz\r\n\" id=\"ArialMT-45\" transform=\"scale(0.015625)\"/>\r\n       </defs>\r\n       <use xlink:href=\"#ArialMT-42\"/>\r\n       <use x=\"66.699219\" xlink:href=\"#ArialMT-2d\"/>\r\n       <use x=\"100\" xlink:href=\"#ArialMT-50\"/>\r\n       <use x=\"166.699219\" xlink:href=\"#ArialMT-45\"/>\r\n       <use x=\"233.398438\" xlink:href=\"#ArialMT-52\"/>\r\n      </g>\r\n     </g>\r\n    </g>\r\n    <g id=\"xtick_3\">\r\n     <g id=\"text_3\">\r\n      <!-- B-LOC -->\r\n      <g style=\"fill:#262626;\" transform=\"translate(194.46013 250.217031)rotate(-90)scale(0.11 -0.11)\">\r\n       <defs>\r\n        <path d=\"M 469 0 \r\nL 469 4581 \r\nL 1075 4581 \r\nL 1075 541 \r\nL 3331 541 \r\nL 3331 0 \r\nL 469 0 \r\nz\r\n\" id=\"ArialMT-4c\" transform=\"scale(0.015625)\"/>\r\n        <path d=\"M 3763 1606 \r\nL 4369 1453 \r\nQ 4178 706 3683 314 \r\nQ 3188 -78 2472 -78 \r\nQ 1731 -78 1267 223 \r\nQ 803 525 561 1097 \r\nQ 319 1669 319 2325 \r\nQ 319 3041 592 3573 \r\nQ 866 4106 1370 4382 \r\nQ 1875 4659 2481 4659 \r\nQ 3169 4659 3637 4309 \r\nQ 4106 3959 4291 3325 \r\nL 3694 3184 \r\nQ 3534 3684 3231 3912 \r\nQ 2928 4141 2469 4141 \r\nQ 1941 4141 1586 3887 \r\nQ 1231 3634 1087 3207 \r\nQ 944 2781 944 2328 \r\nQ 944 1744 1114 1308 \r\nQ 1284 872 1643 656 \r\nQ 2003 441 2422 441 \r\nQ 2931 441 3284 734 \r\nQ 3638 1028 3763 1606 \r\nz\r\n\" id=\"ArialMT-43\" transform=\"scale(0.015625)\"/>\r\n       </defs>\r\n       <use xlink:href=\"#ArialMT-42\"/>\r\n       <use x=\"66.699219\" xlink:href=\"#ArialMT-2d\"/>\r\n       <use x=\"100\" xlink:href=\"#ArialMT-4c\"/>\r\n       <use x=\"155.615234\" xlink:href=\"#ArialMT-4f\"/>\r\n       <use x=\"233.398438\" xlink:href=\"#ArialMT-43\"/>\r\n      </g>\r\n     </g>\r\n    </g>\r\n    <g id=\"xtick_4\">\r\n     <g id=\"text_4\">\r\n      <!-- B-WA -->\r\n      <g style=\"fill:#262626;\" transform=\"translate(248.649714 244.907812)rotate(-90)scale(0.11 -0.11)\">\r\n       <defs>\r\n        <path d=\"M 1294 0 \r\nL 78 4581 \r\nL 700 4581 \r\nL 1397 1578 \r\nQ 1509 1106 1591 641 \r\nQ 1766 1375 1797 1488 \r\nL 2669 4581 \r\nL 3400 4581 \r\nL 4056 2263 \r\nQ 4303 1400 4413 641 \r\nQ 4500 1075 4641 1638 \r\nL 5359 4581 \r\nL 5969 4581 \r\nL 4713 0 \r\nL 4128 0 \r\nL 3163 3491 \r\nQ 3041 3928 3019 4028 \r\nQ 2947 3713 2884 3491 \r\nL 1913 0 \r\nL 1294 0 \r\nz\r\n\" id=\"ArialMT-57\" transform=\"scale(0.015625)\"/>\r\n        <path d=\"M -9 0 \r\nL 1750 4581 \r\nL 2403 4581 \r\nL 4278 0 \r\nL 3588 0 \r\nL 3053 1388 \r\nL 1138 1388 \r\nL 634 0 \r\nL -9 0 \r\nz\r\nM 1313 1881 \r\nL 2866 1881 \r\nL 2388 3150 \r\nQ 2169 3728 2063 4100 \r\nQ 1975 3659 1816 3225 \r\nL 1313 1881 \r\nz\r\n\" id=\"ArialMT-41\" transform=\"scale(0.015625)\"/>\r\n       </defs>\r\n       <use xlink:href=\"#ArialMT-42\"/>\r\n       <use x=\"66.699219\" xlink:href=\"#ArialMT-2d\"/>\r\n       <use x=\"100\" xlink:href=\"#ArialMT-57\"/>\r\n       <use x=\"190.634766\" xlink:href=\"#ArialMT-41\"/>\r\n      </g>\r\n     </g>\r\n    </g>\r\n    <g id=\"xtick_5\">\r\n     <g id=\"text_5\">\r\n      <!-- I-WA -->\r\n      <g style=\"fill:#262626;\" transform=\"translate(302.839297 240.626406)rotate(-90)scale(0.11 -0.11)\">\r\n       <defs>\r\n        <path d=\"M 597 0 \r\nL 597 4581 \r\nL 1203 4581 \r\nL 1203 0 \r\nL 597 0 \r\nz\r\n\" id=\"ArialMT-49\" transform=\"scale(0.015625)\"/>\r\n       </defs>\r\n       <use xlink:href=\"#ArialMT-49\"/>\r\n       <use x=\"27.783203\" xlink:href=\"#ArialMT-2d\"/>\r\n       <use x=\"61.083984\" xlink:href=\"#ArialMT-57\"/>\r\n       <use x=\"151.71875\" xlink:href=\"#ArialMT-41\"/>\r\n      </g>\r\n     </g>\r\n    </g>\r\n    <g id=\"xtick_6\">\r\n     <g id=\"text_6\">\r\n      <!-- B-ORG -->\r\n      <g style=\"fill:#262626;\" transform=\"translate(357.02888 252.655937)rotate(-90)scale(0.11 -0.11)\">\r\n       <defs>\r\n        <path d=\"M 2638 1797 \r\nL 2638 2334 \r\nL 4578 2338 \r\nL 4578 638 \r\nQ 4131 281 3656 101 \r\nQ 3181 -78 2681 -78 \r\nQ 2006 -78 1454 211 \r\nQ 903 500 622 1047 \r\nQ 341 1594 341 2269 \r\nQ 341 2938 620 3517 \r\nQ 900 4097 1425 4378 \r\nQ 1950 4659 2634 4659 \r\nQ 3131 4659 3532 4498 \r\nQ 3934 4338 4162 4050 \r\nQ 4391 3763 4509 3300 \r\nL 3963 3150 \r\nQ 3859 3500 3706 3700 \r\nQ 3553 3900 3268 4020 \r\nQ 2984 4141 2638 4141 \r\nQ 2222 4141 1919 4014 \r\nQ 1616 3888 1430 3681 \r\nQ 1244 3475 1141 3228 \r\nQ 966 2803 966 2306 \r\nQ 966 1694 1177 1281 \r\nQ 1388 869 1791 669 \r\nQ 2194 469 2647 469 \r\nQ 3041 469 3416 620 \r\nQ 3791 772 3984 944 \r\nL 3984 1797 \r\nL 2638 1797 \r\nz\r\n\" id=\"ArialMT-47\" transform=\"scale(0.015625)\"/>\r\n       </defs>\r\n       <use xlink:href=\"#ArialMT-42\"/>\r\n       <use x=\"66.699219\" xlink:href=\"#ArialMT-2d\"/>\r\n       <use x=\"100\" xlink:href=\"#ArialMT-4f\"/>\r\n       <use x=\"177.783203\" xlink:href=\"#ArialMT-52\"/>\r\n       <use x=\"250\" xlink:href=\"#ArialMT-47\"/>\r\n      </g>\r\n     </g>\r\n    </g>\r\n    <g id=\"xtick_7\">\r\n     <g id=\"text_7\">\r\n      <!-- I-PER -->\r\n      <g style=\"fill:#262626;\" transform=\"translate(411.218464 245.937344)rotate(-90)scale(0.11 -0.11)\">\r\n       <use xlink:href=\"#ArialMT-49\"/>\r\n       <use x=\"27.783203\" xlink:href=\"#ArialMT-2d\"/>\r\n       <use x=\"61.083984\" xlink:href=\"#ArialMT-50\"/>\r\n       <use x=\"127.783203\" xlink:href=\"#ArialMT-45\"/>\r\n       <use x=\"194.482422\" xlink:href=\"#ArialMT-52\"/>\r\n      </g>\r\n     </g>\r\n    </g>\r\n    <g id=\"xtick_8\">\r\n     <g id=\"text_8\">\r\n      <!-- I-PROD -->\r\n      <g style=\"fill:#262626;\" transform=\"translate(465.408047 255.1)rotate(-90)scale(0.11 -0.11)\">\r\n       <use xlink:href=\"#ArialMT-49\"/>\r\n       <use x=\"27.783203\" xlink:href=\"#ArialMT-2d\"/>\r\n       <use x=\"61.083984\" xlink:href=\"#ArialMT-50\"/>\r\n       <use x=\"127.783203\" xlink:href=\"#ArialMT-52\"/>\r\n       <use x=\"200\" xlink:href=\"#ArialMT-4f\"/>\r\n       <use x=\"277.783203\" xlink:href=\"#ArialMT-44\"/>\r\n      </g>\r\n     </g>\r\n    </g>\r\n    <g id=\"xtick_9\">\r\n     <g id=\"text_9\">\r\n      <!-- I-LOC -->\r\n      <g style=\"fill:#262626;\" transform=\"translate(519.59763 245.935625)rotate(-90)scale(0.11 -0.11)\">\r\n       <use xlink:href=\"#ArialMT-49\"/>\r\n       <use x=\"27.783203\" xlink:href=\"#ArialMT-2d\"/>\r\n       <use x=\"61.083984\" xlink:href=\"#ArialMT-4c\"/>\r\n       <use x=\"116.699219\" xlink:href=\"#ArialMT-4f\"/>\r\n       <use x=\"194.482422\" xlink:href=\"#ArialMT-43\"/>\r\n      </g>\r\n     </g>\r\n    </g>\r\n    <g id=\"xtick_10\">\r\n     <g id=\"text_10\">\r\n      <!-- B-EV -->\r\n      <g style=\"fill:#262626;\" transform=\"translate(573.787214 242.274687)rotate(-90)scale(0.11 -0.11)\">\r\n       <defs>\r\n        <path d=\"M 1803 0 \r\nL 28 4581 \r\nL 684 4581 \r\nL 1875 1253 \r\nQ 2019 853 2116 503 \r\nQ 2222 878 2363 1253 \r\nL 3600 4581 \r\nL 4219 4581 \r\nL 2425 0 \r\nL 1803 0 \r\nz\r\n\" id=\"ArialMT-56\" transform=\"scale(0.015625)\"/>\r\n       </defs>\r\n       <use xlink:href=\"#ArialMT-42\"/>\r\n       <use x=\"66.699219\" xlink:href=\"#ArialMT-2d\"/>\r\n       <use x=\"100\" xlink:href=\"#ArialMT-45\"/>\r\n       <use x=\"166.699219\" xlink:href=\"#ArialMT-56\"/>\r\n      </g>\r\n     </g>\r\n    </g>\r\n    <g id=\"xtick_11\">\r\n     <g id=\"text_11\">\r\n      <!-- I-EV -->\r\n      <g style=\"fill:#262626;\" transform=\"translate(627.976797 237.993281)rotate(-90)scale(0.11 -0.11)\">\r\n       <use xlink:href=\"#ArialMT-49\"/>\r\n       <use x=\"27.783203\" xlink:href=\"#ArialMT-2d\"/>\r\n       <use x=\"61.083984\" xlink:href=\"#ArialMT-45\"/>\r\n       <use x=\"127.783203\" xlink:href=\"#ArialMT-56\"/>\r\n      </g>\r\n     </g>\r\n    </g>\r\n    <g id=\"xtick_12\">\r\n     <g id=\"text_12\">\r\n      <!-- I-ORG -->\r\n      <g style=\"fill:#262626;\" transform=\"translate(682.16638 248.374531)rotate(-90)scale(0.11 -0.11)\">\r\n       <use xlink:href=\"#ArialMT-49\"/>\r\n       <use x=\"27.783203\" xlink:href=\"#ArialMT-2d\"/>\r\n       <use x=\"61.083984\" xlink:href=\"#ArialMT-4f\"/>\r\n       <use x=\"138.867188\" xlink:href=\"#ArialMT-52\"/>\r\n       <use x=\"211.083984\" xlink:href=\"#ArialMT-47\"/>\r\n      </g>\r\n     </g>\r\n    </g>\r\n    <g id=\"text_13\">\r\n     <!-- ner -->\r\n     <g style=\"fill:#262626;\" transform=\"translate(372.609062 271.970781)scale(0.12 -0.12)\">\r\n      <defs>\r\n       <path d=\"M 422 0 \r\nL 422 3319 \r\nL 928 3319 \r\nL 928 2847 \r\nQ 1294 3394 1984 3394 \r\nQ 2284 3394 2536 3286 \r\nQ 2788 3178 2913 3003 \r\nQ 3038 2828 3088 2588 \r\nQ 3119 2431 3119 2041 \r\nL 3119 0 \r\nL 2556 0 \r\nL 2556 2019 \r\nQ 2556 2363 2490 2533 \r\nQ 2425 2703 2258 2804 \r\nQ 2091 2906 1866 2906 \r\nQ 1506 2906 1245 2678 \r\nQ 984 2450 984 1813 \r\nL 984 0 \r\nL 422 0 \r\nz\r\n\" id=\"ArialMT-6e\" transform=\"scale(0.015625)\"/>\r\n       <path d=\"M 2694 1069 \r\nL 3275 997 \r\nQ 3138 488 2766 206 \r\nQ 2394 -75 1816 -75 \r\nQ 1088 -75 661 373 \r\nQ 234 822 234 1631 \r\nQ 234 2469 665 2931 \r\nQ 1097 3394 1784 3394 \r\nQ 2450 3394 2872 2941 \r\nQ 3294 2488 3294 1666 \r\nQ 3294 1616 3291 1516 \r\nL 816 1516 \r\nQ 847 969 1125 678 \r\nQ 1403 388 1819 388 \r\nQ 2128 388 2347 550 \r\nQ 2566 713 2694 1069 \r\nz\r\nM 847 1978 \r\nL 2700 1978 \r\nQ 2663 2397 2488 2606 \r\nQ 2219 2931 1791 2931 \r\nQ 1403 2931 1139 2672 \r\nQ 875 2413 847 1978 \r\nz\r\n\" id=\"ArialMT-65\" transform=\"scale(0.015625)\"/>\r\n       <path d=\"M 416 0 \r\nL 416 3319 \r\nL 922 3319 \r\nL 922 2816 \r\nQ 1116 3169 1280 3281 \r\nQ 1444 3394 1641 3394 \r\nQ 1925 3394 2219 3213 \r\nL 2025 2691 \r\nQ 1819 2813 1613 2813 \r\nQ 1428 2813 1281 2702 \r\nQ 1134 2591 1072 2394 \r\nQ 978 2094 978 1738 \r\nL 978 0 \r\nL 416 0 \r\nz\r\n\" id=\"ArialMT-72\" transform=\"scale(0.015625)\"/>\r\n      </defs>\r\n      <use xlink:href=\"#ArialMT-6e\"/>\r\n      <use x=\"55.615234\" xlink:href=\"#ArialMT-65\"/>\r\n      <use x=\"111.230469\" xlink:href=\"#ArialMT-72\"/>\r\n     </g>\r\n    </g>\r\n   </g>\r\n   <g id=\"matplotlib.axis_2\">\r\n    <g id=\"ytick_1\">\r\n     <g id=\"line2d_1\">\r\n      <path clip-path=\"url(#p6d5d6f37cf)\" d=\"M 56.1425 207.1 \r\nL 706.4175 207.1 \r\n\" style=\"fill:none;stroke:#ffffff;stroke-linecap:round;\"/>\r\n     </g>\r\n     <g id=\"text_14\">\r\n      <!-- 0 -->\r\n      <g style=\"fill:#262626;\" transform=\"translate(40.525469 211.036797)scale(0.11 -0.11)\">\r\n       <defs>\r\n        <path d=\"M 266 2259 \r\nQ 266 3072 433 3567 \r\nQ 600 4063 929 4331 \r\nQ 1259 4600 1759 4600 \r\nQ 2128 4600 2406 4451 \r\nQ 2684 4303 2865 4023 \r\nQ 3047 3744 3150 3342 \r\nQ 3253 2941 3253 2259 \r\nQ 3253 1453 3087 958 \r\nQ 2922 463 2592 192 \r\nQ 2263 -78 1759 -78 \r\nQ 1097 -78 719 397 \r\nQ 266 969 266 2259 \r\nz\r\nM 844 2259 \r\nQ 844 1131 1108 757 \r\nQ 1372 384 1759 384 \r\nQ 2147 384 2411 759 \r\nQ 2675 1134 2675 2259 \r\nQ 2675 3391 2411 3762 \r\nQ 2147 4134 1753 4134 \r\nQ 1366 4134 1134 3806 \r\nQ 844 3388 844 2259 \r\nz\r\n\" id=\"ArialMT-30\" transform=\"scale(0.015625)\"/>\r\n       </defs>\r\n       <use xlink:href=\"#ArialMT-30\"/>\r\n      </g>\r\n     </g>\r\n    </g>\r\n    <g id=\"ytick_2\">\r\n     <g id=\"line2d_2\">\r\n      <path clip-path=\"url(#p6d5d6f37cf)\" d=\"M 56.1425 172.883438 \r\nL 706.4175 172.883438 \r\n\" style=\"fill:none;stroke:#ffffff;stroke-linecap:round;\"/>\r\n     </g>\r\n     <g id=\"text_15\">\r\n      <!-- 1000 -->\r\n      <g style=\"fill:#262626;\" transform=\"translate(22.174375 176.820235)scale(0.11 -0.11)\">\r\n       <defs>\r\n        <path d=\"M 2384 0 \r\nL 1822 0 \r\nL 1822 3584 \r\nQ 1619 3391 1289 3197 \r\nQ 959 3003 697 2906 \r\nL 697 3450 \r\nQ 1169 3672 1522 3987 \r\nQ 1875 4303 2022 4600 \r\nL 2384 4600 \r\nL 2384 0 \r\nz\r\n\" id=\"ArialMT-31\" transform=\"scale(0.015625)\"/>\r\n       </defs>\r\n       <use xlink:href=\"#ArialMT-31\"/>\r\n       <use x=\"55.615234\" xlink:href=\"#ArialMT-30\"/>\r\n       <use x=\"111.230469\" xlink:href=\"#ArialMT-30\"/>\r\n       <use x=\"166.845703\" xlink:href=\"#ArialMT-30\"/>\r\n      </g>\r\n     </g>\r\n    </g>\r\n    <g id=\"ytick_3\">\r\n     <g id=\"line2d_3\">\r\n      <path clip-path=\"url(#p6d5d6f37cf)\" d=\"M 56.1425 138.666875 \r\nL 706.4175 138.666875 \r\n\" style=\"fill:none;stroke:#ffffff;stroke-linecap:round;\"/>\r\n     </g>\r\n     <g id=\"text_16\">\r\n      <!-- 2000 -->\r\n      <g style=\"fill:#262626;\" transform=\"translate(22.174375 142.603672)scale(0.11 -0.11)\">\r\n       <defs>\r\n        <path d=\"M 3222 541 \r\nL 3222 0 \r\nL 194 0 \r\nQ 188 203 259 391 \r\nQ 375 700 629 1000 \r\nQ 884 1300 1366 1694 \r\nQ 2113 2306 2375 2664 \r\nQ 2638 3022 2638 3341 \r\nQ 2638 3675 2398 3904 \r\nQ 2159 4134 1775 4134 \r\nQ 1369 4134 1125 3890 \r\nQ 881 3647 878 3216 \r\nL 300 3275 \r\nQ 359 3922 746 4261 \r\nQ 1134 4600 1788 4600 \r\nQ 2447 4600 2831 4234 \r\nQ 3216 3869 3216 3328 \r\nQ 3216 3053 3103 2787 \r\nQ 2991 2522 2730 2228 \r\nQ 2469 1934 1863 1422 \r\nQ 1356 997 1212 845 \r\nQ 1069 694 975 541 \r\nL 3222 541 \r\nz\r\n\" id=\"ArialMT-32\" transform=\"scale(0.015625)\"/>\r\n       </defs>\r\n       <use xlink:href=\"#ArialMT-32\"/>\r\n       <use x=\"55.615234\" xlink:href=\"#ArialMT-30\"/>\r\n       <use x=\"111.230469\" xlink:href=\"#ArialMT-30\"/>\r\n       <use x=\"166.845703\" xlink:href=\"#ArialMT-30\"/>\r\n      </g>\r\n     </g>\r\n    </g>\r\n    <g id=\"ytick_4\">\r\n     <g id=\"line2d_4\">\r\n      <path clip-path=\"url(#p6d5d6f37cf)\" d=\"M 56.1425 104.450313 \r\nL 706.4175 104.450313 \r\n\" style=\"fill:none;stroke:#ffffff;stroke-linecap:round;\"/>\r\n     </g>\r\n     <g id=\"text_17\">\r\n      <!-- 3000 -->\r\n      <g style=\"fill:#262626;\" transform=\"translate(22.174375 108.38711)scale(0.11 -0.11)\">\r\n       <defs>\r\n        <path d=\"M 269 1209 \r\nL 831 1284 \r\nQ 928 806 1161 595 \r\nQ 1394 384 1728 384 \r\nQ 2125 384 2398 659 \r\nQ 2672 934 2672 1341 \r\nQ 2672 1728 2419 1979 \r\nQ 2166 2231 1775 2231 \r\nQ 1616 2231 1378 2169 \r\nL 1441 2663 \r\nQ 1497 2656 1531 2656 \r\nQ 1891 2656 2178 2843 \r\nQ 2466 3031 2466 3422 \r\nQ 2466 3731 2256 3934 \r\nQ 2047 4138 1716 4138 \r\nQ 1388 4138 1169 3931 \r\nQ 950 3725 888 3313 \r\nL 325 3413 \r\nQ 428 3978 793 4289 \r\nQ 1159 4600 1703 4600 \r\nQ 2078 4600 2393 4439 \r\nQ 2709 4278 2876 4000 \r\nQ 3044 3722 3044 3409 \r\nQ 3044 3113 2884 2869 \r\nQ 2725 2625 2413 2481 \r\nQ 2819 2388 3044 2092 \r\nQ 3269 1797 3269 1353 \r\nQ 3269 753 2831 336 \r\nQ 2394 -81 1725 -81 \r\nQ 1122 -81 723 278 \r\nQ 325 638 269 1209 \r\nz\r\n\" id=\"ArialMT-33\" transform=\"scale(0.015625)\"/>\r\n       </defs>\r\n       <use xlink:href=\"#ArialMT-33\"/>\r\n       <use x=\"55.615234\" xlink:href=\"#ArialMT-30\"/>\r\n       <use x=\"111.230469\" xlink:href=\"#ArialMT-30\"/>\r\n       <use x=\"166.845703\" xlink:href=\"#ArialMT-30\"/>\r\n      </g>\r\n     </g>\r\n    </g>\r\n    <g id=\"ytick_5\">\r\n     <g id=\"line2d_5\">\r\n      <path clip-path=\"url(#p6d5d6f37cf)\" d=\"M 56.1425 70.233751 \r\nL 706.4175 70.233751 \r\n\" style=\"fill:none;stroke:#ffffff;stroke-linecap:round;\"/>\r\n     </g>\r\n     <g id=\"text_18\">\r\n      <!-- 4000 -->\r\n      <g style=\"fill:#262626;\" transform=\"translate(22.174375 74.170548)scale(0.11 -0.11)\">\r\n       <defs>\r\n        <path d=\"M 2069 0 \r\nL 2069 1097 \r\nL 81 1097 \r\nL 81 1613 \r\nL 2172 4581 \r\nL 2631 4581 \r\nL 2631 1613 \r\nL 3250 1613 \r\nL 3250 1097 \r\nL 2631 1097 \r\nL 2631 0 \r\nL 2069 0 \r\nz\r\nM 2069 1613 \r\nL 2069 3678 \r\nL 634 1613 \r\nL 2069 1613 \r\nz\r\n\" id=\"ArialMT-34\" transform=\"scale(0.015625)\"/>\r\n       </defs>\r\n       <use xlink:href=\"#ArialMT-34\"/>\r\n       <use x=\"55.615234\" xlink:href=\"#ArialMT-30\"/>\r\n       <use x=\"111.230469\" xlink:href=\"#ArialMT-30\"/>\r\n       <use x=\"166.845703\" xlink:href=\"#ArialMT-30\"/>\r\n      </g>\r\n     </g>\r\n    </g>\r\n    <g id=\"ytick_6\">\r\n     <g id=\"line2d_6\">\r\n      <path clip-path=\"url(#p6d5d6f37cf)\" d=\"M 56.1425 36.017189 \r\nL 706.4175 36.017189 \r\n\" style=\"fill:none;stroke:#ffffff;stroke-linecap:round;\"/>\r\n     </g>\r\n     <g id=\"text_19\">\r\n      <!-- 5000 -->\r\n      <g style=\"fill:#262626;\" transform=\"translate(22.174375 39.953986)scale(0.11 -0.11)\">\r\n       <defs>\r\n        <path d=\"M 266 1200 \r\nL 856 1250 \r\nQ 922 819 1161 601 \r\nQ 1400 384 1738 384 \r\nQ 2144 384 2425 690 \r\nQ 2706 997 2706 1503 \r\nQ 2706 1984 2436 2262 \r\nQ 2166 2541 1728 2541 \r\nQ 1456 2541 1237 2417 \r\nQ 1019 2294 894 2097 \r\nL 366 2166 \r\nL 809 4519 \r\nL 3088 4519 \r\nL 3088 3981 \r\nL 1259 3981 \r\nL 1013 2750 \r\nQ 1425 3038 1878 3038 \r\nQ 2478 3038 2890 2622 \r\nQ 3303 2206 3303 1553 \r\nQ 3303 931 2941 478 \r\nQ 2500 -78 1738 -78 \r\nQ 1113 -78 717 272 \r\nQ 322 622 266 1200 \r\nz\r\n\" id=\"ArialMT-35\" transform=\"scale(0.015625)\"/>\r\n       </defs>\r\n       <use xlink:href=\"#ArialMT-35\"/>\r\n       <use x=\"55.615234\" xlink:href=\"#ArialMT-30\"/>\r\n       <use x=\"111.230469\" xlink:href=\"#ArialMT-30\"/>\r\n       <use x=\"166.845703\" xlink:href=\"#ArialMT-30\"/>\r\n      </g>\r\n     </g>\r\n    </g>\r\n    <g id=\"text_20\">\r\n     <!-- count -->\r\n     <g style=\"fill:#262626;\" transform=\"translate(15.789375 121.826562)rotate(-90)scale(0.12 -0.12)\">\r\n      <defs>\r\n       <path d=\"M 2588 1216 \r\nL 3141 1144 \r\nQ 3050 572 2676 248 \r\nQ 2303 -75 1759 -75 \r\nQ 1078 -75 664 370 \r\nQ 250 816 250 1647 \r\nQ 250 2184 428 2587 \r\nQ 606 2991 970 3192 \r\nQ 1334 3394 1763 3394 \r\nQ 2303 3394 2647 3120 \r\nQ 2991 2847 3088 2344 \r\nL 2541 2259 \r\nQ 2463 2594 2264 2762 \r\nQ 2066 2931 1784 2931 \r\nQ 1359 2931 1093 2626 \r\nQ 828 2322 828 1663 \r\nQ 828 994 1084 691 \r\nQ 1341 388 1753 388 \r\nQ 2084 388 2306 591 \r\nQ 2528 794 2588 1216 \r\nz\r\n\" id=\"ArialMT-63\" transform=\"scale(0.015625)\"/>\r\n       <path d=\"M 213 1659 \r\nQ 213 2581 725 3025 \r\nQ 1153 3394 1769 3394 \r\nQ 2453 3394 2887 2945 \r\nQ 3322 2497 3322 1706 \r\nQ 3322 1066 3130 698 \r\nQ 2938 331 2570 128 \r\nQ 2203 -75 1769 -75 \r\nQ 1072 -75 642 372 \r\nQ 213 819 213 1659 \r\nz\r\nM 791 1659 \r\nQ 791 1022 1069 705 \r\nQ 1347 388 1769 388 \r\nQ 2188 388 2466 706 \r\nQ 2744 1025 2744 1678 \r\nQ 2744 2294 2464 2611 \r\nQ 2184 2928 1769 2928 \r\nQ 1347 2928 1069 2612 \r\nQ 791 2297 791 1659 \r\nz\r\n\" id=\"ArialMT-6f\" transform=\"scale(0.015625)\"/>\r\n       <path d=\"M 2597 0 \r\nL 2597 488 \r\nQ 2209 -75 1544 -75 \r\nQ 1250 -75 995 37 \r\nQ 741 150 617 320 \r\nQ 494 491 444 738 \r\nQ 409 903 409 1263 \r\nL 409 3319 \r\nL 972 3319 \r\nL 972 1478 \r\nQ 972 1038 1006 884 \r\nQ 1059 663 1231 536 \r\nQ 1403 409 1656 409 \r\nQ 1909 409 2131 539 \r\nQ 2353 669 2445 892 \r\nQ 2538 1116 2538 1541 \r\nL 2538 3319 \r\nL 3100 3319 \r\nL 3100 0 \r\nL 2597 0 \r\nz\r\n\" id=\"ArialMT-75\" transform=\"scale(0.015625)\"/>\r\n       <path d=\"M 1650 503 \r\nL 1731 6 \r\nQ 1494 -44 1306 -44 \r\nQ 1000 -44 831 53 \r\nQ 663 150 594 308 \r\nQ 525 466 525 972 \r\nL 525 2881 \r\nL 113 2881 \r\nL 113 3319 \r\nL 525 3319 \r\nL 525 4141 \r\nL 1084 4478 \r\nL 1084 3319 \r\nL 1650 3319 \r\nL 1650 2881 \r\nL 1084 2881 \r\nL 1084 941 \r\nQ 1084 700 1114 631 \r\nQ 1144 563 1211 522 \r\nQ 1278 481 1403 481 \r\nQ 1497 481 1650 503 \r\nz\r\n\" id=\"ArialMT-74\" transform=\"scale(0.015625)\"/>\r\n      </defs>\r\n      <use xlink:href=\"#ArialMT-63\"/>\r\n      <use x=\"50\" xlink:href=\"#ArialMT-6f\"/>\r\n      <use x=\"105.615234\" xlink:href=\"#ArialMT-75\"/>\r\n      <use x=\"161.230469\" xlink:href=\"#ArialMT-6e\"/>\r\n      <use x=\"216.845703\" xlink:href=\"#ArialMT-74\"/>\r\n     </g>\r\n    </g>\r\n   </g>\r\n   <g id=\"patch_3\">\r\n    <path clip-path=\"url(#p6d5d6f37cf)\" d=\"M 61.561458 207.1 \r\nL 104.913125 207.1 \r\nL 104.913125 85.494338 \r\nL 61.561458 85.494338 \r\nz\r\n\" style=\"fill:#ea96a3;stroke:#ffffff;stroke-linejoin:miter;\"/>\r\n   </g>\r\n   <g id=\"patch_4\">\r\n    <path clip-path=\"url(#p6d5d6f37cf)\" d=\"M 115.751042 207.1 \r\nL 159.102708 207.1 \r\nL 159.102708 16.719048 \r\nL 115.751042 16.719048 \r\nz\r\n\" style=\"fill:#e19153;stroke:#ffffff;stroke-linejoin:miter;\"/>\r\n   </g>\r\n   <g id=\"patch_5\">\r\n    <path clip-path=\"url(#p6d5d6f37cf)\" d=\"M 169.940625 207.1 \r\nL 213.292292 207.1 \r\nL 213.292292 130.968149 \r\nL 169.940625 130.968149 \r\nz\r\n\" style=\"fill:#b89c49;stroke:#ffffff;stroke-linejoin:miter;\"/>\r\n   </g>\r\n   <g id=\"patch_6\">\r\n    <path clip-path=\"url(#p6d5d6f37cf)\" d=\"M 224.130208 207.1 \r\nL 267.481875 207.1 \r\nL 267.481875 201.488484 \r\nL 224.130208 201.488484 \r\nz\r\n\" style=\"fill:#98a246;stroke:#ffffff;stroke-linejoin:miter;\"/>\r\n   </g>\r\n   <g id=\"patch_7\">\r\n    <path clip-path=\"url(#p6d5d6f37cf)\" d=\"M 278.319792 207.1 \r\nL 321.671458 207.1 \r\nL 321.671458 197.827312 \r\nL 278.319792 197.827312 \r\nz\r\n\" style=\"fill:#60ae47;stroke:#ffffff;stroke-linejoin:miter;\"/>\r\n   </g>\r\n   <g id=\"patch_8\">\r\n    <path clip-path=\"url(#p6d5d6f37cf)\" d=\"M 332.509375 207.1 \r\nL 375.861042 207.1 \r\nL 375.861042 135.758468 \r\nL 332.509375 135.758468 \r\nz\r\n\" style=\"fill:#4aae8a;stroke:#ffffff;stroke-linejoin:miter;\"/>\r\n   </g>\r\n   <g id=\"patch_9\">\r\n    <path clip-path=\"url(#p6d5d6f37cf)\" d=\"M 386.698958 207.1 \r\nL 430.050625 207.1 \r\nL 430.050625 102.465753 \r\nL 386.698958 102.465753 \r\nz\r\n\" style=\"fill:#4baba4;stroke:#ffffff;stroke-linejoin:miter;\"/>\r\n   </g>\r\n   <g id=\"patch_10\">\r\n    <path clip-path=\"url(#p6d5d6f37cf)\" d=\"M 440.888542 207.1 \r\nL 484.240208 207.1 \r\nL 484.240208 166.827106 \r\nL 440.888542 166.827106 \r\nz\r\n\" style=\"fill:#4fabbc;stroke:#ffffff;stroke-linejoin:miter;\"/>\r\n   </g>\r\n   <g id=\"patch_11\">\r\n    <path clip-path=\"url(#p6d5d6f37cf)\" d=\"M 495.078125 207.1 \r\nL 538.429792 207.1 \r\nL 538.429792 174.35475 \r\nL 495.078125 174.35475 \r\nz\r\n\" style=\"fill:#6daee2;stroke:#ffffff;stroke-linejoin:miter;\"/>\r\n   </g>\r\n   <g id=\"patch_12\">\r\n    <path clip-path=\"url(#p6d5d6f37cf)\" d=\"M 549.267708 207.1 \r\nL 592.619375 207.1 \r\nL 592.619375 179.418801 \r\nL 549.267708 179.418801 \r\nz\r\n\" style=\"fill:#b6a8eb;stroke:#ffffff;stroke-linejoin:miter;\"/>\r\n   </g>\r\n   <g id=\"patch_13\">\r\n    <path clip-path=\"url(#p6d5d6f37cf)\" d=\"M 603.457292 207.1 \r\nL 646.808958 207.1 \r\nL 646.808958 173.636202 \r\nL 603.457292 173.636202 \r\nz\r\n\" style=\"fill:#df8fe7;stroke:#ffffff;stroke-linejoin:miter;\"/>\r\n   </g>\r\n   <g id=\"patch_14\">\r\n    <path clip-path=\"url(#p6d5d6f37cf)\" d=\"M 657.646875 207.1 \r\nL 700.998542 207.1 \r\nL 700.998542 168.640584 \r\nL 657.646875 168.640584 \r\nz\r\n\" style=\"fill:#e890c6;stroke:#ffffff;stroke-linejoin:miter;\"/>\r\n   </g>\r\n   <g id=\"patch_15\">\r\n    <path d=\"M 56.1425 207.1 \r\nL 56.1425 7.2 \r\n\" style=\"fill:none;stroke:#ffffff;stroke-linecap:square;stroke-linejoin:miter;stroke-width:1.25;\"/>\r\n   </g>\r\n   <g id=\"patch_16\">\r\n    <path d=\"M 706.4175 207.1 \r\nL 706.4175 7.2 \r\n\" style=\"fill:none;stroke:#ffffff;stroke-linecap:square;stroke-linejoin:miter;stroke-width:1.25;\"/>\r\n   </g>\r\n   <g id=\"patch_17\">\r\n    <path d=\"M 56.1425 207.1 \r\nL 706.4175 207.1 \r\n\" style=\"fill:none;stroke:#ffffff;stroke-linecap:square;stroke-linejoin:miter;stroke-width:1.25;\"/>\r\n   </g>\r\n   <g id=\"patch_18\">\r\n    <path d=\"M 56.1425 7.2 \r\nL 706.4175 7.2 \r\n\" style=\"fill:none;stroke:#ffffff;stroke-linecap:square;stroke-linejoin:miter;stroke-width:1.25;\"/>\r\n   </g>\r\n  </g>\r\n </g>\r\n <defs>\r\n  <clipPath id=\"p6d5d6f37cf\">\r\n   <rect height=\"199.9\" width=\"650.275\" x=\"56.1425\" y=\"7.2\"/>\r\n  </clipPath>\r\n </defs>\r\n</svg>\r\n"
     },
     "metadata": {
      "needs_background": "light"
     }
    }
   ],
   "source": [
    "#Words distribution across Tags without O tag\n",
    "plt.figure(figsize=(10, 4))\n",
    "ax = sns.countplot('ner', data=data.loc[data['ner'] != 'O'])\n",
    "ax.set_xticklabels(ax.get_xticklabels(), rotation=90, ha=\"center\")\n",
    "plt.tight_layout()\n",
    "plt.show()"
   ]
  },
  {
   "cell_type": "code",
   "execution_count": 6,
   "metadata": {},
   "outputs": [],
   "source": [
    "class getsentence(object):\n",
    "    \n",
    "    def __init__(self, data):\n",
    "        self.n_sent = 1.0\n",
    "        self.data = data\n",
    "        self.empty = False\n",
    "        agg_func = lambda s: [(w, t) for w, t in zip(s[\"token\"].values.tolist(),\n",
    "                                                     s[\"ner\"].values.tolist())]\n",
    "        self.grouped = self.data.groupby(\"tweet_id\").apply(agg_func)\n",
    "        self.sentences = [s for s in self.grouped]"
   ]
  },
  {
   "cell_type": "code",
   "execution_count": 7,
   "metadata": {},
   "outputs": [
    {
     "output_type": "stream",
     "name": "stdout",
     "text": [
      "[[('@ridwankamil', 'O'), ('@KickAndyShow', 'O'), ('@Metro_TV', 'O'), ('Upaya', 'O'), ('untuk', 'O'), ('mnaikan', 'O'), ('nilai', 'O'), ('jual', 'O'), ('yg', 'O'), ('bgus,dngn', 'O'), ('cara', 'O'), ('d', 'O'), ('desain', 'O'), ('pak', 'O'), ('gubernur', 'B-PER'), ('akan', 'O'), ('menjadikn', 'O'), ('produk', 'O'), ('umkm', 'O'), ('d', 'O'), ('mintai', 'O'), ('krena', 'O'), ('yg', 'O'), ('desain', 'O'), ('org', 'O'), ('nomer', 'O'), ('satu', 'O'), ('di', 'O'), ('jabar', 'B-LOC')]]\n"
     ]
    }
   ],
   "source": [
    "getter = getsentence(data)\n",
    "sentences = getter.sentences\n",
    "#This is how a sentence will look like. \n",
    "print(sentences[:1])"
   ]
  },
  {
   "cell_type": "code",
   "execution_count": 8,
   "metadata": {},
   "outputs": [
    {
     "output_type": "stream",
     "name": "stdout",
     "text": [
      "35418\n"
     ]
    }
   ],
   "source": [
    "words = list(set(data[\"token\"].values))\n",
    "n_words = len(words)\n",
    "print(n_words)"
   ]
  },
  {
   "cell_type": "code",
   "execution_count": 9,
   "metadata": {},
   "outputs": [
    {
     "output_type": "display_data",
     "data": {
      "text/plain": "<Figure size 432x288 with 1 Axes>",
      "image/svg+xml": "<?xml version=\"1.0\" encoding=\"utf-8\" standalone=\"no\"?>\r\n<!DOCTYPE svg PUBLIC \"-//W3C//DTD SVG 1.1//EN\"\r\n  \"http://www.w3.org/Graphics/SVG/1.1/DTD/svg11.dtd\">\r\n<svg height=\"251.399844pt\" version=\"1.1\" viewBox=\"0 0 380.09394 251.399844\" width=\"380.09394pt\" xmlns=\"http://www.w3.org/2000/svg\" xmlns:xlink=\"http://www.w3.org/1999/xlink\">\r\n <metadata>\r\n  <rdf:RDF xmlns:cc=\"http://creativecommons.org/ns#\" xmlns:dc=\"http://purl.org/dc/elements/1.1/\" xmlns:rdf=\"http://www.w3.org/1999/02/22-rdf-syntax-ns#\">\r\n   <cc:Work>\r\n    <dc:type rdf:resource=\"http://purl.org/dc/dcmitype/StillImage\"/>\r\n    <dc:date>2021-06-21T00:14:33.179567</dc:date>\r\n    <dc:format>image/svg+xml</dc:format>\r\n    <dc:creator>\r\n     <cc:Agent>\r\n      <dc:title>Matplotlib v3.4.2, https://matplotlib.org/</dc:title>\r\n     </cc:Agent>\r\n    </dc:creator>\r\n   </cc:Work>\r\n  </rdf:RDF>\r\n </metadata>\r\n <defs>\r\n  <style type=\"text/css\">*{stroke-linecap:butt;stroke-linejoin:round;}</style>\r\n </defs>\r\n <g id=\"figure_1\">\r\n  <g id=\"patch_1\">\r\n   <path d=\"M 0 251.399844 \r\nL 380.09394 251.399844 \r\nL 380.09394 0 \r\nL 0 0 \r\nz\r\n\" style=\"fill:#ffffff;\"/>\r\n  </g>\r\n  <g id=\"axes_1\">\r\n   <g id=\"patch_2\">\r\n    <path d=\"M 35.051094 224.64 \r\nL 369.851094 224.64 \r\nL 369.851094 7.2 \r\nL 35.051094 7.2 \r\nz\r\n\" style=\"fill:#e5e5e5;\"/>\r\n   </g>\r\n   <g id=\"matplotlib.axis_1\">\r\n    <g id=\"xtick_1\">\r\n     <g id=\"line2d_1\">\r\n      <path clip-path=\"url(#pe877ce43aa)\" d=\"M 45.726535 224.64 \r\nL 45.726535 7.2 \r\n\" style=\"fill:none;stroke:#ffffff;stroke-linecap:round;\"/>\r\n     </g>\r\n     <g id=\"text_1\">\r\n      <!-- 0 -->\r\n      <g style=\"fill:#555555;\" transform=\"translate(42.668019 242.013594)scale(0.11 -0.11)\">\r\n       <defs>\r\n        <path d=\"M 266 2259 \r\nQ 266 3072 433 3567 \r\nQ 600 4063 929 4331 \r\nQ 1259 4600 1759 4600 \r\nQ 2128 4600 2406 4451 \r\nQ 2684 4303 2865 4023 \r\nQ 3047 3744 3150 3342 \r\nQ 3253 2941 3253 2259 \r\nQ 3253 1453 3087 958 \r\nQ 2922 463 2592 192 \r\nQ 2263 -78 1759 -78 \r\nQ 1097 -78 719 397 \r\nQ 266 969 266 2259 \r\nz\r\nM 844 2259 \r\nQ 844 1131 1108 757 \r\nQ 1372 384 1759 384 \r\nQ 2147 384 2411 759 \r\nQ 2675 1134 2675 2259 \r\nQ 2675 3391 2411 3762 \r\nQ 2147 4134 1753 4134 \r\nQ 1366 4134 1134 3806 \r\nQ 844 3388 844 2259 \r\nz\r\n\" id=\"ArialMT-30\" transform=\"scale(0.015625)\"/>\r\n       </defs>\r\n       <use xlink:href=\"#ArialMT-30\"/>\r\n      </g>\r\n     </g>\r\n    </g>\r\n    <g id=\"xtick_2\">\r\n     <g id=\"line2d_2\">\r\n      <path clip-path=\"url(#pe877ce43aa)\" d=\"M 91.153943 224.64 \r\nL 91.153943 7.2 \r\n\" style=\"fill:none;stroke:#ffffff;stroke-linecap:round;\"/>\r\n     </g>\r\n     <g id=\"text_2\">\r\n      <!-- 20 -->\r\n      <g style=\"fill:#555555;\" transform=\"translate(85.036912 242.013594)scale(0.11 -0.11)\">\r\n       <defs>\r\n        <path d=\"M 3222 541 \r\nL 3222 0 \r\nL 194 0 \r\nQ 188 203 259 391 \r\nQ 375 700 629 1000 \r\nQ 884 1300 1366 1694 \r\nQ 2113 2306 2375 2664 \r\nQ 2638 3022 2638 3341 \r\nQ 2638 3675 2398 3904 \r\nQ 2159 4134 1775 4134 \r\nQ 1369 4134 1125 3890 \r\nQ 881 3647 878 3216 \r\nL 300 3275 \r\nQ 359 3922 746 4261 \r\nQ 1134 4600 1788 4600 \r\nQ 2447 4600 2831 4234 \r\nQ 3216 3869 3216 3328 \r\nQ 3216 3053 3103 2787 \r\nQ 2991 2522 2730 2228 \r\nQ 2469 1934 1863 1422 \r\nQ 1356 997 1212 845 \r\nQ 1069 694 975 541 \r\nL 3222 541 \r\nz\r\n\" id=\"ArialMT-32\" transform=\"scale(0.015625)\"/>\r\n       </defs>\r\n       <use xlink:href=\"#ArialMT-32\"/>\r\n       <use x=\"55.615234\" xlink:href=\"#ArialMT-30\"/>\r\n      </g>\r\n     </g>\r\n    </g>\r\n    <g id=\"xtick_3\">\r\n     <g id=\"line2d_3\">\r\n      <path clip-path=\"url(#pe877ce43aa)\" d=\"M 136.581352 224.64 \r\nL 136.581352 7.2 \r\n\" style=\"fill:none;stroke:#ffffff;stroke-linecap:round;\"/>\r\n     </g>\r\n     <g id=\"text_3\">\r\n      <!-- 40 -->\r\n      <g style=\"fill:#555555;\" transform=\"translate(130.46432 242.013594)scale(0.11 -0.11)\">\r\n       <defs>\r\n        <path d=\"M 2069 0 \r\nL 2069 1097 \r\nL 81 1097 \r\nL 81 1613 \r\nL 2172 4581 \r\nL 2631 4581 \r\nL 2631 1613 \r\nL 3250 1613 \r\nL 3250 1097 \r\nL 2631 1097 \r\nL 2631 0 \r\nL 2069 0 \r\nz\r\nM 2069 1613 \r\nL 2069 3678 \r\nL 634 1613 \r\nL 2069 1613 \r\nz\r\n\" id=\"ArialMT-34\" transform=\"scale(0.015625)\"/>\r\n       </defs>\r\n       <use xlink:href=\"#ArialMT-34\"/>\r\n       <use x=\"55.615234\" xlink:href=\"#ArialMT-30\"/>\r\n      </g>\r\n     </g>\r\n    </g>\r\n    <g id=\"xtick_4\">\r\n     <g id=\"line2d_4\">\r\n      <path clip-path=\"url(#pe877ce43aa)\" d=\"M 182.00876 224.64 \r\nL 182.00876 7.2 \r\n\" style=\"fill:none;stroke:#ffffff;stroke-linecap:round;\"/>\r\n     </g>\r\n     <g id=\"text_4\">\r\n      <!-- 60 -->\r\n      <g style=\"fill:#555555;\" transform=\"translate(175.891729 242.013594)scale(0.11 -0.11)\">\r\n       <defs>\r\n        <path d=\"M 3184 3459 \r\nL 2625 3416 \r\nQ 2550 3747 2413 3897 \r\nQ 2184 4138 1850 4138 \r\nQ 1581 4138 1378 3988 \r\nQ 1113 3794 959 3422 \r\nQ 806 3050 800 2363 \r\nQ 1003 2672 1297 2822 \r\nQ 1591 2972 1913 2972 \r\nQ 2475 2972 2870 2558 \r\nQ 3266 2144 3266 1488 \r\nQ 3266 1056 3080 686 \r\nQ 2894 316 2569 119 \r\nQ 2244 -78 1831 -78 \r\nQ 1128 -78 684 439 \r\nQ 241 956 241 2144 \r\nQ 241 3472 731 4075 \r\nQ 1159 4600 1884 4600 \r\nQ 2425 4600 2770 4297 \r\nQ 3116 3994 3184 3459 \r\nz\r\nM 888 1484 \r\nQ 888 1194 1011 928 \r\nQ 1134 663 1356 523 \r\nQ 1578 384 1822 384 \r\nQ 2178 384 2434 671 \r\nQ 2691 959 2691 1453 \r\nQ 2691 1928 2437 2201 \r\nQ 2184 2475 1800 2475 \r\nQ 1419 2475 1153 2201 \r\nQ 888 1928 888 1484 \r\nz\r\n\" id=\"ArialMT-36\" transform=\"scale(0.015625)\"/>\r\n       </defs>\r\n       <use xlink:href=\"#ArialMT-36\"/>\r\n       <use x=\"55.615234\" xlink:href=\"#ArialMT-30\"/>\r\n      </g>\r\n     </g>\r\n    </g>\r\n    <g id=\"xtick_5\">\r\n     <g id=\"line2d_5\">\r\n      <path clip-path=\"url(#pe877ce43aa)\" d=\"M 227.436168 224.64 \r\nL 227.436168 7.2 \r\n\" style=\"fill:none;stroke:#ffffff;stroke-linecap:round;\"/>\r\n     </g>\r\n     <g id=\"text_5\">\r\n      <!-- 80 -->\r\n      <g style=\"fill:#555555;\" transform=\"translate(221.319137 242.013594)scale(0.11 -0.11)\">\r\n       <defs>\r\n        <path d=\"M 1131 2484 \r\nQ 781 2613 612 2850 \r\nQ 444 3088 444 3419 \r\nQ 444 3919 803 4259 \r\nQ 1163 4600 1759 4600 \r\nQ 2359 4600 2725 4251 \r\nQ 3091 3903 3091 3403 \r\nQ 3091 3084 2923 2848 \r\nQ 2756 2613 2416 2484 \r\nQ 2838 2347 3058 2040 \r\nQ 3278 1734 3278 1309 \r\nQ 3278 722 2862 322 \r\nQ 2447 -78 1769 -78 \r\nQ 1091 -78 675 323 \r\nQ 259 725 259 1325 \r\nQ 259 1772 486 2073 \r\nQ 713 2375 1131 2484 \r\nz\r\nM 1019 3438 \r\nQ 1019 3113 1228 2906 \r\nQ 1438 2700 1772 2700 \r\nQ 2097 2700 2305 2904 \r\nQ 2513 3109 2513 3406 \r\nQ 2513 3716 2298 3927 \r\nQ 2084 4138 1766 4138 \r\nQ 1444 4138 1231 3931 \r\nQ 1019 3725 1019 3438 \r\nz\r\nM 838 1322 \r\nQ 838 1081 952 856 \r\nQ 1066 631 1291 507 \r\nQ 1516 384 1775 384 \r\nQ 2178 384 2440 643 \r\nQ 2703 903 2703 1303 \r\nQ 2703 1709 2433 1975 \r\nQ 2163 2241 1756 2241 \r\nQ 1359 2241 1098 1978 \r\nQ 838 1716 838 1322 \r\nz\r\n\" id=\"ArialMT-38\" transform=\"scale(0.015625)\"/>\r\n       </defs>\r\n       <use xlink:href=\"#ArialMT-38\"/>\r\n       <use x=\"55.615234\" xlink:href=\"#ArialMT-30\"/>\r\n      </g>\r\n     </g>\r\n    </g>\r\n    <g id=\"xtick_6\">\r\n     <g id=\"line2d_6\">\r\n      <path clip-path=\"url(#pe877ce43aa)\" d=\"M 272.863577 224.64 \r\nL 272.863577 7.2 \r\n\" style=\"fill:none;stroke:#ffffff;stroke-linecap:round;\"/>\r\n     </g>\r\n     <g id=\"text_6\">\r\n      <!-- 100 -->\r\n      <g style=\"fill:#555555;\" transform=\"translate(263.68803 242.013594)scale(0.11 -0.11)\">\r\n       <defs>\r\n        <path d=\"M 2384 0 \r\nL 1822 0 \r\nL 1822 3584 \r\nQ 1619 3391 1289 3197 \r\nQ 959 3003 697 2906 \r\nL 697 3450 \r\nQ 1169 3672 1522 3987 \r\nQ 1875 4303 2022 4600 \r\nL 2384 4600 \r\nL 2384 0 \r\nz\r\n\" id=\"ArialMT-31\" transform=\"scale(0.015625)\"/>\r\n       </defs>\r\n       <use xlink:href=\"#ArialMT-31\"/>\r\n       <use x=\"55.615234\" xlink:href=\"#ArialMT-30\"/>\r\n       <use x=\"111.230469\" xlink:href=\"#ArialMT-30\"/>\r\n      </g>\r\n     </g>\r\n    </g>\r\n    <g id=\"xtick_7\">\r\n     <g id=\"line2d_7\">\r\n      <path clip-path=\"url(#pe877ce43aa)\" d=\"M 318.290985 224.64 \r\nL 318.290985 7.2 \r\n\" style=\"fill:none;stroke:#ffffff;stroke-linecap:round;\"/>\r\n     </g>\r\n     <g id=\"text_7\">\r\n      <!-- 120 -->\r\n      <g style=\"fill:#555555;\" transform=\"translate(309.115438 242.013594)scale(0.11 -0.11)\">\r\n       <use xlink:href=\"#ArialMT-31\"/>\r\n       <use x=\"55.615234\" xlink:href=\"#ArialMT-32\"/>\r\n       <use x=\"111.230469\" xlink:href=\"#ArialMT-30\"/>\r\n      </g>\r\n     </g>\r\n    </g>\r\n    <g id=\"xtick_8\">\r\n     <g id=\"line2d_8\">\r\n      <path clip-path=\"url(#pe877ce43aa)\" d=\"M 363.718394 224.64 \r\nL 363.718394 7.2 \r\n\" style=\"fill:none;stroke:#ffffff;stroke-linecap:round;\"/>\r\n     </g>\r\n     <g id=\"text_8\">\r\n      <!-- 140 -->\r\n      <g style=\"fill:#555555;\" transform=\"translate(354.542847 242.013594)scale(0.11 -0.11)\">\r\n       <use xlink:href=\"#ArialMT-31\"/>\r\n       <use x=\"55.615234\" xlink:href=\"#ArialMT-34\"/>\r\n       <use x=\"111.230469\" xlink:href=\"#ArialMT-30\"/>\r\n      </g>\r\n     </g>\r\n    </g>\r\n   </g>\r\n   <g id=\"matplotlib.axis_2\">\r\n    <g id=\"ytick_1\">\r\n     <g id=\"line2d_9\">\r\n      <path clip-path=\"url(#pe877ce43aa)\" d=\"M 35.051094 224.64 \r\nL 369.851094 224.64 \r\n\" style=\"fill:none;stroke:#ffffff;stroke-linecap:round;\"/>\r\n     </g>\r\n     <g id=\"text_9\">\r\n      <!-- 0 -->\r\n      <g style=\"fill:#555555;\" transform=\"translate(19.434063 228.576797)scale(0.11 -0.11)\">\r\n       <use xlink:href=\"#ArialMT-30\"/>\r\n      </g>\r\n     </g>\r\n    </g>\r\n    <g id=\"ytick_2\">\r\n     <g id=\"line2d_10\">\r\n      <path clip-path=\"url(#pe877ce43aa)\" d=\"M 35.051094 198.326694 \r\nL 369.851094 198.326694 \r\n\" style=\"fill:none;stroke:#ffffff;stroke-linecap:round;\"/>\r\n     </g>\r\n     <g id=\"text_10\">\r\n      <!-- 100 -->\r\n      <g style=\"fill:#555555;\" transform=\"translate(7.2 202.263491)scale(0.11 -0.11)\">\r\n       <use xlink:href=\"#ArialMT-31\"/>\r\n       <use x=\"55.615234\" xlink:href=\"#ArialMT-30\"/>\r\n       <use x=\"111.230469\" xlink:href=\"#ArialMT-30\"/>\r\n      </g>\r\n     </g>\r\n    </g>\r\n    <g id=\"ytick_3\">\r\n     <g id=\"line2d_11\">\r\n      <path clip-path=\"url(#pe877ce43aa)\" d=\"M 35.051094 172.013389 \r\nL 369.851094 172.013389 \r\n\" style=\"fill:none;stroke:#ffffff;stroke-linecap:round;\"/>\r\n     </g>\r\n     <g id=\"text_11\">\r\n      <!-- 200 -->\r\n      <g style=\"fill:#555555;\" transform=\"translate(7.2 175.950186)scale(0.11 -0.11)\">\r\n       <use xlink:href=\"#ArialMT-32\"/>\r\n       <use x=\"55.615234\" xlink:href=\"#ArialMT-30\"/>\r\n       <use x=\"111.230469\" xlink:href=\"#ArialMT-30\"/>\r\n      </g>\r\n     </g>\r\n    </g>\r\n    <g id=\"ytick_4\">\r\n     <g id=\"line2d_12\">\r\n      <path clip-path=\"url(#pe877ce43aa)\" d=\"M 35.051094 145.700083 \r\nL 369.851094 145.700083 \r\n\" style=\"fill:none;stroke:#ffffff;stroke-linecap:round;\"/>\r\n     </g>\r\n     <g id=\"text_12\">\r\n      <!-- 300 -->\r\n      <g style=\"fill:#555555;\" transform=\"translate(7.2 149.63688)scale(0.11 -0.11)\">\r\n       <defs>\r\n        <path d=\"M 269 1209 \r\nL 831 1284 \r\nQ 928 806 1161 595 \r\nQ 1394 384 1728 384 \r\nQ 2125 384 2398 659 \r\nQ 2672 934 2672 1341 \r\nQ 2672 1728 2419 1979 \r\nQ 2166 2231 1775 2231 \r\nQ 1616 2231 1378 2169 \r\nL 1441 2663 \r\nQ 1497 2656 1531 2656 \r\nQ 1891 2656 2178 2843 \r\nQ 2466 3031 2466 3422 \r\nQ 2466 3731 2256 3934 \r\nQ 2047 4138 1716 4138 \r\nQ 1388 4138 1169 3931 \r\nQ 950 3725 888 3313 \r\nL 325 3413 \r\nQ 428 3978 793 4289 \r\nQ 1159 4600 1703 4600 \r\nQ 2078 4600 2393 4439 \r\nQ 2709 4278 2876 4000 \r\nQ 3044 3722 3044 3409 \r\nQ 3044 3113 2884 2869 \r\nQ 2725 2625 2413 2481 \r\nQ 2819 2388 3044 2092 \r\nQ 3269 1797 3269 1353 \r\nQ 3269 753 2831 336 \r\nQ 2394 -81 1725 -81 \r\nQ 1122 -81 723 278 \r\nQ 325 638 269 1209 \r\nz\r\n\" id=\"ArialMT-33\" transform=\"scale(0.015625)\"/>\r\n       </defs>\r\n       <use xlink:href=\"#ArialMT-33\"/>\r\n       <use x=\"55.615234\" xlink:href=\"#ArialMT-30\"/>\r\n       <use x=\"111.230469\" xlink:href=\"#ArialMT-30\"/>\r\n      </g>\r\n     </g>\r\n    </g>\r\n    <g id=\"ytick_5\">\r\n     <g id=\"line2d_13\">\r\n      <path clip-path=\"url(#pe877ce43aa)\" d=\"M 35.051094 119.386778 \r\nL 369.851094 119.386778 \r\n\" style=\"fill:none;stroke:#ffffff;stroke-linecap:round;\"/>\r\n     </g>\r\n     <g id=\"text_13\">\r\n      <!-- 400 -->\r\n      <g style=\"fill:#555555;\" transform=\"translate(7.2 123.323575)scale(0.11 -0.11)\">\r\n       <use xlink:href=\"#ArialMT-34\"/>\r\n       <use x=\"55.615234\" xlink:href=\"#ArialMT-30\"/>\r\n       <use x=\"111.230469\" xlink:href=\"#ArialMT-30\"/>\r\n      </g>\r\n     </g>\r\n    </g>\r\n    <g id=\"ytick_6\">\r\n     <g id=\"line2d_14\">\r\n      <path clip-path=\"url(#pe877ce43aa)\" d=\"M 35.051094 93.073472 \r\nL 369.851094 93.073472 \r\n\" style=\"fill:none;stroke:#ffffff;stroke-linecap:round;\"/>\r\n     </g>\r\n     <g id=\"text_14\">\r\n      <!-- 500 -->\r\n      <g style=\"fill:#555555;\" transform=\"translate(7.2 97.010269)scale(0.11 -0.11)\">\r\n       <defs>\r\n        <path d=\"M 266 1200 \r\nL 856 1250 \r\nQ 922 819 1161 601 \r\nQ 1400 384 1738 384 \r\nQ 2144 384 2425 690 \r\nQ 2706 997 2706 1503 \r\nQ 2706 1984 2436 2262 \r\nQ 2166 2541 1728 2541 \r\nQ 1456 2541 1237 2417 \r\nQ 1019 2294 894 2097 \r\nL 366 2166 \r\nL 809 4519 \r\nL 3088 4519 \r\nL 3088 3981 \r\nL 1259 3981 \r\nL 1013 2750 \r\nQ 1425 3038 1878 3038 \r\nQ 2478 3038 2890 2622 \r\nQ 3303 2206 3303 1553 \r\nQ 3303 931 2941 478 \r\nQ 2500 -78 1738 -78 \r\nQ 1113 -78 717 272 \r\nQ 322 622 266 1200 \r\nz\r\n\" id=\"ArialMT-35\" transform=\"scale(0.015625)\"/>\r\n       </defs>\r\n       <use xlink:href=\"#ArialMT-35\"/>\r\n       <use x=\"55.615234\" xlink:href=\"#ArialMT-30\"/>\r\n       <use x=\"111.230469\" xlink:href=\"#ArialMT-30\"/>\r\n      </g>\r\n     </g>\r\n    </g>\r\n    <g id=\"ytick_7\">\r\n     <g id=\"line2d_15\">\r\n      <path clip-path=\"url(#pe877ce43aa)\" d=\"M 35.051094 66.760167 \r\nL 369.851094 66.760167 \r\n\" style=\"fill:none;stroke:#ffffff;stroke-linecap:round;\"/>\r\n     </g>\r\n     <g id=\"text_15\">\r\n      <!-- 600 -->\r\n      <g style=\"fill:#555555;\" transform=\"translate(7.2 70.696964)scale(0.11 -0.11)\">\r\n       <use xlink:href=\"#ArialMT-36\"/>\r\n       <use x=\"55.615234\" xlink:href=\"#ArialMT-30\"/>\r\n       <use x=\"111.230469\" xlink:href=\"#ArialMT-30\"/>\r\n      </g>\r\n     </g>\r\n    </g>\r\n    <g id=\"ytick_8\">\r\n     <g id=\"line2d_16\">\r\n      <path clip-path=\"url(#pe877ce43aa)\" d=\"M 35.051094 40.446861 \r\nL 369.851094 40.446861 \r\n\" style=\"fill:none;stroke:#ffffff;stroke-linecap:round;\"/>\r\n     </g>\r\n     <g id=\"text_16\">\r\n      <!-- 700 -->\r\n      <g style=\"fill:#555555;\" transform=\"translate(7.2 44.383658)scale(0.11 -0.11)\">\r\n       <defs>\r\n        <path d=\"M 303 3981 \r\nL 303 4522 \r\nL 3269 4522 \r\nL 3269 4084 \r\nQ 2831 3619 2401 2847 \r\nQ 1972 2075 1738 1259 \r\nQ 1569 684 1522 0 \r\nL 944 0 \r\nQ 953 541 1156 1306 \r\nQ 1359 2072 1739 2783 \r\nQ 2119 3494 2547 3981 \r\nL 303 3981 \r\nz\r\n\" id=\"ArialMT-37\" transform=\"scale(0.015625)\"/>\r\n       </defs>\r\n       <use xlink:href=\"#ArialMT-37\"/>\r\n       <use x=\"55.615234\" xlink:href=\"#ArialMT-30\"/>\r\n       <use x=\"111.230469\" xlink:href=\"#ArialMT-30\"/>\r\n      </g>\r\n     </g>\r\n    </g>\r\n    <g id=\"ytick_9\">\r\n     <g id=\"line2d_17\">\r\n      <path clip-path=\"url(#pe877ce43aa)\" d=\"M 35.051094 14.133556 \r\nL 369.851094 14.133556 \r\n\" style=\"fill:none;stroke:#ffffff;stroke-linecap:round;\"/>\r\n     </g>\r\n     <g id=\"text_17\">\r\n      <!-- 800 -->\r\n      <g style=\"fill:#555555;\" transform=\"translate(7.2 18.070353)scale(0.11 -0.11)\">\r\n       <use xlink:href=\"#ArialMT-38\"/>\r\n       <use x=\"55.615234\" xlink:href=\"#ArialMT-30\"/>\r\n       <use x=\"111.230469\" xlink:href=\"#ArialMT-30\"/>\r\n      </g>\r\n     </g>\r\n    </g>\r\n   </g>\r\n   <g id=\"patch_3\">\r\n    <path clip-path=\"url(#pe877ce43aa)\" d=\"M 50.269276 224.64 \r\nL 56.356548 224.64 \r\nL 56.356548 153.067809 \r\nL 50.269276 153.067809 \r\nz\r\n\" style=\"fill:#e24a33;stroke:#eeeeee;stroke-linejoin:miter;stroke-width:0.5;\"/>\r\n   </g>\r\n   <g id=\"patch_4\">\r\n    <path clip-path=\"url(#pe877ce43aa)\" d=\"M 56.356548 224.64 \r\nL 62.443821 224.64 \r\nL 62.443821 62.286905 \r\nL 56.356548 62.286905 \r\nz\r\n\" style=\"fill:#e24a33;stroke:#eeeeee;stroke-linejoin:miter;stroke-width:0.5;\"/>\r\n   </g>\r\n   <g id=\"patch_5\">\r\n    <path clip-path=\"url(#pe877ce43aa)\" d=\"M 62.443821 224.64 \r\nL 68.531094 224.64 \r\nL 68.531094 17.817419 \r\nL 62.443821 17.817419 \r\nz\r\n\" style=\"fill:#e24a33;stroke:#eeeeee;stroke-linejoin:miter;stroke-width:0.5;\"/>\r\n   </g>\r\n   <g id=\"patch_6\">\r\n    <path clip-path=\"url(#pe877ce43aa)\" d=\"M 68.531094 224.64 \r\nL 74.618366 224.64 \r\nL 74.618366 89.38961 \r\nL 68.531094 89.38961 \r\nz\r\n\" style=\"fill:#e24a33;stroke:#eeeeee;stroke-linejoin:miter;stroke-width:0.5;\"/>\r\n   </g>\r\n   <g id=\"patch_7\">\r\n    <path clip-path=\"url(#pe877ce43aa)\" d=\"M 74.618366 224.64 \r\nL 80.705639 224.64 \r\nL 80.705639 17.554286 \r\nL 74.618366 17.554286 \r\nz\r\n\" style=\"fill:#e24a33;stroke:#eeeeee;stroke-linejoin:miter;stroke-width:0.5;\"/>\r\n   </g>\r\n   <g id=\"patch_8\">\r\n    <path clip-path=\"url(#pe877ce43aa)\" d=\"M 80.705639 224.64 \r\nL 86.792912 224.64 \r\nL 86.792912 56.761111 \r\nL 80.705639 56.761111 \r\nz\r\n\" style=\"fill:#e24a33;stroke:#eeeeee;stroke-linejoin:miter;stroke-width:0.5;\"/>\r\n   </g>\r\n   <g id=\"patch_9\">\r\n    <path clip-path=\"url(#pe877ce43aa)\" d=\"M 86.792912 224.64 \r\nL 92.880185 224.64 \r\nL 92.880185 121.754975 \r\nL 86.792912 121.754975 \r\nz\r\n\" style=\"fill:#e24a33;stroke:#eeeeee;stroke-linejoin:miter;stroke-width:0.5;\"/>\r\n   </g>\r\n   <g id=\"patch_10\">\r\n    <path clip-path=\"url(#pe877ce43aa)\" d=\"M 92.880185 224.64 \r\nL 98.967457 224.64 \r\nL 98.967457 94.389138 \r\nL 92.880185 94.389138 \r\nz\r\n\" style=\"fill:#e24a33;stroke:#eeeeee;stroke-linejoin:miter;stroke-width:0.5;\"/>\r\n   </g>\r\n   <g id=\"patch_11\">\r\n    <path clip-path=\"url(#pe877ce43aa)\" d=\"M 98.967457 224.64 \r\nL 105.05473 224.64 \r\nL 105.05473 104.91446 \r\nL 98.967457 104.91446 \r\nz\r\n\" style=\"fill:#e24a33;stroke:#eeeeee;stroke-linejoin:miter;stroke-width:0.5;\"/>\r\n   </g>\r\n   <g id=\"patch_12\">\r\n    <path clip-path=\"url(#pe877ce43aa)\" d=\"M 105.05473 224.64 \r\nL 111.142003 224.64 \r\nL 111.142003 149.910212 \r\nL 105.05473 149.910212 \r\nz\r\n\" style=\"fill:#e24a33;stroke:#eeeeee;stroke-linejoin:miter;stroke-width:0.5;\"/>\r\n   </g>\r\n   <g id=\"patch_13\">\r\n    <path clip-path=\"url(#pe877ce43aa)\" d=\"M 111.142003 224.64 \r\nL 117.229276 224.64 \r\nL 117.229276 127.017637 \r\nL 111.142003 127.017637 \r\nz\r\n\" style=\"fill:#e24a33;stroke:#eeeeee;stroke-linejoin:miter;stroke-width:0.5;\"/>\r\n   </g>\r\n   <g id=\"patch_14\">\r\n    <path clip-path=\"url(#pe877ce43aa)\" d=\"M 117.229276 224.64 \r\nL 123.316548 224.64 \r\nL 123.316548 148.331414 \r\nL 117.229276 148.331414 \r\nz\r\n\" style=\"fill:#e24a33;stroke:#eeeeee;stroke-linejoin:miter;stroke-width:0.5;\"/>\r\n   </g>\r\n   <g id=\"patch_15\">\r\n    <path clip-path=\"url(#pe877ce43aa)\" d=\"M 123.316548 224.64 \r\nL 129.403821 224.64 \r\nL 129.403821 174.907853 \r\nL 123.316548 174.907853 \r\nz\r\n\" style=\"fill:#e24a33;stroke:#eeeeee;stroke-linejoin:miter;stroke-width:0.5;\"/>\r\n   </g>\r\n   <g id=\"patch_16\">\r\n    <path clip-path=\"url(#pe877ce43aa)\" d=\"M 129.403821 224.64 \r\nL 135.491094 224.64 \r\nL 135.491094 158.067337 \r\nL 129.403821 158.067337 \r\nz\r\n\" style=\"fill:#e24a33;stroke:#eeeeee;stroke-linejoin:miter;stroke-width:0.5;\"/>\r\n   </g>\r\n   <g id=\"patch_17\">\r\n    <path clip-path=\"url(#pe877ce43aa)\" d=\"M 135.491094 224.64 \r\nL 141.578366 224.64 \r\nL 141.578366 161.224934 \r\nL 135.491094 161.224934 \r\nz\r\n\" style=\"fill:#e24a33;stroke:#eeeeee;stroke-linejoin:miter;stroke-width:0.5;\"/>\r\n   </g>\r\n   <g id=\"patch_18\">\r\n    <path clip-path=\"url(#pe877ce43aa)\" d=\"M 141.578366 224.64 \r\nL 147.665639 224.64 \r\nL 147.665639 187.801372 \r\nL 141.578366 187.801372 \r\nz\r\n\" style=\"fill:#e24a33;stroke:#eeeeee;stroke-linejoin:miter;stroke-width:0.5;\"/>\r\n   </g>\r\n   <g id=\"patch_19\">\r\n    <path clip-path=\"url(#pe877ce43aa)\" d=\"M 147.665639 224.64 \r\nL 153.752912 224.64 \r\nL 153.752912 180.433647 \r\nL 147.665639 180.433647 \r\nz\r\n\" style=\"fill:#e24a33;stroke:#eeeeee;stroke-linejoin:miter;stroke-width:0.5;\"/>\r\n   </g>\r\n   <g id=\"patch_20\">\r\n    <path clip-path=\"url(#pe877ce43aa)\" d=\"M 153.752912 224.64 \r\nL 159.840185 224.64 \r\nL 159.840185 188.327638 \r\nL 153.752912 188.327638 \r\nz\r\n\" style=\"fill:#e24a33;stroke:#eeeeee;stroke-linejoin:miter;stroke-width:0.5;\"/>\r\n   </g>\r\n   <g id=\"patch_21\">\r\n    <path clip-path=\"url(#pe877ce43aa)\" d=\"M 159.840185 224.64 \r\nL 165.927457 224.64 \r\nL 165.927457 205.431287 \r\nL 159.840185 205.431287 \r\nz\r\n\" style=\"fill:#e24a33;stroke:#eeeeee;stroke-linejoin:miter;stroke-width:0.5;\"/>\r\n   </g>\r\n   <g id=\"patch_22\">\r\n    <path clip-path=\"url(#pe877ce43aa)\" d=\"M 165.927457 224.64 \r\nL 172.01473 224.64 \r\nL 172.01473 200.958025 \r\nL 165.927457 200.958025 \r\nz\r\n\" style=\"fill:#e24a33;stroke:#eeeeee;stroke-linejoin:miter;stroke-width:0.5;\"/>\r\n   </g>\r\n   <g id=\"patch_23\">\r\n    <path clip-path=\"url(#pe877ce43aa)\" d=\"M 172.01473 224.64 \r\nL 178.102003 224.64 \r\nL 178.102003 208.062618 \r\nL 172.01473 208.062618 \r\nz\r\n\" style=\"fill:#e24a33;stroke:#eeeeee;stroke-linejoin:miter;stroke-width:0.5;\"/>\r\n   </g>\r\n   <g id=\"patch_24\">\r\n    <path clip-path=\"url(#pe877ce43aa)\" d=\"M 178.102003 224.64 \r\nL 184.189276 224.64 \r\nL 184.189276 219.377339 \r\nL 178.102003 219.377339 \r\nz\r\n\" style=\"fill:#e24a33;stroke:#eeeeee;stroke-linejoin:miter;stroke-width:0.5;\"/>\r\n   </g>\r\n   <g id=\"patch_25\">\r\n    <path clip-path=\"url(#pe877ce43aa)\" d=\"M 184.189276 224.64 \r\nL 190.276548 224.64 \r\nL 190.276548 219.377339 \r\nL 184.189276 219.377339 \r\nz\r\n\" style=\"fill:#e24a33;stroke:#eeeeee;stroke-linejoin:miter;stroke-width:0.5;\"/>\r\n   </g>\r\n   <g id=\"patch_26\">\r\n    <path clip-path=\"url(#pe877ce43aa)\" d=\"M 190.276548 224.64 \r\nL 196.363821 224.64 \r\nL 196.363821 219.640472 \r\nL 190.276548 219.640472 \r\nz\r\n\" style=\"fill:#e24a33;stroke:#eeeeee;stroke-linejoin:miter;stroke-width:0.5;\"/>\r\n   </g>\r\n   <g id=\"patch_27\">\r\n    <path clip-path=\"url(#pe877ce43aa)\" d=\"M 196.363821 224.64 \r\nL 202.451094 224.64 \r\nL 202.451094 222.798069 \r\nL 196.363821 222.798069 \r\nz\r\n\" style=\"fill:#e24a33;stroke:#eeeeee;stroke-linejoin:miter;stroke-width:0.5;\"/>\r\n   </g>\r\n   <g id=\"patch_28\">\r\n    <path clip-path=\"url(#pe877ce43aa)\" d=\"M 202.451094 224.64 \r\nL 208.538366 224.64 \r\nL 208.538366 221.745536 \r\nL 202.451094 221.745536 \r\nz\r\n\" style=\"fill:#e24a33;stroke:#eeeeee;stroke-linejoin:miter;stroke-width:0.5;\"/>\r\n   </g>\r\n   <g id=\"patch_29\">\r\n    <path clip-path=\"url(#pe877ce43aa)\" d=\"M 208.538366 224.64 \r\nL 214.625639 224.64 \r\nL 214.625639 220.693004 \r\nL 208.538366 220.693004 \r\nz\r\n\" style=\"fill:#e24a33;stroke:#eeeeee;stroke-linejoin:miter;stroke-width:0.5;\"/>\r\n   </g>\r\n   <g id=\"patch_30\">\r\n    <path clip-path=\"url(#pe877ce43aa)\" d=\"M 214.625639 224.64 \r\nL 220.712912 224.64 \r\nL 220.712912 222.271803 \r\nL 214.625639 222.271803 \r\nz\r\n\" style=\"fill:#e24a33;stroke:#eeeeee;stroke-linejoin:miter;stroke-width:0.5;\"/>\r\n   </g>\r\n   <g id=\"patch_31\">\r\n    <path clip-path=\"url(#pe877ce43aa)\" d=\"M 220.712912 224.64 \r\nL 226.800185 224.64 \r\nL 226.800185 222.798069 \r\nL 220.712912 222.798069 \r\nz\r\n\" style=\"fill:#e24a33;stroke:#eeeeee;stroke-linejoin:miter;stroke-width:0.5;\"/>\r\n   </g>\r\n   <g id=\"patch_32\">\r\n    <path clip-path=\"url(#pe877ce43aa)\" d=\"M 226.800185 224.64 \r\nL 232.887457 224.64 \r\nL 232.887457 221.745536 \r\nL 226.800185 221.745536 \r\nz\r\n\" style=\"fill:#e24a33;stroke:#eeeeee;stroke-linejoin:miter;stroke-width:0.5;\"/>\r\n   </g>\r\n   <g id=\"patch_33\">\r\n    <path clip-path=\"url(#pe877ce43aa)\" d=\"M 232.887457 224.64 \r\nL 238.97473 224.64 \r\nL 238.97473 223.324335 \r\nL 232.887457 223.324335 \r\nz\r\n\" style=\"fill:#e24a33;stroke:#eeeeee;stroke-linejoin:miter;stroke-width:0.5;\"/>\r\n   </g>\r\n   <g id=\"patch_34\">\r\n    <path clip-path=\"url(#pe877ce43aa)\" d=\"M 238.97473 224.64 \r\nL 245.062003 224.64 \r\nL 245.062003 223.850601 \r\nL 238.97473 223.850601 \r\nz\r\n\" style=\"fill:#e24a33;stroke:#eeeeee;stroke-linejoin:miter;stroke-width:0.5;\"/>\r\n   </g>\r\n   <g id=\"patch_35\">\r\n    <path clip-path=\"url(#pe877ce43aa)\" d=\"M 245.062003 224.64 \r\nL 251.149276 224.64 \r\nL 251.149276 223.061202 \r\nL 245.062003 223.061202 \r\nz\r\n\" style=\"fill:#e24a33;stroke:#eeeeee;stroke-linejoin:miter;stroke-width:0.5;\"/>\r\n   </g>\r\n   <g id=\"patch_36\">\r\n    <path clip-path=\"url(#pe877ce43aa)\" d=\"M 251.149276 224.64 \r\nL 257.236548 224.64 \r\nL 257.236548 223.324335 \r\nL 251.149276 223.324335 \r\nz\r\n\" style=\"fill:#e24a33;stroke:#eeeeee;stroke-linejoin:miter;stroke-width:0.5;\"/>\r\n   </g>\r\n   <g id=\"patch_37\">\r\n    <path clip-path=\"url(#pe877ce43aa)\" d=\"M 257.236548 224.64 \r\nL 263.323821 224.64 \r\nL 263.323821 223.587468 \r\nL 257.236548 223.587468 \r\nz\r\n\" style=\"fill:#e24a33;stroke:#eeeeee;stroke-linejoin:miter;stroke-width:0.5;\"/>\r\n   </g>\r\n   <g id=\"patch_38\">\r\n    <path clip-path=\"url(#pe877ce43aa)\" d=\"M 263.323821 224.64 \r\nL 269.411094 224.64 \r\nL 269.411094 223.061202 \r\nL 263.323821 223.061202 \r\nz\r\n\" style=\"fill:#e24a33;stroke:#eeeeee;stroke-linejoin:miter;stroke-width:0.5;\"/>\r\n   </g>\r\n   <g id=\"patch_39\">\r\n    <path clip-path=\"url(#pe877ce43aa)\" d=\"M 269.411094 224.64 \r\nL 275.498366 224.64 \r\nL 275.498366 224.64 \r\nL 269.411094 224.64 \r\nz\r\n\" style=\"fill:#e24a33;stroke:#eeeeee;stroke-linejoin:miter;stroke-width:0.5;\"/>\r\n   </g>\r\n   <g id=\"patch_40\">\r\n    <path clip-path=\"url(#pe877ce43aa)\" d=\"M 275.498366 224.64 \r\nL 281.585639 224.64 \r\nL 281.585639 223.850601 \r\nL 275.498366 223.850601 \r\nz\r\n\" style=\"fill:#e24a33;stroke:#eeeeee;stroke-linejoin:miter;stroke-width:0.5;\"/>\r\n   </g>\r\n   <g id=\"patch_41\">\r\n    <path clip-path=\"url(#pe877ce43aa)\" d=\"M 281.585639 224.64 \r\nL 287.672912 224.64 \r\nL 287.672912 223.850601 \r\nL 281.585639 223.850601 \r\nz\r\n\" style=\"fill:#e24a33;stroke:#eeeeee;stroke-linejoin:miter;stroke-width:0.5;\"/>\r\n   </g>\r\n   <g id=\"patch_42\">\r\n    <path clip-path=\"url(#pe877ce43aa)\" d=\"M 287.672912 224.64 \r\nL 293.760185 224.64 \r\nL 293.760185 224.376867 \r\nL 287.672912 224.376867 \r\nz\r\n\" style=\"fill:#e24a33;stroke:#eeeeee;stroke-linejoin:miter;stroke-width:0.5;\"/>\r\n   </g>\r\n   <g id=\"patch_43\">\r\n    <path clip-path=\"url(#pe877ce43aa)\" d=\"M 293.760185 224.64 \r\nL 299.847457 224.64 \r\nL 299.847457 223.850601 \r\nL 293.760185 223.850601 \r\nz\r\n\" style=\"fill:#e24a33;stroke:#eeeeee;stroke-linejoin:miter;stroke-width:0.5;\"/>\r\n   </g>\r\n   <g id=\"patch_44\">\r\n    <path clip-path=\"url(#pe877ce43aa)\" d=\"M 299.847457 224.64 \r\nL 305.93473 224.64 \r\nL 305.93473 222.534936 \r\nL 299.847457 222.534936 \r\nz\r\n\" style=\"fill:#e24a33;stroke:#eeeeee;stroke-linejoin:miter;stroke-width:0.5;\"/>\r\n   </g>\r\n   <g id=\"patch_45\">\r\n    <path clip-path=\"url(#pe877ce43aa)\" d=\"M 305.93473 224.64 \r\nL 312.022003 224.64 \r\nL 312.022003 224.64 \r\nL 305.93473 224.64 \r\nz\r\n\" style=\"fill:#e24a33;stroke:#eeeeee;stroke-linejoin:miter;stroke-width:0.5;\"/>\r\n   </g>\r\n   <g id=\"patch_46\">\r\n    <path clip-path=\"url(#pe877ce43aa)\" d=\"M 312.022003 224.64 \r\nL 318.109276 224.64 \r\nL 318.109276 224.376867 \r\nL 312.022003 224.376867 \r\nz\r\n\" style=\"fill:#e24a33;stroke:#eeeeee;stroke-linejoin:miter;stroke-width:0.5;\"/>\r\n   </g>\r\n   <g id=\"patch_47\">\r\n    <path clip-path=\"url(#pe877ce43aa)\" d=\"M 318.109276 224.64 \r\nL 324.196548 224.64 \r\nL 324.196548 224.113734 \r\nL 318.109276 224.113734 \r\nz\r\n\" style=\"fill:#e24a33;stroke:#eeeeee;stroke-linejoin:miter;stroke-width:0.5;\"/>\r\n   </g>\r\n   <g id=\"patch_48\">\r\n    <path clip-path=\"url(#pe877ce43aa)\" d=\"M 324.196548 224.64 \r\nL 330.283821 224.64 \r\nL 330.283821 224.64 \r\nL 324.196548 224.64 \r\nz\r\n\" style=\"fill:#e24a33;stroke:#eeeeee;stroke-linejoin:miter;stroke-width:0.5;\"/>\r\n   </g>\r\n   <g id=\"patch_49\">\r\n    <path clip-path=\"url(#pe877ce43aa)\" d=\"M 330.283821 224.64 \r\nL 336.371094 224.64 \r\nL 336.371094 224.64 \r\nL 330.283821 224.64 \r\nz\r\n\" style=\"fill:#e24a33;stroke:#eeeeee;stroke-linejoin:miter;stroke-width:0.5;\"/>\r\n   </g>\r\n   <g id=\"patch_50\">\r\n    <path clip-path=\"url(#pe877ce43aa)\" d=\"M 336.371094 224.64 \r\nL 342.458366 224.64 \r\nL 342.458366 224.64 \r\nL 336.371094 224.64 \r\nz\r\n\" style=\"fill:#e24a33;stroke:#eeeeee;stroke-linejoin:miter;stroke-width:0.5;\"/>\r\n   </g>\r\n   <g id=\"patch_51\">\r\n    <path clip-path=\"url(#pe877ce43aa)\" d=\"M 342.458366 224.64 \r\nL 348.545639 224.64 \r\nL 348.545639 224.64 \r\nL 342.458366 224.64 \r\nz\r\n\" style=\"fill:#e24a33;stroke:#eeeeee;stroke-linejoin:miter;stroke-width:0.5;\"/>\r\n   </g>\r\n   <g id=\"patch_52\">\r\n    <path clip-path=\"url(#pe877ce43aa)\" d=\"M 348.545639 224.64 \r\nL 354.632912 224.64 \r\nL 354.632912 224.376867 \r\nL 348.545639 224.376867 \r\nz\r\n\" style=\"fill:#e24a33;stroke:#eeeeee;stroke-linejoin:miter;stroke-width:0.5;\"/>\r\n   </g>\r\n   <g id=\"patch_53\">\r\n    <path d=\"M 35.051094 224.64 \r\nL 35.051094 7.2 \r\n\" style=\"fill:none;stroke:#ffffff;stroke-linecap:square;stroke-linejoin:miter;\"/>\r\n   </g>\r\n   <g id=\"patch_54\">\r\n    <path d=\"M 369.851094 224.64 \r\nL 369.851094 7.2 \r\n\" style=\"fill:none;stroke:#ffffff;stroke-linecap:square;stroke-linejoin:miter;\"/>\r\n   </g>\r\n   <g id=\"patch_55\">\r\n    <path d=\"M 35.051094 224.64 \r\nL 369.851094 224.64 \r\n\" style=\"fill:none;stroke:#ffffff;stroke-linecap:square;stroke-linejoin:miter;\"/>\r\n   </g>\r\n   <g id=\"patch_56\">\r\n    <path d=\"M 35.051094 7.2 \r\nL 369.851094 7.2 \r\n\" style=\"fill:none;stroke:#ffffff;stroke-linecap:square;stroke-linejoin:miter;\"/>\r\n   </g>\r\n  </g>\r\n </g>\r\n <defs>\r\n  <clipPath id=\"pe877ce43aa\">\r\n   <rect height=\"217.44\" width=\"334.8\" x=\"35.051094\" y=\"7.2\"/>\r\n  </clipPath>\r\n </defs>\r\n</svg>\r\n"
     },
     "metadata": {}
    }
   ],
   "source": [
    "#Lets visualize how the sentences are distributed by their length\n",
    "plt.style.use(\"ggplot\")\n",
    "plt.hist([len(s) for s in sentences], bins=50)\n",
    "plt.show()"
   ]
  },
  {
   "cell_type": "code",
   "execution_count": 12,
   "metadata": {},
   "outputs": [],
   "source": [
    "# Feature set\n",
    "def word2features(sent, i):\n",
    "    word = sent[i][0]\n",
    "    # we=get_features(word) \n",
    "    # postag = sent[i][1]\n",
    "\n",
    "    \n",
    "    features = {\n",
    "        'bias': 1.0,\n",
    "        'word.lower()': word.lower() if type(word) == str else word,\n",
    "        'word[-3:]': word[-3:] if type(word) == str else word,\n",
    "        'word[-2:]': word[-2:] if type(word) == str else word,\n",
    "        'word[-1:]': word[-2:] if type(word) == str else word,\n",
    "        'word[:3]': word[:3] if type(word) == str else word,\n",
    "        'word[:2]': word[:2] if type(word) == str else word,\n",
    "        'word[:1]': word[:2] if type(word) == str else word,\n",
    "        'word.isupper()': word.isupper() if type(word) == str else word,\n",
    "        'word.istitle()': word.istitle() if type(word) == str else word,\n",
    "        'word.isdigit()': word.isdigit() if type(word) == str else word,\n",
    "        # 'postag': postag,\n",
    "        # 'postag[:2]': postag[:2],\n",
    "    }\n",
    "    if i > 0:\n",
    "        word1 = sent[i-1][0]\n",
    "        # postag1 = sent[i-1][1]\n",
    "        features.update({\n",
    "            '-1:word.lower()': word1.lower() if type(word1) == str else word1,\n",
    "            '-1:word.istitle()': word1.istitle() if type(word1) == str else word1,\n",
    "            '-1:word.isupper()': word1.isupper() if type(word1) == str else word1,\n",
    "            # '-1:postag': postag1,\n",
    "            # '-1:postag[:2]': postag1[:2],\n",
    "        })\n",
    "    else:\n",
    "        features['BOS'] = True\n",
    "\n",
    "    if i < len(sent)-1:\n",
    "        word1 = sent[i+1][0]\n",
    "        # postag1 = sent[i+1][1]\n",
    "        features.update({\n",
    "            '+1:word.lower()': word1.lower() if type(word1) == str else word1,\n",
    "            '+1:word.istitle()': word1.istitle() if type(word1) == str else word1,\n",
    "            '+1:word.isupper()': word1.isupper() if type(word1) == str else word1,\n",
    "            # '+1:postag': postag1,\n",
    "            # '+1:postag[:2]': postag1[:2],\n",
    "        })\n",
    "    else:\n",
    "        features['EOS'] = True\n",
    "\n",
    "    #src: https://stackoverflow.com/questions/58736548/how-to-use-word-embedding-as-features-for-crf-sklearn-crfsuite-model-training\n",
    "    # we=model.get_word_vector(features['word.lower()'])\n",
    "    # for iv,value in enumerate(we):\n",
    "    #     features['v{}'.format(iv)]=value\n",
    "\n",
    "    return features\n",
    "\n",
    "def sent2features(sent):\n",
    "    return [word2features(sent, i) for i in range(len(sent))]\n",
    "\n",
    "def sent2labels(sent):\n",
    "    return [label for token, label in sent]"
   ]
  },
  {
   "cell_type": "code",
   "execution_count": 13,
   "metadata": {},
   "outputs": [],
   "source": [
    "#Creating the train and test set\n",
    "X = [sent2features(s) for s in sentences]\n",
    "y = [sent2labels(s) for s in sentences]"
   ]
  },
  {
   "cell_type": "code",
   "execution_count": 14,
   "metadata": {},
   "outputs": [
    {
     "output_type": "execute_result",
     "data": {
      "text/plain": [
       "ord.istitle()': True,\n",
       "   '-1:word.isupper()': False,\n",
       "   '+1:word.lower()': 'fx',\n",
       "   '+1:word.istitle()': False,\n",
       "   '+1:word.isupper()': True},\n",
       "  {'bias': 1.0,\n",
       "   'word.lower()': 'fx',\n",
       "   'word[-3:]': 'FX',\n",
       "   'word[-2:]': 'FX',\n",
       "   'word[-1:]': 'FX',\n",
       "   'word[:3]': 'FX',\n",
       "   'word[:2]': 'FX',\n",
       "   'word[:1]': 'FX',\n",
       "   'word.isupper()': True,\n",
       "   'word.istitle()': False,\n",
       "   'word.isdigit()': False,\n",
       "   '-1:word.lower()': 'prabowo',\n",
       "   '-1:word.istitle()': True,\n",
       "   '-1:word.isupper()': False,\n",
       "   '+1:word.lower()': 'rudy',\n",
       "   '+1:word.istitle()': True,\n",
       "   '+1:word.isupper()': False},\n",
       "  {'bias': 1.0,\n",
       "   'word.lower()': 'rudy',\n",
       "   'word[-3:]': 'udy',\n",
       "   'word[-2:]': 'dy',\n",
       "   'word[-1:]': 'dy',\n",
       "   'word[:3]': 'Rud',\n",
       "   'word[:2]': 'Ru',\n",
       "   'word[:1]': 'Ru',\n",
       "   'word.isupper()': False,\n",
       "   'word.istitle()': True,\n",
       "   'word.isdigit()': False,\n",
       "   '-1:word.lower()': 'fx',\n",
       "   '-1:word.istitle()': False,\n",
       "   '-1:word.isupper()': True,\n",
       "   '+1:word.lower()': 'jagokan',\n",
       "   '+1:word.istitle()': True,\n",
       "   '+1:word.isupper()': False},\n",
       "  {'bias': 1.0,\n",
       "   'word.lower()': 'jagokan',\n",
       "   'word[-3:]': 'kan',\n",
       "   'word[-2:]': 'an',\n",
       "   'word[-1:]': 'an',\n",
       "   'word[:3]': 'Jag',\n",
       "   'word[:2]': 'Ja',\n",
       "   'word[:1]': 'Ja',\n",
       "   'word.isupper()': False,\n",
       "   'word.istitle()': True,\n",
       "   'word.isdigit()': False,\n",
       "   '-1:word.lower()': 'rudy',\n",
       "   '-1:word.istitle()': True,\n",
       "   '-1:word.isupper()': False,\n",
       "   '+1:word.lower()': 'prananda',\n",
       "   '+1:word.istitle()': True,\n",
       "   '+1:word.isupper()': False},\n",
       "  {'bias': 1.0,\n",
       "   'word.lower()': 'prananda',\n",
       "   'word[-3:]': 'nda',\n",
       "   'word[-2:]': 'da',\n",
       "   'word[-1:]': 'da',\n",
       "   'word[:3]': 'Pra',\n",
       "   'word[:2]': 'Pr',\n",
       "   'word[:1]': 'Pr',\n",
       "   'word.isupper()': False,\n",
       "   'word.istitle()': True,\n",
       "   'word.isdigit()': False,\n",
       "   '-1:word.lower()': 'jagokan',\n",
       "   '-1:word.istitle()': True,\n",
       "   '-1:word.isupper()': False,\n",
       "   '+1:word.lower()': 'prabowo',\n",
       "   '+1:word.istitle()': True,\n",
       "   '+1:word.isupper()': False},\n",
       "  {'bias': 1.0,\n",
       "   'word.lower()': 'prabowo',\n",
       "   'word[-3:]': 'owo',\n",
       "   'word[-2:]': 'wo',\n",
       "   'word[-1:]': 'wo',\n",
       "   'word[:3]': 'Pra',\n",
       "   'word[:2]': 'Pr',\n",
       "   'word[:1]': 'Pr',\n",
       "   'word.isupper()': False,\n",
       "   'word.istitle()': True,\n",
       "   'word.isdigit()': False,\n",
       "   '-1:word.lower()': 'prananda',\n",
       "   '-1:word.istitle()': True,\n",
       "   '-1:word.isupper()': False,\n",
       "   '+1:word.lower()': 'jadi',\n",
       "   '+1:word.istitle()': False,\n",
       "   '+1:word.isupper()': False},\n",
       "  {'bias': 1.0,\n",
       "   'word.lower()': 'jadi',\n",
       "   'word[-3:]': 'adi',\n",
       "   'word[-2:]': 'di',\n",
       "   'word[-1:]': 'di',\n",
       "   'word[:3]': 'jad',\n",
       "   'word[:2]': 'ja',\n",
       "   'word[:1]': 'ja',\n",
       "   'word.isupper()': False,\n",
       "   'word.istitle()': False,\n",
       "   'word.isdigit()': False,\n",
       "   '-1:word.lower()': 'prabowo',\n",
       "   '-1:word.istitle()': True,\n",
       "   '-1:word.isupper()': False,\n",
       "   '+1:word.lower()': 'penerus',\n",
       "   '+1:word.istitle()': True,\n",
       "   '+1:word.isupper()': False},\n",
       "  {'bias': 1.0,\n",
       "   'word.lower()': 'penerus',\n",
       "   'word[-3:]': 'rus',\n",
       "   'word[-2:]': 'us',\n",
       "   'word[-1:]': 'us',\n",
       "   'word[:3]': 'Pen',\n",
       "   'word[:2]': 'Pe',\n",
       "   'word[:1]': 'Pe',\n",
       "   'word.isupper()': False,\n",
       "   'word.istitle()': True,\n",
       "   'word.isdigit()': False,\n",
       "   '-1:word.lower()': 'jadi',\n",
       "   '-1:word.istitle()': False,\n",
       "   '-1:word.isupper()': False,\n",
       "   '+1:word.lower()': 'megawati',\n",
       "   '+1:word.istitle()': True,\n",
       "   '+1:word.isupper()': False},\n",
       "  {'bias': 1.0,\n",
       "   'word.lower()': 'megawati',\n",
       "   'word[-3:]': 'ati',\n",
       "   'word[-2:]': 'ti',\n",
       "   'word[-1:]': 'ti',\n",
       "   'word[:3]': 'Meg',\n",
       "   'word[:2]': 'Me',\n",
       "   'word[:1]': 'Me',\n",
       "   'word.isupper()': False,\n",
       "   'word.istitle()': True,\n",
       "   'word.isdigit()': False,\n",
       "   '-1:word.lower()': 'penerus',\n",
       "   '-1:word.istitle()': True,\n",
       "   '-1:word.isupper()': False,\n",
       "   '+1:word.lower()': 'di',\n",
       "   '+1:word.istitle()': False,\n",
       "   '+1:word.isupper()': False},\n",
       "  {'bias': 1.0,\n",
       "   'word.lower()': 'di',\n",
       "   'word[-3:]': 'di',\n",
       "   'word[-2:]': 'di',\n",
       "   'word[-1:]': 'di',\n",
       "   'word[:3]': 'di',\n",
       "   'word[:2]': 'di',\n",
       "   'word[:1]': 'di',\n",
       "   'word.isupper()': False,\n",
       "   'word.istitle()': False,\n",
       "   'word.isdigit()': False,\n",
       "   '-1:word.lower()': 'megawati',\n",
       "   '-1:word.istitle()': True,\n",
       "   '-1:word.isupper()': False,\n",
       "   '+1:word.lower()': 'pdip',\n",
       "   '+1:word.istitle()': False,\n",
       "   '+1:word.isupper()': True},\n",
       "  {'bias': 1.0,\n",
       "   'word.lower()': 'pdip',\n",
       "   'word[-3:]': 'DIP',\n",
       "   'word[-2:]': 'IP',\n",
       "   'word[-1:]': 'IP',\n",
       "   'word[:3]': 'PDI',\n",
       "   'word[:2]': 'PD',\n",
       "   'word[:1]': 'PD',\n",
       "   'word.isupper()': True,\n",
       "   'word.istitle()': False,\n",
       "   'word.isdigit()': False,\n",
       "   '-1:word.lower()': 'di',\n",
       "   '-1:word.istitle()': False,\n",
       "   '-1:word.isupper()': False,\n",
       "   '+1:word.lower()': 'https://t.co/rfpd4wludy',\n",
       "   '+1:word.istitle()': False,\n",
       "   '+1:word.isupper()': False},\n",
       "  {'bias': 1.0,\n",
       "   'word.lower()': 'https://t.co/rfpd4wludy',\n",
       "   'word[-3:]': 'UDy',\n",
       "   'word[-2:]': 'Dy',\n",
       "   'word[-1:]': 'Dy',\n",
       "   'word[:3]': 'htt',\n",
       "   'word[:2]': 'ht',\n",
       "   'word[:1]': 'ht',\n",
       "   'word.isupper()': False,\n",
       "   'word.istitle()': False,\n",
       "   'word.isdigit()': False,\n",
       "   '-1:word.lower()': 'pdip',\n",
       "   '-1:word.istitle()': False,\n",
       "   '-1:word.isupper()': True,\n",
       "   'EOS': True}],\n",
       " ...]"
      ]
     },
     "metadata": {},
     "execution_count": 14
    }
   ],
   "source": [
    "X"
   ]
  },
  {
   "cell_type": "code",
   "execution_count": 15,
   "metadata": {},
   "outputs": [
    {
     "output_type": "execute_result",
     "data": {
      "text/plain": [
       "[('Menteri', 'O'),\n",
       " ('Erick', 'B-PER'),\n",
       " ('Thohir', 'I-PER'),\n",
       " ('didampingi', 'O'),\n",
       " ('Ridwan', 'B-PER'),\n",
       " ('Kamil', 'I-PER'),\n",
       " ('tinjau', 'O'),\n",
       " ('Pertashop', 'B-PROD'),\n",
       " ('di', 'O'),\n",
       " ('Lembang', 'B-LOC'),\n",
       " ('-', 'O'),\n",
       " ('ANTARA', 'B-ORG'),\n",
       " ('News', 'I-ORG'),\n",
       " ('Jawa', 'I-ORG'),\n",
       " ('Barat', 'I-ORG'),\n",
       " ('https://t.co/w7m7OqPbnG', 'O')]"
      ]
     },
     "metadata": {},
     "execution_count": 15
    }
   ],
   "source": [
    "sentences[11]"
   ]
  },
  {
   "cell_type": "code",
   "execution_count": 16,
   "metadata": {},
   "outputs": [],
   "source": [
    "def find_consecutive_ne(sentence):\n",
    "    full_entities = []\n",
    "    prev_tag = \"O\"\n",
    "    for token, full_tag in sentence:\n",
    "        start_tag=full_tag[:1]\n",
    "        tag= full_tag[2:] if full_tag!='O' else 'O'\n",
    "        if tag == \"O\":\n",
    "            prev_tag = tag\n",
    "            continue\n",
    "\n",
    "        if start_tag == 'B': # Begin NE\n",
    "            full_entities.append([token,tag])\n",
    "        elif start_tag == 'I' and prev_tag == tag: # Inside NE\n",
    "            full_entities[-1][0]  = full_entities[-1][0]+\" \"+ token\n",
    "        prev_tag = tag\n",
    "    return full_entities\n",
    "\n",
    "def count_ne(sentence):\n",
    "    counter={\n",
    "        'PER':0,\n",
    "        'LOC':0,\n",
    "        'ORG':0,\n",
    "        'PROD':0,\n",
    "        'WA':0,\n",
    "        'EV':0\n",
    "    }\n",
    "    for _, tag in sentence:\n",
    "        counter[tag]+=1\n",
    "    return counter"
   ]
  },
  {
   "cell_type": "code",
   "execution_count": 18,
   "metadata": {},
   "outputs": [],
   "source": [
    "full_tag = [find_consecutive_ne(s) for s in sentences]"
   ]
  },
  {
   "cell_type": "code",
   "execution_count": 19,
   "metadata": {},
   "outputs": [
    {
     "output_type": "execute_result",
     "data": {
      "text/plain": [
       "[['Erick Thohir', 'PER'],\n",
       " ['Ridwan Kamil', 'PER'],\n",
       " ['Pertashop', 'PROD'],\n",
       " ['Lembang', 'LOC'],\n",
       " ['ANTARA News Jawa Barat', 'ORG']]"
      ]
     },
     "metadata": {},
     "execution_count": 19
    }
   ],
   "source": [
    "find_consecutive_ne(sentences[11])"
   ]
  },
  {
   "cell_type": "code",
   "execution_count": 20,
   "metadata": {},
   "outputs": [
    {
     "output_type": "execute_result",
     "data": {
      "text/plain": [
       "{'PER': 2, 'LOC': 1, 'ORG': 1, 'PROD': 1, 'WA': 0, 'EV': 0}"
      ]
     },
     "metadata": {},
     "execution_count": 20
    }
   ],
   "source": [
    "count_ne(find_consecutive_ne(sentences[11]))"
   ]
  },
  {
   "cell_type": "code",
   "execution_count": 16,
   "metadata": {},
   "outputs": [],
   "source": [
    "from sklearn.model_selection import train_test_split\n",
    "X_train, X_test, y_train, y_test = train_test_split(\n",
    "        X, y,\n",
    "        train_size=0.8,\n",
    "        test_size=0.2,\n",
    "        # random but same for all run, also accurancy depends on the\n",
    "        # selection of data e.g. if we put 10 then accuracy will be 1.0\n",
    "        # in this example\n",
    "        random_state=23,\n",
    "        # keep same proportion of 'target' in test and target data\n",
    "    )"
   ]
  },
  {
   "cell_type": "code",
   "execution_count": 24,
   "metadata": {},
   "outputs": [
    {
     "output_type": "execute_result",
     "data": {
      "text/plain": [
       "[None,\n",
       " None,\n",
       " None,\n",
       " None,\n",
       " None,\n",
       " None,\n",
       " None,\n",
       " None,\n",
       " None,\n",
       " None,\n",
       " None,\n",
       " None,\n",
       " None,\n",
       " None,\n",
       " None,\n",
       " None,\n",
       " None,\n",
       " None,\n",
       " None,\n",
       " None,\n",
       " None,\n",
       " None,\n",
       " None,\n",
       " None,\n",
       " None,\n",
       " None,\n",
       " None,\n",
       " None,\n",
       " None]"
      ]
     },
     "metadata": {},
     "execution_count": 24
    }
   ],
   "source": [
    "X[0]"
   ]
  },
  {
   "cell_type": "code",
   "execution_count": 14,
   "metadata": {},
   "outputs": [
    {
     "output_type": "stream",
     "name": "stderr",
     "text": [
      "d:\\Drive\\KULEEAH\\Semester 8\\TA Farihin\\env\\lib\\site-packages\\sklearn\\model_selection\\_split.py:297: FutureWarning: Setting a random_state has no effect since shuffle is False. This will raise an error in 0.24. You should leave random_state to its default (None), or set shuffle=True.\n  FutureWarning\nd:\\Drive\\KULEEAH\\Semester 8\\TA Farihin\\env\\lib\\site-packages\\numpy\\core\\_asarray.py:102: VisibleDeprecationWarning: Creating an ndarray from ragged nested sequences (which is a list-or-tuple of lists-or-tuples-or ndarrays with different lengths or shapes) is deprecated. If you meant to do this, you must specify 'dtype=object' when creating the ndarray.\n  return array(a, dtype, copy=False, order=order)\n"
     ]
    },
    {
     "output_type": "error",
     "ename": "ValueError",
     "evalue": "You appear to be using a legacy multi-label data representation. Sequence of sequences are no longer supported; use a binary array or sparse matrix instead - the MultiLabelBinarizer transformer can convert to this format.",
     "traceback": [
      "\u001b[1;31m---------------------------------------------------------------------------\u001b[0m",
      "\u001b[1;31mValueError\u001b[0m                                Traceback (most recent call last)",
      "\u001b[1;32m<ipython-input-14-329131c04879>\u001b[0m in \u001b[0;36m<module>\u001b[1;34m\u001b[0m\n\u001b[0;32m      1\u001b[0m \u001b[0mrskf\u001b[0m\u001b[1;33m=\u001b[0m\u001b[0mStratifiedKFold\u001b[0m\u001b[1;33m(\u001b[0m\u001b[0mn_splits\u001b[0m\u001b[1;33m=\u001b[0m\u001b[1;36m5\u001b[0m\u001b[1;33m,\u001b[0m \u001b[0mrandom_state\u001b[0m\u001b[1;33m=\u001b[0m\u001b[1;36m1\u001b[0m\u001b[1;33m)\u001b[0m\u001b[1;33m\u001b[0m\u001b[1;33m\u001b[0m\u001b[0m\n\u001b[1;32m----> 2\u001b[1;33m \u001b[1;32mfor\u001b[0m \u001b[0mtrain_index\u001b[0m\u001b[1;33m,\u001b[0m \u001b[0mtest_index\u001b[0m \u001b[1;32min\u001b[0m \u001b[0mrskf\u001b[0m\u001b[1;33m.\u001b[0m\u001b[0msplit\u001b[0m\u001b[1;33m(\u001b[0m\u001b[0mX\u001b[0m\u001b[1;33m,\u001b[0m \u001b[0my\u001b[0m\u001b[1;33m)\u001b[0m\u001b[1;33m:\u001b[0m\u001b[1;33m\u001b[0m\u001b[1;33m\u001b[0m\u001b[0m\n\u001b[0m\u001b[0;32m      3\u001b[0m         \u001b[0mX_train\u001b[0m\u001b[1;33m,\u001b[0m \u001b[0mX_test\u001b[0m \u001b[1;33m=\u001b[0m \u001b[0mX\u001b[0m\u001b[1;33m[\u001b[0m\u001b[0mtrain_index\u001b[0m\u001b[1;33m]\u001b[0m\u001b[1;33m,\u001b[0m \u001b[0mX\u001b[0m\u001b[1;33m[\u001b[0m\u001b[0mtest_index\u001b[0m\u001b[1;33m]\u001b[0m\u001b[1;33m\u001b[0m\u001b[1;33m\u001b[0m\u001b[0m\n\u001b[0;32m      4\u001b[0m         \u001b[0my_train\u001b[0m\u001b[1;33m,\u001b[0m \u001b[0my_test\u001b[0m \u001b[1;33m=\u001b[0m \u001b[0my\u001b[0m\u001b[1;33m[\u001b[0m\u001b[0mtrain_index\u001b[0m\u001b[1;33m]\u001b[0m\u001b[1;33m,\u001b[0m \u001b[0my\u001b[0m\u001b[1;33m[\u001b[0m\u001b[0mtest_index\u001b[0m\u001b[1;33m]\u001b[0m\u001b[1;33m\u001b[0m\u001b[1;33m\u001b[0m\u001b[0m\n\u001b[0;32m      5\u001b[0m         \u001b[0mprint\u001b[0m\u001b[1;33m(\u001b[0m\u001b[0mlen\u001b[0m\u001b[1;33m(\u001b[0m\u001b[0mX_train\u001b[0m\u001b[1;33m)\u001b[0m\u001b[1;33m,\u001b[0m \u001b[1;33m(\u001b[0m\u001b[0mX_test\u001b[0m\u001b[1;33m)\u001b[0m\u001b[1;33m)\u001b[0m\u001b[1;33m\u001b[0m\u001b[1;33m\u001b[0m\u001b[0m\n",
      "\u001b[1;32md:\\Drive\\KULEEAH\\Semester 8\\TA Farihin\\env\\lib\\site-packages\\sklearn\\model_selection\\_split.py\u001b[0m in \u001b[0;36msplit\u001b[1;34m(self, X, y, groups)\u001b[0m\n\u001b[0;32m    334\u001b[0m                 .format(self.n_splits, n_samples))\n\u001b[0;32m    335\u001b[0m \u001b[1;33m\u001b[0m\u001b[0m\n\u001b[1;32m--> 336\u001b[1;33m         \u001b[1;32mfor\u001b[0m \u001b[0mtrain\u001b[0m\u001b[1;33m,\u001b[0m \u001b[0mtest\u001b[0m \u001b[1;32min\u001b[0m \u001b[0msuper\u001b[0m\u001b[1;33m(\u001b[0m\u001b[1;33m)\u001b[0m\u001b[1;33m.\u001b[0m\u001b[0msplit\u001b[0m\u001b[1;33m(\u001b[0m\u001b[0mX\u001b[0m\u001b[1;33m,\u001b[0m \u001b[0my\u001b[0m\u001b[1;33m,\u001b[0m \u001b[0mgroups\u001b[0m\u001b[1;33m)\u001b[0m\u001b[1;33m:\u001b[0m\u001b[1;33m\u001b[0m\u001b[1;33m\u001b[0m\u001b[0m\n\u001b[0m\u001b[0;32m    337\u001b[0m             \u001b[1;32myield\u001b[0m \u001b[0mtrain\u001b[0m\u001b[1;33m,\u001b[0m \u001b[0mtest\u001b[0m\u001b[1;33m\u001b[0m\u001b[1;33m\u001b[0m\u001b[0m\n\u001b[0;32m    338\u001b[0m \u001b[1;33m\u001b[0m\u001b[0m\n",
      "\u001b[1;32md:\\Drive\\KULEEAH\\Semester 8\\TA Farihin\\env\\lib\\site-packages\\sklearn\\model_selection\\_split.py\u001b[0m in \u001b[0;36msplit\u001b[1;34m(self, X, y, groups)\u001b[0m\n\u001b[0;32m     78\u001b[0m         \u001b[0mX\u001b[0m\u001b[1;33m,\u001b[0m \u001b[0my\u001b[0m\u001b[1;33m,\u001b[0m \u001b[0mgroups\u001b[0m \u001b[1;33m=\u001b[0m \u001b[0mindexable\u001b[0m\u001b[1;33m(\u001b[0m\u001b[0mX\u001b[0m\u001b[1;33m,\u001b[0m \u001b[0my\u001b[0m\u001b[1;33m,\u001b[0m \u001b[0mgroups\u001b[0m\u001b[1;33m)\u001b[0m\u001b[1;33m\u001b[0m\u001b[1;33m\u001b[0m\u001b[0m\n\u001b[0;32m     79\u001b[0m         \u001b[0mindices\u001b[0m \u001b[1;33m=\u001b[0m \u001b[0mnp\u001b[0m\u001b[1;33m.\u001b[0m\u001b[0marange\u001b[0m\u001b[1;33m(\u001b[0m\u001b[0m_num_samples\u001b[0m\u001b[1;33m(\u001b[0m\u001b[0mX\u001b[0m\u001b[1;33m)\u001b[0m\u001b[1;33m)\u001b[0m\u001b[1;33m\u001b[0m\u001b[1;33m\u001b[0m\u001b[0m\n\u001b[1;32m---> 80\u001b[1;33m         \u001b[1;32mfor\u001b[0m \u001b[0mtest_index\u001b[0m \u001b[1;32min\u001b[0m \u001b[0mself\u001b[0m\u001b[1;33m.\u001b[0m\u001b[0m_iter_test_masks\u001b[0m\u001b[1;33m(\u001b[0m\u001b[0mX\u001b[0m\u001b[1;33m,\u001b[0m \u001b[0my\u001b[0m\u001b[1;33m,\u001b[0m \u001b[0mgroups\u001b[0m\u001b[1;33m)\u001b[0m\u001b[1;33m:\u001b[0m\u001b[1;33m\u001b[0m\u001b[1;33m\u001b[0m\u001b[0m\n\u001b[0m\u001b[0;32m     81\u001b[0m             \u001b[0mtrain_index\u001b[0m \u001b[1;33m=\u001b[0m \u001b[0mindices\u001b[0m\u001b[1;33m[\u001b[0m\u001b[0mnp\u001b[0m\u001b[1;33m.\u001b[0m\u001b[0mlogical_not\u001b[0m\u001b[1;33m(\u001b[0m\u001b[0mtest_index\u001b[0m\u001b[1;33m)\u001b[0m\u001b[1;33m]\u001b[0m\u001b[1;33m\u001b[0m\u001b[1;33m\u001b[0m\u001b[0m\n\u001b[0;32m     82\u001b[0m             \u001b[0mtest_index\u001b[0m \u001b[1;33m=\u001b[0m \u001b[0mindices\u001b[0m\u001b[1;33m[\u001b[0m\u001b[0mtest_index\u001b[0m\u001b[1;33m]\u001b[0m\u001b[1;33m\u001b[0m\u001b[1;33m\u001b[0m\u001b[0m\n",
      "\u001b[1;32md:\\Drive\\KULEEAH\\Semester 8\\TA Farihin\\env\\lib\\site-packages\\sklearn\\model_selection\\_split.py\u001b[0m in \u001b[0;36m_iter_test_masks\u001b[1;34m(self, X, y, groups)\u001b[0m\n\u001b[0;32m    695\u001b[0m \u001b[1;33m\u001b[0m\u001b[0m\n\u001b[0;32m    696\u001b[0m     \u001b[1;32mdef\u001b[0m \u001b[0m_iter_test_masks\u001b[0m\u001b[1;33m(\u001b[0m\u001b[0mself\u001b[0m\u001b[1;33m,\u001b[0m \u001b[0mX\u001b[0m\u001b[1;33m,\u001b[0m \u001b[0my\u001b[0m\u001b[1;33m=\u001b[0m\u001b[1;32mNone\u001b[0m\u001b[1;33m,\u001b[0m \u001b[0mgroups\u001b[0m\u001b[1;33m=\u001b[0m\u001b[1;32mNone\u001b[0m\u001b[1;33m)\u001b[0m\u001b[1;33m:\u001b[0m\u001b[1;33m\u001b[0m\u001b[1;33m\u001b[0m\u001b[0m\n\u001b[1;32m--> 697\u001b[1;33m         \u001b[0mtest_folds\u001b[0m \u001b[1;33m=\u001b[0m \u001b[0mself\u001b[0m\u001b[1;33m.\u001b[0m\u001b[0m_make_test_folds\u001b[0m\u001b[1;33m(\u001b[0m\u001b[0mX\u001b[0m\u001b[1;33m,\u001b[0m \u001b[0my\u001b[0m\u001b[1;33m)\u001b[0m\u001b[1;33m\u001b[0m\u001b[1;33m\u001b[0m\u001b[0m\n\u001b[0m\u001b[0;32m    698\u001b[0m         \u001b[1;32mfor\u001b[0m \u001b[0mi\u001b[0m \u001b[1;32min\u001b[0m \u001b[0mrange\u001b[0m\u001b[1;33m(\u001b[0m\u001b[0mself\u001b[0m\u001b[1;33m.\u001b[0m\u001b[0mn_splits\u001b[0m\u001b[1;33m)\u001b[0m\u001b[1;33m:\u001b[0m\u001b[1;33m\u001b[0m\u001b[1;33m\u001b[0m\u001b[0m\n\u001b[0;32m    699\u001b[0m             \u001b[1;32myield\u001b[0m \u001b[0mtest_folds\u001b[0m \u001b[1;33m==\u001b[0m \u001b[0mi\u001b[0m\u001b[1;33m\u001b[0m\u001b[1;33m\u001b[0m\u001b[0m\n",
      "\u001b[1;32md:\\Drive\\KULEEAH\\Semester 8\\TA Farihin\\env\\lib\\site-packages\\sklearn\\model_selection\\_split.py\u001b[0m in \u001b[0;36m_make_test_folds\u001b[1;34m(self, X, y)\u001b[0m\n\u001b[0;32m    644\u001b[0m         \u001b[0mrng\u001b[0m \u001b[1;33m=\u001b[0m \u001b[0mcheck_random_state\u001b[0m\u001b[1;33m(\u001b[0m\u001b[0mself\u001b[0m\u001b[1;33m.\u001b[0m\u001b[0mrandom_state\u001b[0m\u001b[1;33m)\u001b[0m\u001b[1;33m\u001b[0m\u001b[1;33m\u001b[0m\u001b[0m\n\u001b[0;32m    645\u001b[0m         \u001b[0my\u001b[0m \u001b[1;33m=\u001b[0m \u001b[0mnp\u001b[0m\u001b[1;33m.\u001b[0m\u001b[0masarray\u001b[0m\u001b[1;33m(\u001b[0m\u001b[0my\u001b[0m\u001b[1;33m)\u001b[0m\u001b[1;33m\u001b[0m\u001b[1;33m\u001b[0m\u001b[0m\n\u001b[1;32m--> 646\u001b[1;33m         \u001b[0mtype_of_target_y\u001b[0m \u001b[1;33m=\u001b[0m \u001b[0mtype_of_target\u001b[0m\u001b[1;33m(\u001b[0m\u001b[0my\u001b[0m\u001b[1;33m)\u001b[0m\u001b[1;33m\u001b[0m\u001b[1;33m\u001b[0m\u001b[0m\n\u001b[0m\u001b[0;32m    647\u001b[0m         \u001b[0mallowed_target_types\u001b[0m \u001b[1;33m=\u001b[0m \u001b[1;33m(\u001b[0m\u001b[1;34m'binary'\u001b[0m\u001b[1;33m,\u001b[0m \u001b[1;34m'multiclass'\u001b[0m\u001b[1;33m)\u001b[0m\u001b[1;33m\u001b[0m\u001b[1;33m\u001b[0m\u001b[0m\n\u001b[0;32m    648\u001b[0m         \u001b[1;32mif\u001b[0m \u001b[0mtype_of_target_y\u001b[0m \u001b[1;32mnot\u001b[0m \u001b[1;32min\u001b[0m \u001b[0mallowed_target_types\u001b[0m\u001b[1;33m:\u001b[0m\u001b[1;33m\u001b[0m\u001b[1;33m\u001b[0m\u001b[0m\n",
      "\u001b[1;32md:\\Drive\\KULEEAH\\Semester 8\\TA Farihin\\env\\lib\\site-packages\\sklearn\\utils\\multiclass.py\u001b[0m in \u001b[0;36mtype_of_target\u001b[1;34m(y)\u001b[0m\n\u001b[0;32m    261\u001b[0m         if (not hasattr(y[0], '__array__') and isinstance(y[0], Sequence)\n\u001b[0;32m    262\u001b[0m                 and not isinstance(y[0], str)):\n\u001b[1;32m--> 263\u001b[1;33m             raise ValueError('You appear to be using a legacy multi-label data'\n\u001b[0m\u001b[0;32m    264\u001b[0m                              \u001b[1;34m' representation. Sequence of sequences are no'\u001b[0m\u001b[1;33m\u001b[0m\u001b[1;33m\u001b[0m\u001b[0m\n\u001b[0;32m    265\u001b[0m                              \u001b[1;34m' longer supported; use a binary array or sparse'\u001b[0m\u001b[1;33m\u001b[0m\u001b[1;33m\u001b[0m\u001b[0m\n",
      "\u001b[1;31mValueError\u001b[0m: You appear to be using a legacy multi-label data representation. Sequence of sequences are no longer supported; use a binary array or sparse matrix instead - the MultiLabelBinarizer transformer can convert to this format."
     ]
    }
   ],
   "source": [
    "# mlb=MultiLabelBinarizer()\n",
    "# skf=StratifiedKFold(n_splits=5, random_state=1)\n",
    "# for train_index, test_index in rskf.split(X, y):\n",
    "#         X_train, X_test = X[train_index], X[test_index]\n",
    "#         y_train, y_test = y[train_index], y[test_index]\n",
    "#         print(len(X_train), (X_test))\n",
    "\n"
   ]
  },
  {
   "cell_type": "code",
   "execution_count": 33,
   "metadata": {},
   "outputs": [
    {
     "output_type": "stream",
     "name": "stderr",
     "text": [
      "d:\\Drive\\KULEEAH\\Semester 8\\TA Farihin\\env\\lib\\site-packages\\sklearn\\model_selection\\_split.py:297: FutureWarning: Setting a random_state has no effect since shuffle is False. This will raise an error in 0.24. You should leave random_state to its default (None), or set shuffle=True.\n  FutureWarning\nipykernel_launcher:2: VisibleDeprecationWarning: Creating an ndarray from ragged nested sequences (which is a list-or-tuple of lists-or-tuples-or ndarrays with different lengths or shapes) is deprecated. If you meant to do this, you must specify 'dtype=object' when creating the ndarray.\n"
     ]
    },
    {
     "output_type": "error",
     "ename": "TypeError",
     "evalue": "only integer scalar arrays can be converted to a scalar index",
     "traceback": [
      "\u001b[1;31m---------------------------------------------------------------------------\u001b[0m",
      "\u001b[1;31mTypeError\u001b[0m                                 Traceback (most recent call last)",
      "\u001b[1;32m<ipython-input-33-7015010cad38>\u001b[0m in \u001b[0;36m<module>\u001b[1;34m\u001b[0m\n\u001b[0;32m      1\u001b[0m \u001b[0mkf\u001b[0m\u001b[1;33m=\u001b[0m \u001b[0mKFold\u001b[0m\u001b[1;33m(\u001b[0m\u001b[0mn_splits\u001b[0m\u001b[1;33m=\u001b[0m\u001b[1;36m2\u001b[0m\u001b[1;33m,\u001b[0m \u001b[0mrandom_state\u001b[0m\u001b[1;33m=\u001b[0m\u001b[1;36m1\u001b[0m\u001b[1;33m)\u001b[0m\u001b[1;33m\u001b[0m\u001b[1;33m\u001b[0m\u001b[0m\n\u001b[0;32m      2\u001b[0m \u001b[1;32mfor\u001b[0m \u001b[0mtrain_index\u001b[0m\u001b[1;33m,\u001b[0m \u001b[0mtest_index\u001b[0m \u001b[1;32min\u001b[0m \u001b[0mkf\u001b[0m\u001b[1;33m.\u001b[0m\u001b[0msplit\u001b[0m\u001b[1;33m(\u001b[0m\u001b[1;33m[\u001b[0m\u001b[0mnp\u001b[0m\u001b[1;33m.\u001b[0m\u001b[0marray\u001b[0m\u001b[1;33m(\u001b[0m\u001b[0mi\u001b[0m\u001b[1;33m)\u001b[0m \u001b[1;32mfor\u001b[0m \u001b[0mi\u001b[0m \u001b[1;32min\u001b[0m \u001b[0mX\u001b[0m\u001b[1;33m]\u001b[0m\u001b[1;33m,\u001b[0m \u001b[0mnp\u001b[0m\u001b[1;33m.\u001b[0m\u001b[0marray\u001b[0m\u001b[1;33m(\u001b[0m\u001b[0my\u001b[0m\u001b[1;33m)\u001b[0m\u001b[1;33m)\u001b[0m\u001b[1;33m:\u001b[0m\u001b[1;33m\u001b[0m\u001b[1;33m\u001b[0m\u001b[0m\n\u001b[1;32m----> 3\u001b[1;33m         \u001b[0mX_train\u001b[0m\u001b[1;33m,\u001b[0m \u001b[0mX_test\u001b[0m \u001b[1;33m=\u001b[0m \u001b[0mX\u001b[0m\u001b[1;33m[\u001b[0m\u001b[0mtrain_index\u001b[0m\u001b[1;33m]\u001b[0m\u001b[1;33m,\u001b[0m \u001b[0mX\u001b[0m\u001b[1;33m[\u001b[0m\u001b[0mtest_index\u001b[0m\u001b[1;33m]\u001b[0m\u001b[1;33m\u001b[0m\u001b[1;33m\u001b[0m\u001b[0m\n\u001b[0m\u001b[0;32m      4\u001b[0m         \u001b[0my_train\u001b[0m\u001b[1;33m,\u001b[0m \u001b[0my_test\u001b[0m \u001b[1;33m=\u001b[0m \u001b[0my\u001b[0m\u001b[1;33m[\u001b[0m\u001b[0mtrain_index\u001b[0m\u001b[1;33m]\u001b[0m\u001b[1;33m,\u001b[0m \u001b[0my\u001b[0m\u001b[1;33m[\u001b[0m\u001b[0mtest_index\u001b[0m\u001b[1;33m]\u001b[0m\u001b[1;33m\u001b[0m\u001b[1;33m\u001b[0m\u001b[0m\n\u001b[0;32m      5\u001b[0m         \u001b[0mprint\u001b[0m\u001b[1;33m(\u001b[0m\u001b[0mlen\u001b[0m\u001b[1;33m(\u001b[0m\u001b[0mX_train\u001b[0m\u001b[1;33m)\u001b[0m\u001b[1;33m,\u001b[0m \u001b[1;33m(\u001b[0m\u001b[0mX_test\u001b[0m\u001b[1;33m)\u001b[0m\u001b[1;33m)\u001b[0m\u001b[1;33m\u001b[0m\u001b[1;33m\u001b[0m\u001b[0m\n",
      "\u001b[1;31mTypeError\u001b[0m: only integer scalar arrays can be converted to a scalar index"
     ]
    }
   ],
   "source": [
    "kf= KFold(n_splits=2, random_state=1)\n",
    "for train_index, test_index in kf.split([np.array(i) for i in X], np.array(y)):\n",
    "        X_train, X_test = X[train_index], X[test_index]\n",
    "        y_train, y_test = y[train_index], y[test_index]\n",
    "        print(len(X_train), (X_test))"
   ]
  },
  {
   "cell_type": "code",
   "execution_count": 32,
   "metadata": {},
   "outputs": [
    {
     "output_type": "execute_result",
     "data": {
      "text/plain": [
       "[:1]': 'me', 'word.isupper()': False, 'word.istitle()': False, 'word.isdigit()': False, '-1:word.lower()': 'akan', '-1:word.istitle()': False, '-1:word.isupper()': False, '+1:word.lower()': 'produk', '+1:word.istitle()': False, '+1:word.isupper()': False},\n",
       "       {'bias': 1.0, 'word.lower()': 'produk', 'word[-3:]': 'duk', 'word[-2:]': 'uk', 'word[-1:]': 'uk', 'word[:3]': 'pro', 'word[:2]': 'pr', 'word[:1]': 'pr', 'word.isupper()': False, 'word.istitle()': False, 'word.isdigit()': False, '-1:word.lower()': 'menjadikn', '-1:word.istitle()': False, '-1:word.isupper()': False, '+1:word.lower()': 'umkm', '+1:word.istitle()': False, '+1:word.isupper()': False},\n",
       "       {'bias': 1.0, 'word.lower()': 'umkm', 'word[-3:]': 'mkm', 'word[-2:]': 'km', 'word[-1:]': 'km', 'word[:3]': 'umk', 'word[:2]': 'um', 'word[:1]': 'um', 'word.isupper()': False, 'word.istitle()': False, 'word.isdigit()': False, '-1:word.lower()': 'produk', '-1:word.istitle()': False, '-1:word.isupper()': False, '+1:word.lower()': 'd', '+1:word.istitle()': False, '+1:word.isupper()': False},\n",
       "       {'bias': 1.0, 'word.lower()': 'd', 'word[-3:]': 'd', 'word[-2:]': 'd', 'word[-1:]': 'd', 'word[:3]': 'd', 'word[:2]': 'd', 'word[:1]': 'd', 'word.isupper()': False, 'word.istitle()': False, 'word.isdigit()': False, '-1:word.lower()': 'umkm', '-1:word.istitle()': False, '-1:word.isupper()': False, '+1:word.lower()': 'mintai', '+1:word.istitle()': False, '+1:word.isupper()': False},\n",
       "       {'bias': 1.0, 'word.lower()': 'mintai', 'word[-3:]': 'tai', 'word[-2:]': 'ai', 'word[-1:]': 'ai', 'word[:3]': 'min', 'word[:2]': 'mi', 'word[:1]': 'mi', 'word.isupper()': False, 'word.istitle()': False, 'word.isdigit()': False, '-1:word.lower()': 'd', '-1:word.istitle()': False, '-1:word.isupper()': False, '+1:word.lower()': 'krena', '+1:word.istitle()': False, '+1:word.isupper()': False},\n",
       "       {'bias': 1.0, 'word.lower()': 'krena', 'word[-3:]': 'ena', 'word[-2:]': 'na', 'word[-1:]': 'na', 'word[:3]': 'kre', 'word[:2]': 'kr', 'word[:1]': 'kr', 'word.isupper()': False, 'word.istitle()': False, 'word.isdigit()': False, '-1:word.lower()': 'mintai', '-1:word.istitle()': False, '-1:word.isupper()': False, '+1:word.lower()': 'yg', '+1:word.istitle()': False, '+1:word.isupper()': False},\n",
       "       {'bias': 1.0, 'word.lower()': 'yg', 'word[-3:]': 'yg', 'word[-2:]': 'yg', 'word[-1:]': 'yg', 'word[:3]': 'yg', 'word[:2]': 'yg', 'word[:1]': 'yg', 'word.isupper()': False, 'word.istitle()': False, 'word.isdigit()': False, '-1:word.lower()': 'krena', '-1:word.istitle()': False, '-1:word.isupper()': False, '+1:word.lower()': 'desain', '+1:word.istitle()': False, '+1:word.isupper()': False},\n",
       "       {'bias': 1.0, 'word.lower()': 'desain', 'word[-3:]': 'ain', 'word[-2:]': 'in', 'word[-1:]': 'in', 'word[:3]': 'des', 'word[:2]': 'de', 'word[:1]': 'de', 'word.isupper()': False, 'word.istitle()': False, 'word.isdigit()': False, '-1:word.lower()': 'yg', '-1:word.istitle()': False, '-1:word.isupper()': False, '+1:word.lower()': 'org', '+1:word.istitle()': False, '+1:word.isupper()': False},\n",
       "       {'bias': 1.0, 'word.lower()': 'org', 'word[-3:]': 'org', 'word[-2:]': 'rg', 'word[-1:]': 'rg', 'word[:3]': 'org', 'word[:2]': 'or', 'word[:1]': 'or', 'word.isupper()': False, 'word.istitle()': False, 'word.isdigit()': False, '-1:word.lower()': 'desain', '-1:word.istitle()': False, '-1:word.isupper()': False, '+1:word.lower()': 'nomer', '+1:word.istitle()': False, '+1:word.isupper()': False},\n",
       "       {'bias': 1.0, 'word.lower()': 'nomer', 'word[-3:]': 'mer', 'word[-2:]': 'er', 'word[-1:]': 'er', 'word[:3]': 'nom', 'word[:2]': 'no', 'word[:1]': 'no', 'word.isupper()': False, 'word.istitle()': False, 'word.isdigit()': False, '-1:word.lower()': 'org', '-1:word.istitle()': False, '-1:word.isupper()': False, '+1:word.lower()': 'satu', '+1:word.istitle()': False, '+1:word.isupper()': False},\n",
       "       {'bias': 1.0, 'word.lower()': 'satu', 'word[-3:]': 'atu', 'word[-2:]': 'tu', 'word[-1:]': 'tu', 'word[:3]': 'sat', 'word[:2]': 'sa', 'word[:1]': 'sa', 'word.isupper()': False, 'word.istitle()': False, 'word.isdigit()': False, '-1:word.lower()': 'nomer', '-1:word.istitle()': False, '-1:word.isupper()': False, '+1:word.lower()': 'di', '+1:word.istitle()': False, '+1:word.isupper()': False},\n",
       "       {'bias': 1.0, 'word.lower()': 'di', 'word[-3:]': 'di', 'word[-2:]': 'di', 'word[-1:]': 'di', 'word[:3]': 'di', 'word[:2]': 'di', 'word[:1]': 'di', 'word.isupper()': False, 'word.istitle()': False, 'word.isdigit()': False, '-1:word.lower()': 'satu', '-1:word.istitle()': False, '-1:word.isupper()': False, '+1:word.lower()': 'jabar', '+1:word.istitle()': False, '+1:word.isupper()': False},\n",
       "       {'bias': 1.0, 'word.lower()': 'jabar', 'word[-3:]': 'bar', 'word[-2:]': 'ar', 'word[-1:]': 'ar', 'word[:3]': 'jab', 'word[:2]': 'ja', 'word[:1]': 'ja', 'word.isupper()': False, 'word.istitle()': False, 'word.isdigit()': False, '-1:word.lower()': 'di', '-1:word.istitle()': False, '-1:word.isupper()': False, 'EOS': True}],\n",
       "      dtype=object)"
      ]
     },
     "metadata": {},
     "execution_count": 32
    }
   ],
   "source": [
    "[np.array(i) for i in X]"
   ]
  },
  {
   "cell_type": "code",
   "execution_count": null,
   "metadata": {},
   "outputs": [],
   "source": []
  }
 ]
}