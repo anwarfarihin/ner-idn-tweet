{
 "cells": [
  {
   "cell_type": "code",
   "execution_count": 1,
   "metadata": {},
   "outputs": [],
   "source": [
    "import pandas as pd"
   ]
  },
  {
   "cell_type": "code",
   "execution_count": 6,
   "metadata": {},
   "outputs": [],
   "source": [
    "train_df =pd.read_csv(\"simpletransformers\\\\train.csv\")\n",
    "eval_df =pd.read_csv(\"simpletransformers\\\\val.csv\")\n",
    "test_df =pd.read_csv(\"simpletransformers\\\\test.csv\")"
   ]
  },
  {
   "cell_type": "code",
   "execution_count": 7,
   "metadata": {},
   "outputs": [
    {
     "data": {
      "text/html": [
       "<div>\n",
       "<style scoped>\n",
       "    .dataframe tbody tr th:only-of-type {\n",
       "        vertical-align: middle;\n",
       "    }\n",
       "\n",
       "    .dataframe tbody tr th {\n",
       "        vertical-align: top;\n",
       "    }\n",
       "\n",
       "    .dataframe thead th {\n",
       "        text-align: right;\n",
       "    }\n",
       "</style>\n",
       "<table border=\"1\" class=\"dataframe\">\n",
       "  <thead>\n",
       "    <tr style=\"text-align: right;\">\n",
       "      <th></th>\n",
       "      <th>sentence_id</th>\n",
       "      <th>words</th>\n",
       "      <th>labels</th>\n",
       "    </tr>\n",
       "  </thead>\n",
       "  <tbody>\n",
       "    <tr>\n",
       "      <th>0</th>\n",
       "      <td>1380681275594305537</td>\n",
       "      <td>@ridwankamil</td>\n",
       "      <td>O</td>\n",
       "    </tr>\n",
       "    <tr>\n",
       "      <th>1</th>\n",
       "      <td>1380681275594305537</td>\n",
       "      <td>@KickAndyShow</td>\n",
       "      <td>O</td>\n",
       "    </tr>\n",
       "    <tr>\n",
       "      <th>2</th>\n",
       "      <td>1380681275594305537</td>\n",
       "      <td>@Metro_TV</td>\n",
       "      <td>O</td>\n",
       "    </tr>\n",
       "    <tr>\n",
       "      <th>3</th>\n",
       "      <td>1380681275594305537</td>\n",
       "      <td>Upaya</td>\n",
       "      <td>O</td>\n",
       "    </tr>\n",
       "    <tr>\n",
       "      <th>4</th>\n",
       "      <td>1380681275594305537</td>\n",
       "      <td>untuk</td>\n",
       "      <td>O</td>\n",
       "    </tr>\n",
       "    <tr>\n",
       "      <th>...</th>\n",
       "      <td>...</td>\n",
       "      <td>...</td>\n",
       "      <td>...</td>\n",
       "    </tr>\n",
       "    <tr>\n",
       "      <th>109513</th>\n",
       "      <td>1389452349618327554</td>\n",
       "      <td>^^</td>\n",
       "      <td>O</td>\n",
       "    </tr>\n",
       "    <tr>\n",
       "      <th>109514</th>\n",
       "      <td>1389452349618327554</td>\n",
       "      <td>��dm</td>\n",
       "      <td>O</td>\n",
       "    </tr>\n",
       "    <tr>\n",
       "      <th>109515</th>\n",
       "      <td>1389452349618327554</td>\n",
       "      <td>for</td>\n",
       "      <td>O</td>\n",
       "    </tr>\n",
       "    <tr>\n",
       "      <th>109516</th>\n",
       "      <td>1389452349618327554</td>\n",
       "      <td>order</td>\n",
       "      <td>O</td>\n",
       "    </tr>\n",
       "    <tr>\n",
       "      <th>109517</th>\n",
       "      <td>1389452349618327554</td>\n",
       "      <td>https://t.co/JhYKfkpOux</td>\n",
       "      <td>O</td>\n",
       "    </tr>\n",
       "  </tbody>\n",
       "</table>\n",
       "<p>109518 rows × 3 columns</p>\n",
       "</div>"
      ],
      "text/plain": [
       "                sentence_id                    words labels\n",
       "0       1380681275594305537             @ridwankamil      O\n",
       "1       1380681275594305537            @KickAndyShow      O\n",
       "2       1380681275594305537                @Metro_TV      O\n",
       "3       1380681275594305537                    Upaya      O\n",
       "4       1380681275594305537                    untuk      O\n",
       "...                     ...                      ...    ...\n",
       "109513  1389452349618327554                       ^^      O\n",
       "109514  1389452349618327554                     ��dm      O\n",
       "109515  1389452349618327554                      for      O\n",
       "109516  1389452349618327554                    order      O\n",
       "109517  1389452349618327554  https://t.co/JhYKfkpOux      O\n",
       "\n",
       "[109518 rows x 3 columns]"
      ]
     },
     "execution_count": 7,
     "metadata": {},
     "output_type": "execute_result"
    }
   ],
   "source": [
    "train_df"
   ]
  },
  {
   "cell_type": "code",
   "execution_count": 8,
   "metadata": {},
   "outputs": [
    {
     "data": {
      "text/plain": [
       "O         95048\n",
       "B-PER      3694\n",
       "B-PROD     2270\n",
       "I-PER      2016\n",
       "B-LOC      1455\n",
       "B-ORG      1388\n",
       "I-PROD      792\n",
       "I-ORG       785\n",
       "I-EV        673\n",
       "I-LOC       615\n",
       "B-EV        524\n",
       "I-WA        159\n",
       "B-WA         99\n",
       "Name: labels, dtype: int64"
      ]
     },
     "execution_count": 8,
     "metadata": {},
     "output_type": "execute_result"
    }
   ],
   "source": [
    "train_df.labels.value_counts()"
   ]
  },
  {
   "cell_type": "code",
   "execution_count": 9,
   "metadata": {},
   "outputs": [
    {
     "data": {
      "text/plain": [
       "O         23718\n",
       "B-PER       949\n",
       "I-PER       531\n",
       "B-PROD      465\n",
       "B-ORG       346\n",
       "B-LOC       336\n",
       "I-EV        163\n",
       "I-PROD      161\n",
       "I-ORG       160\n",
       "I-LOC       152\n",
       "B-EV        124\n",
       "I-WA         45\n",
       "B-WA         30\n",
       "Name: labels, dtype: int64"
      ]
     },
     "execution_count": 9,
     "metadata": {},
     "output_type": "execute_result"
    }
   ],
   "source": [
    "eval_df.labels.value_counts()"
   ]
  },
  {
   "cell_type": "code",
   "execution_count": 10,
   "metadata": {},
   "outputs": [
    {
     "data": {
      "text/plain": [
       "O         29507\n",
       "B-PER      1148\n",
       "B-PROD      676\n",
       "I-PER       603\n",
       "B-LOC       437\n",
       "B-ORG       389\n",
       "I-PROD      243\n",
       "I-EV        199\n",
       "I-LOC       196\n",
       "I-ORG       193\n",
       "B-EV        148\n",
       "I-WA         47\n",
       "B-WA         28\n",
       "Name: labels, dtype: int64"
      ]
     },
     "execution_count": 10,
     "metadata": {},
     "output_type": "execute_result"
    }
   ],
   "source": [
    "test_df.labels.value_counts()"
   ]
  },
  {
   "cell_type": "code",
   "execution_count": null,
   "metadata": {},
   "outputs": [],
   "source": []
  }
 ],
 "metadata": {
  "interpreter": {
   "hash": "6184dd3f47f51191709dfd753389f5036cc3680f13aeb2d33daeb0ee924a118d"
  },
  "kernelspec": {
   "display_name": "Python 3.9.6 64-bit ('env': venv)",
   "language": "python",
   "name": "python3"
  },
  "language_info": {
   "codemirror_mode": {
    "name": "ipython",
    "version": 3
   },
   "file_extension": ".py",
   "mimetype": "text/x-python",
   "name": "python",
   "nbconvert_exporter": "python",
   "pygments_lexer": "ipython3",
   "version": "3.9.6"
  },
  "orig_nbformat": 4
 },
 "nbformat": 4,
 "nbformat_minor": 2
}
