{
 "cells": [
  {
   "cell_type": "code",
   "execution_count": 1,
   "metadata": {},
   "outputs": [],
   "source": [
    "import sklearn\n",
    "import pandas as pd"
   ]
  },
  {
   "cell_type": "code",
   "execution_count": 2,
   "metadata": {},
   "outputs": [],
   "source": [
    "train_temp_df =pd.read_csv(\"StratifiedKFold\\\\train.csv\")\n",
    "eval_temp_df =pd.read_csv(\"StratifiedKFold\\\\val.csv\")\n",
    "test_temp_df =pd.read_csv(\"StratifiedKFold\\\\test.csv\")"
   ]
  },
  {
   "cell_type": "code",
   "execution_count": 4,
   "metadata": {},
   "outputs": [],
   "source": [
    "def getsentence(df):\n",
    "    def _zip(c,a,b):\n",
    "            temp_list= list()\n",
    "            for i in range(len(a)):\n",
    "                temp_list.append((c, a[i],b[i]))\n",
    "            return temp_list\n",
    "    sentences = list()\n",
    "    for idx, row in df.iterrows():\n",
    "        zipped_sentence = tuple(_zip(row.tweet_id, eval(row.token),eval(row.ner)))\n",
    "        sentences.extend(zipped_sentence)\n",
    "    return sentences"
   ]
  },
  {
   "cell_type": "code",
   "execution_count": 5,
   "metadata": {},
   "outputs": [],
   "source": [
    "sentences_train = pd.DataFrame(getsentence(train_temp_df),columns=[\"sentence_id\",\"words\",\"labels\"])\n",
    "sentences_eval = pd.DataFrame(getsentence(eval_temp_df),columns=[\"sentence_id\",\"words\",\"labels\"])\n",
    "sentences_test = pd.DataFrame(getsentence(test_temp_df),columns=[\"sentence_id\",\"words\",\"labels\"])"
   ]
  },
  {
   "cell_type": "code",
   "execution_count": 8,
   "metadata": {},
   "outputs": [],
   "source": [
    "sentences_train.to_csv('simpletransformers\\\\train.csv', index = False)\n",
    "sentences_eval.to_csv('simpletransformers\\\\val.csv', index = False)\n",
    "sentences_test.to_csv('simpletransformers\\\\test.csv', index = False)\n"
   ]
  },
  {
   "cell_type": "code",
   "execution_count": null,
   "metadata": {},
   "outputs": [],
   "source": []
  }
 ],
 "metadata": {
  "interpreter": {
   "hash": "95f69f4171822e9a0d4258a52ad5b962ce921882fa0fb93c07eb68a8992e9dab"
  },
  "kernelspec": {
   "display_name": "Python 3.7.9 64-bit ('env': venv)",
   "language": "python",
   "name": "python3"
  },
  "language_info": {
   "codemirror_mode": {
    "name": "ipython",
    "version": 3
   },
   "file_extension": ".py",
   "mimetype": "text/x-python",
   "name": "python",
   "nbconvert_exporter": "python",
   "pygments_lexer": "ipython3",
   "version": "3.7.9"
  },
  "orig_nbformat": 4
 },
 "nbformat": 4,
 "nbformat_minor": 2
}
