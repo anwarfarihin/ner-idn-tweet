{
 "cells": [
  {
   "cell_type": "code",
   "execution_count": 2,
   "metadata": {},
   "outputs": [],
   "source": [
    "import pandas as pd"
   ]
  },
  {
   "cell_type": "code",
   "execution_count": 28,
   "metadata": {},
   "outputs": [],
   "source": [
    "train_df =pd.read_csv(\"simpletransformers\\\\train.csv\")\n",
    "val_df =pd.read_csv(\"simpletransformers\\\\val.csv\")\n",
    "test_df =pd.read_csv(\"simpletransformers\\\\test.csv\")"
   ]
  },
  {
   "cell_type": "code",
   "execution_count": 4,
   "metadata": {},
   "outputs": [
    {
     "data": {
      "text/html": [
       "<div>\n",
       "<style scoped>\n",
       "    .dataframe tbody tr th:only-of-type {\n",
       "        vertical-align: middle;\n",
       "    }\n",
       "\n",
       "    .dataframe tbody tr th {\n",
       "        vertical-align: top;\n",
       "    }\n",
       "\n",
       "    .dataframe thead th {\n",
       "        text-align: right;\n",
       "    }\n",
       "</style>\n",
       "<table border=\"1\" class=\"dataframe\">\n",
       "  <thead>\n",
       "    <tr style=\"text-align: right;\">\n",
       "      <th></th>\n",
       "      <th>sentence_id</th>\n",
       "      <th>words</th>\n",
       "      <th>labels</th>\n",
       "    </tr>\n",
       "  </thead>\n",
       "  <tbody>\n",
       "    <tr>\n",
       "      <th>0</th>\n",
       "      <td>1380681275594305537</td>\n",
       "      <td>@ridwankamil</td>\n",
       "      <td>O</td>\n",
       "    </tr>\n",
       "    <tr>\n",
       "      <th>1</th>\n",
       "      <td>1380681275594305537</td>\n",
       "      <td>@KickAndyShow</td>\n",
       "      <td>O</td>\n",
       "    </tr>\n",
       "    <tr>\n",
       "      <th>2</th>\n",
       "      <td>1380681275594305537</td>\n",
       "      <td>@Metro_TV</td>\n",
       "      <td>O</td>\n",
       "    </tr>\n",
       "    <tr>\n",
       "      <th>3</th>\n",
       "      <td>1380681275594305537</td>\n",
       "      <td>Upaya</td>\n",
       "      <td>O</td>\n",
       "    </tr>\n",
       "    <tr>\n",
       "      <th>4</th>\n",
       "      <td>1380681275594305537</td>\n",
       "      <td>untuk</td>\n",
       "      <td>O</td>\n",
       "    </tr>\n",
       "    <tr>\n",
       "      <th>...</th>\n",
       "      <td>...</td>\n",
       "      <td>...</td>\n",
       "      <td>...</td>\n",
       "    </tr>\n",
       "    <tr>\n",
       "      <th>109513</th>\n",
       "      <td>1389452349618327554</td>\n",
       "      <td>^^</td>\n",
       "      <td>O</td>\n",
       "    </tr>\n",
       "    <tr>\n",
       "      <th>109514</th>\n",
       "      <td>1389452349618327554</td>\n",
       "      <td>��dm</td>\n",
       "      <td>O</td>\n",
       "    </tr>\n",
       "    <tr>\n",
       "      <th>109515</th>\n",
       "      <td>1389452349618327554</td>\n",
       "      <td>for</td>\n",
       "      <td>O</td>\n",
       "    </tr>\n",
       "    <tr>\n",
       "      <th>109516</th>\n",
       "      <td>1389452349618327554</td>\n",
       "      <td>order</td>\n",
       "      <td>O</td>\n",
       "    </tr>\n",
       "    <tr>\n",
       "      <th>109517</th>\n",
       "      <td>1389452349618327554</td>\n",
       "      <td>https://t.co/JhYKfkpOux</td>\n",
       "      <td>O</td>\n",
       "    </tr>\n",
       "  </tbody>\n",
       "</table>\n",
       "<p>109518 rows × 3 columns</p>\n",
       "</div>"
      ],
      "text/plain": [
       "                sentence_id                    words labels\n",
       "0       1380681275594305537             @ridwankamil      O\n",
       "1       1380681275594305537            @KickAndyShow      O\n",
       "2       1380681275594305537                @Metro_TV      O\n",
       "3       1380681275594305537                    Upaya      O\n",
       "4       1380681275594305537                    untuk      O\n",
       "...                     ...                      ...    ...\n",
       "109513  1389452349618327554                       ^^      O\n",
       "109514  1389452349618327554                     ��dm      O\n",
       "109515  1389452349618327554                      for      O\n",
       "109516  1389452349618327554                    order      O\n",
       "109517  1389452349618327554  https://t.co/JhYKfkpOux      O\n",
       "\n",
       "[109518 rows x 3 columns]"
      ]
     },
     "execution_count": 4,
     "metadata": {},
     "output_type": "execute_result"
    }
   ],
   "source": [
    "train_df"
   ]
  },
  {
   "cell_type": "code",
   "execution_count": 29,
   "metadata": {},
   "outputs": [
    {
     "name": "stderr",
     "output_type": "stream",
     "text": [
      "ipykernel_launcher:1: UserWarning: This pattern has match groups. To actually get the groups, use str.extract.\n",
      "ipykernel_launcher:2: UserWarning: This pattern has match groups. To actually get the groups, use str.extract.\n",
      "ipykernel_launcher:3: UserWarning: This pattern has match groups. To actually get the groups, use str.extract.\n"
     ]
    }
   ],
   "source": [
    "train_df.loc[train_df.labels.str.contains(r'((?:B|I)-(?:WA|EV))')==True,\"labels\"]='O'\n",
    "test_df.loc[test_df.labels.str.contains(r'((?:B|I)-(?:WA|EV))')==True,\"labels\"]='O'\n",
    "val_df.loc[val_df.labels.str.contains(r'((?:B|I)-(?:WA|EV))')==True,\"labels\"]='O'"
   ]
  },
  {
   "cell_type": "code",
   "execution_count": 34,
   "metadata": {},
   "outputs": [],
   "source": [
    "train_df.to_csv(\"simpletransformers_4//train.csv\")\n",
    "test_df.to_csv(\"simpletransformers_4//test.csv\")\n",
    "val_df.to_csv(\"simpletransformers_4//val.csv\")"
   ]
  }
 ],
 "metadata": {
  "interpreter": {
   "hash": "95f69f4171822e9a0d4258a52ad5b962ce921882fa0fb93c07eb68a8992e9dab"
  },
  "kernelspec": {
   "display_name": "Python 3.7.9 64-bit ('env': venv)",
   "language": "python",
   "name": "python3"
  },
  "language_info": {
   "codemirror_mode": {
    "name": "ipython",
    "version": 3
   },
   "file_extension": ".py",
   "mimetype": "text/x-python",
   "name": "python",
   "nbconvert_exporter": "python",
   "pygments_lexer": "ipython3",
   "version": "3.7.9"
  },
  "orig_nbformat": 4
 },
 "nbformat": 4,
 "nbformat_minor": 2
}
