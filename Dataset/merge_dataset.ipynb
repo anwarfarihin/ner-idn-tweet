{
 "metadata": {
  "language_info": {
   "codemirror_mode": {
    "name": "ipython",
    "version": 3
   },
   "file_extension": ".py",
   "mimetype": "text/x-python",
   "name": "python",
   "nbconvert_exporter": "python",
   "pygments_lexer": "ipython3",
   "version": "3.9.5"
  },
  "orig_nbformat": 2,
  "kernelspec": {
   "name": "python395jvsc74a57bd07b040fbebd82ff7a9df71a29d9a71bfbd0b73c26b6bf87fa4a0441d476a86e9e",
   "display_name": "Python 3.9.5 64-bit"
  },
  "metadata": {
   "interpreter": {
    "hash": "7b040fbebd82ff7a9df71a29d9a71bfbd0b73c26b6bf87fa4a0441d476a86e9e"
   }
  }
 },
 "nbformat": 4,
 "nbformat_minor": 2,
 "cells": [
  {
   "cell_type": "code",
   "execution_count": 5,
   "metadata": {},
   "outputs": [],
   "source": [
    "import numpy as np\n",
    "import pandas as pd\n"
   ]
  },
  {
   "cell_type": "code",
   "execution_count": 6,
   "metadata": {},
   "outputs": [
    {
     "output_type": "execute_result",
     "data": {
      "text/plain": [
       "                       id               created_at  \\\n",
       "2864  1382319450209222658  2021-04-14 13:06:53 UTC   \n",
       "116   1386907408564244480  2021-04-27 04:57:48 UTC   \n",
       "652   1386524499638579207  2021-04-26 03:36:15 UTC   \n",
       "1602  1382549248193884161  2021-04-15 04:20:01 UTC   \n",
       "896   1382065452331896834  2021-04-13 20:17:36 UTC   \n",
       "...                   ...                      ...   \n",
       "1996  1385068246240436227  2021-04-22 03:09:37 UTC   \n",
       "480   1382535279949402112  2021-04-15 03:24:31 UTC   \n",
       "2845  1386512520022691840  2021-04-26 02:48:39 UTC   \n",
       "1088  1381063478547337220  2021-04-11 01:56:06 UTC   \n",
       "3386  1391518367270375427  2021-05-09 22:20:06 UTC   \n",
       "\n",
       "                                                   text  \\\n",
       "2864  DPRD DKI Jakarta, Gembong Warsono, kritik pemb...   \n",
       "116   menhan Prabowo juga perlu dievaluasi karena ya...   \n",
       "652   RT @rz_sikumbang: Surplus Beras 35 Juta Ton, G...   \n",
       "1602  Misteri sosok pengganti Megawati Soekarnoputri...   \n",
       "896   Menurut Gubernur Khofifah, Pemerintah Provinsi...   \n",
       "...                                                 ...   \n",
       "1996  Hal tersebut disampaikan Menteri Kesehatan dal...   \n",
       "480   @luvluvmango @starfess Yang lagu move itu loh ...   \n",
       "2845  Soal KPK DKI, Anggota DPRD Jakarta Kenneth: Pa...   \n",
       "1088  Meski telah disetujui oleh Gubernur Jatim kita...   \n",
       "3386  @Agus285758 @JebulMania291 @ghanieierfan Sorry...   \n",
       "\n",
       "                   table_name          table_schema              user_id  \\\n",
       "2864     aniesbaswedan_aspect  pr_politicalresearch  1013331201396912128   \n",
       "116            prabowo_aspect  pr_politicalresearch  1231486087228342272   \n",
       "652           khofifah_aspect  pr_politicalresearch  1349264852607328257   \n",
       "1602          megawati_aspect  pr_politicalresearch   966983910788759553   \n",
       "896           khofifah_aspect  pr_politicalresearch  1314463978110640128   \n",
       "...                       ...                   ...                  ...   \n",
       "1996         airlangga_aspect  pr_politicalresearch  1270026294063968256   \n",
       "480            prabowo_aspect  pr_politicalresearch  1350314093865955329   \n",
       "2845     aniesbaswedan_aspect  pr_politicalresearch  1352381498234646528   \n",
       "1088          khofifah_aspect  pr_politicalresearch  1306473184955371522   \n",
       "3386  muhaiminiskandar_aspect  pr_politicalresearch  1388259631428894720   \n",
       "\n",
       "                        user_name user_screen_name  \\\n",
       "2864                    SONTOLOYO    cagubnyinyir2   \n",
       "116                  Copet BanSOS  triatmodjosast1   \n",
       "652               Wahyu Kurniawan     WahyuKurcaci   \n",
       "1602                     GenPI.co         Genpi_Co   \n",
       "896             Oktafiana Savitri  OktafianaSavit1   \n",
       "...                           ...              ...   \n",
       "1996  SatriaArjuna #SahabatNKRI��     Satria180806   \n",
       "480                bola cassano��   boladitendangg   \n",
       "2845                   Candramaya      Candramaya_   \n",
       "1088                     Neng Nia  NengNia54236919   \n",
       "3386               Budionotaslim2  Budionotaslim21   \n",
       "\n",
       "                                       user_description  user_followers_count  \\\n",
       "2864                               Pro NKRI, alumni UGM                  7032   \n",
       "116                                 pura pura jadi lucu                   132   \n",
       "652                          Jangan mudah percaya orang                    44   \n",
       "1602  Download Apps Android: https://t.co/833QEXPjBE...                  1835   \n",
       "896                                              Weeeee                    24   \n",
       "...                                                 ...                   ...   \n",
       "1996  #PANCASILA Tuhan jagalah ❤��ini dari berharap ...                   831   \n",
       "480   ▧ k-drama enthusiast ▧ 03l ▧ she/her ♀ ▧ cw : ...                   565   \n",
       "2845                                                NaN                   467   \n",
       "1088                                                NaN                    16   \n",
       "3386                                     Budionotaslim2                     1   \n",
       "\n",
       "      rn  \n",
       "2864   1  \n",
       "116    1  \n",
       "652    1  \n",
       "1602   1  \n",
       "896    1  \n",
       "...   ..  \n",
       "1996   1  \n",
       "480    1  \n",
       "2845   1  \n",
       "1088   1  \n",
       "3386   1  \n",
       "\n",
       "[3551 rows x 11 columns]"
      ],
      "text/html": "<div>\n<style scoped>\n    .dataframe tbody tr th:only-of-type {\n        vertical-align: middle;\n    }\n\n    .dataframe tbody tr th {\n        vertical-align: top;\n    }\n\n    .dataframe thead th {\n        text-align: right;\n    }\n</style>\n<table border=\"1\" class=\"dataframe\">\n  <thead>\n    <tr style=\"text-align: right;\">\n      <th></th>\n      <th>id</th>\n      <th>created_at</th>\n      <th>text</th>\n      <th>table_name</th>\n      <th>table_schema</th>\n      <th>user_id</th>\n      <th>user_name</th>\n      <th>user_screen_name</th>\n      <th>user_description</th>\n      <th>user_followers_count</th>\n      <th>rn</th>\n    </tr>\n  </thead>\n  <tbody>\n    <tr>\n      <th>2864</th>\n      <td>1382319450209222658</td>\n      <td>2021-04-14 13:06:53 UTC</td>\n      <td>DPRD DKI Jakarta, Gembong Warsono, kritik pemb...</td>\n      <td>aniesbaswedan_aspect</td>\n      <td>pr_politicalresearch</td>\n      <td>1013331201396912128</td>\n      <td>SONTOLOYO</td>\n      <td>cagubnyinyir2</td>\n      <td>Pro NKRI, alumni UGM</td>\n      <td>7032</td>\n      <td>1</td>\n    </tr>\n    <tr>\n      <th>116</th>\n      <td>1386907408564244480</td>\n      <td>2021-04-27 04:57:48 UTC</td>\n      <td>menhan Prabowo juga perlu dievaluasi karena ya...</td>\n      <td>prabowo_aspect</td>\n      <td>pr_politicalresearch</td>\n      <td>1231486087228342272</td>\n      <td>Copet BanSOS</td>\n      <td>triatmodjosast1</td>\n      <td>pura pura jadi lucu</td>\n      <td>132</td>\n      <td>1</td>\n    </tr>\n    <tr>\n      <th>652</th>\n      <td>1386524499638579207</td>\n      <td>2021-04-26 03:36:15 UTC</td>\n      <td>RT @rz_sikumbang: Surplus Beras 35 Juta Ton, G...</td>\n      <td>khofifah_aspect</td>\n      <td>pr_politicalresearch</td>\n      <td>1349264852607328257</td>\n      <td>Wahyu Kurniawan</td>\n      <td>WahyuKurcaci</td>\n      <td>Jangan mudah percaya orang</td>\n      <td>44</td>\n      <td>1</td>\n    </tr>\n    <tr>\n      <th>1602</th>\n      <td>1382549248193884161</td>\n      <td>2021-04-15 04:20:01 UTC</td>\n      <td>Misteri sosok pengganti Megawati Soekarnoputri...</td>\n      <td>megawati_aspect</td>\n      <td>pr_politicalresearch</td>\n      <td>966983910788759553</td>\n      <td>GenPI.co</td>\n      <td>Genpi_Co</td>\n      <td>Download Apps Android: https://t.co/833QEXPjBE...</td>\n      <td>1835</td>\n      <td>1</td>\n    </tr>\n    <tr>\n      <th>896</th>\n      <td>1382065452331896834</td>\n      <td>2021-04-13 20:17:36 UTC</td>\n      <td>Menurut Gubernur Khofifah, Pemerintah Provinsi...</td>\n      <td>khofifah_aspect</td>\n      <td>pr_politicalresearch</td>\n      <td>1314463978110640128</td>\n      <td>Oktafiana Savitri</td>\n      <td>OktafianaSavit1</td>\n      <td>Weeeee</td>\n      <td>24</td>\n      <td>1</td>\n    </tr>\n    <tr>\n      <th>...</th>\n      <td>...</td>\n      <td>...</td>\n      <td>...</td>\n      <td>...</td>\n      <td>...</td>\n      <td>...</td>\n      <td>...</td>\n      <td>...</td>\n      <td>...</td>\n      <td>...</td>\n      <td>...</td>\n    </tr>\n    <tr>\n      <th>1996</th>\n      <td>1385068246240436227</td>\n      <td>2021-04-22 03:09:37 UTC</td>\n      <td>Hal tersebut disampaikan Menteri Kesehatan dal...</td>\n      <td>airlangga_aspect</td>\n      <td>pr_politicalresearch</td>\n      <td>1270026294063968256</td>\n      <td>SatriaArjuna #SahabatNKRI��</td>\n      <td>Satria180806</td>\n      <td>#PANCASILA Tuhan jagalah ❤��ini dari berharap ...</td>\n      <td>831</td>\n      <td>1</td>\n    </tr>\n    <tr>\n      <th>480</th>\n      <td>1382535279949402112</td>\n      <td>2021-04-15 03:24:31 UTC</td>\n      <td>@luvluvmango @starfess Yang lagu move itu loh ...</td>\n      <td>prabowo_aspect</td>\n      <td>pr_politicalresearch</td>\n      <td>1350314093865955329</td>\n      <td>bola cassano��</td>\n      <td>boladitendangg</td>\n      <td>▧ k-drama enthusiast ▧ 03l ▧ she/her ♀ ▧ cw : ...</td>\n      <td>565</td>\n      <td>1</td>\n    </tr>\n    <tr>\n      <th>2845</th>\n      <td>1386512520022691840</td>\n      <td>2021-04-26 02:48:39 UTC</td>\n      <td>Soal KPK DKI, Anggota DPRD Jakarta Kenneth: Pa...</td>\n      <td>aniesbaswedan_aspect</td>\n      <td>pr_politicalresearch</td>\n      <td>1352381498234646528</td>\n      <td>Candramaya</td>\n      <td>Candramaya_</td>\n      <td>NaN</td>\n      <td>467</td>\n      <td>1</td>\n    </tr>\n    <tr>\n      <th>1088</th>\n      <td>1381063478547337220</td>\n      <td>2021-04-11 01:56:06 UTC</td>\n      <td>Meski telah disetujui oleh Gubernur Jatim kita...</td>\n      <td>khofifah_aspect</td>\n      <td>pr_politicalresearch</td>\n      <td>1306473184955371522</td>\n      <td>Neng Nia</td>\n      <td>NengNia54236919</td>\n      <td>NaN</td>\n      <td>16</td>\n      <td>1</td>\n    </tr>\n    <tr>\n      <th>3386</th>\n      <td>1391518367270375427</td>\n      <td>2021-05-09 22:20:06 UTC</td>\n      <td>@Agus285758 @JebulMania291 @ghanieierfan Sorry...</td>\n      <td>muhaiminiskandar_aspect</td>\n      <td>pr_politicalresearch</td>\n      <td>1388259631428894720</td>\n      <td>Budionotaslim2</td>\n      <td>Budionotaslim21</td>\n      <td>Budionotaslim2</td>\n      <td>1</td>\n      <td>1</td>\n    </tr>\n  </tbody>\n</table>\n<p>3551 rows × 11 columns</p>\n</div>"
     },
     "metadata": {},
     "execution_count": 6
    }
   ],
   "source": [
    "df_political = pd.read_csv('pr_politicalresearch_3551.csv')\n",
    "df_political = df_political.sample(df_political.shape[0])\n",
    "df_political"
   ]
  },
  {
   "cell_type": "code",
   "execution_count": 8,
   "metadata": {},
   "outputs": [
    {
     "output_type": "stream",
     "name": "stdout",
     "text": [
      "pr_ikoninsight_691.csv\npr_ikonreport_1003.csv\npr_indekspersepsikonsumen_1005.csv\npr_nergeneral_3035.csv\npr_politicalresearch_3551.csv\npr_ten10bali_734.csv\n"
     ]
    }
   ],
   "source": [
    "from pathlib import Path\n",
    "import pandas as pd\n",
    "dfs = []\n",
    "for filepath in Path(\".\").glob(\"pr*.csv\"):\n",
    "    print(filepath)\n",
    "    #this_df = pd.read_csv(filepath)\n",
    "    #dfs.append(this_df)\n",
    "\n",
    "#df = pd.concat(dfs)\n",
    "#df = df.sample(df.shape[0])\n",
    "#df.drop(['rn'], axis=1, inplace=True)\n",
    "#df = df.reset_index(drop=True)"
   ]
  },
  {
   "cell_type": "code",
   "execution_count": 28,
   "metadata": {},
   "outputs": [
    {
     "output_type": "execute_result",
     "data": {
      "text/plain": [
       "                        id               created_at  \\\n",
       "0      1387930610694451202  2021-04-30 00:43:38 UTC   \n",
       "1      1384417993614974977  2021-04-20 08:05:45 UTC   \n",
       "2      1385220800316198917  2021-04-22 13:15:49 UTC   \n",
       "3      1387889984418443265  2021-04-29 22:02:12 UTC   \n",
       "4      1388234412425314305  2021-04-30 20:50:50 UTC   \n",
       "...                    ...                      ...   \n",
       "10014  1381973445567602690  2021-04-13 14:11:59 UTC   \n",
       "10015  1387686700772577282  2021-04-29 08:34:26 UTC   \n",
       "10016  1385688934340907008  2021-04-23 20:16:01 UTC   \n",
       "10017  1390249191088164865  2021-05-06 10:16:51 UTC   \n",
       "10018  1384886571439050752  2021-04-21 15:07:43 UTC   \n",
       "\n",
       "                                                    text  \\\n",
       "0      Gubernur Khofifah Indar Parawansa dalam sambut...   \n",
       "1      Gebetan Twitter saya adalah: @paduka_oyen Temu...   \n",
       "2      @nonasenjaa13 tdi pas bukber itu tujuannya sbn...   \n",
       "3      Megawati tidak bodoh yang bodoh yang ngasih ja...   \n",
       "4      Liat baju-baju buat lebaran di shopee sama di ...   \n",
       "...                                                  ...   \n",
       "10014  RT @elkrova: Mulai Terkuak! Habib Rizieq Bongk...   \n",
       "10015  Hasil tidak akan pernah mengkhianati kerja ker...   \n",
       "10016  Partai Keadilan Sejahtera (PKS) membawa angin ...   \n",
       "10017   starbuck ke.. dah lama gak i tak minum Starbucks   \n",
       "10018  @ddsulaemann @potretlawas Ngomong2, Megawati t...   \n",
       "\n",
       "                   table_name          table_schema              user_id  \\\n",
       "0             khofifah_aspect  pr_politicalresearch  1376560485043081220   \n",
       "1            nersocmed_aspect         pr_nergeneral  1184519607874273280   \n",
       "2               bukber_aspect        pr_ikoninsight  1241672087040741377   \n",
       "3             megawati_aspect  pr_politicalresearch   748790653077757952   \n",
       "4      belanjaramadhan_aspect        pr_ikoninsight           1664662938   \n",
       "...                       ...                   ...                  ...   \n",
       "10014    aniesbaswedan_aspect  pr_politicalresearch  1094598515039203329   \n",
       "10015        borobudur_aspect          pr_ten10bali             98786338   \n",
       "10016    agusyudhoyono_aspect  pr_politicalresearch   966983910788759553   \n",
       "10017             cafe_aspect         pr_ikonreport           3837203714   \n",
       "10018         megawati_aspect  pr_politicalresearch            618949211   \n",
       "\n",
       "                                              user_name user_screen_name  \\\n",
       "0                                     Yuliana Salsabila  YulianaSalsab20   \n",
       "1                                                  amro        ashq_noum   \n",
       "2                                      ln At=ln Ao - kt         aowkowwo   \n",
       "3                                              Oentoeng   hariyantorina2   \n",
       "4                                                Gaa��️        sryglhmr_   \n",
       "...                                                 ...              ...   \n",
       "10014                                             Wawan        WawanMSE2   \n",
       "10015  ������ ���������������������� ��������®, ������®  ila_abdulrahman   \n",
       "10016                                          GenPI.co         Genpi_Co   \n",
       "10017                                             sya��       cl0udyblue   \n",
       "10018                                      sutan mulano      doni_arjuna   \n",
       "\n",
       "                                        user_description  user_followers_count  \n",
       "0                                                    NaN                    16  \n",
       "1      pisces ✌️, hanya ingin merasa hidup seutuhnya ...                  1466  \n",
       "2                           do not grow up, it' s a trap                   150  \n",
       "3                                                    NaN                   404  \n",
       "4                                  Baca tweet sematanku!                   601  \n",
       "...                                                  ...                   ...  \n",
       "10014                                                NaN                   396  \n",
       "10015             Financial Planner • @shila_financial •                  1917  \n",
       "10016  Download Apps Android: https://t.co/833QEXPjBE...                  1837  \n",
       "10017                               #YOONGI: okay, and??                   489  \n",
       "10018  peace love unity respect ✌| penggemar arsenal ...                    98  \n",
       "\n",
       "[10019 rows x 10 columns]"
      ],
      "text/html": "<div>\n<style scoped>\n    .dataframe tbody tr th:only-of-type {\n        vertical-align: middle;\n    }\n\n    .dataframe tbody tr th {\n        vertical-align: top;\n    }\n\n    .dataframe thead th {\n        text-align: right;\n    }\n</style>\n<table border=\"1\" class=\"dataframe\">\n  <thead>\n    <tr style=\"text-align: right;\">\n      <th></th>\n      <th>id</th>\n      <th>created_at</th>\n      <th>text</th>\n      <th>table_name</th>\n      <th>table_schema</th>\n      <th>user_id</th>\n      <th>user_name</th>\n      <th>user_screen_name</th>\n      <th>user_description</th>\n      <th>user_followers_count</th>\n    </tr>\n  </thead>\n  <tbody>\n    <tr>\n      <th>0</th>\n      <td>1387930610694451202</td>\n      <td>2021-04-30 00:43:38 UTC</td>\n      <td>Gubernur Khofifah Indar Parawansa dalam sambut...</td>\n      <td>khofifah_aspect</td>\n      <td>pr_politicalresearch</td>\n      <td>1376560485043081220</td>\n      <td>Yuliana Salsabila</td>\n      <td>YulianaSalsab20</td>\n      <td>NaN</td>\n      <td>16</td>\n    </tr>\n    <tr>\n      <th>1</th>\n      <td>1384417993614974977</td>\n      <td>2021-04-20 08:05:45 UTC</td>\n      <td>Gebetan Twitter saya adalah: @paduka_oyen Temu...</td>\n      <td>nersocmed_aspect</td>\n      <td>pr_nergeneral</td>\n      <td>1184519607874273280</td>\n      <td>amro</td>\n      <td>ashq_noum</td>\n      <td>pisces ✌️, hanya ingin merasa hidup seutuhnya ...</td>\n      <td>1466</td>\n    </tr>\n    <tr>\n      <th>2</th>\n      <td>1385220800316198917</td>\n      <td>2021-04-22 13:15:49 UTC</td>\n      <td>@nonasenjaa13 tdi pas bukber itu tujuannya sbn...</td>\n      <td>bukber_aspect</td>\n      <td>pr_ikoninsight</td>\n      <td>1241672087040741377</td>\n      <td>ln At=ln Ao - kt</td>\n      <td>aowkowwo</td>\n      <td>do not grow up, it' s a trap</td>\n      <td>150</td>\n    </tr>\n    <tr>\n      <th>3</th>\n      <td>1387889984418443265</td>\n      <td>2021-04-29 22:02:12 UTC</td>\n      <td>Megawati tidak bodoh yang bodoh yang ngasih ja...</td>\n      <td>megawati_aspect</td>\n      <td>pr_politicalresearch</td>\n      <td>748790653077757952</td>\n      <td>Oentoeng</td>\n      <td>hariyantorina2</td>\n      <td>NaN</td>\n      <td>404</td>\n    </tr>\n    <tr>\n      <th>4</th>\n      <td>1388234412425314305</td>\n      <td>2021-04-30 20:50:50 UTC</td>\n      <td>Liat baju-baju buat lebaran di shopee sama di ...</td>\n      <td>belanjaramadhan_aspect</td>\n      <td>pr_ikoninsight</td>\n      <td>1664662938</td>\n      <td>Gaa��️</td>\n      <td>sryglhmr_</td>\n      <td>Baca tweet sematanku!</td>\n      <td>601</td>\n    </tr>\n    <tr>\n      <th>...</th>\n      <td>...</td>\n      <td>...</td>\n      <td>...</td>\n      <td>...</td>\n      <td>...</td>\n      <td>...</td>\n      <td>...</td>\n      <td>...</td>\n      <td>...</td>\n      <td>...</td>\n    </tr>\n    <tr>\n      <th>10014</th>\n      <td>1381973445567602690</td>\n      <td>2021-04-13 14:11:59 UTC</td>\n      <td>RT @elkrova: Mulai Terkuak! Habib Rizieq Bongk...</td>\n      <td>aniesbaswedan_aspect</td>\n      <td>pr_politicalresearch</td>\n      <td>1094598515039203329</td>\n      <td>Wawan</td>\n      <td>WawanMSE2</td>\n      <td>NaN</td>\n      <td>396</td>\n    </tr>\n    <tr>\n      <th>10015</th>\n      <td>1387686700772577282</td>\n      <td>2021-04-29 08:34:26 UTC</td>\n      <td>Hasil tidak akan pernah mengkhianati kerja ker...</td>\n      <td>borobudur_aspect</td>\n      <td>pr_ten10bali</td>\n      <td>98786338</td>\n      <td>������ ���������������������� ��������®, ������®</td>\n      <td>ila_abdulrahman</td>\n      <td>Financial Planner • @shila_financial •</td>\n      <td>1917</td>\n    </tr>\n    <tr>\n      <th>10016</th>\n      <td>1385688934340907008</td>\n      <td>2021-04-23 20:16:01 UTC</td>\n      <td>Partai Keadilan Sejahtera (PKS) membawa angin ...</td>\n      <td>agusyudhoyono_aspect</td>\n      <td>pr_politicalresearch</td>\n      <td>966983910788759553</td>\n      <td>GenPI.co</td>\n      <td>Genpi_Co</td>\n      <td>Download Apps Android: https://t.co/833QEXPjBE...</td>\n      <td>1837</td>\n    </tr>\n    <tr>\n      <th>10017</th>\n      <td>1390249191088164865</td>\n      <td>2021-05-06 10:16:51 UTC</td>\n      <td>starbuck ke.. dah lama gak i tak minum Starbucks</td>\n      <td>cafe_aspect</td>\n      <td>pr_ikonreport</td>\n      <td>3837203714</td>\n      <td>sya��</td>\n      <td>cl0udyblue</td>\n      <td>#YOONGI: okay, and??</td>\n      <td>489</td>\n    </tr>\n    <tr>\n      <th>10018</th>\n      <td>1384886571439050752</td>\n      <td>2021-04-21 15:07:43 UTC</td>\n      <td>@ddsulaemann @potretlawas Ngomong2, Megawati t...</td>\n      <td>megawati_aspect</td>\n      <td>pr_politicalresearch</td>\n      <td>618949211</td>\n      <td>sutan mulano</td>\n      <td>doni_arjuna</td>\n      <td>peace love unity respect ✌| penggemar arsenal ...</td>\n      <td>98</td>\n    </tr>\n  </tbody>\n</table>\n<p>10019 rows × 10 columns</p>\n</div>"
     },
     "metadata": {},
     "execution_count": 28
    }
   ],
   "source": [
    "df"
   ]
  },
  {
   "cell_type": "code",
   "execution_count": null,
   "metadata": {},
   "outputs": [],
   "source": []
  },
  {
   "cell_type": "code",
   "execution_count": 29,
   "metadata": {},
   "outputs": [],
   "source": [
    "# df.to_csv('dataset skripsi/NER_final.csv')\n",
    "# df[['id','text']].to_csv('dataset skripsi/NER_final.txt', header=None, index=None, sep=' ', mode='a')"
   ]
  },
  {
   "cell_type": "code",
   "execution_count": 9,
   "metadata": {},
   "outputs": [
    {
     "output_type": "execute_result",
     "data": {
      "text/plain": [
       "                        id               created_at  \\\n",
       "0      1384513597846392834  2021-04-20 14:25:39 UTC   \n",
       "1      1389883148108926986  2021-05-05 10:02:19 UTC   \n",
       "2      1383807931137740800  2021-04-18 15:41:35 UTC   \n",
       "3      1388158589160722438  2021-04-30 15:49:33 UTC   \n",
       "4      1381887662299127808  2021-04-13 08:31:07 UTC   \n",
       "...                    ...                      ...   \n",
       "10014  1382973276834590723  2021-04-16 08:24:58 UTC   \n",
       "10015  1384852372405501960  2021-04-21 12:51:49 UTC   \n",
       "10016  1389306563639201793  2021-05-03 19:51:11 UTC   \n",
       "10017  1389518078866776064  2021-05-04 09:51:40 UTC   \n",
       "10018  1391274227265798150  2021-05-09 06:09:59 UTC   \n",
       "\n",
       "                                                    text           table_name  \\\n",
       "0      Yuhuu aku lagi flash sale Youtube premium 1 bu...       hiburan_aspect   \n",
       "1      @ShopeeID Shopee Pilihanku �� #ShopeeRamadanEk...     ecommerce_aspect   \n",
       "2      @zaloraidn @GalantIrma @kapt_amerika @donaokta...   nerinternet_aspect   \n",
       "3                      singkat tp bkin sakit perut������  nerkesehatan_aspect   \n",
       "4      Anggota Komisi I DPR RI Fraksi Partai Golkar, ...       prabowo_aspect   \n",
       "...                                                  ...                  ...   \n",
       "10014  @tokopedia YA KALI NGGAK KUY #TokopediaxTHEBOY...     ecommerce_aspect   \n",
       "10015  yg bawa2 \"kan perempuan harusnya ibadah di rum...  ibadahdiluar_aspect   \n",
       "10016  Kalo mau dateng bulan. Rasanya kaya badan saki...  nerkesehatan_aspect   \n",
       "10017  @KPU_ID 1. #TemanPemilih, Data Pemilih Tetap (...  nerkesehatan_aspect   \n",
       "10018     Untuk zakat Fitrah, kalian lebih suka bayarnya       beramal_aspect   \n",
       "\n",
       "                    table_schema              user_id  \\\n",
       "0      pr_indekspersepsikonsumen  1379694619949113346   \n",
       "1                  pr_ikonreport  1146784083378180098   \n",
       "2                  pr_nergeneral  1334782633088143360   \n",
       "3                  pr_nergeneral  1285870777888206848   \n",
       "4           pr_politicalresearch            350668803   \n",
       "...                          ...                  ...   \n",
       "10014              pr_ikonreport  1316410661497257984   \n",
       "10015             pr_ikoninsight  1141277905558704128   \n",
       "10016              pr_nergeneral            537847769   \n",
       "10017              pr_nergeneral  1075582962542903296   \n",
       "10018             pr_ikoninsight   982130453598552064   \n",
       "\n",
       "                        user_name user_screen_name  \\\n",
       "0      alee | Dagang Apps premium        alrdssera   \n",
       "1                              ��        saturdaeo   \n",
       "2                            irma         irmaglnt   \n",
       "3                           berry         bewryseo   \n",
       "4                        INDOZONE    indozonemedia   \n",
       "...                           ...              ...   \n",
       "10014                        nana        onyourtbz   \n",
       "10015                        diba        milctears   \n",
       "10016                      'yerrr   MamanyaTaeyong   \n",
       "10017  @KPU_Kabupaten Kutai Timur         kabkutim   \n",
       "10018            Jon Ruah Ginting   JonRuahGinting   \n",
       "\n",
       "                                        user_description  user_followers_count  \n",
       "0                        New but Trusted. Akun jualan ^^                    51  \n",
       "1                                                    NaN                     0  \n",
       "2                                                      .                     3  \n",
       "3                24/7 thinking out loud about han jisung                  1635  \n",
       "4      INDOZONE - #KAMUHARUSTAU The Most Engaging Med...               1783351  \n",
       "...                                                  ...                   ...  \n",
       "10014   SHE/HER 7TEEN �� #THEBOYZ SUPPORT SYSTEM % .. !!                   150  \n",
       "10015                          megumi jidatmu semangatku                    58  \n",
       "10016  Hi! Welcome! �� || This user sometimes clingy,...                  1777  \n",
       "10017                                                NaN                    81  \n",
       "10018  Awak ko apo na lah, jan kan urang, langau se s...                  1223  \n",
       "\n",
       "[10019 rows x 10 columns]"
      ],
      "text/html": "<div>\n<style scoped>\n    .dataframe tbody tr th:only-of-type {\n        vertical-align: middle;\n    }\n\n    .dataframe tbody tr th {\n        vertical-align: top;\n    }\n\n    .dataframe thead th {\n        text-align: right;\n    }\n</style>\n<table border=\"1\" class=\"dataframe\">\n  <thead>\n    <tr style=\"text-align: right;\">\n      <th></th>\n      <th>id</th>\n      <th>created_at</th>\n      <th>text</th>\n      <th>table_name</th>\n      <th>table_schema</th>\n      <th>user_id</th>\n      <th>user_name</th>\n      <th>user_screen_name</th>\n      <th>user_description</th>\n      <th>user_followers_count</th>\n    </tr>\n  </thead>\n  <tbody>\n    <tr>\n      <th>0</th>\n      <td>1384513597846392834</td>\n      <td>2021-04-20 14:25:39 UTC</td>\n      <td>Yuhuu aku lagi flash sale Youtube premium 1 bu...</td>\n      <td>hiburan_aspect</td>\n      <td>pr_indekspersepsikonsumen</td>\n      <td>1379694619949113346</td>\n      <td>alee | Dagang Apps premium</td>\n      <td>alrdssera</td>\n      <td>New but Trusted. Akun jualan ^^</td>\n      <td>51</td>\n    </tr>\n    <tr>\n      <th>1</th>\n      <td>1389883148108926986</td>\n      <td>2021-05-05 10:02:19 UTC</td>\n      <td>@ShopeeID Shopee Pilihanku �� #ShopeeRamadanEk...</td>\n      <td>ecommerce_aspect</td>\n      <td>pr_ikonreport</td>\n      <td>1146784083378180098</td>\n      <td>��</td>\n      <td>saturdaeo</td>\n      <td>NaN</td>\n      <td>0</td>\n    </tr>\n    <tr>\n      <th>2</th>\n      <td>1383807931137740800</td>\n      <td>2021-04-18 15:41:35 UTC</td>\n      <td>@zaloraidn @GalantIrma @kapt_amerika @donaokta...</td>\n      <td>nerinternet_aspect</td>\n      <td>pr_nergeneral</td>\n      <td>1334782633088143360</td>\n      <td>irma</td>\n      <td>irmaglnt</td>\n      <td>.</td>\n      <td>3</td>\n    </tr>\n    <tr>\n      <th>3</th>\n      <td>1388158589160722438</td>\n      <td>2021-04-30 15:49:33 UTC</td>\n      <td>singkat tp bkin sakit perut������</td>\n      <td>nerkesehatan_aspect</td>\n      <td>pr_nergeneral</td>\n      <td>1285870777888206848</td>\n      <td>berry</td>\n      <td>bewryseo</td>\n      <td>24/7 thinking out loud about han jisung</td>\n      <td>1635</td>\n    </tr>\n    <tr>\n      <th>4</th>\n      <td>1381887662299127808</td>\n      <td>2021-04-13 08:31:07 UTC</td>\n      <td>Anggota Komisi I DPR RI Fraksi Partai Golkar, ...</td>\n      <td>prabowo_aspect</td>\n      <td>pr_politicalresearch</td>\n      <td>350668803</td>\n      <td>INDOZONE</td>\n      <td>indozonemedia</td>\n      <td>INDOZONE - #KAMUHARUSTAU The Most Engaging Med...</td>\n      <td>1783351</td>\n    </tr>\n    <tr>\n      <th>...</th>\n      <td>...</td>\n      <td>...</td>\n      <td>...</td>\n      <td>...</td>\n      <td>...</td>\n      <td>...</td>\n      <td>...</td>\n      <td>...</td>\n      <td>...</td>\n      <td>...</td>\n    </tr>\n    <tr>\n      <th>10014</th>\n      <td>1382973276834590723</td>\n      <td>2021-04-16 08:24:58 UTC</td>\n      <td>@tokopedia YA KALI NGGAK KUY #TokopediaxTHEBOY...</td>\n      <td>ecommerce_aspect</td>\n      <td>pr_ikonreport</td>\n      <td>1316410661497257984</td>\n      <td>nana</td>\n      <td>onyourtbz</td>\n      <td>SHE/HER 7TEEN �� #THEBOYZ SUPPORT SYSTEM % .. !!</td>\n      <td>150</td>\n    </tr>\n    <tr>\n      <th>10015</th>\n      <td>1384852372405501960</td>\n      <td>2021-04-21 12:51:49 UTC</td>\n      <td>yg bawa2 \"kan perempuan harusnya ibadah di rum...</td>\n      <td>ibadahdiluar_aspect</td>\n      <td>pr_ikoninsight</td>\n      <td>1141277905558704128</td>\n      <td>diba</td>\n      <td>milctears</td>\n      <td>megumi jidatmu semangatku</td>\n      <td>58</td>\n    </tr>\n    <tr>\n      <th>10016</th>\n      <td>1389306563639201793</td>\n      <td>2021-05-03 19:51:11 UTC</td>\n      <td>Kalo mau dateng bulan. Rasanya kaya badan saki...</td>\n      <td>nerkesehatan_aspect</td>\n      <td>pr_nergeneral</td>\n      <td>537847769</td>\n      <td>'yerrr</td>\n      <td>MamanyaTaeyong</td>\n      <td>Hi! Welcome! �� || This user sometimes clingy,...</td>\n      <td>1777</td>\n    </tr>\n    <tr>\n      <th>10017</th>\n      <td>1389518078866776064</td>\n      <td>2021-05-04 09:51:40 UTC</td>\n      <td>@KPU_ID 1. #TemanPemilih, Data Pemilih Tetap (...</td>\n      <td>nerkesehatan_aspect</td>\n      <td>pr_nergeneral</td>\n      <td>1075582962542903296</td>\n      <td>@KPU_Kabupaten Kutai Timur</td>\n      <td>kabkutim</td>\n      <td>NaN</td>\n      <td>81</td>\n    </tr>\n    <tr>\n      <th>10018</th>\n      <td>1391274227265798150</td>\n      <td>2021-05-09 06:09:59 UTC</td>\n      <td>Untuk zakat Fitrah, kalian lebih suka bayarnya</td>\n      <td>beramal_aspect</td>\n      <td>pr_ikoninsight</td>\n      <td>982130453598552064</td>\n      <td>Jon Ruah Ginting</td>\n      <td>JonRuahGinting</td>\n      <td>Awak ko apo na lah, jan kan urang, langau se s...</td>\n      <td>1223</td>\n    </tr>\n  </tbody>\n</table>\n<p>10019 rows × 10 columns</p>\n</div>"
     },
     "metadata": {},
     "execution_count": 9
    }
   ],
   "source": [
    "df"
   ]
  },
  {
   "cell_type": "code",
   "execution_count": 10,
   "metadata": {},
   "outputs": [
    {
     "output_type": "execute_result",
     "data": {
      "text/plain": [
       "3300"
      ]
     },
     "metadata": {},
     "execution_count": 10
    }
   ],
   "source": [
    "amt_of_twt= [300,300,500,500,600,500,600]\n",
    "sum(amt_of_twt)"
   ]
  },
  {
   "cell_type": "code",
   "execution_count": 17,
   "metadata": {},
   "outputs": [
    {
     "output_type": "stream",
     "name": "stdout",
     "text": [
      "0 300\n\n300 600\n\n600 1100\n\n1100 1600\n\n1600 2200\n\n2200 2700\n\n2700 3300\n\n"
     ]
    }
   ],
   "source": [
    "start_id=0\n",
    "end_id=0\n",
    "dfs=list()\n",
    "for i in amt_of_twt:\n",
    "    end_id+=i\n",
    "    print(start_id,end_id)\n",
    "    dfs.append(df.loc[start_id:end_id])\n",
    "    start_id+=i\n",
    "    # print(start_id,end_id)\n",
    "    print()\n"
   ]
  },
  {
   "cell_type": "code",
   "execution_count": 26,
   "metadata": {},
   "outputs": [
    {
     "output_type": "execute_result",
     "data": {
      "text/plain": [
       "                       id               created_at  \\\n",
       "2700  1391180638598828033  2021-05-08 23:58:05 UTC   \n",
       "2701  1388620164585779200  2021-05-01 22:23:41 UTC   \n",
       "2702  1388463970743324687  2021-05-01 12:03:01 UTC   \n",
       "2703  1385624716036116480  2021-04-23 16:00:50 UTC   \n",
       "2704  1382342129658187776  2021-04-14 14:37:01 UTC   \n",
       "...                   ...                      ...   \n",
       "3296  1388776178987651075  2021-05-02 08:43:37 UTC   \n",
       "3297  1380837137906475009  2021-04-10 10:56:43 UTC   \n",
       "3298  1389040309640712192  2021-05-03 02:13:11 UTC   \n",
       "3299  1390630363739738117  2021-05-07 11:31:30 UTC   \n",
       "3300  1384996005528014848  2021-04-21 22:22:34 UTC   \n",
       "\n",
       "                                                   text  \\\n",
       "2700  @renjounh wKWKWKWK, aku nyuruh dia stay sama a...   \n",
       "2701  @jntexpressid NGABUBURIT BARENG JNT. NONTON LI...   \n",
       "2702   @Ikhsanadipp contohnya sprti memgerjakan skripsi   \n",
       "2703  @yaaiyoo But I'm not. Perlu ke Jogja kayaknya nih   \n",
       "2704  who cant resist vs body mist sale? ME. walopun...   \n",
       "...                                                 ...   \n",
       "3296  @greenteasbx mau penelitian buat bahan skripsi...   \n",
       "3297  @yoogeumbyul Gempanya dijatim tapi sampe ke jogja   \n",
       "3298  @ShopeeID Bismillah semoga bisa menang motor��...   \n",
       "3299  @bayu_joo To be honest, ingin staycation ke BA...   \n",
       "3300  Bergamask by Orto Parisi Parfum Spray (Unisex)...   \n",
       "\n",
       "                   table_name               table_schema              user_id  \\\n",
       "2700      nerkesehatan_aspect              pr_nergeneral  1375989242514432002   \n",
       "2701        ngabuburit_aspect             pr_ikoninsight  1276163453879803905   \n",
       "2702     nerpendidikan_aspect              pr_nergeneral   772386376713064448   \n",
       "2703         borobudur_aspect               pr_ten10bali  1083780444162711552   \n",
       "2704  peralatanpribadi_aspect  pr_indekspersepsikonsumen            162612639   \n",
       "...                       ...                        ...                  ...   \n",
       "3296     nerpendidikan_aspect              pr_nergeneral           2472039337   \n",
       "3297         borobudur_aspect               pr_ten10bali  1108046844628619264   \n",
       "3298         ecommerce_aspect              pr_ikonreport   783179637962649601   \n",
       "3299         borobudur_aspect               pr_ten10bali  1388434708334190593   \n",
       "3300  peralatanpribadi_aspect  pr_indekspersepsikonsumen  1368334161002389506   \n",
       "\n",
       "                         user_name user_screen_name  \\\n",
       "2700             ��ezan， #HotSauce         ryvjeans   \n",
       "2701                Prasista Noren         jeynoong   \n",
       "2702                     paud kohl  _nugrohowisnuuu   \n",
       "2703                      kueberas        ulfayaaaa   \n",
       "2704                           aye         alifyaaz   \n",
       "...                            ...              ...   \n",
       "3296                      agagaduh         fthnniam   \n",
       "3297                            ��      faustinarzs   \n",
       "3298                           Ian         ianAnsah   \n",
       "3299                        Priska        Priskaa07   \n",
       "3300  Fragrances Health and Beauty   fragrances_and   \n",
       "\n",
       "                                       user_description  user_followers_count  \n",
       "2700  #cyberfan、いちごミルクが大好きな人とイ・ヘチャンもパク・ジソン！♡ — mas a...                   262  \n",
       "2701                                                NaN                     1  \n",
       "2702                             fortis fortuna adiuvat                   192  \n",
       "2703                                            Newgurl                    60  \n",
       "2704                                      me·tic·u·lous                   666  \n",
       "...                                                 ...                   ...  \n",
       "3296           pilih dia yang keluarganya menerima kamu                  1552  \n",
       "3297  All the colors and personalities. you can’t se...                     8  \n",
       "3298  Sedang ikut GIVEAWAY Shopee ������ Semoga mena...                    49  \n",
       "3299                                                NaN                     0  \n",
       "3300  Fragrances, Health and Beauty. Selected Items....                     4  \n",
       "\n",
       "[601 rows x 10 columns]"
      ],
      "text/html": "<div>\n<style scoped>\n    .dataframe tbody tr th:only-of-type {\n        vertical-align: middle;\n    }\n\n    .dataframe tbody tr th {\n        vertical-align: top;\n    }\n\n    .dataframe thead th {\n        text-align: right;\n    }\n</style>\n<table border=\"1\" class=\"dataframe\">\n  <thead>\n    <tr style=\"text-align: right;\">\n      <th></th>\n      <th>id</th>\n      <th>created_at</th>\n      <th>text</th>\n      <th>table_name</th>\n      <th>table_schema</th>\n      <th>user_id</th>\n      <th>user_name</th>\n      <th>user_screen_name</th>\n      <th>user_description</th>\n      <th>user_followers_count</th>\n    </tr>\n  </thead>\n  <tbody>\n    <tr>\n      <th>2700</th>\n      <td>1391180638598828033</td>\n      <td>2021-05-08 23:58:05 UTC</td>\n      <td>@renjounh wKWKWKWK, aku nyuruh dia stay sama a...</td>\n      <td>nerkesehatan_aspect</td>\n      <td>pr_nergeneral</td>\n      <td>1375989242514432002</td>\n      <td>��ezan， #HotSauce</td>\n      <td>ryvjeans</td>\n      <td>#cyberfan、いちごミルクが大好きな人とイ・ヘチャンもパク・ジソン！♡ — mas a...</td>\n      <td>262</td>\n    </tr>\n    <tr>\n      <th>2701</th>\n      <td>1388620164585779200</td>\n      <td>2021-05-01 22:23:41 UTC</td>\n      <td>@jntexpressid NGABUBURIT BARENG JNT. NONTON LI...</td>\n      <td>ngabuburit_aspect</td>\n      <td>pr_ikoninsight</td>\n      <td>1276163453879803905</td>\n      <td>Prasista Noren</td>\n      <td>jeynoong</td>\n      <td>NaN</td>\n      <td>1</td>\n    </tr>\n    <tr>\n      <th>2702</th>\n      <td>1388463970743324687</td>\n      <td>2021-05-01 12:03:01 UTC</td>\n      <td>@Ikhsanadipp contohnya sprti memgerjakan skripsi</td>\n      <td>nerpendidikan_aspect</td>\n      <td>pr_nergeneral</td>\n      <td>772386376713064448</td>\n      <td>paud kohl</td>\n      <td>_nugrohowisnuuu</td>\n      <td>fortis fortuna adiuvat</td>\n      <td>192</td>\n    </tr>\n    <tr>\n      <th>2703</th>\n      <td>1385624716036116480</td>\n      <td>2021-04-23 16:00:50 UTC</td>\n      <td>@yaaiyoo But I'm not. Perlu ke Jogja kayaknya nih</td>\n      <td>borobudur_aspect</td>\n      <td>pr_ten10bali</td>\n      <td>1083780444162711552</td>\n      <td>kueberas</td>\n      <td>ulfayaaaa</td>\n      <td>Newgurl</td>\n      <td>60</td>\n    </tr>\n    <tr>\n      <th>2704</th>\n      <td>1382342129658187776</td>\n      <td>2021-04-14 14:37:01 UTC</td>\n      <td>who cant resist vs body mist sale? ME. walopun...</td>\n      <td>peralatanpribadi_aspect</td>\n      <td>pr_indekspersepsikonsumen</td>\n      <td>162612639</td>\n      <td>aye</td>\n      <td>alifyaaz</td>\n      <td>me·tic·u·lous</td>\n      <td>666</td>\n    </tr>\n    <tr>\n      <th>...</th>\n      <td>...</td>\n      <td>...</td>\n      <td>...</td>\n      <td>...</td>\n      <td>...</td>\n      <td>...</td>\n      <td>...</td>\n      <td>...</td>\n      <td>...</td>\n      <td>...</td>\n    </tr>\n    <tr>\n      <th>3296</th>\n      <td>1388776178987651075</td>\n      <td>2021-05-02 08:43:37 UTC</td>\n      <td>@greenteasbx mau penelitian buat bahan skripsi...</td>\n      <td>nerpendidikan_aspect</td>\n      <td>pr_nergeneral</td>\n      <td>2472039337</td>\n      <td>agagaduh</td>\n      <td>fthnniam</td>\n      <td>pilih dia yang keluarganya menerima kamu</td>\n      <td>1552</td>\n    </tr>\n    <tr>\n      <th>3297</th>\n      <td>1380837137906475009</td>\n      <td>2021-04-10 10:56:43 UTC</td>\n      <td>@yoogeumbyul Gempanya dijatim tapi sampe ke jogja</td>\n      <td>borobudur_aspect</td>\n      <td>pr_ten10bali</td>\n      <td>1108046844628619264</td>\n      <td>��</td>\n      <td>faustinarzs</td>\n      <td>All the colors and personalities. you can’t se...</td>\n      <td>8</td>\n    </tr>\n    <tr>\n      <th>3298</th>\n      <td>1389040309640712192</td>\n      <td>2021-05-03 02:13:11 UTC</td>\n      <td>@ShopeeID Bismillah semoga bisa menang motor��...</td>\n      <td>ecommerce_aspect</td>\n      <td>pr_ikonreport</td>\n      <td>783179637962649601</td>\n      <td>Ian</td>\n      <td>ianAnsah</td>\n      <td>Sedang ikut GIVEAWAY Shopee ������ Semoga mena...</td>\n      <td>49</td>\n    </tr>\n    <tr>\n      <th>3299</th>\n      <td>1390630363739738117</td>\n      <td>2021-05-07 11:31:30 UTC</td>\n      <td>@bayu_joo To be honest, ingin staycation ke BA...</td>\n      <td>borobudur_aspect</td>\n      <td>pr_ten10bali</td>\n      <td>1388434708334190593</td>\n      <td>Priska</td>\n      <td>Priskaa07</td>\n      <td>NaN</td>\n      <td>0</td>\n    </tr>\n    <tr>\n      <th>3300</th>\n      <td>1384996005528014848</td>\n      <td>2021-04-21 22:22:34 UTC</td>\n      <td>Bergamask by Orto Parisi Parfum Spray (Unisex)...</td>\n      <td>peralatanpribadi_aspect</td>\n      <td>pr_indekspersepsikonsumen</td>\n      <td>1368334161002389506</td>\n      <td>Fragrances Health and Beauty</td>\n      <td>fragrances_and</td>\n      <td>Fragrances, Health and Beauty. Selected Items....</td>\n      <td>4</td>\n    </tr>\n  </tbody>\n</table>\n<p>601 rows × 10 columns</p>\n</div>"
     },
     "metadata": {},
     "execution_count": 26
    }
   ],
   "source": [
    "dfs[6]"
   ]
  },
  {
   "cell_type": "code",
   "execution_count": null,
   "metadata": {},
   "outputs": [],
   "source": []
  }
 ]
}