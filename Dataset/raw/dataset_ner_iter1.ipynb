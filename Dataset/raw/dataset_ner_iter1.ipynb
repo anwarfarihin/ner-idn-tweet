{
 "metadata": {
  "language_info": {
   "codemirror_mode": {
    "name": "ipython",
    "version": 3
   },
   "file_extension": ".py",
   "mimetype": "text/x-python",
   "name": "python",
   "nbconvert_exporter": "python",
   "pygments_lexer": "ipython3",
   "version": "3.9.5"
  },
  "orig_nbformat": 2,
  "kernelspec": {
   "name": "python395jvsc74a57bd0fe2e3b9e6ea5a6f91ab546d57075c6313ecd21c0c00e38d5eab8477eb715e25c",
   "display_name": "Python 3.9.5 64-bit"
  },
  "metadata": {
   "interpreter": {
    "hash": "fe2e3b9e6ea5a6f91ab546d57075c6313ecd21c0c00e38d5eab8477eb715e25c"
   }
  }
 },
 "nbformat": 4,
 "nbformat_minor": 2,
 "cells": [
  {
   "cell_type": "code",
   "execution_count": 1,
   "metadata": {},
   "outputs": [],
   "source": [
    "import numpy as np\n",
    "import pandas as pd\n"
   ]
  },
  {
   "cell_type": "code",
   "execution_count": 2,
   "metadata": {},
   "outputs": [],
   "source": [
    "df = pd.read_csv('NER_final.csv',index_col=0)"
   ]
  },
  {
   "cell_type": "code",
   "execution_count": 3,
   "metadata": {},
   "outputs": [
    {
     "output_type": "execute_result",
     "data": {
      "text/plain": [
       "                        id               created_at  \\\n",
       "0      1387930610694451202  2021-04-30 00:43:38 UTC   \n",
       "1      1384417993614974977  2021-04-20 08:05:45 UTC   \n",
       "2      1385220800316198917  2021-04-22 13:15:49 UTC   \n",
       "3      1387889984418443265  2021-04-29 22:02:12 UTC   \n",
       "4      1388234412425314305  2021-04-30 20:50:50 UTC   \n",
       "...                    ...                      ...   \n",
       "10014  1381973445567602690  2021-04-13 14:11:59 UTC   \n",
       "10015  1387686700772577282  2021-04-29 08:34:26 UTC   \n",
       "10016  1385688934340907008  2021-04-23 20:16:01 UTC   \n",
       "10017  1390249191088164865  2021-05-06 10:16:51 UTC   \n",
       "10018  1384886571439050752  2021-04-21 15:07:43 UTC   \n",
       "\n",
       "                                                    text  \\\n",
       "0      Gubernur Khofifah Indar Parawansa dalam sambut...   \n",
       "1      Gebetan Twitter saya adalah: @paduka_oyen Temu...   \n",
       "2      @nonasenjaa13 tdi pas bukber itu tujuannya sbn...   \n",
       "3      Megawati tidak bodoh yang bodoh yang ngasih ja...   \n",
       "4      Liat baju-baju buat lebaran di shopee sama di ...   \n",
       "...                                                  ...   \n",
       "10014  RT @elkrova: Mulai Terkuak! Habib Rizieq Bongk...   \n",
       "10015  Hasil tidak akan pernah mengkhianati kerja ker...   \n",
       "10016  Partai Keadilan Sejahtera (PKS) membawa angin ...   \n",
       "10017   starbuck ke.. dah lama gak i tak minum Starbucks   \n",
       "10018  @ddsulaemann @potretlawas Ngomong2, Megawati t...   \n",
       "\n",
       "                   table_name          table_schema              user_id  \\\n",
       "0             khofifah_aspect  pr_politicalresearch  1376560485043081220   \n",
       "1            nersocmed_aspect         pr_nergeneral  1184519607874273280   \n",
       "2               bukber_aspect        pr_ikoninsight  1241672087040741377   \n",
       "3             megawati_aspect  pr_politicalresearch   748790653077757952   \n",
       "4      belanjaramadhan_aspect        pr_ikoninsight           1664662938   \n",
       "...                       ...                   ...                  ...   \n",
       "10014    aniesbaswedan_aspect  pr_politicalresearch  1094598515039203329   \n",
       "10015        borobudur_aspect          pr_ten10bali             98786338   \n",
       "10016    agusyudhoyono_aspect  pr_politicalresearch   966983910788759553   \n",
       "10017             cafe_aspect         pr_ikonreport           3837203714   \n",
       "10018         megawati_aspect  pr_politicalresearch            618949211   \n",
       "\n",
       "                                              user_name user_screen_name  \\\n",
       "0                                     Yuliana Salsabila  YulianaSalsab20   \n",
       "1                                                  amro        ashq_noum   \n",
       "2                                      ln At=ln Ao - kt         aowkowwo   \n",
       "3                                              Oentoeng   hariyantorina2   \n",
       "4                                                Gaa��️        sryglhmr_   \n",
       "...                                                 ...              ...   \n",
       "10014                                             Wawan        WawanMSE2   \n",
       "10015  ������ ���������������������� ��������®, ������®  ila_abdulrahman   \n",
       "10016                                          GenPI.co         Genpi_Co   \n",
       "10017                                             sya��       cl0udyblue   \n",
       "10018                                      sutan mulano      doni_arjuna   \n",
       "\n",
       "                                        user_description  user_followers_count  \n",
       "0                                                    NaN                    16  \n",
       "1      pisces ✌️, hanya ingin merasa hidup seutuhnya ...                  1466  \n",
       "2                           do not grow up, it' s a trap                   150  \n",
       "3                                                    NaN                   404  \n",
       "4                                  Baca tweet sematanku!                   601  \n",
       "...                                                  ...                   ...  \n",
       "10014                                                NaN                   396  \n",
       "10015             Financial Planner • @shila_financial •                  1917  \n",
       "10016  Download Apps Android: https://t.co/833QEXPjBE...                  1837  \n",
       "10017                               #YOONGI: okay, and??                   489  \n",
       "10018  peace love unity respect ✌| penggemar arsenal ...                    98  \n",
       "\n",
       "[10019 rows x 10 columns]"
      ],
      "text/html": "<div>\n<style scoped>\n    .dataframe tbody tr th:only-of-type {\n        vertical-align: middle;\n    }\n\n    .dataframe tbody tr th {\n        vertical-align: top;\n    }\n\n    .dataframe thead th {\n        text-align: right;\n    }\n</style>\n<table border=\"1\" class=\"dataframe\">\n  <thead>\n    <tr style=\"text-align: right;\">\n      <th></th>\n      <th>id</th>\n      <th>created_at</th>\n      <th>text</th>\n      <th>table_name</th>\n      <th>table_schema</th>\n      <th>user_id</th>\n      <th>user_name</th>\n      <th>user_screen_name</th>\n      <th>user_description</th>\n      <th>user_followers_count</th>\n    </tr>\n  </thead>\n  <tbody>\n    <tr>\n      <th>0</th>\n      <td>1387930610694451202</td>\n      <td>2021-04-30 00:43:38 UTC</td>\n      <td>Gubernur Khofifah Indar Parawansa dalam sambut...</td>\n      <td>khofifah_aspect</td>\n      <td>pr_politicalresearch</td>\n      <td>1376560485043081220</td>\n      <td>Yuliana Salsabila</td>\n      <td>YulianaSalsab20</td>\n      <td>NaN</td>\n      <td>16</td>\n    </tr>\n    <tr>\n      <th>1</th>\n      <td>1384417993614974977</td>\n      <td>2021-04-20 08:05:45 UTC</td>\n      <td>Gebetan Twitter saya adalah: @paduka_oyen Temu...</td>\n      <td>nersocmed_aspect</td>\n      <td>pr_nergeneral</td>\n      <td>1184519607874273280</td>\n      <td>amro</td>\n      <td>ashq_noum</td>\n      <td>pisces ✌️, hanya ingin merasa hidup seutuhnya ...</td>\n      <td>1466</td>\n    </tr>\n    <tr>\n      <th>2</th>\n      <td>1385220800316198917</td>\n      <td>2021-04-22 13:15:49 UTC</td>\n      <td>@nonasenjaa13 tdi pas bukber itu tujuannya sbn...</td>\n      <td>bukber_aspect</td>\n      <td>pr_ikoninsight</td>\n      <td>1241672087040741377</td>\n      <td>ln At=ln Ao - kt</td>\n      <td>aowkowwo</td>\n      <td>do not grow up, it' s a trap</td>\n      <td>150</td>\n    </tr>\n    <tr>\n      <th>3</th>\n      <td>1387889984418443265</td>\n      <td>2021-04-29 22:02:12 UTC</td>\n      <td>Megawati tidak bodoh yang bodoh yang ngasih ja...</td>\n      <td>megawati_aspect</td>\n      <td>pr_politicalresearch</td>\n      <td>748790653077757952</td>\n      <td>Oentoeng</td>\n      <td>hariyantorina2</td>\n      <td>NaN</td>\n      <td>404</td>\n    </tr>\n    <tr>\n      <th>4</th>\n      <td>1388234412425314305</td>\n      <td>2021-04-30 20:50:50 UTC</td>\n      <td>Liat baju-baju buat lebaran di shopee sama di ...</td>\n      <td>belanjaramadhan_aspect</td>\n      <td>pr_ikoninsight</td>\n      <td>1664662938</td>\n      <td>Gaa��️</td>\n      <td>sryglhmr_</td>\n      <td>Baca tweet sematanku!</td>\n      <td>601</td>\n    </tr>\n    <tr>\n      <th>...</th>\n      <td>...</td>\n      <td>...</td>\n      <td>...</td>\n      <td>...</td>\n      <td>...</td>\n      <td>...</td>\n      <td>...</td>\n      <td>...</td>\n      <td>...</td>\n      <td>...</td>\n    </tr>\n    <tr>\n      <th>10014</th>\n      <td>1381973445567602690</td>\n      <td>2021-04-13 14:11:59 UTC</td>\n      <td>RT @elkrova: Mulai Terkuak! Habib Rizieq Bongk...</td>\n      <td>aniesbaswedan_aspect</td>\n      <td>pr_politicalresearch</td>\n      <td>1094598515039203329</td>\n      <td>Wawan</td>\n      <td>WawanMSE2</td>\n      <td>NaN</td>\n      <td>396</td>\n    </tr>\n    <tr>\n      <th>10015</th>\n      <td>1387686700772577282</td>\n      <td>2021-04-29 08:34:26 UTC</td>\n      <td>Hasil tidak akan pernah mengkhianati kerja ker...</td>\n      <td>borobudur_aspect</td>\n      <td>pr_ten10bali</td>\n      <td>98786338</td>\n      <td>������ ���������������������� ��������®, ������®</td>\n      <td>ila_abdulrahman</td>\n      <td>Financial Planner • @shila_financial •</td>\n      <td>1917</td>\n    </tr>\n    <tr>\n      <th>10016</th>\n      <td>1385688934340907008</td>\n      <td>2021-04-23 20:16:01 UTC</td>\n      <td>Partai Keadilan Sejahtera (PKS) membawa angin ...</td>\n      <td>agusyudhoyono_aspect</td>\n      <td>pr_politicalresearch</td>\n      <td>966983910788759553</td>\n      <td>GenPI.co</td>\n      <td>Genpi_Co</td>\n      <td>Download Apps Android: https://t.co/833QEXPjBE...</td>\n      <td>1837</td>\n    </tr>\n    <tr>\n      <th>10017</th>\n      <td>1390249191088164865</td>\n      <td>2021-05-06 10:16:51 UTC</td>\n      <td>starbuck ke.. dah lama gak i tak minum Starbucks</td>\n      <td>cafe_aspect</td>\n      <td>pr_ikonreport</td>\n      <td>3837203714</td>\n      <td>sya��</td>\n      <td>cl0udyblue</td>\n      <td>#YOONGI: okay, and??</td>\n      <td>489</td>\n    </tr>\n    <tr>\n      <th>10018</th>\n      <td>1384886571439050752</td>\n      <td>2021-04-21 15:07:43 UTC</td>\n      <td>@ddsulaemann @potretlawas Ngomong2, Megawati t...</td>\n      <td>megawati_aspect</td>\n      <td>pr_politicalresearch</td>\n      <td>618949211</td>\n      <td>sutan mulano</td>\n      <td>doni_arjuna</td>\n      <td>peace love unity respect ✌| penggemar arsenal ...</td>\n      <td>98</td>\n    </tr>\n  </tbody>\n</table>\n<p>10019 rows × 10 columns</p>\n</div>"
     },
     "metadata": {},
     "execution_count": 3
    }
   ],
   "source": [
    "df"
   ]
  },
  {
   "cell_type": "code",
   "execution_count": 5,
   "metadata": {},
   "outputs": [
    {
     "output_type": "execute_result",
     "data": {
      "text/plain": [
       "                       id               created_at  \\\n",
       "3000  1387052183070253064  2021-04-27 14:33:05 UTC   \n",
       "3001  1382757546667044864  2021-04-15 18:07:44 UTC   \n",
       "3002  1389509510751006726  2021-05-04 09:17:37 UTC   \n",
       "3003  1387945578940698624  2021-04-30 01:43:07 UTC   \n",
       "3004  1388908995809669120  2021-05-02 17:31:23 UTC   \n",
       "...                   ...                      ...   \n",
       "5996  1390879902115586057  2021-05-08 04:03:04 UTC   \n",
       "5997  1384821303706755074  2021-04-21 10:48:22 UTC   \n",
       "5998  1386677818537308161  2021-04-26 13:45:29 UTC   \n",
       "5999  1385945421135024128  2021-04-24 13:15:12 UTC   \n",
       "6000  1385156691960860672  2021-04-22 09:01:04 UTC   \n",
       "\n",
       "                                                   text            table_name  \\\n",
       "3000  dulu lumayan sering sih gatau kenapaa yaa, set...   nerkesehatan_aspect   \n",
       "3001  org tua w sampe worry anaknya gila beneran tia...   nerkesehatan_aspect   \n",
       "3002                 @bcpdargent lah lu masih di jogja?      borobudur_aspect   \n",
       "3003  @LaporGub_ @DPUPRKabMgl @KemenPU bantu up... b...      borobudur_aspect   \n",
       "3004  Kalo haid bisa ga si gausah sakit kepala dan k...   nerkesehatan_aspect   \n",
       "...                                                 ...                   ...   \n",
       "5996  Melaksanakan kegiatan patroli Woro Woro 1.agar...   nerkesehatan_aspect   \n",
       "5997  RT @SINDOnews: Nadiem Makarim Unggah Foto Bare...       megawati_aspect   \n",
       "5998  @IMulya77 @FerdinandHaean3 Bu @KhofifahIP warg...       khofifah_aspect   \n",
       "5999  Nikmati prosesnya, untuk menjadi pohon kamu ha...  nerpendidikan_aspect   \n",
       "6000  Menhan Prabowo Subianto Pastikan Oksigen KRI N...        prabowo_aspect   \n",
       "\n",
       "              table_schema              user_id                 user_name  \\\n",
       "3000         pr_nergeneral  1272668795685892096  qila ��| changkyun babe.   \n",
       "3001         pr_nergeneral  1052137149628203008                 akuamalia   \n",
       "3002          pr_ten10bali  1131177258037551104                      naaa   \n",
       "3003          pr_ten10bali  1245480112146927617                  FeryNdut   \n",
       "3004         pr_nergeneral           2197733640                        ra   \n",
       "...                    ...                  ...                       ...   \n",
       "5996         pr_nergeneral  1364049898614583297           POLSEK CIMANGGU   \n",
       "5997  pr_politicalresearch           1014192338            Netizen Bodong   \n",
       "5998  pr_politicalresearch           4340039112              dia lagi aja   \n",
       "5999         pr_nergeneral           2197214060                      raya   \n",
       "6000  pr_politicalresearch           2553884263         galamedianews.com   \n",
       "\n",
       "     user_screen_name                                   user_description  \\\n",
       "3000         puyuyuxi                           hai!������ monbebe ̆̈ wh   \n",
       "3001      amaliaptrsb                                                NaN   \n",
       "3002        paansiih_                                                NaN   \n",
       "3003        FeryNdut1                                 Milanisti, Goweser   \n",
       "3004      pethaakilan                                                NaN   \n",
       "...               ...                                                ...   \n",
       "5996  polsekcimanggu8                                    Polsek cimanggu   \n",
       "5997    indraelfarisi                               لا تحزن ان الله معنا   \n",
       "5998        ogen_amat                                               YNWA   \n",
       "5999        kanharimu                             . ONE LIFE . LIVE IT .   \n",
       "6000    galamedianews  Part of Pikiran Rakyat Network | @GalaPersib |...   \n",
       "\n",
       "      user_followers_count  \n",
       "3000                   269  \n",
       "3001                    55  \n",
       "3002                   568  \n",
       "3003                    53  \n",
       "3004                   530  \n",
       "...                    ...  \n",
       "5996                     0  \n",
       "5997                   210  \n",
       "5998                   178  \n",
       "5999                   193  \n",
       "6000                 15566  \n",
       "\n",
       "[3001 rows x 10 columns]"
      ],
      "text/html": "<div>\n<style scoped>\n    .dataframe tbody tr th:only-of-type {\n        vertical-align: middle;\n    }\n\n    .dataframe tbody tr th {\n        vertical-align: top;\n    }\n\n    .dataframe thead th {\n        text-align: right;\n    }\n</style>\n<table border=\"1\" class=\"dataframe\">\n  <thead>\n    <tr style=\"text-align: right;\">\n      <th></th>\n      <th>id</th>\n      <th>created_at</th>\n      <th>text</th>\n      <th>table_name</th>\n      <th>table_schema</th>\n      <th>user_id</th>\n      <th>user_name</th>\n      <th>user_screen_name</th>\n      <th>user_description</th>\n      <th>user_followers_count</th>\n    </tr>\n  </thead>\n  <tbody>\n    <tr>\n      <th>3000</th>\n      <td>1387052183070253064</td>\n      <td>2021-04-27 14:33:05 UTC</td>\n      <td>dulu lumayan sering sih gatau kenapaa yaa, set...</td>\n      <td>nerkesehatan_aspect</td>\n      <td>pr_nergeneral</td>\n      <td>1272668795685892096</td>\n      <td>qila ��| changkyun babe.</td>\n      <td>puyuyuxi</td>\n      <td>hai!������ monbebe ̆̈ wh</td>\n      <td>269</td>\n    </tr>\n    <tr>\n      <th>3001</th>\n      <td>1382757546667044864</td>\n      <td>2021-04-15 18:07:44 UTC</td>\n      <td>org tua w sampe worry anaknya gila beneran tia...</td>\n      <td>nerkesehatan_aspect</td>\n      <td>pr_nergeneral</td>\n      <td>1052137149628203008</td>\n      <td>akuamalia</td>\n      <td>amaliaptrsb</td>\n      <td>NaN</td>\n      <td>55</td>\n    </tr>\n    <tr>\n      <th>3002</th>\n      <td>1389509510751006726</td>\n      <td>2021-05-04 09:17:37 UTC</td>\n      <td>@bcpdargent lah lu masih di jogja?</td>\n      <td>borobudur_aspect</td>\n      <td>pr_ten10bali</td>\n      <td>1131177258037551104</td>\n      <td>naaa</td>\n      <td>paansiih_</td>\n      <td>NaN</td>\n      <td>568</td>\n    </tr>\n    <tr>\n      <th>3003</th>\n      <td>1387945578940698624</td>\n      <td>2021-04-30 01:43:07 UTC</td>\n      <td>@LaporGub_ @DPUPRKabMgl @KemenPU bantu up... b...</td>\n      <td>borobudur_aspect</td>\n      <td>pr_ten10bali</td>\n      <td>1245480112146927617</td>\n      <td>FeryNdut</td>\n      <td>FeryNdut1</td>\n      <td>Milanisti, Goweser</td>\n      <td>53</td>\n    </tr>\n    <tr>\n      <th>3004</th>\n      <td>1388908995809669120</td>\n      <td>2021-05-02 17:31:23 UTC</td>\n      <td>Kalo haid bisa ga si gausah sakit kepala dan k...</td>\n      <td>nerkesehatan_aspect</td>\n      <td>pr_nergeneral</td>\n      <td>2197733640</td>\n      <td>ra</td>\n      <td>pethaakilan</td>\n      <td>NaN</td>\n      <td>530</td>\n    </tr>\n    <tr>\n      <th>...</th>\n      <td>...</td>\n      <td>...</td>\n      <td>...</td>\n      <td>...</td>\n      <td>...</td>\n      <td>...</td>\n      <td>...</td>\n      <td>...</td>\n      <td>...</td>\n      <td>...</td>\n    </tr>\n    <tr>\n      <th>5996</th>\n      <td>1390879902115586057</td>\n      <td>2021-05-08 04:03:04 UTC</td>\n      <td>Melaksanakan kegiatan patroli Woro Woro 1.agar...</td>\n      <td>nerkesehatan_aspect</td>\n      <td>pr_nergeneral</td>\n      <td>1364049898614583297</td>\n      <td>POLSEK CIMANGGU</td>\n      <td>polsekcimanggu8</td>\n      <td>Polsek cimanggu</td>\n      <td>0</td>\n    </tr>\n    <tr>\n      <th>5997</th>\n      <td>1384821303706755074</td>\n      <td>2021-04-21 10:48:22 UTC</td>\n      <td>RT @SINDOnews: Nadiem Makarim Unggah Foto Bare...</td>\n      <td>megawati_aspect</td>\n      <td>pr_politicalresearch</td>\n      <td>1014192338</td>\n      <td>Netizen Bodong</td>\n      <td>indraelfarisi</td>\n      <td>لا تحزن ان الله معنا</td>\n      <td>210</td>\n    </tr>\n    <tr>\n      <th>5998</th>\n      <td>1386677818537308161</td>\n      <td>2021-04-26 13:45:29 UTC</td>\n      <td>@IMulya77 @FerdinandHaean3 Bu @KhofifahIP warg...</td>\n      <td>khofifah_aspect</td>\n      <td>pr_politicalresearch</td>\n      <td>4340039112</td>\n      <td>dia lagi aja</td>\n      <td>ogen_amat</td>\n      <td>YNWA</td>\n      <td>178</td>\n    </tr>\n    <tr>\n      <th>5999</th>\n      <td>1385945421135024128</td>\n      <td>2021-04-24 13:15:12 UTC</td>\n      <td>Nikmati prosesnya, untuk menjadi pohon kamu ha...</td>\n      <td>nerpendidikan_aspect</td>\n      <td>pr_nergeneral</td>\n      <td>2197214060</td>\n      <td>raya</td>\n      <td>kanharimu</td>\n      <td>. ONE LIFE . LIVE IT .</td>\n      <td>193</td>\n    </tr>\n    <tr>\n      <th>6000</th>\n      <td>1385156691960860672</td>\n      <td>2021-04-22 09:01:04 UTC</td>\n      <td>Menhan Prabowo Subianto Pastikan Oksigen KRI N...</td>\n      <td>prabowo_aspect</td>\n      <td>pr_politicalresearch</td>\n      <td>2553884263</td>\n      <td>galamedianews.com</td>\n      <td>galamedianews</td>\n      <td>Part of Pikiran Rakyat Network | @GalaPersib |...</td>\n      <td>15566</td>\n    </tr>\n  </tbody>\n</table>\n<p>3001 rows × 10 columns</p>\n</div>"
     },
     "metadata": {},
     "execution_count": 5
    }
   ],
   "source": [
    "df_iter_2=df.loc[3000:6000]\n",
    "df_iter_2"
   ]
  },
  {
   "cell_type": "code",
   "execution_count": 23,
   "metadata": {},
   "outputs": [
    {
     "output_type": "stream",
     "name": "stdout",
     "text": [
      "3000 3299\n3300 3599\n3600 3999\n4000 4199\n4200 4299\n4300 4799\n4800 5299\n5300 5899\n"
     ]
    }
   ],
   "source": [
    "import os\n",
    "\n",
    "   \n",
    "\n",
    "amt_of_twt_iter_1= [300,300,300,500,500,600,500]\n",
    "# amt_of_twt_iter_2= [300,300,400,200,100,500,500,600]\n",
    "\n",
    "num_iter=1\n",
    "start_id=3000\n",
    "end_id=start_id\n",
    "dfs=list()\n",
    "\n",
    "for i in amt_of_twt_iter_1:    \n",
    "    end_id+=i\n",
    "    print(start_id,end_id-1)\n",
    "\n",
    "    outname = f'iter_{num_iter}_{start_id}-{end_id}.txt'\n",
    "    outdir = f'iter{num_iter}'\n",
    "    if not os.path.exists(outdir):\n",
    "        os.mkdir(outdir)\n",
    "    fullname = os.path.join(outdir, outname) \n",
    "    df.loc[start_id:end_id-1][['id','text']].to_csv(fullname, header=None, index=None, sep=' ', mode='w')\n",
    "    start_id+=i"
   ]
  },
  {
   "cell_type": "code",
   "execution_count": 8,
   "metadata": {},
   "outputs": [
    {
     "output_type": "stream",
     "name": "stdout",
     "text": [
      "4 2\n"
     ]
    }
   ],
   "source": [
    "a=2\n",
    "b=a\n",
    "a+=2 \n",
    "print(a,b)"
   ]
  },
  {
   "cell_type": "code",
   "execution_count": 6,
   "metadata": {},
   "outputs": [
    {
     "output_type": "execute_result",
     "data": {
      "text/plain": [
       "                        id               created_at  \\\n",
       "0      1387930610694451202  2021-04-30 00:43:38 UTC   \n",
       "1      1384417993614974977  2021-04-20 08:05:45 UTC   \n",
       "2      1385220800316198917  2021-04-22 13:15:49 UTC   \n",
       "3      1387889984418443265  2021-04-29 22:02:12 UTC   \n",
       "4      1388234412425314305  2021-04-30 20:50:50 UTC   \n",
       "...                    ...                      ...   \n",
       "10014  1381973445567602690  2021-04-13 14:11:59 UTC   \n",
       "10015  1387686700772577282  2021-04-29 08:34:26 UTC   \n",
       "10016  1385688934340907008  2021-04-23 20:16:01 UTC   \n",
       "10017  1390249191088164865  2021-05-06 10:16:51 UTC   \n",
       "10018  1384886571439050752  2021-04-21 15:07:43 UTC   \n",
       "\n",
       "                                                    text  \\\n",
       "0      Gubernur Khofifah Indar Parawansa dalam sambut...   \n",
       "1      Gebetan Twitter saya adalah: @paduka_oyen Temu...   \n",
       "2      @nonasenjaa13 tdi pas bukber itu tujuannya sbn...   \n",
       "3      Megawati tidak bodoh yang bodoh yang ngasih ja...   \n",
       "4      Liat baju-baju buat lebaran di shopee sama di ...   \n",
       "...                                                  ...   \n",
       "10014  RT @elkrova: Mulai Terkuak! Habib Rizieq Bongk...   \n",
       "10015  Hasil tidak akan pernah mengkhianati kerja ker...   \n",
       "10016  Partai Keadilan Sejahtera (PKS) membawa angin ...   \n",
       "10017   starbuck ke.. dah lama gak i tak minum Starbucks   \n",
       "10018  @ddsulaemann @potretlawas Ngomong2, Megawati t...   \n",
       "\n",
       "                   table_name          table_schema              user_id  \\\n",
       "0             khofifah_aspect  pr_politicalresearch  1376560485043081220   \n",
       "1            nersocmed_aspect         pr_nergeneral  1184519607874273280   \n",
       "2               bukber_aspect        pr_ikoninsight  1241672087040741377   \n",
       "3             megawati_aspect  pr_politicalresearch   748790653077757952   \n",
       "4      belanjaramadhan_aspect        pr_ikoninsight           1664662938   \n",
       "...                       ...                   ...                  ...   \n",
       "10014    aniesbaswedan_aspect  pr_politicalresearch  1094598515039203329   \n",
       "10015        borobudur_aspect          pr_ten10bali             98786338   \n",
       "10016    agusyudhoyono_aspect  pr_politicalresearch   966983910788759553   \n",
       "10017             cafe_aspect         pr_ikonreport           3837203714   \n",
       "10018         megawati_aspect  pr_politicalresearch            618949211   \n",
       "\n",
       "                                              user_name user_screen_name  \\\n",
       "0                                     Yuliana Salsabila  YulianaSalsab20   \n",
       "1                                                  amro        ashq_noum   \n",
       "2                                      ln At=ln Ao - kt         aowkowwo   \n",
       "3                                              Oentoeng   hariyantorina2   \n",
       "4                                                Gaa��️        sryglhmr_   \n",
       "...                                                 ...              ...   \n",
       "10014                                             Wawan        WawanMSE2   \n",
       "10015  ������ ���������������������� ��������®, ������®  ila_abdulrahman   \n",
       "10016                                          GenPI.co         Genpi_Co   \n",
       "10017                                             sya��       cl0udyblue   \n",
       "10018                                      sutan mulano      doni_arjuna   \n",
       "\n",
       "                                        user_description  user_followers_count  \n",
       "0                                                    NaN                    16  \n",
       "1      pisces ✌️, hanya ingin merasa hidup seutuhnya ...                  1466  \n",
       "2                           do not grow up, it' s a trap                   150  \n",
       "3                                                    NaN                   404  \n",
       "4                                  Baca tweet sematanku!                   601  \n",
       "...                                                  ...                   ...  \n",
       "10014                                                NaN                   396  \n",
       "10015             Financial Planner • @shila_financial •                  1917  \n",
       "10016  Download Apps Android: https://t.co/833QEXPjBE...                  1837  \n",
       "10017                               #YOONGI: okay, and??                   489  \n",
       "10018  peace love unity respect ✌| penggemar arsenal ...                    98  \n",
       "\n",
       "[10019 rows x 10 columns]"
      ],
      "text/html": "<div>\n<style scoped>\n    .dataframe tbody tr th:only-of-type {\n        vertical-align: middle;\n    }\n\n    .dataframe tbody tr th {\n        vertical-align: top;\n    }\n\n    .dataframe thead th {\n        text-align: right;\n    }\n</style>\n<table border=\"1\" class=\"dataframe\">\n  <thead>\n    <tr style=\"text-align: right;\">\n      <th></th>\n      <th>id</th>\n      <th>created_at</th>\n      <th>text</th>\n      <th>table_name</th>\n      <th>table_schema</th>\n      <th>user_id</th>\n      <th>user_name</th>\n      <th>user_screen_name</th>\n      <th>user_description</th>\n      <th>user_followers_count</th>\n    </tr>\n  </thead>\n  <tbody>\n    <tr>\n      <th>0</th>\n      <td>1387930610694451202</td>\n      <td>2021-04-30 00:43:38 UTC</td>\n      <td>Gubernur Khofifah Indar Parawansa dalam sambut...</td>\n      <td>khofifah_aspect</td>\n      <td>pr_politicalresearch</td>\n      <td>1376560485043081220</td>\n      <td>Yuliana Salsabila</td>\n      <td>YulianaSalsab20</td>\n      <td>NaN</td>\n      <td>16</td>\n    </tr>\n    <tr>\n      <th>1</th>\n      <td>1384417993614974977</td>\n      <td>2021-04-20 08:05:45 UTC</td>\n      <td>Gebetan Twitter saya adalah: @paduka_oyen Temu...</td>\n      <td>nersocmed_aspect</td>\n      <td>pr_nergeneral</td>\n      <td>1184519607874273280</td>\n      <td>amro</td>\n      <td>ashq_noum</td>\n      <td>pisces ✌️, hanya ingin merasa hidup seutuhnya ...</td>\n      <td>1466</td>\n    </tr>\n    <tr>\n      <th>2</th>\n      <td>1385220800316198917</td>\n      <td>2021-04-22 13:15:49 UTC</td>\n      <td>@nonasenjaa13 tdi pas bukber itu tujuannya sbn...</td>\n      <td>bukber_aspect</td>\n      <td>pr_ikoninsight</td>\n      <td>1241672087040741377</td>\n      <td>ln At=ln Ao - kt</td>\n      <td>aowkowwo</td>\n      <td>do not grow up, it' s a trap</td>\n      <td>150</td>\n    </tr>\n    <tr>\n      <th>3</th>\n      <td>1387889984418443265</td>\n      <td>2021-04-29 22:02:12 UTC</td>\n      <td>Megawati tidak bodoh yang bodoh yang ngasih ja...</td>\n      <td>megawati_aspect</td>\n      <td>pr_politicalresearch</td>\n      <td>748790653077757952</td>\n      <td>Oentoeng</td>\n      <td>hariyantorina2</td>\n      <td>NaN</td>\n      <td>404</td>\n    </tr>\n    <tr>\n      <th>4</th>\n      <td>1388234412425314305</td>\n      <td>2021-04-30 20:50:50 UTC</td>\n      <td>Liat baju-baju buat lebaran di shopee sama di ...</td>\n      <td>belanjaramadhan_aspect</td>\n      <td>pr_ikoninsight</td>\n      <td>1664662938</td>\n      <td>Gaa��️</td>\n      <td>sryglhmr_</td>\n      <td>Baca tweet sematanku!</td>\n      <td>601</td>\n    </tr>\n    <tr>\n      <th>...</th>\n      <td>...</td>\n      <td>...</td>\n      <td>...</td>\n      <td>...</td>\n      <td>...</td>\n      <td>...</td>\n      <td>...</td>\n      <td>...</td>\n      <td>...</td>\n      <td>...</td>\n    </tr>\n    <tr>\n      <th>10014</th>\n      <td>1381973445567602690</td>\n      <td>2021-04-13 14:11:59 UTC</td>\n      <td>RT @elkrova: Mulai Terkuak! Habib Rizieq Bongk...</td>\n      <td>aniesbaswedan_aspect</td>\n      <td>pr_politicalresearch</td>\n      <td>1094598515039203329</td>\n      <td>Wawan</td>\n      <td>WawanMSE2</td>\n      <td>NaN</td>\n      <td>396</td>\n    </tr>\n    <tr>\n      <th>10015</th>\n      <td>1387686700772577282</td>\n      <td>2021-04-29 08:34:26 UTC</td>\n      <td>Hasil tidak akan pernah mengkhianati kerja ker...</td>\n      <td>borobudur_aspect</td>\n      <td>pr_ten10bali</td>\n      <td>98786338</td>\n      <td>������ ���������������������� ��������®, ������®</td>\n      <td>ila_abdulrahman</td>\n      <td>Financial Planner • @shila_financial •</td>\n      <td>1917</td>\n    </tr>\n    <tr>\n      <th>10016</th>\n      <td>1385688934340907008</td>\n      <td>2021-04-23 20:16:01 UTC</td>\n      <td>Partai Keadilan Sejahtera (PKS) membawa angin ...</td>\n      <td>agusyudhoyono_aspect</td>\n      <td>pr_politicalresearch</td>\n      <td>966983910788759553</td>\n      <td>GenPI.co</td>\n      <td>Genpi_Co</td>\n      <td>Download Apps Android: https://t.co/833QEXPjBE...</td>\n      <td>1837</td>\n    </tr>\n    <tr>\n      <th>10017</th>\n      <td>1390249191088164865</td>\n      <td>2021-05-06 10:16:51 UTC</td>\n      <td>starbuck ke.. dah lama gak i tak minum Starbucks</td>\n      <td>cafe_aspect</td>\n      <td>pr_ikonreport</td>\n      <td>3837203714</td>\n      <td>sya��</td>\n      <td>cl0udyblue</td>\n      <td>#YOONGI: okay, and??</td>\n      <td>489</td>\n    </tr>\n    <tr>\n      <th>10018</th>\n      <td>1384886571439050752</td>\n      <td>2021-04-21 15:07:43 UTC</td>\n      <td>@ddsulaemann @potretlawas Ngomong2, Megawati t...</td>\n      <td>megawati_aspect</td>\n      <td>pr_politicalresearch</td>\n      <td>618949211</td>\n      <td>sutan mulano</td>\n      <td>doni_arjuna</td>\n      <td>peace love unity respect ✌| penggemar arsenal ...</td>\n      <td>98</td>\n    </tr>\n  </tbody>\n</table>\n<p>10019 rows × 10 columns</p>\n</div>"
     },
     "metadata": {},
     "execution_count": 6
    }
   ],
   "source": [
    "df"
   ]
  },
  {
   "cell_type": "code",
   "execution_count": null,
   "metadata": {},
   "outputs": [],
   "source": []
  }
 ]
}