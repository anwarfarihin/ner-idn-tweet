{
 "cells": [
  {
   "cell_type": "code",
   "execution_count": 1,
   "metadata": {},
   "outputs": [],
   "source": [
    "import pandas as pd\n",
    "from pprint import pprint\n",
    "from sklearn.model_selection import GroupKFold\n",
    "from collections import Counter"
   ]
  },
  {
   "cell_type": "code",
   "execution_count": 4,
   "metadata": {},
   "outputs": [],
   "source": [
    "df=pd.read_csv('..\\Dataset\\\\annotated_ner_data_new.csv')"
   ]
  },
  {
   "cell_type": "code",
   "execution_count": 5,
   "metadata": {},
   "outputs": [
    {
     "data": {
      "text/html": [
       "<div>\n",
       "<style scoped>\n",
       "    .dataframe tbody tr th:only-of-type {\n",
       "        vertical-align: middle;\n",
       "    }\n",
       "\n",
       "    .dataframe tbody tr th {\n",
       "        vertical-align: top;\n",
       "    }\n",
       "\n",
       "    .dataframe thead th {\n",
       "        text-align: right;\n",
       "    }\n",
       "</style>\n",
       "<table border=\"1\" class=\"dataframe\">\n",
       "  <thead>\n",
       "    <tr style=\"text-align: right;\">\n",
       "      <th></th>\n",
       "      <th>sentence_id</th>\n",
       "      <th>words</th>\n",
       "      <th>labels</th>\n",
       "    </tr>\n",
       "  </thead>\n",
       "  <tbody>\n",
       "    <tr>\n",
       "      <th>0</th>\n",
       "      <td>1382601382042103808</td>\n",
       "      <td>Hidup</td>\n",
       "      <td>O</td>\n",
       "    </tr>\n",
       "    <tr>\n",
       "      <th>1</th>\n",
       "      <td>1382601382042103808</td>\n",
       "      <td>sesedih</td>\n",
       "      <td>O</td>\n",
       "    </tr>\n",
       "    <tr>\n",
       "      <th>2</th>\n",
       "      <td>1382601382042103808</td>\n",
       "      <td>dan</td>\n",
       "      <td>O</td>\n",
       "    </tr>\n",
       "    <tr>\n",
       "      <th>3</th>\n",
       "      <td>1382601382042103808</td>\n",
       "      <td>secaper</td>\n",
       "      <td>O</td>\n",
       "    </tr>\n",
       "    <tr>\n",
       "      <th>4</th>\n",
       "      <td>1382601382042103808</td>\n",
       "      <td>apa</td>\n",
       "      <td>O</td>\n",
       "    </tr>\n",
       "    <tr>\n",
       "      <th>...</th>\n",
       "      <td>...</td>\n",
       "      <td>...</td>\n",
       "      <td>...</td>\n",
       "    </tr>\n",
       "    <tr>\n",
       "      <th>170065</th>\n",
       "      <td>1386004972207153156</td>\n",
       "      <td>muntah</td>\n",
       "      <td>O</td>\n",
       "    </tr>\n",
       "    <tr>\n",
       "      <th>170066</th>\n",
       "      <td>1386301391086309382</td>\n",
       "      <td>Ngabuburit</td>\n",
       "      <td>O</td>\n",
       "    </tr>\n",
       "    <tr>\n",
       "      <th>170067</th>\n",
       "      <td>1386301391086309382</td>\n",
       "      <td>tadi</td>\n",
       "      <td>O</td>\n",
       "    </tr>\n",
       "    <tr>\n",
       "      <th>170068</th>\n",
       "      <td>1386301391086309382</td>\n",
       "      <td>sore</td>\n",
       "      <td>O</td>\n",
       "    </tr>\n",
       "    <tr>\n",
       "      <th>170069</th>\n",
       "      <td>1386301391086309382</td>\n",
       "      <td>https://t.co/13WztrZOAX</td>\n",
       "      <td>O</td>\n",
       "    </tr>\n",
       "  </tbody>\n",
       "</table>\n",
       "<p>170070 rows × 3 columns</p>\n",
       "</div>"
      ],
      "text/plain": [
       "                sentence_id                    words labels\n",
       "0       1382601382042103808                    Hidup      O\n",
       "1       1382601382042103808                  sesedih      O\n",
       "2       1382601382042103808                      dan      O\n",
       "3       1382601382042103808                  secaper      O\n",
       "4       1382601382042103808                      apa      O\n",
       "...                     ...                      ...    ...\n",
       "170065  1386004972207153156                   muntah      O\n",
       "170066  1386301391086309382               Ngabuburit      O\n",
       "170067  1386301391086309382                     tadi      O\n",
       "170068  1386301391086309382                     sore      O\n",
       "170069  1386301391086309382  https://t.co/13WztrZOAX      O\n",
       "\n",
       "[170070 rows x 3 columns]"
      ]
     },
     "execution_count": 5,
     "metadata": {},
     "output_type": "execute_result"
    }
   ],
   "source": [
    "df.rename(columns = {'token': 'words', 'ner': 'labels','tweet_id':'sentence_id'}, inplace = True)\n",
    "df=df[['sentence_id','words', 'labels']]\n",
    "df"
   ]
  },
  {
   "cell_type": "code",
   "execution_count": 6,
   "metadata": {},
   "outputs": [],
   "source": [
    "X = df\n",
    "y = df.labels\n",
    "groups = df.sentence_id"
   ]
  },
  {
   "cell_type": "code",
   "execution_count": 7,
   "metadata": {
    "tags": []
   },
   "outputs": [
    {
     "name": "stdout",
     "output_type": "stream",
     "text": [
      "GroupKFold(n_splits=5)\n",
      "\n",
      "[('B-PER', 25.628819099047888),\n",
      " ('B-PROD', 15.603240017052721),\n",
      " ('I-PER', 13.912178485149923),\n",
      " ('B-LOC', 10.21742219695893),\n",
      " ('B-ORG', 9.407417933778598),\n",
      " ('I-PROD', 5.222395907346881),\n",
      " ('I-ORG', 5.037658092937331),\n",
      " ('I-EV', 4.9381838851783435),\n",
      " ('I-LOC', 4.1779167258775045),\n",
      " ('B-EV', 3.8937047037089667),\n",
      " ('I-WA', 1.1723745914452182),\n",
      " ('B-WA', 0.7886883615176923)]\n",
      "[('B-PER', 24.57064346233112),\n",
      " ('B-PROD', 17.540645752232653),\n",
      " ('I-PER', 12.686054499656516),\n",
      " ('B-LOC', 9.617586443782917),\n",
      " ('B-ORG', 9.411495305701854),\n",
      " ('I-PROD', 7.190290817494847),\n",
      " ('I-ORG', 5.656056789558049),\n",
      " ('I-EV', 4.327913899702312),\n",
      " ('I-LOC', 3.8241355621708264),\n",
      " ('B-EV', 3.5951454087474235),\n",
      " ('I-WA', 0.9159606136936113),\n",
      " ('B-WA', 0.6640714449278681)]\n",
      "[('B-PER', 26.02895259721828),\n",
      " ('B-PROD', 17.68379222253761),\n",
      " ('I-PER', 13.993755322168605),\n",
      " ('B-LOC', 10.275333522565996),\n",
      " ('B-ORG', 8.998013057053647),\n",
      " ('I-LOC', 5.364745955151859),\n",
      " ('I-PROD', 4.938972466647743),\n",
      " ('I-ORG', 4.882202668180527),\n",
      " ('I-EV', 2.8101050241271643),\n",
      " ('B-EV', 2.5830258302583027),\n",
      " ('I-WA', 1.8450184501845017),\n",
      " ('B-WA', 0.5960828839057621)]\n",
      "\n",
      "TRAIN LEN: 108845 VAL LEN: 27211 TEST LEN: 34014\n"
     ]
    }
   ],
   "source": [
    "group_kfold = GroupKFold(n_splits=5)\n",
    "group_kfold.get_n_splits(X, y, groups)\n",
    "\n",
    "print(group_kfold)\n",
    "\n",
    "for temp_index, test_index in group_kfold.split(X, y, groups):\n",
    "    # print(\"TEMP:\", temp_index, \"TEST:\", test_index)\n",
    "    # print(\"TEMP LEN:\", len(temp_index), \"TEST LEN:\", len(test_index))\n",
    "    \n",
    "    X_temp, X_test = X.iloc[temp_index], X.iloc[test_index]\n",
    "    y_temp, y_test = y[temp_index], y[test_index]\n",
    "    # print(X_temp, X_test, y_temp, y_test)\n",
    "print()\n",
    "temp_groups=X_temp.sentence_id\n",
    "for train_index, val_index in group_kfold.split(X_temp, y_temp, temp_groups):\n",
    "    # print(\"TRAIN:\", train_index, \"VAL:\", val_index)\n",
    "    # print(\"TRAIN LEN:\", len(train_index), \"VAL LEN:\", len(val_index))\n",
    "    \n",
    "    X_train, X_val = X.iloc[train_index], X.iloc[val_index]\n",
    "    y_train, y_val = y[train_index], y[val_index]\n",
    "    # print(X_train, X_val, y_train, y_val)\n",
    "\n",
    "train_l= y_train\n",
    "train_c= Counter(train_l)\n",
    "test_l= y_test\n",
    "test_c= Counter(test_l)\n",
    "val_l= y_val\n",
    "val_c= Counter(val_l)\n",
    "\n",
    "pprint(sorted([(i, train_c[i] / len([i for i in train_l if i != 'O' ]) * 100.0) for i in train_c if i != 'O' ],key=lambda x:x[1],reverse=True))\n",
    "pprint(sorted([(i, test_c[i] / len([i for i in test_l if i != 'O' ]) * 100.0) for i in test_c if i != 'O' ],key=lambda x:x[1],reverse=True))\n",
    "pprint(sorted([(i, val_c[i] / len([i for i in val_l if i != 'O' ]) * 100.0) for i in val_c if i != 'O' ],key=lambda x:x[1],reverse=True))\n",
    "print()\n",
    "print(\"TRAIN LEN:\", len(train_index), \n",
    "     \"VAL LEN:\", len(val_index), \n",
    "     \"TEST LEN:\", len(test_index), \n",
    "     )"
   ]
  },
  {
   "cell_type": "code",
   "execution_count": 45,
   "metadata": {},
   "outputs": [],
   "source": [
    "# X_train.groupby('sentence_id').count()"
   ]
  },
  {
   "cell_type": "code",
   "execution_count": 46,
   "metadata": {},
   "outputs": [],
   "source": [
    "# Counter(y_train)"
   ]
  },
  {
   "cell_type": "code",
   "execution_count": 8,
   "metadata": {},
   "outputs": [
    {
     "data": {
      "text/plain": [
       "35418"
      ]
     },
     "execution_count": 8,
     "metadata": {},
     "output_type": "execute_result"
    }
   ],
   "source": [
    "len(df.words.unique())"
   ]
  },
  {
   "cell_type": "code",
   "execution_count": 55,
   "metadata": {},
   "outputs": [],
   "source": [
    "X_train.to_csv('..\\..\\Dataset\\\\bert\\\\train.csv',index=False)"
   ]
  },
  {
   "cell_type": "code",
   "execution_count": 47,
   "metadata": {},
   "outputs": [],
   "source": [
    "# X_test.groupby('sentence_id').count()"
   ]
  },
  {
   "cell_type": "code",
   "execution_count": 56,
   "metadata": {},
   "outputs": [],
   "source": [
    "X_test.to_csv('..\\..\\Dataset\\\\bert\\\\test.csv',index=False)"
   ]
  },
  {
   "cell_type": "code",
   "execution_count": 57,
   "metadata": {},
   "outputs": [],
   "source": [
    "X_val.to_csv('..\\..\\Dataset\\\\bert\\\\val.csv',index=False)"
   ]
  },
  {
   "cell_type": "code",
   "execution_count": 58,
   "metadata": {},
   "outputs": [],
   "source": [
    "X_temp.to_csv('..\\..\\Dataset\\\\bert\\\\trainval.csv',index=False)"
   ]
  },
  {
   "cell_type": "code",
   "execution_count": null,
   "metadata": {},
   "outputs": [],
   "source": []
  }
 ],
 "metadata": {
  "interpreter": {
   "hash": "95f69f4171822e9a0d4258a52ad5b962ce921882fa0fb93c07eb68a8992e9dab"
  },
  "kernelspec": {
   "display_name": "Python 3.7.9 64-bit ('env': venv)",
   "name": "python3"
  },
  "language_info": {
   "codemirror_mode": {
    "name": "ipython",
    "version": 3
   },
   "file_extension": ".py",
   "mimetype": "text/x-python",
   "name": "python",
   "nbconvert_exporter": "python",
   "pygments_lexer": "ipython3",
   "version": "3.9.6"
  },
  "orig_nbformat": 4
 },
 "nbformat": 4,
 "nbformat_minor": 2
}
